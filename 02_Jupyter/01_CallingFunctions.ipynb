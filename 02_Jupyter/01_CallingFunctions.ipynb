{
 "cells": [
  {
   "attachments": {},
   "cell_type": "markdown",
   "metadata": {},
   "source": [
    "## Calling Functions"
   ]
  },
  {
   "cell_type": "code",
   "execution_count": 1,
   "metadata": {},
   "outputs": [],
   "source": [
    "def even_or_odd(num):\n",
    "    \"\"\"\n",
    "    Returns a string value indicating whether the input number is even or odd\n",
    "    \"\"\"\n",
    "    if (num % 2 == 0):\n",
    "         return str(num) + ' is even'\n",
    "    else:\n",
    "         return str(num) + ' is odd'"
   ]
  },
  {
   "cell_type": "code",
   "execution_count": 2,
   "metadata": {},
   "outputs": [
    {
     "name": "stdout",
     "output_type": "stream",
     "text": [
      "0 is even\n",
      "5 is odd\n",
      "-2 is even\n",
      "1 is odd\n",
      "-1 is odd\n"
     ]
    }
   ],
   "source": [
    "print(even_or_odd(0))\n",
    "print(even_or_odd(5))\n",
    "print(even_or_odd(-2))\n",
    "print(even_or_odd(1))\n",
    "print(even_or_odd(-1))"
   ]
  }
 ],
 "metadata": {
  "kernelspec": {
   "display_name": "base",
   "language": "python",
   "name": "python3"
  },
  "language_info": {
   "codemirror_mode": {
    "name": "ipython",
    "version": 3
   },
   "file_extension": ".py",
   "mimetype": "text/x-python",
   "name": "python",
   "nbconvert_exporter": "python",
   "pygments_lexer": "ipython3",
   "version": "3.8.8"
  },
  "orig_nbformat": 4
 },
 "nbformat": 4,
 "nbformat_minor": 2
}
