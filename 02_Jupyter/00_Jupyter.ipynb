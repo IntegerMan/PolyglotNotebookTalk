{
 "cells": [
  {
   "attachments": {},
   "cell_type": "markdown",
   "metadata": {
    "pycharm": {
     "name": "#%% md\n"
    }
   },
   "source": [
    "# Jupyter Environments"
   ]
  },
  {
   "cell_type": "markdown",
   "source": [
    "## IDEs\n",
    "\n",
    "There are many IDEs that natively support Jupyter Notebooks and no IDE is needed if you want to use your browser."
   ],
   "metadata": {
    "collapsed": false,
    "pycharm": {
     "name": "#%% md\n"
    }
   }
  },
  {
   "cell_type": "markdown",
   "source": [
    "### VS Code\n",
    "![VS Code](../Images/VSCode.png)\n",
    "\n",
    "Notes:\n",
    "- Can also run **Polyglot Notebooks**\n",
    "- GitHub Codespaces allow you to run notebooks in the browser without Python"
   ],
   "metadata": {
    "collapsed": false,
    "pycharm": {
     "name": "#%% md\n"
    }
   }
  },
  {
   "cell_type": "markdown",
   "source": [
    "### PyCharm\n",
    "\n",
    "Automatically starts Jupyter Server for you\n",
    "\n",
    "![PyCharm](../Images/PyCharm.png)"
   ],
   "metadata": {
    "collapsed": false,
    "pycharm": {
     "name": "#%% md\n"
    }
   }
  },
  {
   "cell_type": "markdown",
   "source": [
    "### DataSpell\n",
    "\n",
    "Connects to any Jupyter Server\n",
    "\n",
    "![DataSpell](../Images/DataSpell.png)"
   ],
   "metadata": {
    "collapsed": false,
    "pycharm": {
     "name": "#%% md\n"
    }
   }
  },
  {
   "cell_type": "markdown",
   "source": [
    "## Browser"
   ],
   "metadata": {
    "collapsed": false,
    "pycharm": {
     "name": "#%% md\n"
    }
   }
  },
  {
   "cell_type": "markdown",
   "source": [
    "### Jupyter Notebooks\n",
    "\n",
    "[Runs on Localhost](http://localhost:8888/notebooks/01_Basics/00_Notebooks101.ipynb)\n",
    "\n",
    "![Jupyter Notebook in the Browser](../Images/JupyterWebPage.png)"
   ],
   "metadata": {
    "collapsed": false,
    "pycharm": {
     "name": "#%% md\n"
    }
   }
  },
  {
   "cell_type": "markdown",
   "source": [
    "### Jupyter Labs\n",
    "Just add `/lab` to the end of your Jupyter URL in many cases.\n",
    "\n",
    "![Jupyter Labs](../Images/JupyterLab.png)"
   ],
   "metadata": {
    "collapsed": false,
    "pycharm": {
     "name": "#%% md\n"
    }
   }
  },
  {
   "cell_type": "markdown",
   "source": [
    "### Azure Notebooks (Part of Azure Machine Learning Studio)\n",
    "\n",
    "![Azure ML Notebook](../Images/AzureMLNotebook.png)"
   ],
   "metadata": {
    "collapsed": false,
    "pycharm": {
     "name": "#%% md\n"
    }
   }
  }
 ],
 "metadata": {
  "language_info": {
   "name": "python"
  },
  "orig_nbformat": 4
 },
 "nbformat": 4,
 "nbformat_minor": 2
}