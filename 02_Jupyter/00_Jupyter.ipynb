{
 "cells": [
  {
   "attachments": {},
   "cell_type": "markdown",
   "metadata": {
    "pycharm": {
     "name": "#%% md\n"
    }
   },
   "source": [
    "# Jupyter Environments"
   ]
  },
  {
   "attachments": {},
   "cell_type": "markdown",
   "metadata": {
    "pycharm": {
     "name": "#%% md\n"
    }
   },
   "source": [
    "## IDEs\n",
    "\n",
    "There are many IDEs that natively support Jupyter Notebooks and no IDE is needed if you want to use your browser."
   ]
  },
  {
   "attachments": {},
   "cell_type": "markdown",
   "metadata": {
    "pycharm": {
     "name": "#%% md\n"
    }
   },
   "source": [
    "### VS Code\n",
    "![VS Code](../Images/VSCode.png)\n",
    "\n",
    "Notes:\n",
    "- Can also run **Polyglot Notebooks**\n",
    "- GitHub Codespaces allow you to run notebooks in the browser without Python"
   ]
  },
  {
   "attachments": {},
   "cell_type": "markdown",
   "metadata": {
    "pycharm": {
     "name": "#%% md\n"
    }
   },
   "source": [
    "### PyCharm\n",
    "\n",
    "Automatically starts Jupyter Server for you\n",
    "\n",
    "![PyCharm](../Images/PyCharm.png)"
   ]
  },
  {
   "attachments": {},
   "cell_type": "markdown",
   "metadata": {
    "pycharm": {
     "name": "#%% md\n"
    }
   },
   "source": [
    "### DataSpell\n",
    "\n",
    "Connects to any Jupyter Server\n",
    "\n",
    "![DataSpell](../Images/DataSpell.png)"
   ]
  },
  {
   "attachments": {},
   "cell_type": "markdown",
   "metadata": {
    "pycharm": {
     "name": "#%% md\n"
    }
   },
   "source": [
    "## Browser"
   ]
  },
  {
   "attachments": {},
   "cell_type": "markdown",
   "metadata": {
    "pycharm": {
     "name": "#%% md\n"
    }
   },
   "source": [
    "### Jupyter Notebooks\n",
    "\n",
    "[Runs on Localhost](http://localhost:8888/notebooks/01_Basics/00_Notebooks101.ipynb)\n",
    "\n",
    "![Jupyter Notebook in the Browser](../Images/JupyterWebPage.png)"
   ]
  },
  {
   "attachments": {},
   "cell_type": "markdown",
   "metadata": {
    "pycharm": {
     "name": "#%% md\n"
    }
   },
   "source": [
    "### Jupyter Labs\n",
    "Just add `/lab` to the end of your Jupyter URL in many cases.\n",
    "\n",
    "![Jupyter Labs](../Images/JupyterLab.png)"
   ]
  },
  {
   "attachments": {},
   "cell_type": "markdown",
   "metadata": {
    "pycharm": {
     "name": "#%% md\n"
    }
   },
   "source": [
    "### Azure Notebooks (Part of Azure Machine Learning Studio)\n",
    "\n",
    "![Azure ML Notebook](../Images/AzureMLNotebook.png)"
   ]
  }
 ],
 "metadata": {
  "language_info": {
   "name": "python"
  },
  "orig_nbformat": 4
 },
 "nbformat": 4,
 "nbformat_minor": 2
}
