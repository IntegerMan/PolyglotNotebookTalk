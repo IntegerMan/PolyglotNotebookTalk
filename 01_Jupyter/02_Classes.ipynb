{
 "cells": [
  {
   "attachments": {},
   "cell_type": "markdown",
   "metadata": {},
   "source": [
    "## Declaring Classes"
   ]
  },
  {
   "cell_type": "code",
   "execution_count": 1,
   "metadata": {},
   "outputs": [],
   "source": [
    "class FizzBuzz:\n",
    "    \"\"\"\n",
    "    Generates a Fizz Buzz string up to a given number where numbers divisible by 3 print Fizz, \n",
    "    numbers divisible by 5 print Buzz, numbers divisible by 15 print FizzBuzz, \n",
    "    and other numbers are printed as is.\n",
    "    \"\"\"\n",
    "\n",
    "    def generate(self, maxNumber):\n",
    "        \"\"\"\n",
    "        Generates a Fizz Buzz string up to the maximum number.\n",
    "        Attributes:\n",
    "            maxNumber (int): The maximum number to generate the Fizz Buzz string for.\n",
    "        Returns:\n",
    "            str: The generated Fizz Buzz string.\n",
    "        \"\"\"\n",
    "        result = []\n",
    "\n",
    "        for i in range(1, maxNumber + 1):\n",
    "            if i % 3 == 0 and i % 5 == 0:\n",
    "                result.append('FizzBuzz')\n",
    "            elif i % 3 == 0:\n",
    "                result.append('Fizz')\n",
    "            elif i % 5 == 0:\n",
    "                result.append('Buzz')\n",
    "            else:\n",
    "                result.append(str(i))\n",
    "\n",
    "        return ' '.join(result)"
   ]
  },
  {
   "attachments": {},
   "cell_type": "markdown",
   "metadata": {},
   "source": [
    "Classes may be instantiated and invoked in the same or subsequent cells"
   ]
  },
  {
   "cell_type": "code",
   "execution_count": 2,
   "metadata": {},
   "outputs": [
    {
     "data": {
      "text/plain": [
       "'1 2 Fizz 4 Buzz'"
      ]
     },
     "execution_count": 2,
     "metadata": {},
     "output_type": "execute_result"
    }
   ],
   "source": [
    "fb = FizzBuzz()\n",
    "fb.generate(5)"
   ]
  }
 ],
 "metadata": {
  "kernelspec": {
   "display_name": "base",
   "language": "python",
   "name": "python3"
  },
  "language_info": {
   "codemirror_mode": {
    "name": "ipython",
    "version": 3
   },
   "file_extension": ".py",
   "mimetype": "text/x-python",
   "name": "python",
   "nbconvert_exporter": "python",
   "pygments_lexer": "ipython3",
   "version": "3.8.8"
  },
  "orig_nbformat": 4
 },
 "nbformat": 4,
 "nbformat_minor": 2
}
