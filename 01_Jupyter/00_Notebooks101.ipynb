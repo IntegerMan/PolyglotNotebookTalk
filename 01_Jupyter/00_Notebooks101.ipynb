{
 "cells": [
  {
   "cell_type": "markdown",
   "metadata": {},
   "source": [
    "# Notebooks 101\n",
    "\n",
    "Before we get deeper into notebooks, let's see what they can do."
   ]
  },
  {
   "attachments": {},
   "cell_type": "markdown",
   "metadata": {
    "jupyter": {
     "source_hidden": true
    },
    "tags": []
   },
   "source": [
    "### Notebooks have Cells\n",
    "\n",
    "#### Markdown Cells\n",
    "This is a **markdown** cell.\n",
    "\n",
    "It supports standard [GitHub-flavored markdown](https://github.github.com/gfm/)."
   ]
  },
  {
   "attachments": {},
   "cell_type": "markdown",
   "metadata": {},
   "source": [
    "#### Code Cells"
   ]
  },
  {
   "cell_type": "code",
   "execution_count": null,
   "metadata": {
    "pycharm": {
     "is_executing": true
    }
   },
   "outputs": [],
   "source": [
    "# This is a code cell\n"
   ]
  },
  {
   "attachments": {},
   "cell_type": "markdown",
   "metadata": {},
   "source": [
    "### Variables\n",
    "\n",
    "Variables defined in earlier cells can be referenced in later cells"
   ]
  },
  {
   "cell_type": "code",
   "execution_count": null,
   "metadata": {},
   "outputs": [],
   "source": []
  },
  {
   "cell_type": "markdown",
   "metadata": {},
   "source": [
    "Cells can be re-run, if desired"
   ]
  },
  {
   "cell_type": "code",
   "execution_count": null,
   "metadata": {},
   "outputs": [],
   "source": [
    "counter = 0"
   ]
  },
  {
   "cell_type": "code",
   "execution_count": null,
   "metadata": {},
   "outputs": [],
   "source": [
    "counter += 1\n",
    "\n",
    "print('The current count is ' + str(counter))"
   ]
  },
  {
   "cell_type": "markdown",
   "metadata": {},
   "source": [
    "They can also be run out of order, if desired."
   ]
  },
  {
   "cell_type": "markdown",
   "metadata": {},
   "source": [
    "## Cell Results\n",
    "\n",
    "The last line of a code cell is special and is \"automagically\" displayed"
   ]
  },
  {
   "cell_type": "code",
   "execution_count": null,
   "metadata": {},
   "outputs": [],
   "source": [
    "theater = 16\n",
    "topic = 'Notebooks'\n",
    "\n",
    "topic, theater"
   ]
  },
  {
   "cell_type": "code",
   "execution_count": null,
   "metadata": {
    "tags": []
   },
   "outputs": [],
   "source": [
    "# This works with complex variables too\n",
    "speaker = {\n",
    "    'name': 'Matt Eland',\n",
    "    'isNerdy': True\n",
    "}\n",
    "\n",
    "speaker"
   ]
  },
  {
   "attachments": {},
   "cell_type": "markdown",
   "metadata": {},
   "source": [
    "the `display` function can also display content after the cell"
   ]
  },
  {
   "cell_type": "code",
   "execution_count": null,
   "metadata": {},
   "outputs": [],
   "source": [
    "heroes = ['Peter', 'Rocket', 'Groot', 'Drax', 'Gamora', 'Mantis']\n",
    "\n",
    "display(heroes)\n",
    "display(heroes[3])\n",
    "\n",
    "# You can combine this freely with other ways of displaying results\n",
    "print('Cosmo')\n",
    "\n",
    "heroes"
   ]
  },
  {
   "cell_type": "code",
   "execution_count": null,
   "metadata": {},
   "outputs": [],
   "source": [
    "isNew = True"
   ]
  },
  {
   "cell_type": "markdown",
   "metadata": {},
   "source": [
    "## Adding Cells\n",
    "\n",
    "You can add, edit, reorder, and remove cells in a Notebook.\n",
    "\n",
    "Let's do that now!"
   ]
  },
  {
   "cell_type": "markdown",
   "metadata": {},
   "source": [
    "## Additional Options\n",
    "\n",
    "You can **restart the kernel** or **clear all outputs** if you need to."
   ]
  }
 ],
 "metadata": {
  "kernelspec": {
   "display_name": "Python 3 (ipykernel)",
   "language": "python",
   "name": "python3"
  },
  "language_info": {
   "codemirror_mode": {
    "name": "ipython",
    "version": 3
   },
   "file_extension": ".py",
   "mimetype": "text/x-python",
   "name": "python",
   "nbconvert_exporter": "python",
   "pygments_lexer": "ipython3",
   "version": "3.8.8"
  }
 },
 "nbformat": 4,
 "nbformat_minor": 4
}
