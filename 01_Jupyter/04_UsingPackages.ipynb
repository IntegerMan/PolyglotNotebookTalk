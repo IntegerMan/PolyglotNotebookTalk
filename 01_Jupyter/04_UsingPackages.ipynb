{
 "cells": [
  {
   "attachments": {},
   "cell_type": "markdown",
   "metadata": {},
   "source": [
    "## Installing Packages in Jupyter Notebooks\n",
    "\n",
    "You'll sometimes need packages you don't have installed locally. Those packages must be installed via directives."
   ]
  },
  {
   "cell_type": "code",
   "execution_count": null,
   "metadata": {},
   "outputs": [],
   "source": [
    "# Install the Pandas package in the virtual environment\n",
    "%pip install Pandas"
   ]
  },
  {
   "cell_type": "code",
   "execution_count": null,
   "metadata": {},
   "outputs": [],
   "source": [
    "# Install the Pandas package in the base environment. Usually you don't want to do this\n",
    "!pip install Pandas"
   ]
  },
  {
   "attachments": {},
   "cell_type": "markdown",
   "metadata": {},
   "source": [
    "**Note:** *[Anaconda](https://www.anaconda.com/) is a pre-configured Python environment with a standard set of data science packages already installed. It will spare you from a lot of the standard installs on your projects.*"
   ]
  },
  {
   "cell_type": "code",
   "execution_count": null,
   "metadata": {},
   "outputs": [],
   "source": [
    "import pandas as pd\n",
    "  \n",
    "# Create a DataFrame with a mysterious series of numbers\n",
    "data = [4,8,15,16,23,42]\n",
    "df = pd.DataFrame(data, columns=['Numbers'])\n",
    "  \n",
    "# Display the DataFrame\n",
    "df"
   ]
  }
 ],
 "metadata": {
  "kernelspec": {
   "display_name": "base",
   "language": "python",
   "name": "python3"
  },
  "language_info": {
   "codemirror_mode": {
    "name": "ipython",
    "version": 3
   },
   "file_extension": ".py",
   "mimetype": "text/x-python",
   "name": "python",
   "nbconvert_exporter": "python",
   "pygments_lexer": "ipython3",
   "version": "3.8.8"
  },
  "orig_nbformat": 4
 },
 "nbformat": 4,
 "nbformat_minor": 2
}
