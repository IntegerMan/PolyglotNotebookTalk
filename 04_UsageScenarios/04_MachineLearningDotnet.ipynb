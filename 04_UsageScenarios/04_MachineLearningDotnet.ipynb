{
 "cells": [
  {
   "attachments": {},
   "cell_type": "markdown",
   "metadata": {},
   "source": [
    "## Machine Learning in .NET with ML .NET\n",
    "Because of course you can do machine learning in .NET"
   ]
  },
  {
   "attachments": {},
   "cell_type": "markdown",
   "metadata": {},
   "source": [
    "### Setup\n",
    "\n",
    "This project relies on ML .NET and its Auto ML module. Both will be installed from NuGet Package Manager."
   ]
  },
  {
   "cell_type": "code",
   "execution_count": 1,
   "metadata": {
    "dotnet_interactive": {
     "language": "csharp"
    },
    "polyglot_notebook": {
     "kernelName": "csharp"
    }
   },
   "outputs": [
    {
     "data": {
      "text/html": [
       "<div><div></div><div></div><div><strong>Installed Packages</strong><ul><li><span>Microsoft.ML, 2.0.1</span></li><li><span>Microsoft.ML.AutoML, 0.20.1</span></li></ul></div></div>"
      ]
     },
     "metadata": {},
     "output_type": "display_data"
    },
    {
     "data": {
      "text/plain": [
       "Loading extensions from `C:\\Users\\MattE\\.nuget\\packages\\microsoft.ml.automl\\0.20.1\\interactive-extensions\\dotnet\\Microsoft.ML.AutoML.Interactive.dll`"
      ]
     },
     "metadata": {},
     "output_type": "display_data"
    },
    {
     "data": {
      "text/plain": [
       "Loading extensions from `C:\\Users\\MattE\\.nuget\\packages\\skiasharp\\2.88.3\\interactive-extensions\\dotnet\\SkiaSharp.DotNet.Interactive.dll`"
      ]
     },
     "metadata": {},
     "output_type": "display_data"
    }
   ],
   "source": [
    "#r \"nuget:Microsoft.ML\"\n",
    "#r \"nuget:Microsoft.ML.AutoML\""
   ]
  },
  {
   "cell_type": "code",
   "execution_count": 2,
   "metadata": {
    "dotnet_interactive": {
     "language": "csharp"
    },
    "polyglot_notebook": {
     "kernelName": "csharp"
    }
   },
   "outputs": [],
   "source": [
    "// All the imports we'll need\n",
    "using Microsoft.ML;\n",
    "using Microsoft.ML.AutoML;\n",
    "using Microsoft.ML.Data;\n",
    "\n",
    "using System.Collections.Generic;"
   ]
  },
  {
   "cell_type": "code",
   "execution_count": 3,
   "metadata": {
    "dotnet_interactive": {
     "language": "csharp"
    },
    "polyglot_notebook": {
     "kernelName": "csharp"
    }
   },
   "outputs": [],
   "source": [
    "// Everything in ML .NET revolves around a context object\n",
    "MLContext Context = new();"
   ]
  },
  {
   "attachments": {},
   "cell_type": "markdown",
   "metadata": {},
   "source": [
    "### Load Datasets\n",
    "\n",
    "By the way, this is my least favorite part of AutoML in ML.NET"
   ]
  },
  {
   "cell_type": "code",
   "execution_count": 4,
   "metadata": {
    "dotnet_interactive": {
     "language": "csharp"
    },
    "polyglot_notebook": {
     "kernelName": "csharp"
    }
   },
   "outputs": [],
   "source": [
    "    /// <summary>\n",
    "    /// This class represents a single unreleased video game\n",
    "    /// </summary>    \n",
    "    public class GameInfo\n",
    "    {\n",
    "        [LoadColumn(0)]\n",
    "        public string Title { get; set; }\n",
    "\n",
    "        // These columns are our Features that impact the ESRB label\n",
    "        [LoadColumn(1)]\n",
    "        public bool Console { get; set; }\n",
    "        [LoadColumn(2)]\n",
    "        public bool AlcoholReference { get; set; }\n",
    "        [LoadColumn(3)]\n",
    "        public bool AnimatedBlood { get; set; }\n",
    "        [LoadColumn(4)]\n",
    "        public bool Blood { get; set; }\n",
    "        [LoadColumn(5)]\n",
    "        public bool BloodAndGore { get; set; }\n",
    "        [LoadColumn(6)]\n",
    "        public bool CartoonViolence { get; set; }\n",
    "        [LoadColumn(7)]\n",
    "        public bool CrudeHumor { get; set; }\n",
    "        [LoadColumn(8)]\n",
    "        public bool DrugReference { get; set; }\n",
    "        [LoadColumn(9)]\n",
    "        public bool FantasyViolence { get; set; }\n",
    "        [LoadColumn(10)]\n",
    "        public bool IntenseViolence { get; set; }\n",
    "        [LoadColumn(11)]\n",
    "        public bool Language { get; set; }\n",
    "        [LoadColumn(12)]\n",
    "        public bool Lyrics { get; set; }\n",
    "        [LoadColumn(13)]\n",
    "        public bool MatureHumor { get; set; }\n",
    "        [LoadColumn(14)]\n",
    "        public bool MildBlood { get; set; }\n",
    "        [LoadColumn(15)]\n",
    "        public bool MildCartoonViolence { get; set; }\n",
    "        [LoadColumn(16)]\n",
    "        public bool MildFantasyViolence { get; set; }\n",
    "        [LoadColumn(17)]\n",
    "        public bool MildLanguage { get; set; }\n",
    "        [LoadColumn(18)]\n",
    "        public bool MildLyrics { get; set; }\n",
    "        [LoadColumn(19)]\n",
    "        public bool MildSuggestiveThemes { get; set; }\n",
    "        [LoadColumn(20)]\n",
    "        public bool MildViolence { get; set; }\n",
    "        [LoadColumn(21)]\n",
    "        public bool NoDescriptors { get; set; }\n",
    "        [LoadColumn(22)]\n",
    "        public bool Nudity { get; set; }\n",
    "        [LoadColumn(23)]\n",
    "        public bool PartialNudity { get; set; }\n",
    "        [LoadColumn(24)]\n",
    "        public bool SexualContent { get; set; }\n",
    "        [LoadColumn(25)]\n",
    "        public bool SexualThemes { get; set; }\n",
    "        [LoadColumn(26)]\n",
    "        public bool SimulatedGambling { get; set; }\n",
    "        [LoadColumn(27)]\n",
    "        public bool StrongLanguage { get; set; }\n",
    "        [LoadColumn(28)]\n",
    "        public bool StrongSexualContent { get; set; }\n",
    "        [LoadColumn(29)]\n",
    "        public bool SuggestiveThemes { get; set; }\n",
    "        [LoadColumn(30)]\n",
    "        public bool UseOfAlcohol { get; set; }\n",
    "        [LoadColumn(31)]\n",
    "        public bool UseOfDrugsAndAlcohol { get; set; }\n",
    "        [LoadColumn(32)]\n",
    "        public bool Violence { get; set; }\n",
    "\n",
    "        // This is our Label column - the one we're trying to predict\n",
    "        [LoadColumn(33)]\n",
    "        public string ESRBRating { get; set; }\n",
    "\n",
    "        public override string ToString() => \"{\" + Title + \"}\";\n",
    "    }"
   ]
  },
  {
   "cell_type": "code",
   "execution_count": 5,
   "metadata": {
    "dotnet_interactive": {
     "language": "csharp"
    },
    "polyglot_notebook": {
     "kernelName": "csharp"
    }
   },
   "outputs": [],
   "source": [
    "// Load training data. Taken from Kaggle dataset at https://www.kaggle.com/imohtn/video-games-rating-by-esrb\n",
    "IDataView trainData = Context.Data.LoadFromTextFile<GameInfo>(\n",
    "    path: \"ESRB.csv\",\n",
    "    separatorChar: ',',\n",
    "    hasHeader: true,\n",
    "    allowQuoting: true);"
   ]
  },
  {
   "cell_type": "code",
   "execution_count": 6,
   "metadata": {
    "dotnet_interactive": {
     "language": "csharp"
    },
    "polyglot_notebook": {
     "kernelName": "csharp"
    }
   },
   "outputs": [],
   "source": [
    "// Load test data. Taken from Kaggle dataset at https://www.kaggle.com/imohtn/video-games-rating-by-esrb\n",
    "IDataView validationData = Context.Data.LoadFromTextFile<GameInfo>(\n",
    "    path: \"ESRBTest.csv\", \n",
    "    separatorChar: ',', \n",
    "    hasHeader: true, \n",
    "    allowQuoting: true);"
   ]
  },
  {
   "attachments": {},
   "cell_type": "markdown",
   "metadata": {},
   "source": [
    "### Training\n",
    "This uses automated machine learning to find the best featurization and training settings for the dataset"
   ]
  },
  {
   "cell_type": "code",
   "execution_count": 7,
   "metadata": {
    "dotnet_interactive": {
     "language": "csharp"
    },
    "polyglot_notebook": {
     "kernelName": "csharp"
    }
   },
   "outputs": [],
   "source": [
    "uint secondsToTrain = 10;\n",
    "\n",
    "// Configure the experiment\n",
    "MulticlassClassificationExperiment experiment = \n",
    "    Context.Auto().CreateMulticlassClassificationExperiment(secondsToTrain);"
   ]
  },
  {
   "cell_type": "code",
   "execution_count": 8,
   "metadata": {
    "dotnet_interactive": {
     "language": "csharp"
    },
    "polyglot_notebook": {
     "kernelName": "csharp"
    }
   },
   "outputs": [],
   "source": [
    "    /// <summary>\n",
    "    /// This class can report the progress of a machine learning job in progress\n",
    "    /// </summary>\n",
    "    public class MulticlassConsoleProgressReporter \n",
    "        : IProgress<RunDetail<MulticlassClassificationMetrics>>\n",
    "    {\n",
    "        public void Report(RunDetail<MulticlassClassificationMetrics> value)\n",
    "        {\n",
    "            if (value.ValidationMetrics != null)\n",
    "            {\n",
    "                double accuracy = value.ValidationMetrics.MacroAccuracy;\n",
    "\n",
    "                Console.WriteLine($\"{value.TrainerName} ran in {value.RuntimeInSeconds:0.00} seconds with accuracy of {accuracy:p}\");\n",
    "            }\n",
    "            else\n",
    "            {\n",
    "                Console.WriteLine($\"{value.TrainerName} ran in {value.RuntimeInSeconds:0.00} seconds but did not complete. Time likely expired.\");\n",
    "            }\n",
    "        }\n",
    "    }"
   ]
  },
  {
   "cell_type": "code",
   "execution_count": 9,
   "metadata": {
    "dotnet_interactive": {
     "language": "csharp"
    },
    "polyglot_notebook": {
     "kernelName": "csharp"
    }
   },
   "outputs": [
    {
     "name": "stdout",
     "output_type": "stream",
     "text": [
      "ConvertType=>FeaturizeText=>Concatenate=>Unknown=>FastTreeOva=>Unknown ran in 1.77 seconds with accuracy of 75.41%\n",
      "ConvertType=>FeaturizeText=>Concatenate=>Unknown=>SdcaLogisticRegressionOva=>Unknown ran in 1.73 seconds with accuracy of 25.00%\n",
      "ConvertType=>FeaturizeText=>Concatenate=>Unknown=>LbfgsMaximumEntropyMulti=>Unknown ran in 0.94 seconds with accuracy of 76.97%\n",
      "ConvertType=>FeaturizeText=>Concatenate=>Unknown=>SdcaMaximumEntropyMulti=>Unknown ran in 0.51 seconds with accuracy of 55.29%\n",
      "ConvertType=>FeaturizeText=>Concatenate=>Unknown=>LightGbmMulti=>Unknown ran in 0.77 seconds with accuracy of 74.65%\n",
      "ConvertType=>FeaturizeText=>Concatenate=>Unknown=>FastTreeOva=>Unknown ran in 1.19 seconds with accuracy of 74.03%\n",
      "ConvertType=>FeaturizeText=>Concatenate=>Unknown=>LightGbmMulti=>Unknown ran in 0.40 seconds with accuracy of 74.61%\n",
      "ConvertType=>FeaturizeText=>Concatenate=>Unknown=>LbfgsLogisticRegressionOva=>Unknown ran in 0.69 seconds with accuracy of 77.53%\n",
      "ConvertType=>FeaturizeText=>Concatenate=>Unknown=>LbfgsMaximumEntropyMulti=>Unknown ran in 1.21 seconds with accuracy of 82.20%\n",
      "ConvertType=>FeaturizeText=>Concatenate=>Unknown=>LbfgsMaximumEntropyMulti=>Unknown ran in 0.28 seconds with accuracy of 77.49%\n"
     ]
    },
    {
     "data": {
      "text/html": [
       "<details open=\"open\" class=\"dni-treeview\"><summary><span class=\"dni-code-hint\"><code>Microsoft.ML.AutoML.ExperimentResult`1[Microsoft.ML.Data.MulticlassClassificationMetrics]</code></span></summary><div><table><thead><tr></tr></thead><tbody><tr><td>RunDetails</td><td><table><thead><tr><th><i>index</i></th><th>value</th></tr></thead><tbody><tr><td>0</td><td><details class=\"dni-treeview\"><summary><span class=\"dni-code-hint\"><code>Microsoft.ML.AutoML.RunDetail`1[Microsoft.ML.Data.MulticlassClassificationMetrics]</code></span></summary><div><table><thead><tr></tr></thead><tbody><tr><td>ValidationMetrics</td><td><details class=\"dni-treeview\"><summary><span class=\"dni-code-hint\"><code>Microsoft.ML.Data.MulticlassClassificationMetrics</code></span></summary><div><table><thead><tr></tr></thead><tbody><tr><td>LogLoss</td><td><div class=\"dni-plaintext\"><pre>1.1520647996815911</pre></div></td></tr><tr><td>LogLossReduction</td><td><div class=\"dni-plaintext\"><pre>0.14393564785032045</pre></div></td></tr><tr><td>MacroAccuracy</td><td><div class=\"dni-plaintext\"><pre>0.7541235334713596</pre></div></td></tr><tr><td>MicroAccuracy</td><td><div class=\"dni-plaintext\"><pre>0.762</pre></div></td></tr><tr><td>TopKAccuracy</td><td><div class=\"dni-plaintext\"><pre>0</pre></div></td></tr><tr><td>TopKPredictionCount</td><td><div class=\"dni-plaintext\"><pre>0</pre></div></td></tr><tr><td>TopKAccuracyForAllK</td><td><div class=\"dni-plaintext\"><pre>&lt;null&gt;</pre></div></td></tr><tr><td>PerClassLogLoss</td><td><div class=\"dni-plaintext\"><pre>[ 1.1427545367264178, 1.16242499424014, 1.2166878715626754, 1.118421132898133 ]</pre></div></td></tr><tr><td>ConfusionMatrix</td><td><details class=\"dni-treeview\"><summary><span class=\"dni-code-hint\"><code>Microsoft.ML.Data.ConfusionMatrix</code></span></summary><div><table><thead><tr></tr></thead><tbody><tr><td>PerClassPrecision</td><td><div class=\"dni-plaintext\"><pre>[ 0.872093023255814, 0.7933884297520661, 0.8421052631578947, 0.6728110599078341 ]</pre></div></td></tr><tr><td>PerClassRecall</td><td><div class=\"dni-plaintext\"><pre>[ 0.75, 0.7619047619047619, 0.7111111111111111, 0.7934782608695652 ]</pre></div></td></tr><tr><td>Counts</td><td><table><thead><tr><th><i>index</i></th><th>value</th></tr></thead><tbody><tr><td>0</td><td>[ 75, 4, 0, 21 ]</td></tr><tr><td>1</td><td>[ 4, 96, 0, 26 ]</td></tr><tr><td>2</td><td>[ 0, 2, 64, 24 ]</td></tr><tr><td>3</td><td>[ 7, 19, 12, 146 ]</td></tr></tbody></table></td></tr><tr><td>NumberOfClasses</td><td><div class=\"dni-plaintext\"><pre>4</pre></div></td></tr></tbody></table></div></details></td></tr></tbody></table></div></details></td></tr><tr><td>Model</td><td><table><thead><tr><th><i>index</i></th><th><i>type</i></th><th>value</th></tr></thead><tbody><tr><td>0</td><td><span><a href=\"https://docs.microsoft.com/dotnet/api/microsoft.ml.transforms.typeconvertingtransformer?view=net-7.0\">Microsoft.ML.Transforms.TypeConvertingTransformer</a></span></td><td><details class=\"dni-treeview\"><summary><span class=\"dni-code-hint\"><code>Microsoft.ML.Transforms.TypeConvertingTransformer</code></span></summary><div><table><thead><tr></tr></thead><tbody></tbody></table></div></details></td></tr><tr><td>1</td><td><span><a href=\"https://docs.microsoft.com/dotnet/api/microsoft.ml.transforms.text.textfeaturizingestimator.transformer?view=net-7.0\">Microsoft.ML.Transforms.Text.TextFeaturizingEstimator+Transformer</a></span></td><td><details class=\"dni-treeview\"><summary><span class=\"dni-code-hint\"><code>Microsoft.ML.Transforms.Text.TextFeaturizingEstimator+Transformer</code></span></summary><div><table><thead><tr></tr></thead><tbody></tbody></table></div></details></td></tr><tr><td>2</td><td><span><a href=\"https://docs.microsoft.com/dotnet/api/microsoft.ml.data.columnconcatenatingtransformer?view=net-7.0\">Microsoft.ML.Data.ColumnConcatenatingTransformer</a></span></td><td><details class=\"dni-treeview\"><summary><span class=\"dni-code-hint\"><code>Microsoft.ML.Data.ColumnConcatenatingTransformer</code></span></summary><div><table><thead><tr></tr></thead><tbody></tbody></table></div></details></td></tr><tr><td>3</td><td><span><a href=\"https://docs.microsoft.com/dotnet/api/microsoft.ml.transforms.valuetokeymappingtransformer?view=net-7.0\">Microsoft.ML.Transforms.ValueToKeyMappingTransformer</a></span></td><td><details class=\"dni-treeview\"><summary><span class=\"dni-code-hint\"><code>Microsoft.ML.Transforms.ValueToKeyMappingTransformer</code></span></summary><div><table><thead><tr></tr></thead><tbody></tbody></table></div></details></td></tr><tr><td>4</td><td><span><a href=\"https://docs.microsoft.com/dotnet/api/microsoft.ml.data.multiclasspredictiontransformer-1?view=net-7.0\">Microsoft.ML.Data.MulticlassPredictionTransformer&lt;Microsoft.ML.Trainers.OneVersusAllModelParameters&gt;</a></span></td><td><details class=\"dni-treeview\"><summary><span class=\"dni-code-hint\"><code>Microsoft.ML.Data.MulticlassPredictionTransformer`1[Microsoft.ML.Trainers.OneVersusAllModelParameters]</code></span></summary><div><table><thead><tr></tr></thead><tbody><tr><td>FeatureColumnName</td><td>__Features__</td></tr><tr><td>FeatureColumnType</td><td><details class=\"dni-treeview\"><summary><span class=\"dni-code-hint\"><code>Vector<Single, 11774></code></span></summary><div><table><thead><tr></tr></thead><tbody><tr><td>Dimensions</td><td>[ 11774 ]</td></tr><tr><td>IsKnownSize</td><td>True</td></tr><tr><td>ItemType</td><td>Single</td></tr><tr><td>Size</td><td>11774</td></tr><tr><td>RawType</td><td>Microsoft.ML.Data.VBuffer`1[System.Single]</td></tr></tbody></table></div></details></td></tr><tr><td>Model</td><td><details class=\"dni-treeview\"><summary><span class=\"dni-code-hint\"><code>Microsoft.ML.Trainers.OneVersusAllModelParameters</code></span></summary><div><table><thead><tr></tr></thead><tbody></tbody></table></div></details></td></tr></tbody></table></div></details></td></tr><tr><td>5</td><td><span><a href=\"https://docs.microsoft.com/dotnet/api/microsoft.ml.transforms.keytovaluemappingtransformer?view=net-7.0\">Microsoft.ML.Transforms.KeyToValueMappingTransformer</a></span></td><td><details class=\"dni-treeview\"><summary><span class=\"dni-code-hint\"><code>Microsoft.ML.Transforms.KeyToValueMappingTransformer</code></span></summary><div><table><thead><tr></tr></thead><tbody></tbody></table></div></details></td></tr></tbody></table></td></tr><tr><td>Exception</td><td><div class=\"dni-plaintext\"><pre>&lt;null&gt;</pre></div></td></tr><tr><td>TrainerName</td><td>ConvertType=&gt;FeaturizeText=&gt;Concatenate=&gt;Unknown=&gt;LbfgsMaximumEntropyMulti=&gt;Unknown</td></tr><tr><td>RuntimeInSeconds</td><td><div class=\"dni-plaintext\"><pre>1.772</pre></div></td></tr><tr><td>Estimator</td><td><details class=\"dni-treeview\"><summary><span class=\"dni-code-hint\"><code>Microsoft.ML.Data.EstimatorChain`1[Microsoft.ML.ITransformer]</code></span></summary><div><table><thead><tr></tr></thead><tbody><tr><td>LastEstimator</td><td><details class=\"dni-treeview\"><summary><span class=\"dni-code-hint\"><code>Microsoft.ML.Transforms.KeyToValueMappingEstimator</code></span></summary><div><table><thead><tr></tr></thead><tbody></tbody></table></div></details></td></tr></tbody></table></div></details></td></tr></tbody></table></div></details></td></tr><tr><td>1</td><td><details class=\"dni-treeview\"><summary><span class=\"dni-code-hint\"><code>Microsoft.ML.AutoML.RunDetail`1[Microsoft.ML.Data.MulticlassClassificationMetrics]</code></span></summary><div><table><thead><tr></tr></thead><tbody><tr><td>ValidationMetrics</td><td><details class=\"dni-treeview\"><summary><span class=\"dni-code-hint\"><code>Microsoft.ML.Data.MulticlassClassificationMetrics</code></span></summary><div><table><thead><tr></tr></thead><tbody><tr><td>LogLoss</td><td><div class=\"dni-plaintext\"><pre>1.3623037349451177</pre></div></td></tr><tr><td>LogLossReduction</td><td><div class=\"dni-plaintext\"><pre>-0.012286517745531283</pre></div></td></tr><tr><td>MacroAccuracy</td><td><div class=\"dni-plaintext\"><pre>0.25</pre></div></td></tr><tr><td>MicroAccuracy</td><td><div class=\"dni-plaintext\"><pre>0.368</pre></div></td></tr><tr><td>TopKAccuracy</td><td><div class=\"dni-plaintext\"><pre>0</pre></div></td></tr><tr><td>TopKPredictionCount</td><td><div class=\"dni-plaintext\"><pre>0</pre></div></td></tr><tr><td>TopKAccuracyForAllK</td><td><div class=\"dni-plaintext\"><pre>&lt;null&gt;</pre></div></td></tr><tr><td>PerClassLogLoss</td><td><div class=\"dni-plaintext\"><pre>[ 1.4436051009713506, 1.4569626488114957, 1.4694071192839433, 1.2009099070088145 ]</pre></div></td></tr><tr><td>ConfusionMatrix</td><td><details class=\"dni-treeview\"><summary><span class=\"dni-code-hint\"><code>Microsoft.ML.Data.ConfusionMatrix</code></span></summary><div><table><thead><tr></tr></thead><tbody><tr><td>PerClassPrecision</td><td><div class=\"dni-plaintext\"><pre>[ 0, 0, 0, 0.368 ]</pre></div></td></tr><tr><td>PerClassRecall</td><td><div class=\"dni-plaintext\"><pre>[ 0, 0, 0, 1 ]</pre></div></td></tr><tr><td>Counts</td><td><table><thead><tr><th><i>index</i></th><th>value</th></tr></thead><tbody><tr><td>0</td><td>[ 0, 0, 0, 100 ]</td></tr><tr><td>1</td><td>[ 0, 0, 0, 126 ]</td></tr><tr><td>2</td><td>[ 0, 0, 0, 90 ]</td></tr><tr><td>3</td><td>[ 0, 0, 0, 184 ]</td></tr></tbody></table></td></tr><tr><td>NumberOfClasses</td><td><div class=\"dni-plaintext\"><pre>4</pre></div></td></tr></tbody></table></div></details></td></tr></tbody></table></div></details></td></tr><tr><td>Model</td><td><table><thead><tr><th><i>index</i></th><th><i>type</i></th><th>value</th></tr></thead><tbody><tr><td>0</td><td><span><a href=\"https://docs.microsoft.com/dotnet/api/microsoft.ml.transforms.typeconvertingtransformer?view=net-7.0\">Microsoft.ML.Transforms.TypeConvertingTransformer</a></span></td><td><details class=\"dni-treeview\"><summary><span class=\"dni-code-hint\"><code>Microsoft.ML.Transforms.TypeConvertingTransformer</code></span></summary><div><table><thead><tr></tr></thead><tbody></tbody></table></div></details></td></tr><tr><td>1</td><td><span><a href=\"https://docs.microsoft.com/dotnet/api/microsoft.ml.transforms.text.textfeaturizingestimator.transformer?view=net-7.0\">Microsoft.ML.Transforms.Text.TextFeaturizingEstimator+Transformer</a></span></td><td><details class=\"dni-treeview\"><summary><span class=\"dni-code-hint\"><code>Microsoft.ML.Transforms.Text.TextFeaturizingEstimator+Transformer</code></span></summary><div><table><thead><tr></tr></thead><tbody></tbody></table></div></details></td></tr><tr><td>2</td><td><span><a href=\"https://docs.microsoft.com/dotnet/api/microsoft.ml.data.columnconcatenatingtransformer?view=net-7.0\">Microsoft.ML.Data.ColumnConcatenatingTransformer</a></span></td><td><details class=\"dni-treeview\"><summary><span class=\"dni-code-hint\"><code>Microsoft.ML.Data.ColumnConcatenatingTransformer</code></span></summary><div><table><thead><tr></tr></thead><tbody></tbody></table></div></details></td></tr><tr><td>3</td><td><span><a href=\"https://docs.microsoft.com/dotnet/api/microsoft.ml.transforms.valuetokeymappingtransformer?view=net-7.0\">Microsoft.ML.Transforms.ValueToKeyMappingTransformer</a></span></td><td><details class=\"dni-treeview\"><summary><span class=\"dni-code-hint\"><code>Microsoft.ML.Transforms.ValueToKeyMappingTransformer</code></span></summary><div><table><thead><tr></tr></thead><tbody></tbody></table></div></details></td></tr><tr><td>4</td><td><span><a href=\"https://docs.microsoft.com/dotnet/api/microsoft.ml.data.multiclasspredictiontransformer-1?view=net-7.0\">Microsoft.ML.Data.MulticlassPredictionTransformer&lt;Microsoft.ML.Trainers.OneVersusAllModelParameters&gt;</a></span></td><td><details class=\"dni-treeview\"><summary><span class=\"dni-code-hint\"><code>Microsoft.ML.Data.MulticlassPredictionTransformer`1[Microsoft.ML.Trainers.OneVersusAllModelParameters]</code></span></summary><div><table><thead><tr></tr></thead><tbody><tr><td>FeatureColumnName</td><td>__Features__</td></tr><tr><td>FeatureColumnType</td><td><details class=\"dni-treeview\"><summary><span class=\"dni-code-hint\"><code>Vector<Single, 11774></code></span></summary><div><table><thead><tr></tr></thead><tbody><tr><td>Dimensions</td><td>[ 11774 ]</td></tr><tr><td>IsKnownSize</td><td>True</td></tr><tr><td>ItemType</td><td>Single</td></tr><tr><td>Size</td><td>11774</td></tr><tr><td>RawType</td><td>Microsoft.ML.Data.VBuffer`1[System.Single]</td></tr></tbody></table></div></details></td></tr><tr><td>Model</td><td><details class=\"dni-treeview\"><summary><span class=\"dni-code-hint\"><code>Microsoft.ML.Trainers.OneVersusAllModelParameters</code></span></summary><div><table><thead><tr></tr></thead><tbody></tbody></table></div></details></td></tr></tbody></table></div></details></td></tr><tr><td>5</td><td><span><a href=\"https://docs.microsoft.com/dotnet/api/microsoft.ml.transforms.keytovaluemappingtransformer?view=net-7.0\">Microsoft.ML.Transforms.KeyToValueMappingTransformer</a></span></td><td><details class=\"dni-treeview\"><summary><span class=\"dni-code-hint\"><code>Microsoft.ML.Transforms.KeyToValueMappingTransformer</code></span></summary><div><table><thead><tr></tr></thead><tbody></tbody></table></div></details></td></tr></tbody></table></td></tr><tr><td>Exception</td><td><div class=\"dni-plaintext\"><pre>&lt;null&gt;</pre></div></td></tr><tr><td>TrainerName</td><td>ConvertType=&gt;FeaturizeText=&gt;Concatenate=&gt;Unknown=&gt;LbfgsMaximumEntropyMulti=&gt;Unknown</td></tr><tr><td>RuntimeInSeconds</td><td><div class=\"dni-plaintext\"><pre>1.732</pre></div></td></tr><tr><td>Estimator</td><td><details class=\"dni-treeview\"><summary><span class=\"dni-code-hint\"><code>Microsoft.ML.Data.EstimatorChain`1[Microsoft.ML.ITransformer]</code></span></summary><div><table><thead><tr></tr></thead><tbody><tr><td>LastEstimator</td><td><details class=\"dni-treeview\"><summary><span class=\"dni-code-hint\"><code>Microsoft.ML.Transforms.KeyToValueMappingEstimator</code></span></summary><div><table><thead><tr></tr></thead><tbody></tbody></table></div></details></td></tr></tbody></table></div></details></td></tr></tbody></table></div></details></td></tr><tr><td>2</td><td><details class=\"dni-treeview\"><summary><span class=\"dni-code-hint\"><code>Microsoft.ML.AutoML.RunDetail`1[Microsoft.ML.Data.MulticlassClassificationMetrics]</code></span></summary><div><table><thead><tr></tr></thead><tbody><tr><td>ValidationMetrics</td><td><details class=\"dni-treeview\"><summary><span class=\"dni-code-hint\"><code>Microsoft.ML.Data.MulticlassClassificationMetrics</code></span></summary><div><table><thead><tr></tr></thead><tbody><tr><td>LogLoss</td><td><div class=\"dni-plaintext\"><pre>0.5020166749294702</pre></div></td></tr><tr><td>LogLossReduction</td><td><div class=\"dni-plaintext\"><pre>0.6269666604598888</pre></div></td></tr><tr><td>MacroAccuracy</td><td><div class=\"dni-plaintext\"><pre>0.7697360248447205</pre></div></td></tr><tr><td>MicroAccuracy</td><td><div class=\"dni-plaintext\"><pre>0.786</pre></div></td></tr><tr><td>TopKAccuracy</td><td><div class=\"dni-plaintext\"><pre>0</pre></div></td></tr><tr><td>TopKPredictionCount</td><td><div class=\"dni-plaintext\"><pre>0</pre></div></td></tr><tr><td>TopKAccuracyForAllK</td><td><div class=\"dni-plaintext\"><pre>&lt;null&gt;</pre></div></td></tr><tr><td>PerClassLogLoss</td><td><div class=\"dni-plaintext\"><pre>[ 0.3005348142931877, 0.4835379248950113, 1.0451197748478078, 0.35852335740403435 ]</pre></div></td></tr><tr><td>ConfusionMatrix</td><td><details class=\"dni-treeview\"><summary><span class=\"dni-code-hint\"><code>Microsoft.ML.Data.ConfusionMatrix</code></span></summary><div><table><thead><tr></tr></thead><tbody><tr><td>PerClassPrecision</td><td><div class=\"dni-plaintext\"><pre>[ 0.9381443298969072, 0.7786259541984732, 0.8727272727272727, 0.7004608294930875 ]</pre></div></td></tr><tr><td>PerClassRecall</td><td><div class=\"dni-plaintext\"><pre>[ 0.91, 0.8095238095238095, 0.5333333333333333, 0.8260869565217391 ]</pre></div></td></tr><tr><td>Counts</td><td><table><thead><tr><th><i>index</i></th><th>value</th></tr></thead><tbody><tr><td>0</td><td>[ 91, 6, 0, 3 ]</td></tr><tr><td>1</td><td>[ 4, 102, 0, 20 ]</td></tr><tr><td>2</td><td>[ 0, 0, 48, 42 ]</td></tr><tr><td>3</td><td>[ 2, 23, 7, 152 ]</td></tr></tbody></table></td></tr><tr><td>NumberOfClasses</td><td><div class=\"dni-plaintext\"><pre>4</pre></div></td></tr></tbody></table></div></details></td></tr></tbody></table></div></details></td></tr><tr><td>Model</td><td><table><thead><tr><th><i>index</i></th><th><i>type</i></th><th>value</th></tr></thead><tbody><tr><td>0</td><td><span><a href=\"https://docs.microsoft.com/dotnet/api/microsoft.ml.transforms.typeconvertingtransformer?view=net-7.0\">Microsoft.ML.Transforms.TypeConvertingTransformer</a></span></td><td><details class=\"dni-treeview\"><summary><span class=\"dni-code-hint\"><code>Microsoft.ML.Transforms.TypeConvertingTransformer</code></span></summary><div><table><thead><tr></tr></thead><tbody></tbody></table></div></details></td></tr><tr><td>1</td><td><span><a href=\"https://docs.microsoft.com/dotnet/api/microsoft.ml.transforms.text.textfeaturizingestimator.transformer?view=net-7.0\">Microsoft.ML.Transforms.Text.TextFeaturizingEstimator+Transformer</a></span></td><td><details class=\"dni-treeview\"><summary><span class=\"dni-code-hint\"><code>Microsoft.ML.Transforms.Text.TextFeaturizingEstimator+Transformer</code></span></summary><div><table><thead><tr></tr></thead><tbody></tbody></table></div></details></td></tr><tr><td>2</td><td><span><a href=\"https://docs.microsoft.com/dotnet/api/microsoft.ml.data.columnconcatenatingtransformer?view=net-7.0\">Microsoft.ML.Data.ColumnConcatenatingTransformer</a></span></td><td><details class=\"dni-treeview\"><summary><span class=\"dni-code-hint\"><code>Microsoft.ML.Data.ColumnConcatenatingTransformer</code></span></summary><div><table><thead><tr></tr></thead><tbody></tbody></table></div></details></td></tr><tr><td>3</td><td><span><a href=\"https://docs.microsoft.com/dotnet/api/microsoft.ml.transforms.valuetokeymappingtransformer?view=net-7.0\">Microsoft.ML.Transforms.ValueToKeyMappingTransformer</a></span></td><td><details class=\"dni-treeview\"><summary><span class=\"dni-code-hint\"><code>Microsoft.ML.Transforms.ValueToKeyMappingTransformer</code></span></summary><div><table><thead><tr></tr></thead><tbody></tbody></table></div></details></td></tr><tr><td>4</td><td><span><a href=\"https://docs.microsoft.com/dotnet/api/microsoft.ml.data.multiclasspredictiontransformer-1?view=net-7.0\">Microsoft.ML.Data.MulticlassPredictionTransformer&lt;Microsoft.ML.Trainers.MaximumEntropyModelParameters&gt;</a></span></td><td><details class=\"dni-treeview\"><summary><span class=\"dni-code-hint\"><code>Microsoft.ML.Data.MulticlassPredictionTransformer`1[Microsoft.ML.Trainers.MaximumEntropyModelParameters]</code></span></summary><div><table><thead><tr></tr></thead><tbody><tr><td>FeatureColumnName</td><td>__Features__</td></tr><tr><td>FeatureColumnType</td><td><details class=\"dni-treeview\"><summary><span class=\"dni-code-hint\"><code>Vector<Single, 11774></code></span></summary><div><table><thead><tr></tr></thead><tbody><tr><td>Dimensions</td><td>[ 11774 ]</td></tr><tr><td>IsKnownSize</td><td>True</td></tr><tr><td>ItemType</td><td>Single</td></tr><tr><td>Size</td><td>11774</td></tr><tr><td>RawType</td><td>Microsoft.ML.Data.VBuffer`1[System.Single]</td></tr></tbody></table></div></details></td></tr><tr><td>Model</td><td><details class=\"dni-treeview\"><summary><span class=\"dni-code-hint\"><code>Microsoft.ML.Trainers.MaximumEntropyModelParameters</code></span></summary><div><table><thead><tr></tr></thead><tbody><tr><td>Statistics</td><td><div class=\"dni-plaintext\"><pre>&lt;null&gt;</pre></div></td></tr></tbody></table></div></details></td></tr></tbody></table></div></details></td></tr><tr><td>5</td><td><span><a href=\"https://docs.microsoft.com/dotnet/api/microsoft.ml.transforms.keytovaluemappingtransformer?view=net-7.0\">Microsoft.ML.Transforms.KeyToValueMappingTransformer</a></span></td><td><details class=\"dni-treeview\"><summary><span class=\"dni-code-hint\"><code>Microsoft.ML.Transforms.KeyToValueMappingTransformer</code></span></summary><div><table><thead><tr></tr></thead><tbody></tbody></table></div></details></td></tr></tbody></table></td></tr><tr><td>Exception</td><td><div class=\"dni-plaintext\"><pre>&lt;null&gt;</pre></div></td></tr><tr><td>TrainerName</td><td>ConvertType=&gt;FeaturizeText=&gt;Concatenate=&gt;Unknown=&gt;LbfgsMaximumEntropyMulti=&gt;Unknown</td></tr><tr><td>RuntimeInSeconds</td><td><div class=\"dni-plaintext\"><pre>0.943</pre></div></td></tr><tr><td>Estimator</td><td><details class=\"dni-treeview\"><summary><span class=\"dni-code-hint\"><code>Microsoft.ML.Data.EstimatorChain`1[Microsoft.ML.ITransformer]</code></span></summary><div><table><thead><tr></tr></thead><tbody><tr><td>LastEstimator</td><td><details class=\"dni-treeview\"><summary><span class=\"dni-code-hint\"><code>Microsoft.ML.Transforms.KeyToValueMappingEstimator</code></span></summary><div><table><thead><tr></tr></thead><tbody></tbody></table></div></details></td></tr></tbody></table></div></details></td></tr></tbody></table></div></details></td></tr><tr><td>3</td><td><details class=\"dni-treeview\"><summary><span class=\"dni-code-hint\"><code>Microsoft.ML.AutoML.RunDetail`1[Microsoft.ML.Data.MulticlassClassificationMetrics]</code></span></summary><div><table><thead><tr></tr></thead><tbody><tr><td>ValidationMetrics</td><td><details class=\"dni-treeview\"><summary><span class=\"dni-code-hint\"><code>Microsoft.ML.Data.MulticlassClassificationMetrics</code></span></summary><div><table><thead><tr></tr></thead><tbody><tr><td>LogLoss</td><td><div class=\"dni-plaintext\"><pre>1.23994595168125</pre></div></td></tr><tr><td>LogLossReduction</td><td><div class=\"dni-plaintext\"><pre>0.07863383368713428</pre></div></td></tr><tr><td>MacroAccuracy</td><td><div class=\"dni-plaintext\"><pre>0.5529390959282263</pre></div></td></tr><tr><td>MicroAccuracy</td><td><div class=\"dni-plaintext\"><pre>0.62</pre></div></td></tr><tr><td>TopKAccuracy</td><td><div class=\"dni-plaintext\"><pre>0</pre></div></td></tr><tr><td>TopKPredictionCount</td><td><div class=\"dni-plaintext\"><pre>0</pre></div></td></tr><tr><td>TopKAccuracyForAllK</td><td><div class=\"dni-plaintext\"><pre>&lt;null&gt;</pre></div></td></tr><tr><td>PerClassLogLoss</td><td><div class=\"dni-plaintext\"><pre>[ 1.2888481137819454, 1.290650957048953, 1.3410290106667186, 1.1292039832296599 ]</pre></div></td></tr><tr><td>ConfusionMatrix</td><td><details class=\"dni-treeview\"><summary><span class=\"dni-code-hint\"><code>Microsoft.ML.Data.ConfusionMatrix</code></span></summary><div><table><thead><tr></tr></thead><tbody><tr><td>PerClassPrecision</td><td><div class=\"dni-plaintext\"><pre>[ 0.8596491228070176, 0.8034188034188035, 0.8571428571428571, 0.4967948717948718 ]</pre></div></td></tr><tr><td>PerClassRecall</td><td><div class=\"dni-plaintext\"><pre>[ 0.49, 0.746031746031746, 0.13333333333333333, 0.842391304347826 ]</pre></div></td></tr><tr><td>Counts</td><td><table><thead><tr><th><i>index</i></th><th>value</th></tr></thead><tbody><tr><td>0</td><td>[ 49, 0, 0, 51 ]</td></tr><tr><td>1</td><td>[ 2, 94, 0, 30 ]</td></tr><tr><td>2</td><td>[ 0, 2, 12, 76 ]</td></tr><tr><td>3</td><td>[ 6, 21, 2, 155 ]</td></tr></tbody></table></td></tr><tr><td>NumberOfClasses</td><td><div class=\"dni-plaintext\"><pre>4</pre></div></td></tr></tbody></table></div></details></td></tr></tbody></table></div></details></td></tr><tr><td>Model</td><td><table><thead><tr><th><i>index</i></th><th><i>type</i></th><th>value</th></tr></thead><tbody><tr><td>0</td><td><span><a href=\"https://docs.microsoft.com/dotnet/api/microsoft.ml.transforms.typeconvertingtransformer?view=net-7.0\">Microsoft.ML.Transforms.TypeConvertingTransformer</a></span></td><td><details class=\"dni-treeview\"><summary><span class=\"dni-code-hint\"><code>Microsoft.ML.Transforms.TypeConvertingTransformer</code></span></summary><div><table><thead><tr></tr></thead><tbody></tbody></table></div></details></td></tr><tr><td>1</td><td><span><a href=\"https://docs.microsoft.com/dotnet/api/microsoft.ml.transforms.text.textfeaturizingestimator.transformer?view=net-7.0\">Microsoft.ML.Transforms.Text.TextFeaturizingEstimator+Transformer</a></span></td><td><details class=\"dni-treeview\"><summary><span class=\"dni-code-hint\"><code>Microsoft.ML.Transforms.Text.TextFeaturizingEstimator+Transformer</code></span></summary><div><table><thead><tr></tr></thead><tbody></tbody></table></div></details></td></tr><tr><td>2</td><td><span><a href=\"https://docs.microsoft.com/dotnet/api/microsoft.ml.data.columnconcatenatingtransformer?view=net-7.0\">Microsoft.ML.Data.ColumnConcatenatingTransformer</a></span></td><td><details class=\"dni-treeview\"><summary><span class=\"dni-code-hint\"><code>Microsoft.ML.Data.ColumnConcatenatingTransformer</code></span></summary><div><table><thead><tr></tr></thead><tbody></tbody></table></div></details></td></tr><tr><td>3</td><td><span><a href=\"https://docs.microsoft.com/dotnet/api/microsoft.ml.transforms.valuetokeymappingtransformer?view=net-7.0\">Microsoft.ML.Transforms.ValueToKeyMappingTransformer</a></span></td><td><details class=\"dni-treeview\"><summary><span class=\"dni-code-hint\"><code>Microsoft.ML.Transforms.ValueToKeyMappingTransformer</code></span></summary><div><table><thead><tr></tr></thead><tbody></tbody></table></div></details></td></tr><tr><td>4</td><td><span><a href=\"https://docs.microsoft.com/dotnet/api/microsoft.ml.data.multiclasspredictiontransformer-1?view=net-7.0\">Microsoft.ML.Data.MulticlassPredictionTransformer&lt;Microsoft.ML.Trainers.MaximumEntropyModelParameters&gt;</a></span></td><td><details class=\"dni-treeview\"><summary><span class=\"dni-code-hint\"><code>Microsoft.ML.Data.MulticlassPredictionTransformer`1[Microsoft.ML.Trainers.MaximumEntropyModelParameters]</code></span></summary><div><table><thead><tr></tr></thead><tbody><tr><td>FeatureColumnName</td><td>__Features__</td></tr><tr><td>FeatureColumnType</td><td><details class=\"dni-treeview\"><summary><span class=\"dni-code-hint\"><code>Vector<Single, 11774></code></span></summary><div><table><thead><tr></tr></thead><tbody><tr><td>Dimensions</td><td>[ 11774 ]</td></tr><tr><td>IsKnownSize</td><td>True</td></tr><tr><td>ItemType</td><td>Single</td></tr><tr><td>Size</td><td>11774</td></tr><tr><td>RawType</td><td>Microsoft.ML.Data.VBuffer`1[System.Single]</td></tr></tbody></table></div></details></td></tr><tr><td>Model</td><td><details class=\"dni-treeview\"><summary><span class=\"dni-code-hint\"><code>Microsoft.ML.Trainers.MaximumEntropyModelParameters</code></span></summary><div><table><thead><tr></tr></thead><tbody><tr><td>Statistics</td><td><div class=\"dni-plaintext\"><pre>&lt;null&gt;</pre></div></td></tr></tbody></table></div></details></td></tr></tbody></table></div></details></td></tr><tr><td>5</td><td><span><a href=\"https://docs.microsoft.com/dotnet/api/microsoft.ml.transforms.keytovaluemappingtransformer?view=net-7.0\">Microsoft.ML.Transforms.KeyToValueMappingTransformer</a></span></td><td><details class=\"dni-treeview\"><summary><span class=\"dni-code-hint\"><code>Microsoft.ML.Transforms.KeyToValueMappingTransformer</code></span></summary><div><table><thead><tr></tr></thead><tbody></tbody></table></div></details></td></tr></tbody></table></td></tr><tr><td>Exception</td><td><div class=\"dni-plaintext\"><pre>&lt;null&gt;</pre></div></td></tr><tr><td>TrainerName</td><td>ConvertType=&gt;FeaturizeText=&gt;Concatenate=&gt;Unknown=&gt;LbfgsMaximumEntropyMulti=&gt;Unknown</td></tr><tr><td>RuntimeInSeconds</td><td><div class=\"dni-plaintext\"><pre>0.512</pre></div></td></tr><tr><td>Estimator</td><td><details class=\"dni-treeview\"><summary><span class=\"dni-code-hint\"><code>Microsoft.ML.Data.EstimatorChain`1[Microsoft.ML.ITransformer]</code></span></summary><div><table><thead><tr></tr></thead><tbody><tr><td>LastEstimator</td><td><details class=\"dni-treeview\"><summary><span class=\"dni-code-hint\"><code>Microsoft.ML.Transforms.KeyToValueMappingEstimator</code></span></summary><div><table><thead><tr></tr></thead><tbody></tbody></table></div></details></td></tr></tbody></table></div></details></td></tr></tbody></table></div></details></td></tr><tr><td>4</td><td><details class=\"dni-treeview\"><summary><span class=\"dni-code-hint\"><code>Microsoft.ML.AutoML.RunDetail`1[Microsoft.ML.Data.MulticlassClassificationMetrics]</code></span></summary><div><table><thead><tr></tr></thead><tbody><tr><td>ValidationMetrics</td><td><details class=\"dni-treeview\"><summary><span class=\"dni-code-hint\"><code>Microsoft.ML.Data.MulticlassClassificationMetrics</code></span></summary><div><table><thead><tr></tr></thead><tbody><tr><td>LogLoss</td><td><div class=\"dni-plaintext\"><pre>0.6072776384041222</pre></div></td></tr><tr><td>LogLossReduction</td><td><div class=\"dni-plaintext\"><pre>0.54875043639985</pre></div></td></tr><tr><td>MacroAccuracy</td><td><div class=\"dni-plaintext\"><pre>0.7465251897860593</pre></div></td></tr><tr><td>MicroAccuracy</td><td><div class=\"dni-plaintext\"><pre>0.762</pre></div></td></tr><tr><td>TopKAccuracy</td><td><div class=\"dni-plaintext\"><pre>0</pre></div></td></tr><tr><td>TopKPredictionCount</td><td><div class=\"dni-plaintext\"><pre>0</pre></div></td></tr><tr><td>TopKAccuracyForAllK</td><td><div class=\"dni-plaintext\"><pre>&lt;null&gt;</pre></div></td></tr><tr><td>PerClassLogLoss</td><td><div class=\"dni-plaintext\"><pre>[ 0.48614306382869615, 0.5964249813043809, 1.012016658375083, 0.48257318435370405 ]</pre></div></td></tr><tr><td>ConfusionMatrix</td><td><details class=\"dni-treeview\"><summary><span class=\"dni-code-hint\"><code>Microsoft.ML.Data.ConfusionMatrix</code></span></summary><div><table><thead><tr></tr></thead><tbody><tr><td>PerClassPrecision</td><td><div class=\"dni-plaintext\"><pre>[ 0.8571428571428571, 0.7794117647058824, 0.8545454545454545, 0.6824644549763034 ]</pre></div></td></tr><tr><td>PerClassRecall</td><td><div class=\"dni-plaintext\"><pre>[ 0.84, 0.8412698412698413, 0.5222222222222223, 0.782608695652174 ]</pre></div></td></tr><tr><td>Counts</td><td><table><thead><tr><th><i>index</i></th><th>value</th></tr></thead><tbody><tr><td>0</td><td>[ 84, 4, 0, 12 ]</td></tr><tr><td>1</td><td>[ 8, 106, 0, 12 ]</td></tr><tr><td>2</td><td>[ 0, 0, 47, 43 ]</td></tr><tr><td>3</td><td>[ 6, 26, 8, 144 ]</td></tr></tbody></table></td></tr><tr><td>NumberOfClasses</td><td><div class=\"dni-plaintext\"><pre>4</pre></div></td></tr></tbody></table></div></details></td></tr></tbody></table></div></details></td></tr><tr><td>Model</td><td><table><thead><tr><th><i>index</i></th><th><i>type</i></th><th>value</th></tr></thead><tbody><tr><td>0</td><td><span><a href=\"https://docs.microsoft.com/dotnet/api/microsoft.ml.transforms.typeconvertingtransformer?view=net-7.0\">Microsoft.ML.Transforms.TypeConvertingTransformer</a></span></td><td><details class=\"dni-treeview\"><summary><span class=\"dni-code-hint\"><code>Microsoft.ML.Transforms.TypeConvertingTransformer</code></span></summary><div><table><thead><tr></tr></thead><tbody></tbody></table></div></details></td></tr><tr><td>1</td><td><span><a href=\"https://docs.microsoft.com/dotnet/api/microsoft.ml.transforms.text.textfeaturizingestimator.transformer?view=net-7.0\">Microsoft.ML.Transforms.Text.TextFeaturizingEstimator+Transformer</a></span></td><td><details class=\"dni-treeview\"><summary><span class=\"dni-code-hint\"><code>Microsoft.ML.Transforms.Text.TextFeaturizingEstimator+Transformer</code></span></summary><div><table><thead><tr></tr></thead><tbody></tbody></table></div></details></td></tr><tr><td>2</td><td><span><a href=\"https://docs.microsoft.com/dotnet/api/microsoft.ml.data.columnconcatenatingtransformer?view=net-7.0\">Microsoft.ML.Data.ColumnConcatenatingTransformer</a></span></td><td><details class=\"dni-treeview\"><summary><span class=\"dni-code-hint\"><code>Microsoft.ML.Data.ColumnConcatenatingTransformer</code></span></summary><div><table><thead><tr></tr></thead><tbody></tbody></table></div></details></td></tr><tr><td>3</td><td><span><a href=\"https://docs.microsoft.com/dotnet/api/microsoft.ml.transforms.valuetokeymappingtransformer?view=net-7.0\">Microsoft.ML.Transforms.ValueToKeyMappingTransformer</a></span></td><td><details class=\"dni-treeview\"><summary><span class=\"dni-code-hint\"><code>Microsoft.ML.Transforms.ValueToKeyMappingTransformer</code></span></summary><div><table><thead><tr></tr></thead><tbody></tbody></table></div></details></td></tr><tr><td>4</td><td><span><a href=\"https://docs.microsoft.com/dotnet/api/microsoft.ml.data.multiclasspredictiontransformer-1?view=net-7.0\">Microsoft.ML.Data.MulticlassPredictionTransformer&lt;Microsoft.ML.Trainers.OneVersusAllModelParameters&gt;</a></span></td><td><details class=\"dni-treeview\"><summary><span class=\"dni-code-hint\"><code>Microsoft.ML.Data.MulticlassPredictionTransformer`1[Microsoft.ML.Trainers.OneVersusAllModelParameters]</code></span></summary><div><table><thead><tr></tr></thead><tbody><tr><td>FeatureColumnName</td><td>__Features__</td></tr><tr><td>FeatureColumnType</td><td><details class=\"dni-treeview\"><summary><span class=\"dni-code-hint\"><code>Vector<Single, 11774></code></span></summary><div><table><thead><tr></tr></thead><tbody><tr><td>Dimensions</td><td>[ 11774 ]</td></tr><tr><td>IsKnownSize</td><td>True</td></tr><tr><td>ItemType</td><td>Single</td></tr><tr><td>Size</td><td>11774</td></tr><tr><td>RawType</td><td>Microsoft.ML.Data.VBuffer`1[System.Single]</td></tr></tbody></table></div></details></td></tr><tr><td>Model</td><td><details class=\"dni-treeview\"><summary><span class=\"dni-code-hint\"><code>Microsoft.ML.Trainers.OneVersusAllModelParameters</code></span></summary><div><table><thead><tr></tr></thead><tbody></tbody></table></div></details></td></tr></tbody></table></div></details></td></tr><tr><td>5</td><td><span><a href=\"https://docs.microsoft.com/dotnet/api/microsoft.ml.transforms.keytovaluemappingtransformer?view=net-7.0\">Microsoft.ML.Transforms.KeyToValueMappingTransformer</a></span></td><td><details class=\"dni-treeview\"><summary><span class=\"dni-code-hint\"><code>Microsoft.ML.Transforms.KeyToValueMappingTransformer</code></span></summary><div><table><thead><tr></tr></thead><tbody></tbody></table></div></details></td></tr></tbody></table></td></tr><tr><td>Exception</td><td><div class=\"dni-plaintext\"><pre>&lt;null&gt;</pre></div></td></tr><tr><td>TrainerName</td><td>ConvertType=&gt;FeaturizeText=&gt;Concatenate=&gt;Unknown=&gt;LbfgsMaximumEntropyMulti=&gt;Unknown</td></tr><tr><td>RuntimeInSeconds</td><td><div class=\"dni-plaintext\"><pre>0.771</pre></div></td></tr><tr><td>Estimator</td><td><details class=\"dni-treeview\"><summary><span class=\"dni-code-hint\"><code>Microsoft.ML.Data.EstimatorChain`1[Microsoft.ML.ITransformer]</code></span></summary><div><table><thead><tr></tr></thead><tbody><tr><td>LastEstimator</td><td><details class=\"dni-treeview\"><summary><span class=\"dni-code-hint\"><code>Microsoft.ML.Transforms.KeyToValueMappingEstimator</code></span></summary><div><table><thead><tr></tr></thead><tbody></tbody></table></div></details></td></tr></tbody></table></div></details></td></tr></tbody></table></div></details></td></tr><tr><td>5</td><td><details class=\"dni-treeview\"><summary><span class=\"dni-code-hint\"><code>Microsoft.ML.AutoML.RunDetail`1[Microsoft.ML.Data.MulticlassClassificationMetrics]</code></span></summary><div><table><thead><tr></tr></thead><tbody><tr><td>ValidationMetrics</td><td><details class=\"dni-treeview\"><summary><span class=\"dni-code-hint\"><code>Microsoft.ML.Data.MulticlassClassificationMetrics</code></span></summary><div><table><thead><tr></tr></thead><tbody><tr><td>LogLoss</td><td><div class=\"dni-plaintext\"><pre>0.623848522440855</pre></div></td></tr><tr><td>LogLossReduction</td><td><div class=\"dni-plaintext\"><pre>0.5364371159066158</pre></div></td></tr><tr><td>MacroAccuracy</td><td><div class=\"dni-plaintext\"><pre>0.7402838164251208</pre></div></td></tr><tr><td>MicroAccuracy</td><td><div class=\"dni-plaintext\"><pre>0.756</pre></div></td></tr><tr><td>TopKAccuracy</td><td><div class=\"dni-plaintext\"><pre>0</pre></div></td></tr><tr><td>TopKPredictionCount</td><td><div class=\"dni-plaintext\"><pre>0</pre></div></td></tr><tr><td>TopKAccuracyForAllK</td><td><div class=\"dni-plaintext\"><pre>&lt;null&gt;</pre></div></td></tr><tr><td>PerClassLogLoss</td><td><div class=\"dni-plaintext\"><pre>[ 0.47402157490019287, 0.6328093046993575, 1.0322002723880115, 0.4994027544748268 ]</pre></div></td></tr><tr><td>ConfusionMatrix</td><td><details class=\"dni-treeview\"><summary><span class=\"dni-code-hint\"><code>Microsoft.ML.Data.ConfusionMatrix</code></span></summary><div><table><thead><tr></tr></thead><tbody><tr><td>PerClassPrecision</td><td><div class=\"dni-plaintext\"><pre>[ 0.8076923076923077, 0.8099173553719008, 0.8596491228070176, 0.6743119266055045 ]</pre></div></td></tr><tr><td>PerClassRecall</td><td><div class=\"dni-plaintext\"><pre>[ 0.84, 0.7777777777777778, 0.5444444444444444, 0.7989130434782609 ]</pre></div></td></tr><tr><td>Counts</td><td><table><thead><tr><th><i>index</i></th><th>value</th></tr></thead><tbody><tr><td>0</td><td>[ 84, 4, 0, 12 ]</td></tr><tr><td>1</td><td>[ 9, 98, 0, 19 ]</td></tr><tr><td>2</td><td>[ 0, 1, 49, 40 ]</td></tr><tr><td>3</td><td>[ 11, 18, 8, 147 ]</td></tr></tbody></table></td></tr><tr><td>NumberOfClasses</td><td><div class=\"dni-plaintext\"><pre>4</pre></div></td></tr></tbody></table></div></details></td></tr></tbody></table></div></details></td></tr><tr><td>Model</td><td><table><thead><tr><th><i>index</i></th><th><i>type</i></th><th>value</th></tr></thead><tbody><tr><td>0</td><td><span><a href=\"https://docs.microsoft.com/dotnet/api/microsoft.ml.transforms.typeconvertingtransformer?view=net-7.0\">Microsoft.ML.Transforms.TypeConvertingTransformer</a></span></td><td><details class=\"dni-treeview\"><summary><span class=\"dni-code-hint\"><code>Microsoft.ML.Transforms.TypeConvertingTransformer</code></span></summary><div><table><thead><tr></tr></thead><tbody></tbody></table></div></details></td></tr><tr><td>1</td><td><span><a href=\"https://docs.microsoft.com/dotnet/api/microsoft.ml.transforms.text.textfeaturizingestimator.transformer?view=net-7.0\">Microsoft.ML.Transforms.Text.TextFeaturizingEstimator+Transformer</a></span></td><td><details class=\"dni-treeview\"><summary><span class=\"dni-code-hint\"><code>Microsoft.ML.Transforms.Text.TextFeaturizingEstimator+Transformer</code></span></summary><div><table><thead><tr></tr></thead><tbody></tbody></table></div></details></td></tr><tr><td>2</td><td><span><a href=\"https://docs.microsoft.com/dotnet/api/microsoft.ml.data.columnconcatenatingtransformer?view=net-7.0\">Microsoft.ML.Data.ColumnConcatenatingTransformer</a></span></td><td><details class=\"dni-treeview\"><summary><span class=\"dni-code-hint\"><code>Microsoft.ML.Data.ColumnConcatenatingTransformer</code></span></summary><div><table><thead><tr></tr></thead><tbody></tbody></table></div></details></td></tr><tr><td>3</td><td><span><a href=\"https://docs.microsoft.com/dotnet/api/microsoft.ml.transforms.valuetokeymappingtransformer?view=net-7.0\">Microsoft.ML.Transforms.ValueToKeyMappingTransformer</a></span></td><td><details class=\"dni-treeview\"><summary><span class=\"dni-code-hint\"><code>Microsoft.ML.Transforms.ValueToKeyMappingTransformer</code></span></summary><div><table><thead><tr></tr></thead><tbody></tbody></table></div></details></td></tr><tr><td>4</td><td><span><a href=\"https://docs.microsoft.com/dotnet/api/microsoft.ml.data.multiclasspredictiontransformer-1?view=net-7.0\">Microsoft.ML.Data.MulticlassPredictionTransformer&lt;Microsoft.ML.Trainers.OneVersusAllModelParameters&gt;</a></span></td><td><details class=\"dni-treeview\"><summary><span class=\"dni-code-hint\"><code>Microsoft.ML.Data.MulticlassPredictionTransformer`1[Microsoft.ML.Trainers.OneVersusAllModelParameters]</code></span></summary><div><table><thead><tr></tr></thead><tbody><tr><td>FeatureColumnName</td><td>__Features__</td></tr><tr><td>FeatureColumnType</td><td><details class=\"dni-treeview\"><summary><span class=\"dni-code-hint\"><code>Vector<Single, 11774></code></span></summary><div><table><thead><tr></tr></thead><tbody><tr><td>Dimensions</td><td>[ 11774 ]</td></tr><tr><td>IsKnownSize</td><td>True</td></tr><tr><td>ItemType</td><td>Single</td></tr><tr><td>Size</td><td>11774</td></tr><tr><td>RawType</td><td>Microsoft.ML.Data.VBuffer`1[System.Single]</td></tr></tbody></table></div></details></td></tr><tr><td>Model</td><td><details class=\"dni-treeview\"><summary><span class=\"dni-code-hint\"><code>Microsoft.ML.Trainers.OneVersusAllModelParameters</code></span></summary><div><table><thead><tr></tr></thead><tbody></tbody></table></div></details></td></tr></tbody></table></div></details></td></tr><tr><td>5</td><td><span><a href=\"https://docs.microsoft.com/dotnet/api/microsoft.ml.transforms.keytovaluemappingtransformer?view=net-7.0\">Microsoft.ML.Transforms.KeyToValueMappingTransformer</a></span></td><td><details class=\"dni-treeview\"><summary><span class=\"dni-code-hint\"><code>Microsoft.ML.Transforms.KeyToValueMappingTransformer</code></span></summary><div><table><thead><tr></tr></thead><tbody></tbody></table></div></details></td></tr></tbody></table></td></tr><tr><td>Exception</td><td><div class=\"dni-plaintext\"><pre>&lt;null&gt;</pre></div></td></tr><tr><td>TrainerName</td><td>ConvertType=&gt;FeaturizeText=&gt;Concatenate=&gt;Unknown=&gt;LbfgsMaximumEntropyMulti=&gt;Unknown</td></tr><tr><td>RuntimeInSeconds</td><td><div class=\"dni-plaintext\"><pre>1.194</pre></div></td></tr><tr><td>Estimator</td><td><details class=\"dni-treeview\"><summary><span class=\"dni-code-hint\"><code>Microsoft.ML.Data.EstimatorChain`1[Microsoft.ML.ITransformer]</code></span></summary><div><table><thead><tr></tr></thead><tbody><tr><td>LastEstimator</td><td><details class=\"dni-treeview\"><summary><span class=\"dni-code-hint\"><code>Microsoft.ML.Transforms.KeyToValueMappingEstimator</code></span></summary><div><table><thead><tr></tr></thead><tbody></tbody></table></div></details></td></tr></tbody></table></div></details></td></tr></tbody></table></div></details></td></tr><tr><td>6</td><td><details class=\"dni-treeview\"><summary><span class=\"dni-code-hint\"><code>Microsoft.ML.AutoML.RunDetail`1[Microsoft.ML.Data.MulticlassClassificationMetrics]</code></span></summary><div><table><thead><tr></tr></thead><tbody><tr><td>ValidationMetrics</td><td><details class=\"dni-treeview\"><summary><span class=\"dni-code-hint\"><code>Microsoft.ML.Data.MulticlassClassificationMetrics</code></span></summary><div><table><thead><tr></tr></thead><tbody><tr><td>LogLoss</td><td><div class=\"dni-plaintext\"><pre>0.5821972768397626</pre></div></td></tr><tr><td>LogLossReduction</td><td><div class=\"dni-plaintext\"><pre>0.5673868911202852</pre></div></td></tr><tr><td>MacroAccuracy</td><td><div class=\"dni-plaintext\"><pre>0.7461283643892339</pre></div></td></tr><tr><td>MicroAccuracy</td><td><div class=\"dni-plaintext\"><pre>0.76</pre></div></td></tr><tr><td>TopKAccuracy</td><td><div class=\"dni-plaintext\"><pre>0</pre></div></td></tr><tr><td>TopKPredictionCount</td><td><div class=\"dni-plaintext\"><pre>0</pre></div></td></tr><tr><td>TopKAccuracyForAllK</td><td><div class=\"dni-plaintext\"><pre>&lt;null&gt;</pre></div></td></tr><tr><td>PerClassLogLoss</td><td><div class=\"dni-plaintext\"><pre>[ 0.462608138012406, 0.6289567991489732, 0.8635945230599221, 0.4775313089699819 ]</pre></div></td></tr><tr><td>ConfusionMatrix</td><td><details class=\"dni-treeview\"><summary><span class=\"dni-code-hint\"><code>Microsoft.ML.Data.ConfusionMatrix</code></span></summary><div><table><thead><tr></tr></thead><tbody><tr><td>PerClassPrecision</td><td><div class=\"dni-plaintext\"><pre>[ 0.8484848484848485, 0.7744360902255639, 0.8596491228070176, 0.6824644549763034 ]</pre></div></td></tr><tr><td>PerClassRecall</td><td><div class=\"dni-plaintext\"><pre>[ 0.84, 0.8174603174603174, 0.5444444444444444, 0.782608695652174 ]</pre></div></td></tr><tr><td>Counts</td><td><table><thead><tr><th><i>index</i></th><th>value</th></tr></thead><tbody><tr><td>0</td><td>[ 84, 4, 0, 12 ]</td></tr><tr><td>1</td><td>[ 8, 103, 0, 15 ]</td></tr><tr><td>2</td><td>[ 0, 1, 49, 40 ]</td></tr><tr><td>3</td><td>[ 7, 25, 8, 144 ]</td></tr></tbody></table></td></tr><tr><td>NumberOfClasses</td><td><div class=\"dni-plaintext\"><pre>4</pre></div></td></tr></tbody></table></div></details></td></tr></tbody></table></div></details></td></tr><tr><td>Model</td><td><table><thead><tr><th><i>index</i></th><th><i>type</i></th><th>value</th></tr></thead><tbody><tr><td>0</td><td><span><a href=\"https://docs.microsoft.com/dotnet/api/microsoft.ml.transforms.typeconvertingtransformer?view=net-7.0\">Microsoft.ML.Transforms.TypeConvertingTransformer</a></span></td><td><details class=\"dni-treeview\"><summary><span class=\"dni-code-hint\"><code>Microsoft.ML.Transforms.TypeConvertingTransformer</code></span></summary><div><table><thead><tr></tr></thead><tbody></tbody></table></div></details></td></tr><tr><td>1</td><td><span><a href=\"https://docs.microsoft.com/dotnet/api/microsoft.ml.transforms.text.textfeaturizingestimator.transformer?view=net-7.0\">Microsoft.ML.Transforms.Text.TextFeaturizingEstimator+Transformer</a></span></td><td><details class=\"dni-treeview\"><summary><span class=\"dni-code-hint\"><code>Microsoft.ML.Transforms.Text.TextFeaturizingEstimator+Transformer</code></span></summary><div><table><thead><tr></tr></thead><tbody></tbody></table></div></details></td></tr><tr><td>2</td><td><span><a href=\"https://docs.microsoft.com/dotnet/api/microsoft.ml.data.columnconcatenatingtransformer?view=net-7.0\">Microsoft.ML.Data.ColumnConcatenatingTransformer</a></span></td><td><details class=\"dni-treeview\"><summary><span class=\"dni-code-hint\"><code>Microsoft.ML.Data.ColumnConcatenatingTransformer</code></span></summary><div><table><thead><tr></tr></thead><tbody></tbody></table></div></details></td></tr><tr><td>3</td><td><span><a href=\"https://docs.microsoft.com/dotnet/api/microsoft.ml.transforms.valuetokeymappingtransformer?view=net-7.0\">Microsoft.ML.Transforms.ValueToKeyMappingTransformer</a></span></td><td><details class=\"dni-treeview\"><summary><span class=\"dni-code-hint\"><code>Microsoft.ML.Transforms.ValueToKeyMappingTransformer</code></span></summary><div><table><thead><tr></tr></thead><tbody></tbody></table></div></details></td></tr><tr><td>4</td><td><span><a href=\"https://docs.microsoft.com/dotnet/api/microsoft.ml.data.multiclasspredictiontransformer-1?view=net-7.0\">Microsoft.ML.Data.MulticlassPredictionTransformer&lt;Microsoft.ML.Trainers.OneVersusAllModelParameters&gt;</a></span></td><td><details class=\"dni-treeview\"><summary><span class=\"dni-code-hint\"><code>Microsoft.ML.Data.MulticlassPredictionTransformer`1[Microsoft.ML.Trainers.OneVersusAllModelParameters]</code></span></summary><div><table><thead><tr></tr></thead><tbody><tr><td>FeatureColumnName</td><td>__Features__</td></tr><tr><td>FeatureColumnType</td><td><details class=\"dni-treeview\"><summary><span class=\"dni-code-hint\"><code>Vector<Single, 11774></code></span></summary><div><table><thead><tr></tr></thead><tbody><tr><td>Dimensions</td><td>[ 11774 ]</td></tr><tr><td>IsKnownSize</td><td>True</td></tr><tr><td>ItemType</td><td>Single</td></tr><tr><td>Size</td><td>11774</td></tr><tr><td>RawType</td><td>Microsoft.ML.Data.VBuffer`1[System.Single]</td></tr></tbody></table></div></details></td></tr><tr><td>Model</td><td><details class=\"dni-treeview\"><summary><span class=\"dni-code-hint\"><code>Microsoft.ML.Trainers.OneVersusAllModelParameters</code></span></summary><div><table><thead><tr></tr></thead><tbody></tbody></table></div></details></td></tr></tbody></table></div></details></td></tr><tr><td>5</td><td><span><a href=\"https://docs.microsoft.com/dotnet/api/microsoft.ml.transforms.keytovaluemappingtransformer?view=net-7.0\">Microsoft.ML.Transforms.KeyToValueMappingTransformer</a></span></td><td><details class=\"dni-treeview\"><summary><span class=\"dni-code-hint\"><code>Microsoft.ML.Transforms.KeyToValueMappingTransformer</code></span></summary><div><table><thead><tr></tr></thead><tbody></tbody></table></div></details></td></tr></tbody></table></td></tr><tr><td>Exception</td><td><div class=\"dni-plaintext\"><pre>&lt;null&gt;</pre></div></td></tr><tr><td>TrainerName</td><td>ConvertType=&gt;FeaturizeText=&gt;Concatenate=&gt;Unknown=&gt;LbfgsMaximumEntropyMulti=&gt;Unknown</td></tr><tr><td>RuntimeInSeconds</td><td><div class=\"dni-plaintext\"><pre>0.402</pre></div></td></tr><tr><td>Estimator</td><td><details class=\"dni-treeview\"><summary><span class=\"dni-code-hint\"><code>Microsoft.ML.Data.EstimatorChain`1[Microsoft.ML.ITransformer]</code></span></summary><div><table><thead><tr></tr></thead><tbody><tr><td>LastEstimator</td><td><details class=\"dni-treeview\"><summary><span class=\"dni-code-hint\"><code>Microsoft.ML.Transforms.KeyToValueMappingEstimator</code></span></summary><div><table><thead><tr></tr></thead><tbody></tbody></table></div></details></td></tr></tbody></table></div></details></td></tr></tbody></table></div></details></td></tr><tr><td>7</td><td><details class=\"dni-treeview\"><summary><span class=\"dni-code-hint\"><code>Microsoft.ML.AutoML.RunDetail`1[Microsoft.ML.Data.MulticlassClassificationMetrics]</code></span></summary><div><table><thead><tr></tr></thead><tbody><tr><td>ValidationMetrics</td><td><details class=\"dni-treeview\"><summary><span class=\"dni-code-hint\"><code>Microsoft.ML.Data.MulticlassClassificationMetrics</code></span></summary><div><table><thead><tr></tr></thead><tbody><tr><td>LogLoss</td><td><div class=\"dni-plaintext\"><pre>0.5070793827982463</pre></div></td></tr><tr><td>LogLossReduction</td><td><div class=\"dni-plaintext\"><pre>0.6232047160510286</pre></div></td></tr><tr><td>MacroAccuracy</td><td><div class=\"dni-plaintext\"><pre>0.775291580400276</pre></div></td></tr><tr><td>MicroAccuracy</td><td><div class=\"dni-plaintext\"><pre>0.79</pre></div></td></tr><tr><td>TopKAccuracy</td><td><div class=\"dni-plaintext\"><pre>0</pre></div></td></tr><tr><td>TopKPredictionCount</td><td><div class=\"dni-plaintext\"><pre>0</pre></div></td></tr><tr><td>TopKAccuracyForAllK</td><td><div class=\"dni-plaintext\"><pre>&lt;null&gt;</pre></div></td></tr><tr><td>PerClassLogLoss</td><td><div class=\"dni-plaintext\"><pre>[ 0.37613484010119436, 0.5445622740790644, 0.8751721431392002, 0.3725318911549645 ]</pre></div></td></tr><tr><td>ConfusionMatrix</td><td><details class=\"dni-treeview\"><summary><span class=\"dni-code-hint\"><code>Microsoft.ML.Data.ConfusionMatrix</code></span></summary><div><table><thead><tr></tr></thead><tbody><tr><td>PerClassPrecision</td><td><div class=\"dni-plaintext\"><pre>[ 0.9381443298969072, 0.7906976744186046, 0.8771929824561403, 0.7004608294930875 ]</pre></div></td></tr><tr><td>PerClassRecall</td><td><div class=\"dni-plaintext\"><pre>[ 0.91, 0.8095238095238095, 0.5555555555555556, 0.8260869565217391 ]</pre></div></td></tr><tr><td>Counts</td><td><table><thead><tr><th><i>index</i></th><th>value</th></tr></thead><tbody><tr><td>0</td><td>[ 91, 4, 0, 5 ]</td></tr><tr><td>1</td><td>[ 4, 102, 0, 20 ]</td></tr><tr><td>2</td><td>[ 0, 0, 50, 40 ]</td></tr><tr><td>3</td><td>[ 2, 23, 7, 152 ]</td></tr></tbody></table></td></tr><tr><td>NumberOfClasses</td><td><div class=\"dni-plaintext\"><pre>4</pre></div></td></tr></tbody></table></div></details></td></tr></tbody></table></div></details></td></tr><tr><td>Model</td><td><table><thead><tr><th><i>index</i></th><th><i>type</i></th><th>value</th></tr></thead><tbody><tr><td>0</td><td><span><a href=\"https://docs.microsoft.com/dotnet/api/microsoft.ml.transforms.typeconvertingtransformer?view=net-7.0\">Microsoft.ML.Transforms.TypeConvertingTransformer</a></span></td><td><details class=\"dni-treeview\"><summary><span class=\"dni-code-hint\"><code>Microsoft.ML.Transforms.TypeConvertingTransformer</code></span></summary><div><table><thead><tr></tr></thead><tbody></tbody></table></div></details></td></tr><tr><td>1</td><td><span><a href=\"https://docs.microsoft.com/dotnet/api/microsoft.ml.transforms.text.textfeaturizingestimator.transformer?view=net-7.0\">Microsoft.ML.Transforms.Text.TextFeaturizingEstimator+Transformer</a></span></td><td><details class=\"dni-treeview\"><summary><span class=\"dni-code-hint\"><code>Microsoft.ML.Transforms.Text.TextFeaturizingEstimator+Transformer</code></span></summary><div><table><thead><tr></tr></thead><tbody></tbody></table></div></details></td></tr><tr><td>2</td><td><span><a href=\"https://docs.microsoft.com/dotnet/api/microsoft.ml.data.columnconcatenatingtransformer?view=net-7.0\">Microsoft.ML.Data.ColumnConcatenatingTransformer</a></span></td><td><details class=\"dni-treeview\"><summary><span class=\"dni-code-hint\"><code>Microsoft.ML.Data.ColumnConcatenatingTransformer</code></span></summary><div><table><thead><tr></tr></thead><tbody></tbody></table></div></details></td></tr><tr><td>3</td><td><span><a href=\"https://docs.microsoft.com/dotnet/api/microsoft.ml.transforms.valuetokeymappingtransformer?view=net-7.0\">Microsoft.ML.Transforms.ValueToKeyMappingTransformer</a></span></td><td><details class=\"dni-treeview\"><summary><span class=\"dni-code-hint\"><code>Microsoft.ML.Transforms.ValueToKeyMappingTransformer</code></span></summary><div><table><thead><tr></tr></thead><tbody></tbody></table></div></details></td></tr><tr><td>4</td><td><span><a href=\"https://docs.microsoft.com/dotnet/api/microsoft.ml.data.multiclasspredictiontransformer-1?view=net-7.0\">Microsoft.ML.Data.MulticlassPredictionTransformer&lt;Microsoft.ML.Trainers.OneVersusAllModelParameters&gt;</a></span></td><td><details class=\"dni-treeview\"><summary><span class=\"dni-code-hint\"><code>Microsoft.ML.Data.MulticlassPredictionTransformer`1[Microsoft.ML.Trainers.OneVersusAllModelParameters]</code></span></summary><div><table><thead><tr></tr></thead><tbody><tr><td>FeatureColumnName</td><td>__Features__</td></tr><tr><td>FeatureColumnType</td><td><details class=\"dni-treeview\"><summary><span class=\"dni-code-hint\"><code>Vector<Single, 11774></code></span></summary><div><table><thead><tr></tr></thead><tbody><tr><td>Dimensions</td><td>[ 11774 ]</td></tr><tr><td>IsKnownSize</td><td>True</td></tr><tr><td>ItemType</td><td>Single</td></tr><tr><td>Size</td><td>11774</td></tr><tr><td>RawType</td><td>Microsoft.ML.Data.VBuffer`1[System.Single]</td></tr></tbody></table></div></details></td></tr><tr><td>Model</td><td><details class=\"dni-treeview\"><summary><span class=\"dni-code-hint\"><code>Microsoft.ML.Trainers.OneVersusAllModelParameters</code></span></summary><div><table><thead><tr></tr></thead><tbody></tbody></table></div></details></td></tr></tbody></table></div></details></td></tr><tr><td>5</td><td><span><a href=\"https://docs.microsoft.com/dotnet/api/microsoft.ml.transforms.keytovaluemappingtransformer?view=net-7.0\">Microsoft.ML.Transforms.KeyToValueMappingTransformer</a></span></td><td><details class=\"dni-treeview\"><summary><span class=\"dni-code-hint\"><code>Microsoft.ML.Transforms.KeyToValueMappingTransformer</code></span></summary><div><table><thead><tr></tr></thead><tbody></tbody></table></div></details></td></tr></tbody></table></td></tr><tr><td>Exception</td><td><div class=\"dni-plaintext\"><pre>&lt;null&gt;</pre></div></td></tr><tr><td>TrainerName</td><td>ConvertType=&gt;FeaturizeText=&gt;Concatenate=&gt;Unknown=&gt;LbfgsMaximumEntropyMulti=&gt;Unknown</td></tr><tr><td>RuntimeInSeconds</td><td><div class=\"dni-plaintext\"><pre>0.689</pre></div></td></tr><tr><td>Estimator</td><td><details class=\"dni-treeview\"><summary><span class=\"dni-code-hint\"><code>Microsoft.ML.Data.EstimatorChain`1[Microsoft.ML.ITransformer]</code></span></summary><div><table><thead><tr></tr></thead><tbody><tr><td>LastEstimator</td><td><details class=\"dni-treeview\"><summary><span class=\"dni-code-hint\"><code>Microsoft.ML.Transforms.KeyToValueMappingEstimator</code></span></summary><div><table><thead><tr></tr></thead><tbody></tbody></table></div></details></td></tr></tbody></table></div></details></td></tr></tbody></table></div></details></td></tr><tr><td>8</td><td><details class=\"dni-treeview\"><summary><span class=\"dni-code-hint\"><code>Microsoft.ML.AutoML.RunDetail`1[Microsoft.ML.Data.MulticlassClassificationMetrics]</code></span></summary><div><table><thead><tr></tr></thead><tbody><tr><td>ValidationMetrics</td><td><details class=\"dni-treeview\"><summary><span class=\"dni-code-hint\"><code>Microsoft.ML.Data.MulticlassClassificationMetrics</code></span></summary><div><table><thead><tr></tr></thead><tbody><tr><td>LogLoss</td><td><div class=\"dni-plaintext\"><pre>0.4930259518415517</pre></div></td></tr><tr><td>LogLossReduction</td><td><div class=\"dni-plaintext\"><pre>0.6336473936423829</pre></div></td></tr><tr><td>MacroAccuracy</td><td><div class=\"dni-plaintext\"><pre>0.8219547964113181</pre></div></td></tr><tr><td>MicroAccuracy</td><td><div class=\"dni-plaintext\"><pre>0.836</pre></div></td></tr><tr><td>TopKAccuracy</td><td><div class=\"dni-plaintext\"><pre>0</pre></div></td></tr><tr><td>TopKPredictionCount</td><td><div class=\"dni-plaintext\"><pre>0</pre></div></td></tr><tr><td>TopKAccuracyForAllK</td><td><div class=\"dni-plaintext\"><pre>&lt;null&gt;</pre></div></td></tr><tr><td>PerClassLogLoss</td><td><div class=\"dni-plaintext\"><pre>[ 0.1733222999974737, 0.3390807170359247, 1.2713363234737565, 0.3915016655536097 ]</pre></div></td></tr><tr><td>ConfusionMatrix</td><td><details class=\"dni-treeview\"><summary><span class=\"dni-code-hint\"><code>Microsoft.ML.Data.ConfusionMatrix</code></span></summary><div><table><thead><tr></tr></thead><tbody><tr><td>PerClassPrecision</td><td><div class=\"dni-plaintext\"><pre>[ 0.95, 0.8571428571428571, 0.9016393442622951, 0.7511737089201878 ]</pre></div></td></tr><tr><td>PerClassRecall</td><td><div class=\"dni-plaintext\"><pre>[ 0.95, 0.8571428571428571, 0.6111111111111112, 0.8695652173913043 ]</pre></div></td></tr><tr><td>Counts</td><td><table><thead><tr><th><i>index</i></th><th>value</th></tr></thead><tbody><tr><td>0</td><td>[ 95, 2, 0, 3 ]</td></tr><tr><td>1</td><td>[ 3, 108, 0, 15 ]</td></tr><tr><td>2</td><td>[ 0, 0, 55, 35 ]</td></tr><tr><td>3</td><td>[ 2, 16, 6, 160 ]</td></tr></tbody></table></td></tr><tr><td>NumberOfClasses</td><td><div class=\"dni-plaintext\"><pre>4</pre></div></td></tr></tbody></table></div></details></td></tr></tbody></table></div></details></td></tr><tr><td>Model</td><td><table><thead><tr><th><i>index</i></th><th><i>type</i></th><th>value</th></tr></thead><tbody><tr><td>0</td><td><span><a href=\"https://docs.microsoft.com/dotnet/api/microsoft.ml.transforms.typeconvertingtransformer?view=net-7.0\">Microsoft.ML.Transforms.TypeConvertingTransformer</a></span></td><td><details class=\"dni-treeview\"><summary><span class=\"dni-code-hint\"><code>Microsoft.ML.Transforms.TypeConvertingTransformer</code></span></summary><div><table><thead><tr></tr></thead><tbody></tbody></table></div></details></td></tr><tr><td>1</td><td><span><a href=\"https://docs.microsoft.com/dotnet/api/microsoft.ml.transforms.text.textfeaturizingestimator.transformer?view=net-7.0\">Microsoft.ML.Transforms.Text.TextFeaturizingEstimator+Transformer</a></span></td><td><details class=\"dni-treeview\"><summary><span class=\"dni-code-hint\"><code>Microsoft.ML.Transforms.Text.TextFeaturizingEstimator+Transformer</code></span></summary><div><table><thead><tr></tr></thead><tbody></tbody></table></div></details></td></tr><tr><td>2</td><td><span><a href=\"https://docs.microsoft.com/dotnet/api/microsoft.ml.data.columnconcatenatingtransformer?view=net-7.0\">Microsoft.ML.Data.ColumnConcatenatingTransformer</a></span></td><td><details class=\"dni-treeview\"><summary><span class=\"dni-code-hint\"><code>Microsoft.ML.Data.ColumnConcatenatingTransformer</code></span></summary><div><table><thead><tr></tr></thead><tbody></tbody></table></div></details></td></tr><tr><td>3</td><td><span><a href=\"https://docs.microsoft.com/dotnet/api/microsoft.ml.transforms.valuetokeymappingtransformer?view=net-7.0\">Microsoft.ML.Transforms.ValueToKeyMappingTransformer</a></span></td><td><details class=\"dni-treeview\"><summary><span class=\"dni-code-hint\"><code>Microsoft.ML.Transforms.ValueToKeyMappingTransformer</code></span></summary><div><table><thead><tr></tr></thead><tbody></tbody></table></div></details></td></tr><tr><td>4</td><td><span><a href=\"https://docs.microsoft.com/dotnet/api/microsoft.ml.data.multiclasspredictiontransformer-1?view=net-7.0\">Microsoft.ML.Data.MulticlassPredictionTransformer&lt;Microsoft.ML.Trainers.MaximumEntropyModelParameters&gt;</a></span></td><td><details class=\"dni-treeview\"><summary><span class=\"dni-code-hint\"><code>Microsoft.ML.Data.MulticlassPredictionTransformer`1[Microsoft.ML.Trainers.MaximumEntropyModelParameters]</code></span></summary><div><table><thead><tr></tr></thead><tbody><tr><td>FeatureColumnName</td><td>__Features__</td></tr><tr><td>FeatureColumnType</td><td><details class=\"dni-treeview\"><summary><span class=\"dni-code-hint\"><code>Vector<Single, 11774></code></span></summary><div><table><thead><tr></tr></thead><tbody><tr><td>Dimensions</td><td>[ 11774 ]</td></tr><tr><td>IsKnownSize</td><td>True</td></tr><tr><td>ItemType</td><td>Single</td></tr><tr><td>Size</td><td>11774</td></tr><tr><td>RawType</td><td>Microsoft.ML.Data.VBuffer`1[System.Single]</td></tr></tbody></table></div></details></td></tr><tr><td>Model</td><td><details class=\"dni-treeview\"><summary><span class=\"dni-code-hint\"><code>Microsoft.ML.Trainers.MaximumEntropyModelParameters</code></span></summary><div><table><thead><tr></tr></thead><tbody><tr><td>Statistics</td><td><div class=\"dni-plaintext\"><pre>&lt;null&gt;</pre></div></td></tr></tbody></table></div></details></td></tr></tbody></table></div></details></td></tr><tr><td>5</td><td><span><a href=\"https://docs.microsoft.com/dotnet/api/microsoft.ml.transforms.keytovaluemappingtransformer?view=net-7.0\">Microsoft.ML.Transforms.KeyToValueMappingTransformer</a></span></td><td><details class=\"dni-treeview\"><summary><span class=\"dni-code-hint\"><code>Microsoft.ML.Transforms.KeyToValueMappingTransformer</code></span></summary><div><table><thead><tr></tr></thead><tbody></tbody></table></div></details></td></tr></tbody></table></td></tr><tr><td>Exception</td><td><div class=\"dni-plaintext\"><pre>&lt;null&gt;</pre></div></td></tr><tr><td>TrainerName</td><td>ConvertType=&gt;FeaturizeText=&gt;Concatenate=&gt;Unknown=&gt;LbfgsMaximumEntropyMulti=&gt;Unknown</td></tr><tr><td>RuntimeInSeconds</td><td><div class=\"dni-plaintext\"><pre>1.207</pre></div></td></tr><tr><td>Estimator</td><td><details class=\"dni-treeview\"><summary><span class=\"dni-code-hint\"><code>Microsoft.ML.Data.EstimatorChain`1[Microsoft.ML.ITransformer]</code></span></summary><div><table><thead><tr></tr></thead><tbody><tr><td>LastEstimator</td><td><details class=\"dni-treeview\"><summary><span class=\"dni-code-hint\"><code>Microsoft.ML.Transforms.KeyToValueMappingEstimator</code></span></summary><div><table><thead><tr></tr></thead><tbody></tbody></table></div></details></td></tr></tbody></table></div></details></td></tr></tbody></table></div></details></td></tr><tr><td>9</td><td><details class=\"dni-treeview\"><summary><span class=\"dni-code-hint\"><code>Microsoft.ML.AutoML.RunDetail`1[Microsoft.ML.Data.MulticlassClassificationMetrics]</code></span></summary><div><table><thead><tr></tr></thead><tbody><tr><td>ValidationMetrics</td><td><details class=\"dni-treeview\"><summary><span class=\"dni-code-hint\"><code>Microsoft.ML.Data.MulticlassClassificationMetrics</code></span></summary><div><table><thead><tr></tr></thead><tbody><tr><td>LogLoss</td><td><div class=\"dni-plaintext\"><pre>0.5598155852560361</pre></div></td></tr><tr><td>LogLossReduction</td><td><div class=\"dni-plaintext\"><pre>0.5840180461654981</pre></div></td></tr><tr><td>MacroAccuracy</td><td><div class=\"dni-plaintext\"><pre>0.7749232229123533</pre></div></td></tr><tr><td>MicroAccuracy</td><td><div class=\"dni-plaintext\"><pre>0.792</pre></div></td></tr><tr><td>TopKAccuracy</td><td><div class=\"dni-plaintext\"><pre>0</pre></div></td></tr><tr><td>TopKPredictionCount</td><td><div class=\"dni-plaintext\"><pre>0</pre></div></td></tr><tr><td>TopKAccuracyForAllK</td><td><div class=\"dni-plaintext\"><pre>&lt;null&gt;</pre></div></td></tr><tr><td>PerClassLogLoss</td><td><div class=\"dni-plaintext\"><pre>[ 0.45240768814279186, 0.5807329798929046, 0.9707504611189601, 0.4028648198180787 ]</pre></div></td></tr><tr><td>ConfusionMatrix</td><td><details class=\"dni-treeview\"><summary><span class=\"dni-code-hint\"><code>Microsoft.ML.Data.ConfusionMatrix</code></span></summary><div><table><thead><tr></tr></thead><tbody><tr><td>PerClassPrecision</td><td><div class=\"dni-plaintext\"><pre>[ 0.9354838709677419, 0.796875, 0.896551724137931, 0.7013574660633484 ]</pre></div></td></tr><tr><td>PerClassRecall</td><td><div class=\"dni-plaintext\"><pre>[ 0.87, 0.8095238095238095, 0.5777777777777777, 0.842391304347826 ]</pre></div></td></tr><tr><td>Counts</td><td><table><thead><tr><th><i>index</i></th><th>value</th></tr></thead><tbody><tr><td>0</td><td>[ 87, 4, 0, 9 ]</td></tr><tr><td>1</td><td>[ 4, 102, 0, 20 ]</td></tr><tr><td>2</td><td>[ 0, 1, 52, 37 ]</td></tr><tr><td>3</td><td>[ 2, 21, 6, 155 ]</td></tr></tbody></table></td></tr><tr><td>NumberOfClasses</td><td><div class=\"dni-plaintext\"><pre>4</pre></div></td></tr></tbody></table></div></details></td></tr></tbody></table></div></details></td></tr><tr><td>Model</td><td><table><thead><tr><th><i>index</i></th><th><i>type</i></th><th>value</th></tr></thead><tbody><tr><td>0</td><td><span><a href=\"https://docs.microsoft.com/dotnet/api/microsoft.ml.transforms.typeconvertingtransformer?view=net-7.0\">Microsoft.ML.Transforms.TypeConvertingTransformer</a></span></td><td><details class=\"dni-treeview\"><summary><span class=\"dni-code-hint\"><code>Microsoft.ML.Transforms.TypeConvertingTransformer</code></span></summary><div><table><thead><tr></tr></thead><tbody></tbody></table></div></details></td></tr><tr><td>1</td><td><span><a href=\"https://docs.microsoft.com/dotnet/api/microsoft.ml.transforms.text.textfeaturizingestimator.transformer?view=net-7.0\">Microsoft.ML.Transforms.Text.TextFeaturizingEstimator+Transformer</a></span></td><td><details class=\"dni-treeview\"><summary><span class=\"dni-code-hint\"><code>Microsoft.ML.Transforms.Text.TextFeaturizingEstimator+Transformer</code></span></summary><div><table><thead><tr></tr></thead><tbody></tbody></table></div></details></td></tr><tr><td>2</td><td><span><a href=\"https://docs.microsoft.com/dotnet/api/microsoft.ml.data.columnconcatenatingtransformer?view=net-7.0\">Microsoft.ML.Data.ColumnConcatenatingTransformer</a></span></td><td><details class=\"dni-treeview\"><summary><span class=\"dni-code-hint\"><code>Microsoft.ML.Data.ColumnConcatenatingTransformer</code></span></summary><div><table><thead><tr></tr></thead><tbody></tbody></table></div></details></td></tr><tr><td>3</td><td><span><a href=\"https://docs.microsoft.com/dotnet/api/microsoft.ml.transforms.valuetokeymappingtransformer?view=net-7.0\">Microsoft.ML.Transforms.ValueToKeyMappingTransformer</a></span></td><td><details class=\"dni-treeview\"><summary><span class=\"dni-code-hint\"><code>Microsoft.ML.Transforms.ValueToKeyMappingTransformer</code></span></summary><div><table><thead><tr></tr></thead><tbody></tbody></table></div></details></td></tr><tr><td>4</td><td><span><a href=\"https://docs.microsoft.com/dotnet/api/microsoft.ml.data.multiclasspredictiontransformer-1?view=net-7.0\">Microsoft.ML.Data.MulticlassPredictionTransformer&lt;Microsoft.ML.Trainers.MaximumEntropyModelParameters&gt;</a></span></td><td><details class=\"dni-treeview\"><summary><span class=\"dni-code-hint\"><code>Microsoft.ML.Data.MulticlassPredictionTransformer`1[Microsoft.ML.Trainers.MaximumEntropyModelParameters]</code></span></summary><div><table><thead><tr></tr></thead><tbody><tr><td>FeatureColumnName</td><td>__Features__</td></tr><tr><td>FeatureColumnType</td><td><details class=\"dni-treeview\"><summary><span class=\"dni-code-hint\"><code>Vector<Single, 11774></code></span></summary><div><table><thead><tr></tr></thead><tbody><tr><td>Dimensions</td><td>[ 11774 ]</td></tr><tr><td>IsKnownSize</td><td>True</td></tr><tr><td>ItemType</td><td>Single</td></tr><tr><td>Size</td><td>11774</td></tr><tr><td>RawType</td><td>Microsoft.ML.Data.VBuffer`1[System.Single]</td></tr></tbody></table></div></details></td></tr><tr><td>Model</td><td><details class=\"dni-treeview\"><summary><span class=\"dni-code-hint\"><code>Microsoft.ML.Trainers.MaximumEntropyModelParameters</code></span></summary><div><table><thead><tr></tr></thead><tbody><tr><td>Statistics</td><td><div class=\"dni-plaintext\"><pre>&lt;null&gt;</pre></div></td></tr></tbody></table></div></details></td></tr></tbody></table></div></details></td></tr><tr><td>5</td><td><span><a href=\"https://docs.microsoft.com/dotnet/api/microsoft.ml.transforms.keytovaluemappingtransformer?view=net-7.0\">Microsoft.ML.Transforms.KeyToValueMappingTransformer</a></span></td><td><details class=\"dni-treeview\"><summary><span class=\"dni-code-hint\"><code>Microsoft.ML.Transforms.KeyToValueMappingTransformer</code></span></summary><div><table><thead><tr></tr></thead><tbody></tbody></table></div></details></td></tr></tbody></table></td></tr><tr><td>Exception</td><td><div class=\"dni-plaintext\"><pre>&lt;null&gt;</pre></div></td></tr><tr><td>TrainerName</td><td>ConvertType=&gt;FeaturizeText=&gt;Concatenate=&gt;Unknown=&gt;LbfgsMaximumEntropyMulti=&gt;Unknown</td></tr><tr><td>RuntimeInSeconds</td><td><div class=\"dni-plaintext\"><pre>0.28</pre></div></td></tr><tr><td>Estimator</td><td><details class=\"dni-treeview\"><summary><span class=\"dni-code-hint\"><code>Microsoft.ML.Data.EstimatorChain`1[Microsoft.ML.ITransformer]</code></span></summary><div><table><thead><tr></tr></thead><tbody><tr><td>LastEstimator</td><td><details class=\"dni-treeview\"><summary><span class=\"dni-code-hint\"><code>Microsoft.ML.Transforms.KeyToValueMappingEstimator</code></span></summary><div><table><thead><tr></tr></thead><tbody></tbody></table></div></details></td></tr></tbody></table></div></details></td></tr></tbody></table></div></details></td></tr></tbody></table></td></tr><tr><td>BestRun</td><td><details class=\"dni-treeview\"><summary><span class=\"dni-code-hint\"><code>Microsoft.ML.AutoML.RunDetail`1[Microsoft.ML.Data.MulticlassClassificationMetrics]</code></span></summary><div><table><thead><tr></tr></thead><tbody><tr><td>ValidationMetrics</td><td><details class=\"dni-treeview\"><summary><span class=\"dni-code-hint\"><code>Microsoft.ML.Data.MulticlassClassificationMetrics</code></span></summary><div><table><thead><tr></tr></thead><tbody><tr><td>LogLoss</td><td><div class=\"dni-plaintext\"><pre>0.4930259518415517</pre></div></td></tr><tr><td>LogLossReduction</td><td><div class=\"dni-plaintext\"><pre>0.6336473936423829</pre></div></td></tr><tr><td>MacroAccuracy</td><td><div class=\"dni-plaintext\"><pre>0.8219547964113181</pre></div></td></tr><tr><td>MicroAccuracy</td><td><div class=\"dni-plaintext\"><pre>0.836</pre></div></td></tr><tr><td>TopKAccuracy</td><td><div class=\"dni-plaintext\"><pre>0</pre></div></td></tr><tr><td>TopKPredictionCount</td><td><div class=\"dni-plaintext\"><pre>0</pre></div></td></tr><tr><td>TopKAccuracyForAllK</td><td><div class=\"dni-plaintext\"><pre>&lt;null&gt;</pre></div></td></tr><tr><td>PerClassLogLoss</td><td><div class=\"dni-plaintext\"><pre>[ 0.1733222999974737, 0.3390807170359247, 1.2713363234737565, 0.3915016655536097 ]</pre></div></td></tr><tr><td>ConfusionMatrix</td><td><details class=\"dni-treeview\"><summary><span class=\"dni-code-hint\"><code>Microsoft.ML.Data.ConfusionMatrix</code></span></summary><div><table><thead><tr></tr></thead><tbody><tr><td>PerClassPrecision</td><td><div class=\"dni-plaintext\"><pre>[ 0.95, 0.8571428571428571, 0.9016393442622951, 0.7511737089201878 ]</pre></div></td></tr><tr><td>PerClassRecall</td><td><div class=\"dni-plaintext\"><pre>[ 0.95, 0.8571428571428571, 0.6111111111111112, 0.8695652173913043 ]</pre></div></td></tr><tr><td>Counts</td><td><table><thead><tr><th><i>index</i></th><th>value</th></tr></thead><tbody><tr><td>0</td><td><div class=\"dni-plaintext\"><pre>[ 95, 2, 0, 3 ]</pre></div></td></tr><tr><td>1</td><td><div class=\"dni-plaintext\"><pre>[ 3, 108, 0, 15 ]</pre></div></td></tr><tr><td>2</td><td><div class=\"dni-plaintext\"><pre>[ 0, 0, 55, 35 ]</pre></div></td></tr><tr><td>3</td><td><div class=\"dni-plaintext\"><pre>[ 2, 16, 6, 160 ]</pre></div></td></tr></tbody></table></td></tr><tr><td>NumberOfClasses</td><td><div class=\"dni-plaintext\"><pre>4</pre></div></td></tr></tbody></table></div></details></td></tr></tbody></table></div></details></td></tr><tr><td>Model</td><td><table><thead><tr><th><i>index</i></th><th><i>type</i></th><th>value</th></tr></thead><tbody><tr><td>0</td><td><span><a href=\"https://docs.microsoft.com/dotnet/api/microsoft.ml.transforms.typeconvertingtransformer?view=net-7.0\">Microsoft.ML.Transforms.TypeConvertingTransformer</a></span></td><td><details class=\"dni-treeview\"><summary><span class=\"dni-code-hint\"><code>Microsoft.ML.Transforms.TypeConvertingTransformer</code></span></summary><div><table><thead><tr></tr></thead><tbody></tbody></table></div></details></td></tr><tr><td>1</td><td><span><a href=\"https://docs.microsoft.com/dotnet/api/microsoft.ml.transforms.text.textfeaturizingestimator.transformer?view=net-7.0\">Microsoft.ML.Transforms.Text.TextFeaturizingEstimator+Transformer</a></span></td><td><details class=\"dni-treeview\"><summary><span class=\"dni-code-hint\"><code>Microsoft.ML.Transforms.Text.TextFeaturizingEstimator+Transformer</code></span></summary><div><table><thead><tr></tr></thead><tbody></tbody></table></div></details></td></tr><tr><td>2</td><td><span><a href=\"https://docs.microsoft.com/dotnet/api/microsoft.ml.data.columnconcatenatingtransformer?view=net-7.0\">Microsoft.ML.Data.ColumnConcatenatingTransformer</a></span></td><td><details class=\"dni-treeview\"><summary><span class=\"dni-code-hint\"><code>Microsoft.ML.Data.ColumnConcatenatingTransformer</code></span></summary><div><table><thead><tr></tr></thead><tbody></tbody></table></div></details></td></tr><tr><td>3</td><td><span><a href=\"https://docs.microsoft.com/dotnet/api/microsoft.ml.transforms.valuetokeymappingtransformer?view=net-7.0\">Microsoft.ML.Transforms.ValueToKeyMappingTransformer</a></span></td><td><details class=\"dni-treeview\"><summary><span class=\"dni-code-hint\"><code>Microsoft.ML.Transforms.ValueToKeyMappingTransformer</code></span></summary><div><table><thead><tr></tr></thead><tbody></tbody></table></div></details></td></tr><tr><td>4</td><td><span><a href=\"https://docs.microsoft.com/dotnet/api/microsoft.ml.data.multiclasspredictiontransformer-1?view=net-7.0\">Microsoft.ML.Data.MulticlassPredictionTransformer&lt;Microsoft.ML.Trainers.MaximumEntropyModelParameters&gt;</a></span></td><td><details class=\"dni-treeview\"><summary><span class=\"dni-code-hint\"><code>Microsoft.ML.Data.MulticlassPredictionTransformer`1[Microsoft.ML.Trainers.MaximumEntropyModelParameters]</code></span></summary><div><table><thead><tr></tr></thead><tbody><tr><td>FeatureColumnName</td><td>__Features__</td></tr><tr><td>FeatureColumnType</td><td><details class=\"dni-treeview\"><summary><span class=\"dni-code-hint\"><code>Vector<Single, 11774></code></span></summary><div><table><thead><tr></tr></thead><tbody><tr><td>Dimensions</td><td><div class=\"dni-plaintext\"><pre>[ 11774 ]</pre></div></td></tr><tr><td>IsKnownSize</td><td><div class=\"dni-plaintext\"><pre>True</pre></div></td></tr><tr><td>ItemType</td><td><details class=\"dni-treeview\"><summary><span class=\"dni-code-hint\"><code>Single</code></span></summary><div><table><thead><tr></tr></thead><tbody><tr><td>RawType</td><td>System.Single</td></tr></tbody></table></div></details></td></tr><tr><td>Size</td><td><div class=\"dni-plaintext\"><pre>11774</pre></div></td></tr><tr><td>RawType</td><td><span><a href=\"https://docs.microsoft.com/dotnet/api/microsoft.ml.data.vbuffer-1?view=net-7.0\">Microsoft.ML.Data.VBuffer&lt;System.Single&gt;</a></span></td></tr></tbody></table></div></details></td></tr><tr><td>Model</td><td><details class=\"dni-treeview\"><summary><span class=\"dni-code-hint\"><code>Microsoft.ML.Trainers.MaximumEntropyModelParameters</code></span></summary><div><table><thead><tr></tr></thead><tbody><tr><td>Statistics</td><td><div class=\"dni-plaintext\"><pre>&lt;null&gt;</pre></div></td></tr></tbody></table></div></details></td></tr></tbody></table></div></details></td></tr><tr><td>5</td><td><span><a href=\"https://docs.microsoft.com/dotnet/api/microsoft.ml.transforms.keytovaluemappingtransformer?view=net-7.0\">Microsoft.ML.Transforms.KeyToValueMappingTransformer</a></span></td><td><details class=\"dni-treeview\"><summary><span class=\"dni-code-hint\"><code>Microsoft.ML.Transforms.KeyToValueMappingTransformer</code></span></summary><div><table><thead><tr></tr></thead><tbody></tbody></table></div></details></td></tr></tbody></table></td></tr><tr><td>Exception</td><td><div class=\"dni-plaintext\"><pre>&lt;null&gt;</pre></div></td></tr><tr><td>TrainerName</td><td>ConvertType=&gt;FeaturizeText=&gt;Concatenate=&gt;Unknown=&gt;LbfgsMaximumEntropyMulti=&gt;Unknown</td></tr><tr><td>RuntimeInSeconds</td><td><div class=\"dni-plaintext\"><pre>1.207</pre></div></td></tr><tr><td>Estimator</td><td><details class=\"dni-treeview\"><summary><span class=\"dni-code-hint\"><code>Microsoft.ML.Data.EstimatorChain`1[Microsoft.ML.ITransformer]</code></span></summary><div><table><thead><tr></tr></thead><tbody><tr><td>LastEstimator</td><td><details class=\"dni-treeview\"><summary><span class=\"dni-code-hint\"><code>Microsoft.ML.Transforms.KeyToValueMappingEstimator</code></span></summary><div><table><thead><tr></tr></thead><tbody></tbody></table></div></details></td></tr></tbody></table></div></details></td></tr></tbody></table></div></details></td></tr></tbody></table></div></details><style>\r\n",
       ".dni-code-hint {\r\n",
       "    font-style: italic;\r\n",
       "    overflow: hidden;\r\n",
       "    white-space: nowrap;\r\n",
       "}\r\n",
       ".dni-treeview {\r\n",
       "    white-space: nowrap;\r\n",
       "}\r\n",
       ".dni-treeview td {\r\n",
       "    vertical-align: top;\r\n",
       "    text-align: start;\r\n",
       "}\r\n",
       "details.dni-treeview {\r\n",
       "    padding-left: 1em;\r\n",
       "}\r\n",
       "table td {\r\n",
       "    text-align: start;\r\n",
       "}\r\n",
       "table tr { \r\n",
       "    vertical-align: top; \r\n",
       "    margin: 0em 0px;\r\n",
       "}\r\n",
       "table tr td pre \r\n",
       "{ \r\n",
       "    vertical-align: top !important; \r\n",
       "    margin: 0em 0px !important;\r\n",
       "} \r\n",
       "table th {\r\n",
       "    text-align: start;\r\n",
       "}\r\n",
       "</style>"
      ]
     },
     "metadata": {},
     "output_type": "display_data"
    }
   ],
   "source": [
    "// Synchronously Train the model\n",
    "ExperimentResult<MulticlassClassificationMetrics> result = \n",
    "    experiment.Execute(\n",
    "        trainData: trainData, // The data to memorize\n",
    "        validationData: validationData, // How we evaluate our model's performance against new data\n",
    "        labelColumnName: nameof(GameInfo.ESRBRating), // What we're trying to predict\n",
    "        progressHandler: new MulticlassConsoleProgressReporter()); // How to show progress\n",
    "        \n",
    "// Display details about the result\n",
    "result"
   ]
  },
  {
   "cell_type": "code",
   "execution_count": 10,
   "metadata": {
    "dotnet_interactive": {
     "language": "csharp"
    },
    "polyglot_notebook": {
     "kernelName": "csharp"
    }
   },
   "outputs": [
    {
     "data": {
      "text/html": [
       "<table><thead><tr><th><i>index</i></th><th><i>type</i></th><th>value</th></tr></thead><tbody><tr><td>0</td><td><span><a href=\"https://docs.microsoft.com/dotnet/api/microsoft.ml.transforms.typeconvertingtransformer?view=net-7.0\">Microsoft.ML.Transforms.TypeConvertingTransformer</a></span></td><td><details class=\"dni-treeview\"><summary><span class=\"dni-code-hint\"><code>Microsoft.ML.Transforms.TypeConvertingTransformer</code></span></summary><div><table><thead><tr></tr></thead><tbody></tbody></table></div></details></td></tr><tr><td>1</td><td><span><a href=\"https://docs.microsoft.com/dotnet/api/microsoft.ml.transforms.text.textfeaturizingestimator.transformer?view=net-7.0\">Microsoft.ML.Transforms.Text.TextFeaturizingEstimator+Transformer</a></span></td><td><details class=\"dni-treeview\"><summary><span class=\"dni-code-hint\"><code>Microsoft.ML.Transforms.Text.TextFeaturizingEstimator+Transformer</code></span></summary><div><table><thead><tr></tr></thead><tbody></tbody></table></div></details></td></tr><tr><td>2</td><td><span><a href=\"https://docs.microsoft.com/dotnet/api/microsoft.ml.data.columnconcatenatingtransformer?view=net-7.0\">Microsoft.ML.Data.ColumnConcatenatingTransformer</a></span></td><td><details class=\"dni-treeview\"><summary><span class=\"dni-code-hint\"><code>Microsoft.ML.Data.ColumnConcatenatingTransformer</code></span></summary><div><table><thead><tr></tr></thead><tbody></tbody></table></div></details></td></tr><tr><td>3</td><td><span><a href=\"https://docs.microsoft.com/dotnet/api/microsoft.ml.transforms.valuetokeymappingtransformer?view=net-7.0\">Microsoft.ML.Transforms.ValueToKeyMappingTransformer</a></span></td><td><details class=\"dni-treeview\"><summary><span class=\"dni-code-hint\"><code>Microsoft.ML.Transforms.ValueToKeyMappingTransformer</code></span></summary><div><table><thead><tr></tr></thead><tbody></tbody></table></div></details></td></tr><tr><td>4</td><td><span><a href=\"https://docs.microsoft.com/dotnet/api/microsoft.ml.data.multiclasspredictiontransformer-1?view=net-7.0\">Microsoft.ML.Data.MulticlassPredictionTransformer&lt;Microsoft.ML.Trainers.MaximumEntropyModelParameters&gt;</a></span></td><td><details class=\"dni-treeview\"><summary><span class=\"dni-code-hint\"><code>Microsoft.ML.Data.MulticlassPredictionTransformer`1[Microsoft.ML.Trainers.MaximumEntropyModelParameters]</code></span></summary><div><table><thead><tr></tr></thead><tbody><tr><td>FeatureColumnName</td><td>__Features__</td></tr><tr><td>FeatureColumnType</td><td><details class=\"dni-treeview\"><summary><span class=\"dni-code-hint\"><code>Vector<Single, 11774></code></span></summary><div><table><thead><tr></tr></thead><tbody><tr><td>Dimensions</td><td><div class=\"dni-plaintext\"><pre>[ 11774 ]</pre></div></td></tr><tr><td>IsKnownSize</td><td><div class=\"dni-plaintext\"><pre>True</pre></div></td></tr><tr><td>ItemType</td><td><details class=\"dni-treeview\"><summary><span class=\"dni-code-hint\"><code>Single</code></span></summary><div><table><thead><tr></tr></thead><tbody><tr><td>RawType</td><td><span><a href=\"https://docs.microsoft.com/dotnet/api/system.single?view=net-7.0\">System.Single</a></span></td></tr></tbody></table></div></details></td></tr><tr><td>Size</td><td><div class=\"dni-plaintext\"><pre>11774</pre></div></td></tr><tr><td>RawType</td><td><span><a href=\"https://docs.microsoft.com/dotnet/api/microsoft.ml.data.vbuffer-1?view=net-7.0\">Microsoft.ML.Data.VBuffer&lt;System.Single&gt;</a></span></td></tr></tbody></table></div></details></td></tr><tr><td>Model</td><td><details class=\"dni-treeview\"><summary><span class=\"dni-code-hint\"><code>Microsoft.ML.Trainers.MaximumEntropyModelParameters</code></span></summary><div><table><thead><tr></tr></thead><tbody><tr><td>Statistics</td><td><div class=\"dni-plaintext\"><pre>&lt;null&gt;</pre></div></td></tr></tbody></table></div></details></td></tr></tbody></table></div></details></td></tr><tr><td>5</td><td><span><a href=\"https://docs.microsoft.com/dotnet/api/microsoft.ml.transforms.keytovaluemappingtransformer?view=net-7.0\">Microsoft.ML.Transforms.KeyToValueMappingTransformer</a></span></td><td><details class=\"dni-treeview\"><summary><span class=\"dni-code-hint\"><code>Microsoft.ML.Transforms.KeyToValueMappingTransformer</code></span></summary><div><table><thead><tr></tr></thead><tbody></tbody></table></div></details></td></tr></tbody></table><style>\r\n",
       ".dni-code-hint {\r\n",
       "    font-style: italic;\r\n",
       "    overflow: hidden;\r\n",
       "    white-space: nowrap;\r\n",
       "}\r\n",
       ".dni-treeview {\r\n",
       "    white-space: nowrap;\r\n",
       "}\r\n",
       ".dni-treeview td {\r\n",
       "    vertical-align: top;\r\n",
       "    text-align: start;\r\n",
       "}\r\n",
       "details.dni-treeview {\r\n",
       "    padding-left: 1em;\r\n",
       "}\r\n",
       "table td {\r\n",
       "    text-align: start;\r\n",
       "}\r\n",
       "table tr { \r\n",
       "    vertical-align: top; \r\n",
       "    margin: 0em 0px;\r\n",
       "}\r\n",
       "table tr td pre \r\n",
       "{ \r\n",
       "    vertical-align: top !important; \r\n",
       "    margin: 0em 0px !important;\r\n",
       "} \r\n",
       "table th {\r\n",
       "    text-align: start;\r\n",
       "}\r\n",
       "</style>"
      ]
     },
     "metadata": {},
     "output_type": "display_data"
    }
   ],
   "source": [
    "// Grab the trained model for later\n",
    "ITransformer model = result.BestRun.Model;\n",
    "\n",
    "model"
   ]
  },
  {
   "attachments": {},
   "cell_type": "markdown",
   "metadata": {},
   "source": [
    "### Model Evaluation"
   ]
  },
  {
   "cell_type": "code",
   "execution_count": 11,
   "metadata": {
    "dotnet_interactive": {
     "language": "csharp"
    },
    "polyglot_notebook": {
     "kernelName": "csharp"
    }
   },
   "outputs": [
    {
     "data": {
      "text/plain": [
       "ConvertType=>FeaturizeText=>Concatenate=>Unknown=>LbfgsMaximumEntropyMulti=>Unknown"
      ]
     },
     "metadata": {},
     "output_type": "display_data"
    }
   ],
   "source": [
    "// Identify the best run's algorithm\n",
    "result.BestRun.TrainerName"
   ]
  },
  {
   "cell_type": "code",
   "execution_count": 12,
   "metadata": {
    "dotnet_interactive": {
     "language": "csharp"
    },
    "polyglot_notebook": {
     "kernelName": "csharp"
    }
   },
   "outputs": [
    {
     "data": {
      "text/html": [
       "<details open=\"open\" class=\"dni-treeview\"><summary><span class=\"dni-code-hint\"><code>Microsoft.ML.Data.MulticlassClassificationMetrics</code></span></summary><div><table><thead><tr></tr></thead><tbody><tr><td>LogLoss</td><td><div class=\"dni-plaintext\"><pre>0.4930259518415517</pre></div></td></tr><tr><td>LogLossReduction</td><td><div class=\"dni-plaintext\"><pre>0.6336473936423829</pre></div></td></tr><tr><td>MacroAccuracy</td><td><div class=\"dni-plaintext\"><pre>0.8219547964113181</pre></div></td></tr><tr><td>MicroAccuracy</td><td><div class=\"dni-plaintext\"><pre>0.836</pre></div></td></tr><tr><td>TopKAccuracy</td><td><div class=\"dni-plaintext\"><pre>0</pre></div></td></tr><tr><td>TopKPredictionCount</td><td><div class=\"dni-plaintext\"><pre>0</pre></div></td></tr><tr><td>TopKAccuracyForAllK</td><td><div class=\"dni-plaintext\"><pre>&lt;null&gt;</pre></div></td></tr><tr><td>PerClassLogLoss</td><td><div class=\"dni-plaintext\"><pre>[ 0.1733222999974737, 0.3390807170359247, 1.2713363234737565, 0.3915016655536097 ]</pre></div></td></tr><tr><td>ConfusionMatrix</td><td><details class=\"dni-treeview\"><summary><span class=\"dni-code-hint\"><code>Microsoft.ML.Data.ConfusionMatrix</code></span></summary><div><table><thead><tr></tr></thead><tbody><tr><td>PerClassPrecision</td><td><div class=\"dni-plaintext\"><pre>[ 0.95, 0.8571428571428571, 0.9016393442622951, 0.7511737089201878 ]</pre></div></td></tr><tr><td>PerClassRecall</td><td><div class=\"dni-plaintext\"><pre>[ 0.95, 0.8571428571428571, 0.6111111111111112, 0.8695652173913043 ]</pre></div></td></tr><tr><td>Counts</td><td><table><thead><tr><th><i>index</i></th><th>value</th></tr></thead><tbody><tr><td>0</td><td><div class=\"dni-plaintext\"><pre>[ 95, 2, 0, 3 ]</pre></div></td></tr><tr><td>1</td><td><div class=\"dni-plaintext\"><pre>[ 3, 108, 0, 15 ]</pre></div></td></tr><tr><td>2</td><td><div class=\"dni-plaintext\"><pre>[ 0, 0, 55, 35 ]</pre></div></td></tr><tr><td>3</td><td><div class=\"dni-plaintext\"><pre>[ 2, 16, 6, 160 ]</pre></div></td></tr></tbody></table></td></tr><tr><td>NumberOfClasses</td><td><div class=\"dni-plaintext\"><pre>4</pre></div></td></tr></tbody></table></div></details></td></tr></tbody></table></div></details><style>\r\n",
       ".dni-code-hint {\r\n",
       "    font-style: italic;\r\n",
       "    overflow: hidden;\r\n",
       "    white-space: nowrap;\r\n",
       "}\r\n",
       ".dni-treeview {\r\n",
       "    white-space: nowrap;\r\n",
       "}\r\n",
       ".dni-treeview td {\r\n",
       "    vertical-align: top;\r\n",
       "    text-align: start;\r\n",
       "}\r\n",
       "details.dni-treeview {\r\n",
       "    padding-left: 1em;\r\n",
       "}\r\n",
       "table td {\r\n",
       "    text-align: start;\r\n",
       "}\r\n",
       "table tr { \r\n",
       "    vertical-align: top; \r\n",
       "    margin: 0em 0px;\r\n",
       "}\r\n",
       "table tr td pre \r\n",
       "{ \r\n",
       "    vertical-align: top !important; \r\n",
       "    margin: 0em 0px !important;\r\n",
       "} \r\n",
       "table th {\r\n",
       "    text-align: start;\r\n",
       "}\r\n",
       "</style>"
      ]
     },
     "metadata": {},
     "output_type": "display_data"
    }
   ],
   "source": [
    "// Take a look a the best run's metrics\n",
    "result.BestRun.ValidationMetrics"
   ]
  },
  {
   "cell_type": "code",
   "execution_count": 13,
   "metadata": {
    "dotnet_interactive": {
     "language": "csharp"
    },
    "polyglot_notebook": {
     "kernelName": "csharp"
    }
   },
   "outputs": [
    {
     "data": {
      "text/plain": [
       "\r\n",
       "Confusion table\r\n",
       "          ||================================\r\n",
       "PREDICTED ||     E |    ET |     M |     T | Recall\r\n",
       "TRUTH     ||================================\r\n",
       "        E ||    95 |     2 |     0 |     3 | 0.9500\r\n",
       "       ET ||     3 |   108 |     0 |    15 | 0.8571\r\n",
       "        M ||     0 |     0 |    55 |    35 | 0.6111\r\n",
       "        T ||     2 |    16 |     6 |   160 | 0.8696\r\n",
       "          ||================================\r\n",
       "Precision ||0.9500 |0.8571 |0.9016 |0.7512 |\r\n"
      ]
     },
     "metadata": {},
     "output_type": "display_data"
    }
   ],
   "source": [
    "result.BestRun.ValidationMetrics.ConfusionMatrix.GetFormattedConfusionTable()"
   ]
  },
  {
   "attachments": {},
   "cell_type": "markdown",
   "metadata": {},
   "source": [
    "### Generating Predictions"
   ]
  },
  {
   "cell_type": "code",
   "execution_count": 14,
   "metadata": {
    "dotnet_interactive": {
     "language": "csharp"
    },
    "polyglot_notebook": {
     "kernelName": "csharp"
    }
   },
   "outputs": [],
   "source": [
    "    /// <summary>\n",
    "    /// This class represents a set of confidences in the various ESRB ratings for a single video game\n",
    "    /// </summary>\n",
    "    public class ESRBPrediction\n",
    "    {\n",
    "        [ColumnName(\"PredictedLabel\")]\n",
    "        public string ESRBRating { get; set; }\n",
    "\n",
    "        [ColumnName(\"Score\")]\n",
    "        public float[] Score { get; set; }\n",
    "    }"
   ]
  },
  {
   "cell_type": "code",
   "execution_count": 15,
   "metadata": {
    "dotnet_interactive": {
     "language": "csharp"
    },
    "polyglot_notebook": {
     "kernelName": "csharp"
    }
   },
   "outputs": [],
   "source": [
    "// Create a PredictionEngine that can generate predictions for games we've not seen before\n",
    "PredictionEngine<GameInfo, ESRBPrediction> predictor =\n",
    "    Context.Model.CreatePredictionEngine<GameInfo, ESRBPrediction>(\n",
    "            transformer: model);"
   ]
  },
  {
   "cell_type": "code",
   "execution_count": 16,
   "metadata": {
    "dotnet_interactive": {
     "language": "csharp"
    },
    "polyglot_notebook": {
     "kernelName": "csharp"
    }
   },
   "outputs": [
    {
     "data": {
      "text/html": [
       "<table><thead><tr><th><i>index</i></th><th>value</th></tr></thead><tbody><tr><td>0</td><td><details class=\"dni-treeview\"><summary><span class=\"dni-code-hint\"><code>{Comic Doggo Side Scroller for Teens}</code></span></summary><div><table><thead><tr></tr></thead><tbody><tr><td>Title</td><td>Comic Doggo Side Scroller for Teens</td></tr><tr><td>Console</td><td><div class=\"dni-plaintext\"><pre>False</pre></div></td></tr><tr><td>AlcoholReference</td><td><div class=\"dni-plaintext\"><pre>False</pre></div></td></tr><tr><td>AnimatedBlood</td><td><div class=\"dni-plaintext\"><pre>False</pre></div></td></tr><tr><td>Blood</td><td><div class=\"dni-plaintext\"><pre>False</pre></div></td></tr><tr><td>BloodAndGore</td><td><div class=\"dni-plaintext\"><pre>False</pre></div></td></tr><tr><td>CartoonViolence</td><td><div class=\"dni-plaintext\"><pre>True</pre></div></td></tr><tr><td>CrudeHumor</td><td><div class=\"dni-plaintext\"><pre>True</pre></div></td></tr><tr><td>DrugReference</td><td><div class=\"dni-plaintext\"><pre>False</pre></div></td></tr><tr><td>FantasyViolence</td><td><div class=\"dni-plaintext\"><pre>False</pre></div></td></tr><tr><td>IntenseViolence</td><td><div class=\"dni-plaintext\"><pre>False</pre></div></td></tr><tr><td>Language</td><td><div class=\"dni-plaintext\"><pre>False</pre></div></td></tr><tr><td>Lyrics</td><td><div class=\"dni-plaintext\"><pre>False</pre></div></td></tr><tr><td>MatureHumor</td><td><div class=\"dni-plaintext\"><pre>False</pre></div></td></tr><tr><td>MildBlood</td><td><div class=\"dni-plaintext\"><pre>False</pre></div></td></tr><tr><td>MildCartoonViolence</td><td><div class=\"dni-plaintext\"><pre>False</pre></div></td></tr><tr><td>MildFantasyViolence</td><td><div class=\"dni-plaintext\"><pre>False</pre></div></td></tr><tr><td>MildLanguage</td><td><div class=\"dni-plaintext\"><pre>True</pre></div></td></tr><tr><td>MildLyrics</td><td><div class=\"dni-plaintext\"><pre>False</pre></div></td></tr><tr><td>MildSuggestiveThemes</td><td><div class=\"dni-plaintext\"><pre>False</pre></div></td></tr><tr><td>MildViolence</td><td><div class=\"dni-plaintext\"><pre>False</pre></div></td></tr><tr><td>NoDescriptors</td><td><div class=\"dni-plaintext\"><pre>False</pre></div></td></tr><tr><td>Nudity</td><td><div class=\"dni-plaintext\"><pre>False</pre></div></td></tr><tr><td>PartialNudity</td><td><div class=\"dni-plaintext\"><pre>False</pre></div></td></tr><tr><td>SexualContent</td><td><div class=\"dni-plaintext\"><pre>False</pre></div></td></tr><tr><td>SexualThemes</td><td><div class=\"dni-plaintext\"><pre>False</pre></div></td></tr><tr><td>SimulatedGambling</td><td><div class=\"dni-plaintext\"><pre>False</pre></div></td></tr><tr><td>StrongLanguage</td><td><div class=\"dni-plaintext\"><pre>False</pre></div></td></tr><tr><td>StrongSexualContent</td><td><div class=\"dni-plaintext\"><pre>False</pre></div></td></tr><tr><td>SuggestiveThemes</td><td><div class=\"dni-plaintext\"><pre>False</pre></div></td></tr><tr><td>UseOfAlcohol</td><td><div class=\"dni-plaintext\"><pre>False</pre></div></td></tr><tr><td>UseOfDrugsAndAlcohol</td><td><div class=\"dni-plaintext\"><pre>False</pre></div></td></tr><tr><td>Violence</td><td><div class=\"dni-plaintext\"><pre>True</pre></div></td></tr><tr><td>ESRBRating</td><td><div class=\"dni-plaintext\"><pre>&lt;null&gt;</pre></div></td></tr></tbody></table></div></details></td></tr><tr><td>1</td><td><details class=\"dni-treeview\"><summary><span class=\"dni-code-hint\"><code>{Kinda Sus}</code></span></summary><div><table><thead><tr></tr></thead><tbody><tr><td>Title</td><td>Kinda Sus</td></tr><tr><td>Console</td><td><div class=\"dni-plaintext\"><pre>False</pre></div></td></tr><tr><td>AlcoholReference</td><td><div class=\"dni-plaintext\"><pre>False</pre></div></td></tr><tr><td>AnimatedBlood</td><td><div class=\"dni-plaintext\"><pre>False</pre></div></td></tr><tr><td>Blood</td><td><div class=\"dni-plaintext\"><pre>False</pre></div></td></tr><tr><td>BloodAndGore</td><td><div class=\"dni-plaintext\"><pre>False</pre></div></td></tr><tr><td>CartoonViolence</td><td><div class=\"dni-plaintext\"><pre>False</pre></div></td></tr><tr><td>CrudeHumor</td><td><div class=\"dni-plaintext\"><pre>False</pre></div></td></tr><tr><td>DrugReference</td><td><div class=\"dni-plaintext\"><pre>False</pre></div></td></tr><tr><td>FantasyViolence</td><td><div class=\"dni-plaintext\"><pre>False</pre></div></td></tr><tr><td>IntenseViolence</td><td><div class=\"dni-plaintext\"><pre>False</pre></div></td></tr><tr><td>Language</td><td><div class=\"dni-plaintext\"><pre>False</pre></div></td></tr><tr><td>Lyrics</td><td><div class=\"dni-plaintext\"><pre>False</pre></div></td></tr><tr><td>MatureHumor</td><td><div class=\"dni-plaintext\"><pre>False</pre></div></td></tr><tr><td>MildBlood</td><td><div class=\"dni-plaintext\"><pre>False</pre></div></td></tr><tr><td>MildCartoonViolence</td><td><div class=\"dni-plaintext\"><pre>True</pre></div></td></tr><tr><td>MildFantasyViolence</td><td><div class=\"dni-plaintext\"><pre>False</pre></div></td></tr><tr><td>MildLanguage</td><td><div class=\"dni-plaintext\"><pre>False</pre></div></td></tr><tr><td>MildLyrics</td><td><div class=\"dni-plaintext\"><pre>False</pre></div></td></tr><tr><td>MildSuggestiveThemes</td><td><div class=\"dni-plaintext\"><pre>False</pre></div></td></tr><tr><td>MildViolence</td><td><div class=\"dni-plaintext\"><pre>False</pre></div></td></tr><tr><td>NoDescriptors</td><td><div class=\"dni-plaintext\"><pre>False</pre></div></td></tr><tr><td>Nudity</td><td><div class=\"dni-plaintext\"><pre>False</pre></div></td></tr><tr><td>PartialNudity</td><td><div class=\"dni-plaintext\"><pre>False</pre></div></td></tr><tr><td>SexualContent</td><td><div class=\"dni-plaintext\"><pre>False</pre></div></td></tr><tr><td>SexualThemes</td><td><div class=\"dni-plaintext\"><pre>False</pre></div></td></tr><tr><td>SimulatedGambling</td><td><div class=\"dni-plaintext\"><pre>False</pre></div></td></tr><tr><td>StrongLanguage</td><td><div class=\"dni-plaintext\"><pre>False</pre></div></td></tr><tr><td>StrongSexualContent</td><td><div class=\"dni-plaintext\"><pre>False</pre></div></td></tr><tr><td>SuggestiveThemes</td><td><div class=\"dni-plaintext\"><pre>False</pre></div></td></tr><tr><td>UseOfAlcohol</td><td><div class=\"dni-plaintext\"><pre>False</pre></div></td></tr><tr><td>UseOfDrugsAndAlcohol</td><td><div class=\"dni-plaintext\"><pre>False</pre></div></td></tr><tr><td>Violence</td><td><div class=\"dni-plaintext\"><pre>False</pre></div></td></tr><tr><td>ESRBRating</td><td><div class=\"dni-plaintext\"><pre>&lt;null&gt;</pre></div></td></tr></tbody></table></div></details></td></tr><tr><td>2</td><td><details class=\"dni-treeview\"><summary><span class=\"dni-code-hint\"><code>{The Earthlings are Coming}</code></span></summary><div><table><thead><tr></tr></thead><tbody><tr><td>Title</td><td>The Earthlings are Coming</td></tr><tr><td>Console</td><td><div class=\"dni-plaintext\"><pre>False</pre></div></td></tr><tr><td>AlcoholReference</td><td><div class=\"dni-plaintext\"><pre>False</pre></div></td></tr><tr><td>AnimatedBlood</td><td><div class=\"dni-plaintext\"><pre>False</pre></div></td></tr><tr><td>Blood</td><td><div class=\"dni-plaintext\"><pre>False</pre></div></td></tr><tr><td>BloodAndGore</td><td><div class=\"dni-plaintext\"><pre>False</pre></div></td></tr><tr><td>CartoonViolence</td><td><div class=\"dni-plaintext\"><pre>False</pre></div></td></tr><tr><td>CrudeHumor</td><td><div class=\"dni-plaintext\"><pre>False</pre></div></td></tr><tr><td>DrugReference</td><td><div class=\"dni-plaintext\"><pre>False</pre></div></td></tr><tr><td>FantasyViolence</td><td><div class=\"dni-plaintext\"><pre>False</pre></div></td></tr><tr><td>IntenseViolence</td><td><div class=\"dni-plaintext\"><pre>False</pre></div></td></tr><tr><td>Language</td><td><div class=\"dni-plaintext\"><pre>False</pre></div></td></tr><tr><td>Lyrics</td><td><div class=\"dni-plaintext\"><pre>False</pre></div></td></tr><tr><td>MatureHumor</td><td><div class=\"dni-plaintext\"><pre>False</pre></div></td></tr><tr><td>MildBlood</td><td><div class=\"dni-plaintext\"><pre>False</pre></div></td></tr><tr><td>MildCartoonViolence</td><td><div class=\"dni-plaintext\"><pre>False</pre></div></td></tr><tr><td>MildFantasyViolence</td><td><div class=\"dni-plaintext\"><pre>True</pre></div></td></tr><tr><td>MildLanguage</td><td><div class=\"dni-plaintext\"><pre>False</pre></div></td></tr><tr><td>MildLyrics</td><td><div class=\"dni-plaintext\"><pre>False</pre></div></td></tr><tr><td>MildSuggestiveThemes</td><td><div class=\"dni-plaintext\"><pre>False</pre></div></td></tr><tr><td>MildViolence</td><td><div class=\"dni-plaintext\"><pre>True</pre></div></td></tr><tr><td>NoDescriptors</td><td><div class=\"dni-plaintext\"><pre>False</pre></div></td></tr><tr><td>Nudity</td><td><div class=\"dni-plaintext\"><pre>False</pre></div></td></tr><tr><td>PartialNudity</td><td><div class=\"dni-plaintext\"><pre>False</pre></div></td></tr><tr><td>SexualContent</td><td><div class=\"dni-plaintext\"><pre>False</pre></div></td></tr><tr><td>SexualThemes</td><td><div class=\"dni-plaintext\"><pre>False</pre></div></td></tr><tr><td>SimulatedGambling</td><td><div class=\"dni-plaintext\"><pre>False</pre></div></td></tr><tr><td>StrongLanguage</td><td><div class=\"dni-plaintext\"><pre>False</pre></div></td></tr><tr><td>StrongSexualContent</td><td><div class=\"dni-plaintext\"><pre>False</pre></div></td></tr><tr><td>SuggestiveThemes</td><td><div class=\"dni-plaintext\"><pre>False</pre></div></td></tr><tr><td>UseOfAlcohol</td><td><div class=\"dni-plaintext\"><pre>False</pre></div></td></tr><tr><td>UseOfDrugsAndAlcohol</td><td><div class=\"dni-plaintext\"><pre>False</pre></div></td></tr><tr><td>Violence</td><td><div class=\"dni-plaintext\"><pre>False</pre></div></td></tr><tr><td>ESRBRating</td><td><div class=\"dni-plaintext\"><pre>&lt;null&gt;</pre></div></td></tr></tbody></table></div></details></td></tr><tr><td>3</td><td><details class=\"dni-treeview\"><summary><span class=\"dni-code-hint\"><code>{Shoddy Surgeon Simulator}</code></span></summary><div><table><thead><tr></tr></thead><tbody><tr><td>Title</td><td>Shoddy Surgeon Simulator</td></tr><tr><td>Console</td><td><div class=\"dni-plaintext\"><pre>False</pre></div></td></tr><tr><td>AlcoholReference</td><td><div class=\"dni-plaintext\"><pre>False</pre></div></td></tr><tr><td>AnimatedBlood</td><td><div class=\"dni-plaintext\"><pre>False</pre></div></td></tr><tr><td>Blood</td><td><div class=\"dni-plaintext\"><pre>False</pre></div></td></tr><tr><td>BloodAndGore</td><td><div class=\"dni-plaintext\"><pre>True</pre></div></td></tr><tr><td>CartoonViolence</td><td><div class=\"dni-plaintext\"><pre>False</pre></div></td></tr><tr><td>CrudeHumor</td><td><div class=\"dni-plaintext\"><pre>False</pre></div></td></tr><tr><td>DrugReference</td><td><div class=\"dni-plaintext\"><pre>True</pre></div></td></tr><tr><td>FantasyViolence</td><td><div class=\"dni-plaintext\"><pre>False</pre></div></td></tr><tr><td>IntenseViolence</td><td><div class=\"dni-plaintext\"><pre>False</pre></div></td></tr><tr><td>Language</td><td><div class=\"dni-plaintext\"><pre>False</pre></div></td></tr><tr><td>Lyrics</td><td><div class=\"dni-plaintext\"><pre>False</pre></div></td></tr><tr><td>MatureHumor</td><td><div class=\"dni-plaintext\"><pre>False</pre></div></td></tr><tr><td>MildBlood</td><td><div class=\"dni-plaintext\"><pre>False</pre></div></td></tr><tr><td>MildCartoonViolence</td><td><div class=\"dni-plaintext\"><pre>False</pre></div></td></tr><tr><td>MildFantasyViolence</td><td><div class=\"dni-plaintext\"><pre>False</pre></div></td></tr><tr><td>MildLanguage</td><td><div class=\"dni-plaintext\"><pre>False</pre></div></td></tr><tr><td>MildLyrics</td><td><div class=\"dni-plaintext\"><pre>False</pre></div></td></tr><tr><td>MildSuggestiveThemes</td><td><div class=\"dni-plaintext\"><pre>False</pre></div></td></tr><tr><td>MildViolence</td><td><div class=\"dni-plaintext\"><pre>False</pre></div></td></tr><tr><td>NoDescriptors</td><td><div class=\"dni-plaintext\"><pre>False</pre></div></td></tr><tr><td>Nudity</td><td><div class=\"dni-plaintext\"><pre>False</pre></div></td></tr><tr><td>PartialNudity</td><td><div class=\"dni-plaintext\"><pre>True</pre></div></td></tr><tr><td>SexualContent</td><td><div class=\"dni-plaintext\"><pre>False</pre></div></td></tr><tr><td>SexualThemes</td><td><div class=\"dni-plaintext\"><pre>False</pre></div></td></tr><tr><td>SimulatedGambling</td><td><div class=\"dni-plaintext\"><pre>False</pre></div></td></tr><tr><td>StrongLanguage</td><td><div class=\"dni-plaintext\"><pre>False</pre></div></td></tr><tr><td>StrongSexualContent</td><td><div class=\"dni-plaintext\"><pre>False</pre></div></td></tr><tr><td>SuggestiveThemes</td><td><div class=\"dni-plaintext\"><pre>False</pre></div></td></tr><tr><td>UseOfAlcohol</td><td><div class=\"dni-plaintext\"><pre>False</pre></div></td></tr><tr><td>UseOfDrugsAndAlcohol</td><td><div class=\"dni-plaintext\"><pre>False</pre></div></td></tr><tr><td>Violence</td><td><div class=\"dni-plaintext\"><pre>False</pre></div></td></tr><tr><td>ESRBRating</td><td><div class=\"dni-plaintext\"><pre>&lt;null&gt;</pre></div></td></tr></tbody></table></div></details></td></tr><tr><td>4</td><td><details class=\"dni-treeview\"><summary><span class=\"dni-code-hint\"><code>{Assistant to the Lawn Service Manager 2023}</code></span></summary><div><table><thead><tr></tr></thead><tbody><tr><td>Title</td><td>Assistant to the Lawn Service Manager 2023</td></tr><tr><td>Console</td><td><div class=\"dni-plaintext\"><pre>False</pre></div></td></tr><tr><td>AlcoholReference</td><td><div class=\"dni-plaintext\"><pre>True</pre></div></td></tr><tr><td>AnimatedBlood</td><td><div class=\"dni-plaintext\"><pre>False</pre></div></td></tr><tr><td>Blood</td><td><div class=\"dni-plaintext\"><pre>False</pre></div></td></tr><tr><td>BloodAndGore</td><td><div class=\"dni-plaintext\"><pre>False</pre></div></td></tr><tr><td>CartoonViolence</td><td><div class=\"dni-plaintext\"><pre>False</pre></div></td></tr><tr><td>CrudeHumor</td><td><div class=\"dni-plaintext\"><pre>True</pre></div></td></tr><tr><td>DrugReference</td><td><div class=\"dni-plaintext\"><pre>False</pre></div></td></tr><tr><td>FantasyViolence</td><td><div class=\"dni-plaintext\"><pre>False</pre></div></td></tr><tr><td>IntenseViolence</td><td><div class=\"dni-plaintext\"><pre>False</pre></div></td></tr><tr><td>Language</td><td><div class=\"dni-plaintext\"><pre>False</pre></div></td></tr><tr><td>Lyrics</td><td><div class=\"dni-plaintext\"><pre>False</pre></div></td></tr><tr><td>MatureHumor</td><td><div class=\"dni-plaintext\"><pre>False</pre></div></td></tr><tr><td>MildBlood</td><td><div class=\"dni-plaintext\"><pre>False</pre></div></td></tr><tr><td>MildCartoonViolence</td><td><div class=\"dni-plaintext\"><pre>False</pre></div></td></tr><tr><td>MildFantasyViolence</td><td><div class=\"dni-plaintext\"><pre>False</pre></div></td></tr><tr><td>MildLanguage</td><td><div class=\"dni-plaintext\"><pre>True</pre></div></td></tr><tr><td>MildLyrics</td><td><div class=\"dni-plaintext\"><pre>False</pre></div></td></tr><tr><td>MildSuggestiveThemes</td><td><div class=\"dni-plaintext\"><pre>False</pre></div></td></tr><tr><td>MildViolence</td><td><div class=\"dni-plaintext\"><pre>False</pre></div></td></tr><tr><td>NoDescriptors</td><td><div class=\"dni-plaintext\"><pre>False</pre></div></td></tr><tr><td>Nudity</td><td><div class=\"dni-plaintext\"><pre>False</pre></div></td></tr><tr><td>PartialNudity</td><td><div class=\"dni-plaintext\"><pre>False</pre></div></td></tr><tr><td>SexualContent</td><td><div class=\"dni-plaintext\"><pre>False</pre></div></td></tr><tr><td>SexualThemes</td><td><div class=\"dni-plaintext\"><pre>False</pre></div></td></tr><tr><td>SimulatedGambling</td><td><div class=\"dni-plaintext\"><pre>False</pre></div></td></tr><tr><td>StrongLanguage</td><td><div class=\"dni-plaintext\"><pre>False</pre></div></td></tr><tr><td>StrongSexualContent</td><td><div class=\"dni-plaintext\"><pre>False</pre></div></td></tr><tr><td>SuggestiveThemes</td><td><div class=\"dni-plaintext\"><pre>False</pre></div></td></tr><tr><td>UseOfAlcohol</td><td><div class=\"dni-plaintext\"><pre>False</pre></div></td></tr><tr><td>UseOfDrugsAndAlcohol</td><td><div class=\"dni-plaintext\"><pre>False</pre></div></td></tr><tr><td>Violence</td><td><div class=\"dni-plaintext\"><pre>False</pre></div></td></tr><tr><td>ESRBRating</td><td><div class=\"dni-plaintext\"><pre>&lt;null&gt;</pre></div></td></tr></tbody></table></div></details></td></tr><tr><td>5</td><td><details class=\"dni-treeview\"><summary><span class=\"dni-code-hint\"><code>{Intense Shoot-o-rama: Why would anyone play this edition}</code></span></summary><div><table><thead><tr></tr></thead><tbody><tr><td>Title</td><td>Intense Shoot-o-rama: Why would anyone play this edition</td></tr><tr><td>Console</td><td><div class=\"dni-plaintext\"><pre>False</pre></div></td></tr><tr><td>AlcoholReference</td><td><div class=\"dni-plaintext\"><pre>True</pre></div></td></tr><tr><td>AnimatedBlood</td><td><div class=\"dni-plaintext\"><pre>False</pre></div></td></tr><tr><td>Blood</td><td><div class=\"dni-plaintext\"><pre>False</pre></div></td></tr><tr><td>BloodAndGore</td><td><div class=\"dni-plaintext\"><pre>True</pre></div></td></tr><tr><td>CartoonViolence</td><td><div class=\"dni-plaintext\"><pre>False</pre></div></td></tr><tr><td>CrudeHumor</td><td><div class=\"dni-plaintext\"><pre>True</pre></div></td></tr><tr><td>DrugReference</td><td><div class=\"dni-plaintext\"><pre>True</pre></div></td></tr><tr><td>FantasyViolence</td><td><div class=\"dni-plaintext\"><pre>False</pre></div></td></tr><tr><td>IntenseViolence</td><td><div class=\"dni-plaintext\"><pre>True</pre></div></td></tr><tr><td>Language</td><td><div class=\"dni-plaintext\"><pre>False</pre></div></td></tr><tr><td>Lyrics</td><td><div class=\"dni-plaintext\"><pre>False</pre></div></td></tr><tr><td>MatureHumor</td><td><div class=\"dni-plaintext\"><pre>True</pre></div></td></tr><tr><td>MildBlood</td><td><div class=\"dni-plaintext\"><pre>False</pre></div></td></tr><tr><td>MildCartoonViolence</td><td><div class=\"dni-plaintext\"><pre>False</pre></div></td></tr><tr><td>MildFantasyViolence</td><td><div class=\"dni-plaintext\"><pre>False</pre></div></td></tr><tr><td>MildLanguage</td><td><div class=\"dni-plaintext\"><pre>False</pre></div></td></tr><tr><td>MildLyrics</td><td><div class=\"dni-plaintext\"><pre>False</pre></div></td></tr><tr><td>MildSuggestiveThemes</td><td><div class=\"dni-plaintext\"><pre>False</pre></div></td></tr><tr><td>MildViolence</td><td><div class=\"dni-plaintext\"><pre>False</pre></div></td></tr><tr><td>NoDescriptors</td><td><div class=\"dni-plaintext\"><pre>False</pre></div></td></tr><tr><td>Nudity</td><td><div class=\"dni-plaintext\"><pre>True</pre></div></td></tr><tr><td>PartialNudity</td><td><div class=\"dni-plaintext\"><pre>False</pre></div></td></tr><tr><td>SexualContent</td><td><div class=\"dni-plaintext\"><pre>True</pre></div></td></tr><tr><td>SexualThemes</td><td><div class=\"dni-plaintext\"><pre>True</pre></div></td></tr><tr><td>SimulatedGambling</td><td><div class=\"dni-plaintext\"><pre>False</pre></div></td></tr><tr><td>StrongLanguage</td><td><div class=\"dni-plaintext\"><pre>True</pre></div></td></tr><tr><td>StrongSexualContent</td><td><div class=\"dni-plaintext\"><pre>False</pre></div></td></tr><tr><td>SuggestiveThemes</td><td><div class=\"dni-plaintext\"><pre>False</pre></div></td></tr><tr><td>UseOfAlcohol</td><td><div class=\"dni-plaintext\"><pre>False</pre></div></td></tr><tr><td>UseOfDrugsAndAlcohol</td><td><div class=\"dni-plaintext\"><pre>False</pre></div></td></tr><tr><td>Violence</td><td><div class=\"dni-plaintext\"><pre>False</pre></div></td></tr><tr><td>ESRBRating</td><td><div class=\"dni-plaintext\"><pre>&lt;null&gt;</pre></div></td></tr></tbody></table></div></details></td></tr></tbody></table><style>\r\n",
       ".dni-code-hint {\r\n",
       "    font-style: italic;\r\n",
       "    overflow: hidden;\r\n",
       "    white-space: nowrap;\r\n",
       "}\r\n",
       ".dni-treeview {\r\n",
       "    white-space: nowrap;\r\n",
       "}\r\n",
       ".dni-treeview td {\r\n",
       "    vertical-align: top;\r\n",
       "    text-align: start;\r\n",
       "}\r\n",
       "details.dni-treeview {\r\n",
       "    padding-left: 1em;\r\n",
       "}\r\n",
       "table td {\r\n",
       "    text-align: start;\r\n",
       "}\r\n",
       "table tr { \r\n",
       "    vertical-align: top; \r\n",
       "    margin: 0em 0px;\r\n",
       "}\r\n",
       "table tr td pre \r\n",
       "{ \r\n",
       "    vertical-align: top !important; \r\n",
       "    margin: 0em 0px !important;\r\n",
       "} \r\n",
       "table th {\r\n",
       "    text-align: start;\r\n",
       "}\r\n",
       "</style>"
      ]
     },
     "metadata": {},
     "output_type": "display_data"
    }
   ],
   "source": [
    "// Create a list of sample games\n",
    "List<GameInfo> games = new() {\n",
    "    new GameInfo()\n",
    "    {\n",
    "        Title = \"Comic Doggo Side Scroller for Teens\",\n",
    "        CartoonViolence = true,\n",
    "        MildLanguage = true,\n",
    "        CrudeHumor = true,\n",
    "        Violence = true,\n",
    "    },\n",
    "    new GameInfo()\n",
    "    {\n",
    "        Title = \"Kinda Sus\",\n",
    "        MildCartoonViolence = true\n",
    "    },\n",
    "    new GameInfo()\n",
    "    {\n",
    "        Title = \"The Earthlings are Coming\",\n",
    "        MildViolence = true,\n",
    "        MildFantasyViolence = true,\n",
    "    },\n",
    "    new GameInfo()\n",
    "    {\n",
    "        Title = \"Shoddy Surgeon Simulator\",\n",
    "        BloodAndGore = true,\n",
    "        DrugReference = true,\n",
    "        PartialNudity = true,\n",
    "    },\n",
    "    new GameInfo()\n",
    "    {\n",
    "        Title = \"Assistant to the Lawn Service Manager 2023\",\n",
    "        MildLanguage = true,\n",
    "        CrudeHumor = true,\n",
    "        AlcoholReference = true,\n",
    "    },\n",
    "    new GameInfo()\n",
    "    {\n",
    "        Title = \"Intense Shoot-o-rama: Why would anyone play this edition\",\n",
    "        BloodAndGore = true,\n",
    "        DrugReference = true,\n",
    "        AlcoholReference = true,\n",
    "        Nudity = true,\n",
    "        StrongLanguage = true,\n",
    "        SexualContent = true,\n",
    "        SexualThemes = true,\n",
    "        MatureHumor = true,\n",
    "        IntenseViolence = true,\n",
    "        CrudeHumor = true,\n",
    "    }\n",
    "};\n",
    "\n",
    "games"
   ]
  },
  {
   "cell_type": "code",
   "execution_count": 17,
   "metadata": {
    "dotnet_interactive": {
     "language": "csharp"
    },
    "polyglot_notebook": {
     "kernelName": "csharp"
    }
   },
   "outputs": [
    {
     "name": "stdout",
     "output_type": "stream",
     "text": [
      "Predicted T for Comic Doggo Side Scroller for Teens\n",
      "   Probabilities (E/ET/M/T): 0.00% 10.47% 0.00% 89.53% \n",
      "\n",
      "Predicted E for Kinda Sus\n",
      "   Probabilities (E/ET/M/T): 94.93% 4.66% 0.02% 0.40% \n",
      "\n",
      "Predicted E for The Earthlings are Coming\n",
      "   Probabilities (E/ET/M/T): 70.93% 25.06% 0.02% 3.99% \n",
      "\n",
      "Predicted M for Shoddy Surgeon Simulator\n",
      "   Probabilities (E/ET/M/T): 0.00% 0.02% 81.17% 18.81% \n",
      "\n",
      "Predicted ET for Assistant to the Lawn Service Manager 2023\n",
      "   Probabilities (E/ET/M/T): 5.56% 86.42% 0.00% 8.01% \n",
      "\n",
      "Predicted M for Intense Shoot-o-rama: Why would anyone play this edition\n",
      "   Probabilities (E/ET/M/T): 0.00% 0.00% 72.96% 27.04% \n",
      "\n"
     ]
    }
   ],
   "source": [
    "foreach (GameInfo game in games) {\n",
    "    ESRBPrediction prediction = predictor.Predict(game);\n",
    "\n",
    "    Console.WriteLine($\"Predicted {prediction.ESRBRating} for {game.Title}\");\n",
    "\n",
    "    Console.Write(\"   Probabilities (E/ET/M/T): \");\n",
    "    foreach (float probability in prediction.Score) {\n",
    "        Console.Write($\"{probability:P} \");\n",
    "    }\n",
    "    Console.WriteLine();\n",
    "    Console.WriteLine();\n",
    "}"
   ]
  },
  {
   "attachments": {},
   "cell_type": "markdown",
   "metadata": {},
   "source": [
    "### Save the Trained Model for Later\n",
    "\n",
    "Because training models takes time, we can save the resulting model to a Zip file. This file can then be deployed elsewhere."
   ]
  },
  {
   "cell_type": "code",
   "execution_count": 18,
   "metadata": {
    "dotnet_interactive": {
     "language": "csharp"
    },
    "polyglot_notebook": {
     "kernelName": "csharp"
    }
   },
   "outputs": [
    {
     "name": "stdout",
     "output_type": "stream",
     "text": [
      "Model saved\r\n"
     ]
    }
   ],
   "source": [
    "Context.Model.Save(model, inputSchema:null, \"Model.zip\");\n",
    "\n",
    "Console.WriteLine(\"Model saved\");"
   ]
  },
  {
   "attachments": {},
   "cell_type": "markdown",
   "metadata": {},
   "source": [
    "### Load the Model\n",
    "\n",
    "Most of the time you just want to use a trained model, not retrain it every time. This is how you'd do that."
   ]
  },
  {
   "cell_type": "code",
   "execution_count": 19,
   "metadata": {
    "dotnet_interactive": {
     "language": "csharp"
    },
    "polyglot_notebook": {
     "kernelName": "csharp"
    }
   },
   "outputs": [
    {
     "data": {
      "text/html": [
       "<table><thead><tr><th><i>index</i></th><th><i>type</i></th><th>value</th></tr></thead><tbody><tr><td>0</td><td><span><a href=\"https://docs.microsoft.com/dotnet/api/microsoft.ml.transforms.typeconvertingtransformer?view=net-7.0\">Microsoft.ML.Transforms.TypeConvertingTransformer</a></span></td><td><details class=\"dni-treeview\"><summary><span class=\"dni-code-hint\"><code>Microsoft.ML.Transforms.TypeConvertingTransformer</code></span></summary><div><table><thead><tr></tr></thead><tbody></tbody></table></div></details></td></tr><tr><td>1</td><td><span><a href=\"https://docs.microsoft.com/dotnet/api/microsoft.ml.transforms.text.textfeaturizingestimator.transformer?view=net-7.0\">Microsoft.ML.Transforms.Text.TextFeaturizingEstimator+Transformer</a></span></td><td><details class=\"dni-treeview\"><summary><span class=\"dni-code-hint\"><code>Microsoft.ML.Transforms.Text.TextFeaturizingEstimator+Transformer</code></span></summary><div><table><thead><tr></tr></thead><tbody></tbody></table></div></details></td></tr><tr><td>2</td><td><span><a href=\"https://docs.microsoft.com/dotnet/api/microsoft.ml.data.columnconcatenatingtransformer?view=net-7.0\">Microsoft.ML.Data.ColumnConcatenatingTransformer</a></span></td><td><details class=\"dni-treeview\"><summary><span class=\"dni-code-hint\"><code>Microsoft.ML.Data.ColumnConcatenatingTransformer</code></span></summary><div><table><thead><tr></tr></thead><tbody></tbody></table></div></details></td></tr><tr><td>3</td><td><span><a href=\"https://docs.microsoft.com/dotnet/api/microsoft.ml.transforms.valuetokeymappingtransformer?view=net-7.0\">Microsoft.ML.Transforms.ValueToKeyMappingTransformer</a></span></td><td><details class=\"dni-treeview\"><summary><span class=\"dni-code-hint\"><code>Microsoft.ML.Transforms.ValueToKeyMappingTransformer</code></span></summary><div><table><thead><tr></tr></thead><tbody></tbody></table></div></details></td></tr><tr><td>4</td><td><span><a href=\"https://docs.microsoft.com/dotnet/api/microsoft.ml.data.multiclasspredictiontransformer-1?view=net-7.0\">Microsoft.ML.Data.MulticlassPredictionTransformer&lt;Microsoft.ML.Trainers.MaximumEntropyModelParameters&gt;</a></span></td><td><details class=\"dni-treeview\"><summary><span class=\"dni-code-hint\"><code>Microsoft.ML.Data.MulticlassPredictionTransformer`1[Microsoft.ML.Trainers.MaximumEntropyModelParameters]</code></span></summary><div><table><thead><tr></tr></thead><tbody><tr><td>FeatureColumnName</td><td>__Features__</td></tr><tr><td>FeatureColumnType</td><td><details class=\"dni-treeview\"><summary><span class=\"dni-code-hint\"><code>Vector<Single, 11774></code></span></summary><div><table><thead><tr></tr></thead><tbody><tr><td>Dimensions</td><td><div class=\"dni-plaintext\"><pre>[ 11774 ]</pre></div></td></tr><tr><td>IsKnownSize</td><td><div class=\"dni-plaintext\"><pre>True</pre></div></td></tr><tr><td>ItemType</td><td><details class=\"dni-treeview\"><summary><span class=\"dni-code-hint\"><code>Single</code></span></summary><div><table><thead><tr></tr></thead><tbody><tr><td>RawType</td><td><span><a href=\"https://docs.microsoft.com/dotnet/api/system.single?view=net-7.0\">System.Single</a></span></td></tr></tbody></table></div></details></td></tr><tr><td>Size</td><td><div class=\"dni-plaintext\"><pre>11774</pre></div></td></tr><tr><td>RawType</td><td><span><a href=\"https://docs.microsoft.com/dotnet/api/microsoft.ml.data.vbuffer-1?view=net-7.0\">Microsoft.ML.Data.VBuffer&lt;System.Single&gt;</a></span></td></tr></tbody></table></div></details></td></tr><tr><td>Model</td><td><details class=\"dni-treeview\"><summary><span class=\"dni-code-hint\"><code>Microsoft.ML.Trainers.MaximumEntropyModelParameters</code></span></summary><div><table><thead><tr></tr></thead><tbody><tr><td>Statistics</td><td><div class=\"dni-plaintext\"><pre>&lt;null&gt;</pre></div></td></tr></tbody></table></div></details></td></tr></tbody></table></div></details></td></tr><tr><td>5</td><td><span><a href=\"https://docs.microsoft.com/dotnet/api/microsoft.ml.transforms.keytovaluemappingtransformer?view=net-7.0\">Microsoft.ML.Transforms.KeyToValueMappingTransformer</a></span></td><td><details class=\"dni-treeview\"><summary><span class=\"dni-code-hint\"><code>Microsoft.ML.Transforms.KeyToValueMappingTransformer</code></span></summary><div><table><thead><tr></tr></thead><tbody></tbody></table></div></details></td></tr></tbody></table><style>\r\n",
       ".dni-code-hint {\r\n",
       "    font-style: italic;\r\n",
       "    overflow: hidden;\r\n",
       "    white-space: nowrap;\r\n",
       "}\r\n",
       ".dni-treeview {\r\n",
       "    white-space: nowrap;\r\n",
       "}\r\n",
       ".dni-treeview td {\r\n",
       "    vertical-align: top;\r\n",
       "    text-align: start;\r\n",
       "}\r\n",
       "details.dni-treeview {\r\n",
       "    padding-left: 1em;\r\n",
       "}\r\n",
       "table td {\r\n",
       "    text-align: start;\r\n",
       "}\r\n",
       "table tr { \r\n",
       "    vertical-align: top; \r\n",
       "    margin: 0em 0px;\r\n",
       "}\r\n",
       "table tr td pre \r\n",
       "{ \r\n",
       "    vertical-align: top !important; \r\n",
       "    margin: 0em 0px !important;\r\n",
       "} \r\n",
       "table th {\r\n",
       "    text-align: start;\r\n",
       "}\r\n",
       "</style>"
      ]
     },
     "metadata": {},
     "output_type": "display_data"
    }
   ],
   "source": [
    "ITransformer loadedModel = Context.Model.Load(\"Model.zip\", out _);\n",
    "\n",
    "loadedModel // After this, we'd build a PredictionEngine"
   ]
  },
  {
   "attachments": {},
   "cell_type": "markdown",
   "metadata": {},
   "source": [
    "---\n",
    "\n",
    "**Note:** models can also be saved to / loaded from ONNX format and used in other machine learning platforms and frameworks."
   ]
  }
 ],
 "metadata": {
  "kernelspec": {
   "display_name": ".NET (C#)",
   "language": "C#",
   "name": ".net-csharp"
  },
  "language_info": {
   "name": "polyglot-notebook"
  },
  "polyglot_notebook": {
   "kernelInfo": {
    "defaultKernelName": "csharp",
    "items": [
     {
      "aliases": [],
      "languageName": "csharp",
      "name": "csharp"
     }
    ]
   }
  }
 },
 "nbformat": 4,
 "nbformat_minor": 2
}
