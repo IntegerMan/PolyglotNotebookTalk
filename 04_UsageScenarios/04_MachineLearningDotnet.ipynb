{
 "cells": [
  {
   "attachments": {},
   "cell_type": "markdown",
   "metadata": {},
   "source": [
    "## Machine Learning in .NET with ML .NET\n",
    "Because of course you can do machine learning in .NET"
   ]
  },
  {
   "attachments": {},
   "cell_type": "markdown",
   "metadata": {},
   "source": [
    "### Setup\n",
    "\n",
    "This project relies on ML .NET and its Auto ML module. Both will be installed from NuGet Package Manager."
   ]
  },
  {
   "cell_type": "code",
   "execution_count": 1,
   "metadata": {
    "dotnet_interactive": {
     "language": "csharp"
    },
    "polyglot_notebook": {
     "kernelName": "csharp"
    }
   },
   "outputs": [
    {
     "data": {
      "text/html": [
       "<div><div></div><div></div><div><strong>Installed Packages</strong><ul><li><span>Microsoft.ML, 2.0.1</span></li><li><span>Microsoft.ML.AutoML, 0.20.1</span></li></ul></div></div>"
      ]
     },
     "metadata": {},
     "output_type": "display_data"
    },
    {
     "data": {
      "text/plain": [
       "Loading extensions from `C:\\Users\\MattE\\.nuget\\packages\\microsoft.ml.automl\\0.20.1\\interactive-extensions\\dotnet\\Microsoft.ML.AutoML.Interactive.dll`"
      ]
     },
     "metadata": {},
     "output_type": "display_data"
    },
    {
     "data": {
      "text/plain": [
       "Loading extensions from `C:\\Users\\MattE\\.nuget\\packages\\skiasharp\\2.88.3\\interactive-extensions\\dotnet\\SkiaSharp.DotNet.Interactive.dll`"
      ]
     },
     "metadata": {},
     "output_type": "display_data"
    }
   ],
   "source": [
    "#r \"nuget:Microsoft.ML\"\n",
    "#r \"nuget:Microsoft.ML.AutoML\""
   ]
  },
  {
   "cell_type": "code",
   "execution_count": 2,
   "metadata": {
    "dotnet_interactive": {
     "language": "csharp"
    },
    "polyglot_notebook": {
     "kernelName": "csharp"
    }
   },
   "outputs": [],
   "source": [
    "// All the imports we'll need\n",
    "using Microsoft.ML;\n",
    "using Microsoft.ML.AutoML;\n",
    "using Microsoft.ML.Data;\n",
    "\n",
    "using System.Collections.Generic;"
   ]
  },
  {
   "cell_type": "code",
   "execution_count": 3,
   "metadata": {
    "dotnet_interactive": {
     "language": "csharp"
    },
    "polyglot_notebook": {
     "kernelName": "csharp"
    }
   },
   "outputs": [],
   "source": [
    "// Everything in ML .NET revolves around a context object\n",
    "MLContext Context = new();"
   ]
  },
  {
   "attachments": {},
   "cell_type": "markdown",
   "metadata": {},
   "source": [
    "### Load Datasets"
   ]
  },
  {
   "cell_type": "code",
   "execution_count": 4,
   "metadata": {
    "dotnet_interactive": {
     "language": "csharp"
    },
    "polyglot_notebook": {
     "kernelName": "csharp"
    }
   },
   "outputs": [
    {
     "data": {
      "text/html": [
       "<details open=\"open\" class=\"dni-treeview\"><summary><span class=\"dni-code-hint\"><code>{Stir Trek 2023 - the Game}</code></span></summary><div><table><thead><tr></tr></thead><tbody><tr><td>Title</td><td>Stir Trek 2023 - the Game</td></tr><tr><td>Console</td><td><div class=\"dni-plaintext\"><pre>False</pre></div></td></tr><tr><td>AlcoholReference</td><td><div class=\"dni-plaintext\"><pre>True</pre></div></td></tr><tr><td>AnimatedBlood</td><td><div class=\"dni-plaintext\"><pre>False</pre></div></td></tr><tr><td>Blood</td><td><div class=\"dni-plaintext\"><pre>False</pre></div></td></tr><tr><td>BloodAndGore</td><td><div class=\"dni-plaintext\"><pre>False</pre></div></td></tr><tr><td>CartoonViolence</td><td><div class=\"dni-plaintext\"><pre>False</pre></div></td></tr><tr><td>CrudeHumor</td><td><div class=\"dni-plaintext\"><pre>False</pre></div></td></tr><tr><td>DrugReference</td><td><div class=\"dni-plaintext\"><pre>False</pre></div></td></tr><tr><td>FantasyViolence</td><td><div class=\"dni-plaintext\"><pre>False</pre></div></td></tr><tr><td>IntenseViolence</td><td><div class=\"dni-plaintext\"><pre>False</pre></div></td></tr><tr><td>Language</td><td><div class=\"dni-plaintext\"><pre>True</pre></div></td></tr><tr><td>Lyrics</td><td><div class=\"dni-plaintext\"><pre>False</pre></div></td></tr><tr><td>MatureHumor</td><td><div class=\"dni-plaintext\"><pre>False</pre></div></td></tr><tr><td>MildBlood</td><td><div class=\"dni-plaintext\"><pre>False</pre></div></td></tr><tr><td>MildCartoonViolence</td><td><div class=\"dni-plaintext\"><pre>False</pre></div></td></tr><tr><td>MildFantasyViolence</td><td><div class=\"dni-plaintext\"><pre>False</pre></div></td></tr><tr><td>MildLanguage</td><td><div class=\"dni-plaintext\"><pre>False</pre></div></td></tr><tr><td>MildLyrics</td><td><div class=\"dni-plaintext\"><pre>False</pre></div></td></tr><tr><td>MildSuggestiveThemes</td><td><div class=\"dni-plaintext\"><pre>False</pre></div></td></tr><tr><td>MildViolence</td><td><div class=\"dni-plaintext\"><pre>False</pre></div></td></tr><tr><td>NoDescriptors</td><td><div class=\"dni-plaintext\"><pre>False</pre></div></td></tr><tr><td>Nudity</td><td><div class=\"dni-plaintext\"><pre>False</pre></div></td></tr><tr><td>PartialNudity</td><td><div class=\"dni-plaintext\"><pre>False</pre></div></td></tr><tr><td>SexualContent</td><td><div class=\"dni-plaintext\"><pre>False</pre></div></td></tr><tr><td>SexualThemes</td><td><div class=\"dni-plaintext\"><pre>False</pre></div></td></tr><tr><td>SimulatedGambling</td><td><div class=\"dni-plaintext\"><pre>False</pre></div></td></tr><tr><td>StrongLanguage</td><td><div class=\"dni-plaintext\"><pre>False</pre></div></td></tr><tr><td>StrongSexualContent</td><td><div class=\"dni-plaintext\"><pre>False</pre></div></td></tr><tr><td>SuggestiveThemes</td><td><div class=\"dni-plaintext\"><pre>False</pre></div></td></tr><tr><td>UseOfAlcohol</td><td><div class=\"dni-plaintext\"><pre>False</pre></div></td></tr><tr><td>UseOfDrugsAndAlcohol</td><td><div class=\"dni-plaintext\"><pre>False</pre></div></td></tr><tr><td>Violence</td><td><div class=\"dni-plaintext\"><pre>False</pre></div></td></tr><tr><td>ESRBRating</td><td><div class=\"dni-plaintext\"><pre>&lt;null&gt;</pre></div></td></tr></tbody></table></div></details><style>\r\n",
       ".dni-code-hint {\r\n",
       "    font-style: italic;\r\n",
       "    overflow: hidden;\r\n",
       "    white-space: nowrap;\r\n",
       "}\r\n",
       ".dni-treeview {\r\n",
       "    white-space: nowrap;\r\n",
       "}\r\n",
       ".dni-treeview td {\r\n",
       "    vertical-align: top;\r\n",
       "    text-align: start;\r\n",
       "}\r\n",
       "details.dni-treeview {\r\n",
       "    padding-left: 1em;\r\n",
       "}\r\n",
       "table td {\r\n",
       "    text-align: start;\r\n",
       "}\r\n",
       "table tr { \r\n",
       "    vertical-align: top; \r\n",
       "    margin: 0em 0px;\r\n",
       "}\r\n",
       "table tr td pre \r\n",
       "{ \r\n",
       "    vertical-align: top !important; \r\n",
       "    margin: 0em 0px !important;\r\n",
       "} \r\n",
       "table th {\r\n",
       "    text-align: start;\r\n",
       "}\r\n",
       "</style>"
      ]
     },
     "metadata": {},
     "output_type": "display_data"
    }
   ],
   "source": [
    "#!import 04_GameInfo.cs\n",
    "\n",
    "GameInfo sampleGame = new() {\n",
    "    Title = \"Stir Trek 2023 - the Game\",\n",
    "    Language = true, // Python, C#, JS, etc.\n",
    "    AlcoholReference = true, // this is it\n",
    "};\n",
    "sampleGame"
   ]
  },
  {
   "cell_type": "code",
   "execution_count": 5,
   "metadata": {
    "dotnet_interactive": {
     "language": "csharp"
    },
    "polyglot_notebook": {
     "kernelName": "csharp"
    }
   },
   "outputs": [],
   "source": [
    "// Load training data. Taken from Kaggle dataset at https://www.kaggle.com/imohtn/video-games-rating-by-esrb\n",
    "IDataView trainData = Context.Data.LoadFromTextFile<GameInfo>(\n",
    "    path: \"ESRB.csv\",\n",
    "    separatorChar: ',',\n",
    "    hasHeader: true,\n",
    "    allowQuoting: true);"
   ]
  },
  {
   "cell_type": "code",
   "execution_count": 6,
   "metadata": {
    "dotnet_interactive": {
     "language": "csharp"
    },
    "polyglot_notebook": {
     "kernelName": "csharp"
    }
   },
   "outputs": [],
   "source": [
    "// Load test data. Taken from Kaggle dataset at https://www.kaggle.com/imohtn/video-games-rating-by-esrb\n",
    "IDataView validationData = Context.Data.LoadFromTextFile<GameInfo>(\n",
    "    path: \"ESRBTest.csv\", \n",
    "    separatorChar: ',', \n",
    "    hasHeader: true, \n",
    "    allowQuoting: true);"
   ]
  },
  {
   "attachments": {},
   "cell_type": "markdown",
   "metadata": {},
   "source": [
    "### Training\n",
    "This uses automated machine learning to find the best featurization and training settings for the dataset"
   ]
  },
  {
   "cell_type": "code",
   "execution_count": 7,
   "metadata": {
    "dotnet_interactive": {
     "language": "csharp"
    },
    "polyglot_notebook": {
     "kernelName": "csharp"
    }
   },
   "outputs": [],
   "source": [
    "uint secondsToTrain = 10;\n",
    "\n",
    "// Configure the experiment\n",
    "MulticlassClassificationExperiment experiment = \n",
    "    Context.Auto().CreateMulticlassClassificationExperiment(secondsToTrain);"
   ]
  },
  {
   "cell_type": "code",
   "execution_count": 8,
   "metadata": {
    "dotnet_interactive": {
     "language": "csharp"
    },
    "polyglot_notebook": {
     "kernelName": "csharp"
    }
   },
   "outputs": [
    {
     "name": "stdout",
     "output_type": "stream",
     "text": [
      "ConvertType=>FeaturizeText=>Concatenate=>Unknown=>FastTreeOva=>Unknown ran in 2.22 seconds with accuracy of 75.41%\n",
      "ConvertType=>FeaturizeText=>Concatenate=>Unknown=>SdcaLogisticRegressionOva=>Unknown ran in 2.08 seconds with accuracy of 25.00%\n",
      "ConvertType=>FeaturizeText=>Concatenate=>Unknown=>FastTreeOva=>Unknown ran in 1.97 seconds with accuracy of 71.65%\n",
      "ConvertType=>FeaturizeText=>Concatenate=>Unknown=>FastTreeOva=>Unknown ran in 1.41 seconds with accuracy of 73.49%\n",
      "ConvertType=>FeaturizeText=>Concatenate=>Unknown=>FastTreeOva=>Unknown ran in 1.13 seconds with accuracy of 75.28%\n"
     ]
    }
   ],
   "source": [
    "// Synchronously Train the model\n",
    "ExperimentResult<MulticlassClassificationMetrics> result = \n",
    "    experiment.Execute(\n",
    "        trainData: trainData, // The data to memorize\n",
    "        validationData: validationData, // How we evaluate our model's performance against new data\n",
    "        labelColumnName: nameof(GameInfo.ESRBRating), // What we're trying to predict\n",
    "        progressHandler: new MulticlassConsoleProgressReporter()); // How to show progress"
   ]
  },
  {
   "cell_type": "code",
   "execution_count": null,
   "metadata": {
    "dotnet_interactive": {
     "language": "csharp"
    },
    "polyglot_notebook": {
     "kernelName": "csharp"
    }
   },
   "outputs": [],
   "source": [
    "// Display details about the result\n",
    "result"
   ]
  },
  {
   "cell_type": "code",
   "execution_count": 9,
   "metadata": {
    "dotnet_interactive": {
     "language": "csharp"
    },
    "polyglot_notebook": {
     "kernelName": "csharp"
    }
   },
   "outputs": [
    {
     "data": {
      "text/html": [
       "<table><thead><tr><th><i>index</i></th><th><i>type</i></th><th>value</th></tr></thead><tbody><tr><td>0</td><td><span><a href=\"https://docs.microsoft.com/dotnet/api/microsoft.ml.transforms.typeconvertingtransformer?view=net-7.0\">Microsoft.ML.Transforms.TypeConvertingTransformer</a></span></td><td><details class=\"dni-treeview\"><summary><span class=\"dni-code-hint\"><code>Microsoft.ML.Transforms.TypeConvertingTransformer</code></span></summary><div><table><thead><tr></tr></thead><tbody></tbody></table></div></details></td></tr><tr><td>1</td><td><span><a href=\"https://docs.microsoft.com/dotnet/api/microsoft.ml.transforms.text.textfeaturizingestimator.transformer?view=net-7.0\">Microsoft.ML.Transforms.Text.TextFeaturizingEstimator+Transformer</a></span></td><td><details class=\"dni-treeview\"><summary><span class=\"dni-code-hint\"><code>Microsoft.ML.Transforms.Text.TextFeaturizingEstimator+Transformer</code></span></summary><div><table><thead><tr></tr></thead><tbody></tbody></table></div></details></td></tr><tr><td>2</td><td><span><a href=\"https://docs.microsoft.com/dotnet/api/microsoft.ml.data.columnconcatenatingtransformer?view=net-7.0\">Microsoft.ML.Data.ColumnConcatenatingTransformer</a></span></td><td><details class=\"dni-treeview\"><summary><span class=\"dni-code-hint\"><code>Microsoft.ML.Data.ColumnConcatenatingTransformer</code></span></summary><div><table><thead><tr></tr></thead><tbody></tbody></table></div></details></td></tr><tr><td>3</td><td><span><a href=\"https://docs.microsoft.com/dotnet/api/microsoft.ml.transforms.valuetokeymappingtransformer?view=net-7.0\">Microsoft.ML.Transforms.ValueToKeyMappingTransformer</a></span></td><td><details class=\"dni-treeview\"><summary><span class=\"dni-code-hint\"><code>Microsoft.ML.Transforms.ValueToKeyMappingTransformer</code></span></summary><div><table><thead><tr></tr></thead><tbody></tbody></table></div></details></td></tr><tr><td>4</td><td><span><a href=\"https://docs.microsoft.com/dotnet/api/microsoft.ml.data.multiclasspredictiontransformer-1?view=net-7.0\">Microsoft.ML.Data.MulticlassPredictionTransformer&lt;Microsoft.ML.Trainers.OneVersusAllModelParameters&gt;</a></span></td><td><details class=\"dni-treeview\"><summary><span class=\"dni-code-hint\"><code>Microsoft.ML.Data.MulticlassPredictionTransformer`1[Microsoft.ML.Trainers.OneVersusAllModelParameters]</code></span></summary><div><table><thead><tr></tr></thead><tbody><tr><td>FeatureColumnName</td><td>__Features__</td></tr><tr><td>FeatureColumnType</td><td><details class=\"dni-treeview\"><summary><span class=\"dni-code-hint\"><code>Vector<Single, 11774></code></span></summary><div><table><thead><tr></tr></thead><tbody><tr><td>Dimensions</td><td><div class=\"dni-plaintext\"><pre>[ 11774 ]</pre></div></td></tr><tr><td>IsKnownSize</td><td><div class=\"dni-plaintext\"><pre>True</pre></div></td></tr><tr><td>ItemType</td><td><details class=\"dni-treeview\"><summary><span class=\"dni-code-hint\"><code>Single</code></span></summary><div><table><thead><tr></tr></thead><tbody><tr><td>RawType</td><td><span><a href=\"https://docs.microsoft.com/dotnet/api/system.single?view=net-7.0\">System.Single</a></span></td></tr></tbody></table></div></details></td></tr><tr><td>Size</td><td><div class=\"dni-plaintext\"><pre>11774</pre></div></td></tr><tr><td>RawType</td><td><span><a href=\"https://docs.microsoft.com/dotnet/api/microsoft.ml.data.vbuffer-1?view=net-7.0\">Microsoft.ML.Data.VBuffer&lt;System.Single&gt;</a></span></td></tr></tbody></table></div></details></td></tr><tr><td>Model</td><td><details class=\"dni-treeview\"><summary><span class=\"dni-code-hint\"><code>Microsoft.ML.Trainers.OneVersusAllModelParameters</code></span></summary><div><table><thead><tr></tr></thead><tbody></tbody></table></div></details></td></tr></tbody></table></div></details></td></tr><tr><td>5</td><td><span><a href=\"https://docs.microsoft.com/dotnet/api/microsoft.ml.transforms.keytovaluemappingtransformer?view=net-7.0\">Microsoft.ML.Transforms.KeyToValueMappingTransformer</a></span></td><td><details class=\"dni-treeview\"><summary><span class=\"dni-code-hint\"><code>Microsoft.ML.Transforms.KeyToValueMappingTransformer</code></span></summary><div><table><thead><tr></tr></thead><tbody></tbody></table></div></details></td></tr></tbody></table><style>\r\n",
       ".dni-code-hint {\r\n",
       "    font-style: italic;\r\n",
       "    overflow: hidden;\r\n",
       "    white-space: nowrap;\r\n",
       "}\r\n",
       ".dni-treeview {\r\n",
       "    white-space: nowrap;\r\n",
       "}\r\n",
       ".dni-treeview td {\r\n",
       "    vertical-align: top;\r\n",
       "    text-align: start;\r\n",
       "}\r\n",
       "details.dni-treeview {\r\n",
       "    padding-left: 1em;\r\n",
       "}\r\n",
       "table td {\r\n",
       "    text-align: start;\r\n",
       "}\r\n",
       "table tr { \r\n",
       "    vertical-align: top; \r\n",
       "    margin: 0em 0px;\r\n",
       "}\r\n",
       "table tr td pre \r\n",
       "{ \r\n",
       "    vertical-align: top !important; \r\n",
       "    margin: 0em 0px !important;\r\n",
       "} \r\n",
       "table th {\r\n",
       "    text-align: start;\r\n",
       "}\r\n",
       "</style>"
      ]
     },
     "metadata": {},
     "output_type": "display_data"
    }
   ],
   "source": [
    "// Grab the trained model for later\n",
    "ITransformer model = result.BestRun.Model;\n",
    "\n",
    "model"
   ]
  },
  {
   "attachments": {},
   "cell_type": "markdown",
   "metadata": {},
   "source": [
    "### Model Evaluation"
   ]
  },
  {
   "cell_type": "code",
   "execution_count": 10,
   "metadata": {
    "dotnet_interactive": {
     "language": "csharp"
    },
    "polyglot_notebook": {
     "kernelName": "csharp"
    }
   },
   "outputs": [
    {
     "data": {
      "text/plain": [
       "ConvertType=>FeaturizeText=>Concatenate=>Unknown=>FastTreeOva=>Unknown"
      ]
     },
     "metadata": {},
     "output_type": "display_data"
    }
   ],
   "source": [
    "// Identify the best run's algorithm\n",
    "result.BestRun.TrainerName"
   ]
  },
  {
   "cell_type": "code",
   "execution_count": 11,
   "metadata": {
    "dotnet_interactive": {
     "language": "csharp"
    },
    "polyglot_notebook": {
     "kernelName": "csharp"
    }
   },
   "outputs": [
    {
     "data": {
      "text/html": [
       "<details open=\"open\" class=\"dni-treeview\"><summary><span class=\"dni-code-hint\"><code>Microsoft.ML.Data.MulticlassClassificationMetrics</code></span></summary><div><table><thead><tr></tr></thead><tbody><tr><td>LogLoss</td><td><div class=\"dni-plaintext\"><pre>1.1520647996815911</pre></div></td></tr><tr><td>LogLossReduction</td><td><div class=\"dni-plaintext\"><pre>0.14393564785032045</pre></div></td></tr><tr><td>MacroAccuracy</td><td><div class=\"dni-plaintext\"><pre>0.7541235334713596</pre></div></td></tr><tr><td>MicroAccuracy</td><td><div class=\"dni-plaintext\"><pre>0.762</pre></div></td></tr><tr><td>TopKAccuracy</td><td><div class=\"dni-plaintext\"><pre>0</pre></div></td></tr><tr><td>TopKPredictionCount</td><td><div class=\"dni-plaintext\"><pre>0</pre></div></td></tr><tr><td>TopKAccuracyForAllK</td><td><div class=\"dni-plaintext\"><pre>&lt;null&gt;</pre></div></td></tr><tr><td>PerClassLogLoss</td><td><div class=\"dni-plaintext\"><pre>[ 1.1427545367264178, 1.16242499424014, 1.2166878715626754, 1.118421132898133 ]</pre></div></td></tr><tr><td>ConfusionMatrix</td><td><details class=\"dni-treeview\"><summary><span class=\"dni-code-hint\"><code>Microsoft.ML.Data.ConfusionMatrix</code></span></summary><div><table><thead><tr></tr></thead><tbody><tr><td>PerClassPrecision</td><td><div class=\"dni-plaintext\"><pre>[ 0.872093023255814, 0.7933884297520661, 0.8421052631578947, 0.6728110599078341 ]</pre></div></td></tr><tr><td>PerClassRecall</td><td><div class=\"dni-plaintext\"><pre>[ 0.75, 0.7619047619047619, 0.7111111111111111, 0.7934782608695652 ]</pre></div></td></tr><tr><td>Counts</td><td><table><thead><tr><th><i>index</i></th><th>value</th></tr></thead><tbody><tr><td>0</td><td><div class=\"dni-plaintext\"><pre>[ 75, 4, 0, 21 ]</pre></div></td></tr><tr><td>1</td><td><div class=\"dni-plaintext\"><pre>[ 4, 96, 0, 26 ]</pre></div></td></tr><tr><td>2</td><td><div class=\"dni-plaintext\"><pre>[ 0, 2, 64, 24 ]</pre></div></td></tr><tr><td>3</td><td><div class=\"dni-plaintext\"><pre>[ 7, 19, 12, 146 ]</pre></div></td></tr></tbody></table></td></tr><tr><td>NumberOfClasses</td><td><div class=\"dni-plaintext\"><pre>4</pre></div></td></tr></tbody></table></div></details></td></tr></tbody></table></div></details><style>\r\n",
       ".dni-code-hint {\r\n",
       "    font-style: italic;\r\n",
       "    overflow: hidden;\r\n",
       "    white-space: nowrap;\r\n",
       "}\r\n",
       ".dni-treeview {\r\n",
       "    white-space: nowrap;\r\n",
       "}\r\n",
       ".dni-treeview td {\r\n",
       "    vertical-align: top;\r\n",
       "    text-align: start;\r\n",
       "}\r\n",
       "details.dni-treeview {\r\n",
       "    padding-left: 1em;\r\n",
       "}\r\n",
       "table td {\r\n",
       "    text-align: start;\r\n",
       "}\r\n",
       "table tr { \r\n",
       "    vertical-align: top; \r\n",
       "    margin: 0em 0px;\r\n",
       "}\r\n",
       "table tr td pre \r\n",
       "{ \r\n",
       "    vertical-align: top !important; \r\n",
       "    margin: 0em 0px !important;\r\n",
       "} \r\n",
       "table th {\r\n",
       "    text-align: start;\r\n",
       "}\r\n",
       "</style>"
      ]
     },
     "metadata": {},
     "output_type": "display_data"
    }
   ],
   "source": [
    "// Take a look a the best run's metrics\n",
    "result.BestRun.ValidationMetrics"
   ]
  },
  {
   "cell_type": "code",
   "execution_count": 12,
   "metadata": {
    "dotnet_interactive": {
     "language": "csharp"
    },
    "polyglot_notebook": {
     "kernelName": "csharp"
    }
   },
   "outputs": [
    {
     "data": {
      "text/plain": [
       "\r\n",
       "Confusion table\r\n",
       "          ||================================\r\n",
       "PREDICTED ||     E |    ET |     M |     T | Recall\r\n",
       "TRUTH     ||================================\r\n",
       "        E ||    75 |     4 |     0 |    21 | 0.7500\r\n",
       "       ET ||     4 |    96 |     0 |    26 | 0.7619\r\n",
       "        M ||     0 |     2 |    64 |    24 | 0.7111\r\n",
       "        T ||     7 |    19 |    12 |   146 | 0.7935\r\n",
       "          ||================================\r\n",
       "Precision ||0.8721 |0.7934 |0.8421 |0.6728 |\r\n"
      ]
     },
     "metadata": {},
     "output_type": "display_data"
    }
   ],
   "source": [
    "result.BestRun.ValidationMetrics.ConfusionMatrix.GetFormattedConfusionTable()"
   ]
  },
  {
   "attachments": {},
   "cell_type": "markdown",
   "metadata": {},
   "source": [
    "### Generating Predictions"
   ]
  },
  {
   "cell_type": "code",
   "execution_count": 13,
   "metadata": {
    "dotnet_interactive": {
     "language": "csharp"
    },
    "polyglot_notebook": {
     "kernelName": "csharp"
    }
   },
   "outputs": [],
   "source": [
    "    /// <summary>\n",
    "    /// This class represents a set of confidences in the various ESRB ratings for a single video game\n",
    "    /// </summary>\n",
    "    public class ESRBPrediction\n",
    "    {\n",
    "        [ColumnName(\"PredictedLabel\")]\n",
    "        public string ESRBRating { get; set; }\n",
    "\n",
    "        [ColumnName(\"Score\")]\n",
    "        public float[] Score { get; set; }\n",
    "    }"
   ]
  },
  {
   "cell_type": "code",
   "execution_count": 14,
   "metadata": {
    "dotnet_interactive": {
     "language": "csharp"
    },
    "polyglot_notebook": {
     "kernelName": "csharp"
    }
   },
   "outputs": [],
   "source": [
    "// Create a PredictionEngine that can generate predictions for games we've not seen before\n",
    "PredictionEngine<GameInfo, ESRBPrediction> predictor =\n",
    "    Context.Model.CreatePredictionEngine<GameInfo, ESRBPrediction>(\n",
    "            transformer: model);"
   ]
  },
  {
   "cell_type": "code",
   "execution_count": 15,
   "metadata": {
    "dotnet_interactive": {
     "language": "csharp"
    },
    "polyglot_notebook": {
     "kernelName": "csharp"
    }
   },
   "outputs": [
    {
     "data": {
      "text/html": [
       "<table><thead><tr><th><i>index</i></th><th>value</th></tr></thead><tbody><tr><td>0</td><td><details class=\"dni-treeview\"><summary><span class=\"dni-code-hint\"><code>{Comic Doggo Side Scroller for Teens}</code></span></summary><div><table><thead><tr></tr></thead><tbody><tr><td>Title</td><td>Comic Doggo Side Scroller for Teens</td></tr><tr><td>Console</td><td><div class=\"dni-plaintext\"><pre>False</pre></div></td></tr><tr><td>AlcoholReference</td><td><div class=\"dni-plaintext\"><pre>False</pre></div></td></tr><tr><td>AnimatedBlood</td><td><div class=\"dni-plaintext\"><pre>False</pre></div></td></tr><tr><td>Blood</td><td><div class=\"dni-plaintext\"><pre>False</pre></div></td></tr><tr><td>BloodAndGore</td><td><div class=\"dni-plaintext\"><pre>False</pre></div></td></tr><tr><td>CartoonViolence</td><td><div class=\"dni-plaintext\"><pre>True</pre></div></td></tr><tr><td>CrudeHumor</td><td><div class=\"dni-plaintext\"><pre>True</pre></div></td></tr><tr><td>DrugReference</td><td><div class=\"dni-plaintext\"><pre>False</pre></div></td></tr><tr><td>FantasyViolence</td><td><div class=\"dni-plaintext\"><pre>False</pre></div></td></tr><tr><td>IntenseViolence</td><td><div class=\"dni-plaintext\"><pre>False</pre></div></td></tr><tr><td>Language</td><td><div class=\"dni-plaintext\"><pre>False</pre></div></td></tr><tr><td>Lyrics</td><td><div class=\"dni-plaintext\"><pre>False</pre></div></td></tr><tr><td>MatureHumor</td><td><div class=\"dni-plaintext\"><pre>False</pre></div></td></tr><tr><td>MildBlood</td><td><div class=\"dni-plaintext\"><pre>False</pre></div></td></tr><tr><td>MildCartoonViolence</td><td><div class=\"dni-plaintext\"><pre>False</pre></div></td></tr><tr><td>MildFantasyViolence</td><td><div class=\"dni-plaintext\"><pre>False</pre></div></td></tr><tr><td>MildLanguage</td><td><div class=\"dni-plaintext\"><pre>True</pre></div></td></tr><tr><td>MildLyrics</td><td><div class=\"dni-plaintext\"><pre>False</pre></div></td></tr><tr><td>MildSuggestiveThemes</td><td><div class=\"dni-plaintext\"><pre>False</pre></div></td></tr><tr><td>MildViolence</td><td><div class=\"dni-plaintext\"><pre>False</pre></div></td></tr><tr><td>NoDescriptors</td><td><div class=\"dni-plaintext\"><pre>False</pre></div></td></tr><tr><td>Nudity</td><td><div class=\"dni-plaintext\"><pre>False</pre></div></td></tr><tr><td>PartialNudity</td><td><div class=\"dni-plaintext\"><pre>False</pre></div></td></tr><tr><td>SexualContent</td><td><div class=\"dni-plaintext\"><pre>False</pre></div></td></tr><tr><td>SexualThemes</td><td><div class=\"dni-plaintext\"><pre>False</pre></div></td></tr><tr><td>SimulatedGambling</td><td><div class=\"dni-plaintext\"><pre>False</pre></div></td></tr><tr><td>StrongLanguage</td><td><div class=\"dni-plaintext\"><pre>False</pre></div></td></tr><tr><td>StrongSexualContent</td><td><div class=\"dni-plaintext\"><pre>False</pre></div></td></tr><tr><td>SuggestiveThemes</td><td><div class=\"dni-plaintext\"><pre>False</pre></div></td></tr><tr><td>UseOfAlcohol</td><td><div class=\"dni-plaintext\"><pre>False</pre></div></td></tr><tr><td>UseOfDrugsAndAlcohol</td><td><div class=\"dni-plaintext\"><pre>False</pre></div></td></tr><tr><td>Violence</td><td><div class=\"dni-plaintext\"><pre>True</pre></div></td></tr><tr><td>ESRBRating</td><td><div class=\"dni-plaintext\"><pre>&lt;null&gt;</pre></div></td></tr></tbody></table></div></details></td></tr><tr><td>1</td><td><details class=\"dni-treeview\"><summary><span class=\"dni-code-hint\"><code>{Kinda Sus}</code></span></summary><div><table><thead><tr></tr></thead><tbody><tr><td>Title</td><td>Kinda Sus</td></tr><tr><td>Console</td><td><div class=\"dni-plaintext\"><pre>False</pre></div></td></tr><tr><td>AlcoholReference</td><td><div class=\"dni-plaintext\"><pre>False</pre></div></td></tr><tr><td>AnimatedBlood</td><td><div class=\"dni-plaintext\"><pre>False</pre></div></td></tr><tr><td>Blood</td><td><div class=\"dni-plaintext\"><pre>False</pre></div></td></tr><tr><td>BloodAndGore</td><td><div class=\"dni-plaintext\"><pre>False</pre></div></td></tr><tr><td>CartoonViolence</td><td><div class=\"dni-plaintext\"><pre>False</pre></div></td></tr><tr><td>CrudeHumor</td><td><div class=\"dni-plaintext\"><pre>False</pre></div></td></tr><tr><td>DrugReference</td><td><div class=\"dni-plaintext\"><pre>False</pre></div></td></tr><tr><td>FantasyViolence</td><td><div class=\"dni-plaintext\"><pre>False</pre></div></td></tr><tr><td>IntenseViolence</td><td><div class=\"dni-plaintext\"><pre>False</pre></div></td></tr><tr><td>Language</td><td><div class=\"dni-plaintext\"><pre>False</pre></div></td></tr><tr><td>Lyrics</td><td><div class=\"dni-plaintext\"><pre>False</pre></div></td></tr><tr><td>MatureHumor</td><td><div class=\"dni-plaintext\"><pre>False</pre></div></td></tr><tr><td>MildBlood</td><td><div class=\"dni-plaintext\"><pre>False</pre></div></td></tr><tr><td>MildCartoonViolence</td><td><div class=\"dni-plaintext\"><pre>True</pre></div></td></tr><tr><td>MildFantasyViolence</td><td><div class=\"dni-plaintext\"><pre>False</pre></div></td></tr><tr><td>MildLanguage</td><td><div class=\"dni-plaintext\"><pre>False</pre></div></td></tr><tr><td>MildLyrics</td><td><div class=\"dni-plaintext\"><pre>False</pre></div></td></tr><tr><td>MildSuggestiveThemes</td><td><div class=\"dni-plaintext\"><pre>False</pre></div></td></tr><tr><td>MildViolence</td><td><div class=\"dni-plaintext\"><pre>False</pre></div></td></tr><tr><td>NoDescriptors</td><td><div class=\"dni-plaintext\"><pre>False</pre></div></td></tr><tr><td>Nudity</td><td><div class=\"dni-plaintext\"><pre>False</pre></div></td></tr><tr><td>PartialNudity</td><td><div class=\"dni-plaintext\"><pre>False</pre></div></td></tr><tr><td>SexualContent</td><td><div class=\"dni-plaintext\"><pre>False</pre></div></td></tr><tr><td>SexualThemes</td><td><div class=\"dni-plaintext\"><pre>False</pre></div></td></tr><tr><td>SimulatedGambling</td><td><div class=\"dni-plaintext\"><pre>False</pre></div></td></tr><tr><td>StrongLanguage</td><td><div class=\"dni-plaintext\"><pre>False</pre></div></td></tr><tr><td>StrongSexualContent</td><td><div class=\"dni-plaintext\"><pre>False</pre></div></td></tr><tr><td>SuggestiveThemes</td><td><div class=\"dni-plaintext\"><pre>False</pre></div></td></tr><tr><td>UseOfAlcohol</td><td><div class=\"dni-plaintext\"><pre>False</pre></div></td></tr><tr><td>UseOfDrugsAndAlcohol</td><td><div class=\"dni-plaintext\"><pre>False</pre></div></td></tr><tr><td>Violence</td><td><div class=\"dni-plaintext\"><pre>False</pre></div></td></tr><tr><td>ESRBRating</td><td><div class=\"dni-plaintext\"><pre>&lt;null&gt;</pre></div></td></tr></tbody></table></div></details></td></tr><tr><td>2</td><td><details class=\"dni-treeview\"><summary><span class=\"dni-code-hint\"><code>{The Earthlings are Coming}</code></span></summary><div><table><thead><tr></tr></thead><tbody><tr><td>Title</td><td>The Earthlings are Coming</td></tr><tr><td>Console</td><td><div class=\"dni-plaintext\"><pre>False</pre></div></td></tr><tr><td>AlcoholReference</td><td><div class=\"dni-plaintext\"><pre>False</pre></div></td></tr><tr><td>AnimatedBlood</td><td><div class=\"dni-plaintext\"><pre>False</pre></div></td></tr><tr><td>Blood</td><td><div class=\"dni-plaintext\"><pre>False</pre></div></td></tr><tr><td>BloodAndGore</td><td><div class=\"dni-plaintext\"><pre>False</pre></div></td></tr><tr><td>CartoonViolence</td><td><div class=\"dni-plaintext\"><pre>False</pre></div></td></tr><tr><td>CrudeHumor</td><td><div class=\"dni-plaintext\"><pre>False</pre></div></td></tr><tr><td>DrugReference</td><td><div class=\"dni-plaintext\"><pre>False</pre></div></td></tr><tr><td>FantasyViolence</td><td><div class=\"dni-plaintext\"><pre>False</pre></div></td></tr><tr><td>IntenseViolence</td><td><div class=\"dni-plaintext\"><pre>False</pre></div></td></tr><tr><td>Language</td><td><div class=\"dni-plaintext\"><pre>False</pre></div></td></tr><tr><td>Lyrics</td><td><div class=\"dni-plaintext\"><pre>False</pre></div></td></tr><tr><td>MatureHumor</td><td><div class=\"dni-plaintext\"><pre>False</pre></div></td></tr><tr><td>MildBlood</td><td><div class=\"dni-plaintext\"><pre>False</pre></div></td></tr><tr><td>MildCartoonViolence</td><td><div class=\"dni-plaintext\"><pre>False</pre></div></td></tr><tr><td>MildFantasyViolence</td><td><div class=\"dni-plaintext\"><pre>True</pre></div></td></tr><tr><td>MildLanguage</td><td><div class=\"dni-plaintext\"><pre>False</pre></div></td></tr><tr><td>MildLyrics</td><td><div class=\"dni-plaintext\"><pre>False</pre></div></td></tr><tr><td>MildSuggestiveThemes</td><td><div class=\"dni-plaintext\"><pre>False</pre></div></td></tr><tr><td>MildViolence</td><td><div class=\"dni-plaintext\"><pre>True</pre></div></td></tr><tr><td>NoDescriptors</td><td><div class=\"dni-plaintext\"><pre>False</pre></div></td></tr><tr><td>Nudity</td><td><div class=\"dni-plaintext\"><pre>False</pre></div></td></tr><tr><td>PartialNudity</td><td><div class=\"dni-plaintext\"><pre>False</pre></div></td></tr><tr><td>SexualContent</td><td><div class=\"dni-plaintext\"><pre>False</pre></div></td></tr><tr><td>SexualThemes</td><td><div class=\"dni-plaintext\"><pre>False</pre></div></td></tr><tr><td>SimulatedGambling</td><td><div class=\"dni-plaintext\"><pre>False</pre></div></td></tr><tr><td>StrongLanguage</td><td><div class=\"dni-plaintext\"><pre>False</pre></div></td></tr><tr><td>StrongSexualContent</td><td><div class=\"dni-plaintext\"><pre>False</pre></div></td></tr><tr><td>SuggestiveThemes</td><td><div class=\"dni-plaintext\"><pre>False</pre></div></td></tr><tr><td>UseOfAlcohol</td><td><div class=\"dni-plaintext\"><pre>False</pre></div></td></tr><tr><td>UseOfDrugsAndAlcohol</td><td><div class=\"dni-plaintext\"><pre>False</pre></div></td></tr><tr><td>Violence</td><td><div class=\"dni-plaintext\"><pre>False</pre></div></td></tr><tr><td>ESRBRating</td><td><div class=\"dni-plaintext\"><pre>&lt;null&gt;</pre></div></td></tr></tbody></table></div></details></td></tr><tr><td>3</td><td><details class=\"dni-treeview\"><summary><span class=\"dni-code-hint\"><code>{Shoddy Surgeon Simulator}</code></span></summary><div><table><thead><tr></tr></thead><tbody><tr><td>Title</td><td>Shoddy Surgeon Simulator</td></tr><tr><td>Console</td><td><div class=\"dni-plaintext\"><pre>False</pre></div></td></tr><tr><td>AlcoholReference</td><td><div class=\"dni-plaintext\"><pre>False</pre></div></td></tr><tr><td>AnimatedBlood</td><td><div class=\"dni-plaintext\"><pre>False</pre></div></td></tr><tr><td>Blood</td><td><div class=\"dni-plaintext\"><pre>False</pre></div></td></tr><tr><td>BloodAndGore</td><td><div class=\"dni-plaintext\"><pre>True</pre></div></td></tr><tr><td>CartoonViolence</td><td><div class=\"dni-plaintext\"><pre>False</pre></div></td></tr><tr><td>CrudeHumor</td><td><div class=\"dni-plaintext\"><pre>False</pre></div></td></tr><tr><td>DrugReference</td><td><div class=\"dni-plaintext\"><pre>True</pre></div></td></tr><tr><td>FantasyViolence</td><td><div class=\"dni-plaintext\"><pre>False</pre></div></td></tr><tr><td>IntenseViolence</td><td><div class=\"dni-plaintext\"><pre>False</pre></div></td></tr><tr><td>Language</td><td><div class=\"dni-plaintext\"><pre>False</pre></div></td></tr><tr><td>Lyrics</td><td><div class=\"dni-plaintext\"><pre>False</pre></div></td></tr><tr><td>MatureHumor</td><td><div class=\"dni-plaintext\"><pre>False</pre></div></td></tr><tr><td>MildBlood</td><td><div class=\"dni-plaintext\"><pre>False</pre></div></td></tr><tr><td>MildCartoonViolence</td><td><div class=\"dni-plaintext\"><pre>False</pre></div></td></tr><tr><td>MildFantasyViolence</td><td><div class=\"dni-plaintext\"><pre>False</pre></div></td></tr><tr><td>MildLanguage</td><td><div class=\"dni-plaintext\"><pre>False</pre></div></td></tr><tr><td>MildLyrics</td><td><div class=\"dni-plaintext\"><pre>False</pre></div></td></tr><tr><td>MildSuggestiveThemes</td><td><div class=\"dni-plaintext\"><pre>False</pre></div></td></tr><tr><td>MildViolence</td><td><div class=\"dni-plaintext\"><pre>False</pre></div></td></tr><tr><td>NoDescriptors</td><td><div class=\"dni-plaintext\"><pre>False</pre></div></td></tr><tr><td>Nudity</td><td><div class=\"dni-plaintext\"><pre>False</pre></div></td></tr><tr><td>PartialNudity</td><td><div class=\"dni-plaintext\"><pre>True</pre></div></td></tr><tr><td>SexualContent</td><td><div class=\"dni-plaintext\"><pre>False</pre></div></td></tr><tr><td>SexualThemes</td><td><div class=\"dni-plaintext\"><pre>False</pre></div></td></tr><tr><td>SimulatedGambling</td><td><div class=\"dni-plaintext\"><pre>False</pre></div></td></tr><tr><td>StrongLanguage</td><td><div class=\"dni-plaintext\"><pre>False</pre></div></td></tr><tr><td>StrongSexualContent</td><td><div class=\"dni-plaintext\"><pre>False</pre></div></td></tr><tr><td>SuggestiveThemes</td><td><div class=\"dni-plaintext\"><pre>False</pre></div></td></tr><tr><td>UseOfAlcohol</td><td><div class=\"dni-plaintext\"><pre>False</pre></div></td></tr><tr><td>UseOfDrugsAndAlcohol</td><td><div class=\"dni-plaintext\"><pre>False</pre></div></td></tr><tr><td>Violence</td><td><div class=\"dni-plaintext\"><pre>False</pre></div></td></tr><tr><td>ESRBRating</td><td><div class=\"dni-plaintext\"><pre>&lt;null&gt;</pre></div></td></tr></tbody></table></div></details></td></tr><tr><td>4</td><td><details class=\"dni-treeview\"><summary><span class=\"dni-code-hint\"><code>{Assistant to the Lawn Service Manager 2023}</code></span></summary><div><table><thead><tr></tr></thead><tbody><tr><td>Title</td><td>Assistant to the Lawn Service Manager 2023</td></tr><tr><td>Console</td><td><div class=\"dni-plaintext\"><pre>False</pre></div></td></tr><tr><td>AlcoholReference</td><td><div class=\"dni-plaintext\"><pre>True</pre></div></td></tr><tr><td>AnimatedBlood</td><td><div class=\"dni-plaintext\"><pre>False</pre></div></td></tr><tr><td>Blood</td><td><div class=\"dni-plaintext\"><pre>False</pre></div></td></tr><tr><td>BloodAndGore</td><td><div class=\"dni-plaintext\"><pre>False</pre></div></td></tr><tr><td>CartoonViolence</td><td><div class=\"dni-plaintext\"><pre>False</pre></div></td></tr><tr><td>CrudeHumor</td><td><div class=\"dni-plaintext\"><pre>True</pre></div></td></tr><tr><td>DrugReference</td><td><div class=\"dni-plaintext\"><pre>False</pre></div></td></tr><tr><td>FantasyViolence</td><td><div class=\"dni-plaintext\"><pre>False</pre></div></td></tr><tr><td>IntenseViolence</td><td><div class=\"dni-plaintext\"><pre>False</pre></div></td></tr><tr><td>Language</td><td><div class=\"dni-plaintext\"><pre>False</pre></div></td></tr><tr><td>Lyrics</td><td><div class=\"dni-plaintext\"><pre>False</pre></div></td></tr><tr><td>MatureHumor</td><td><div class=\"dni-plaintext\"><pre>False</pre></div></td></tr><tr><td>MildBlood</td><td><div class=\"dni-plaintext\"><pre>False</pre></div></td></tr><tr><td>MildCartoonViolence</td><td><div class=\"dni-plaintext\"><pre>False</pre></div></td></tr><tr><td>MildFantasyViolence</td><td><div class=\"dni-plaintext\"><pre>False</pre></div></td></tr><tr><td>MildLanguage</td><td><div class=\"dni-plaintext\"><pre>True</pre></div></td></tr><tr><td>MildLyrics</td><td><div class=\"dni-plaintext\"><pre>False</pre></div></td></tr><tr><td>MildSuggestiveThemes</td><td><div class=\"dni-plaintext\"><pre>False</pre></div></td></tr><tr><td>MildViolence</td><td><div class=\"dni-plaintext\"><pre>False</pre></div></td></tr><tr><td>NoDescriptors</td><td><div class=\"dni-plaintext\"><pre>False</pre></div></td></tr><tr><td>Nudity</td><td><div class=\"dni-plaintext\"><pre>False</pre></div></td></tr><tr><td>PartialNudity</td><td><div class=\"dni-plaintext\"><pre>False</pre></div></td></tr><tr><td>SexualContent</td><td><div class=\"dni-plaintext\"><pre>False</pre></div></td></tr><tr><td>SexualThemes</td><td><div class=\"dni-plaintext\"><pre>False</pre></div></td></tr><tr><td>SimulatedGambling</td><td><div class=\"dni-plaintext\"><pre>False</pre></div></td></tr><tr><td>StrongLanguage</td><td><div class=\"dni-plaintext\"><pre>False</pre></div></td></tr><tr><td>StrongSexualContent</td><td><div class=\"dni-plaintext\"><pre>False</pre></div></td></tr><tr><td>SuggestiveThemes</td><td><div class=\"dni-plaintext\"><pre>False</pre></div></td></tr><tr><td>UseOfAlcohol</td><td><div class=\"dni-plaintext\"><pre>False</pre></div></td></tr><tr><td>UseOfDrugsAndAlcohol</td><td><div class=\"dni-plaintext\"><pre>False</pre></div></td></tr><tr><td>Violence</td><td><div class=\"dni-plaintext\"><pre>False</pre></div></td></tr><tr><td>ESRBRating</td><td><div class=\"dni-plaintext\"><pre>&lt;null&gt;</pre></div></td></tr></tbody></table></div></details></td></tr><tr><td>5</td><td><details class=\"dni-treeview\"><summary><span class=\"dni-code-hint\"><code>{Intense Shoot-o-rama: Why would anyone play this edition}</code></span></summary><div><table><thead><tr></tr></thead><tbody><tr><td>Title</td><td>Intense Shoot-o-rama: Why would anyone play this edition</td></tr><tr><td>Console</td><td><div class=\"dni-plaintext\"><pre>False</pre></div></td></tr><tr><td>AlcoholReference</td><td><div class=\"dni-plaintext\"><pre>True</pre></div></td></tr><tr><td>AnimatedBlood</td><td><div class=\"dni-plaintext\"><pre>False</pre></div></td></tr><tr><td>Blood</td><td><div class=\"dni-plaintext\"><pre>False</pre></div></td></tr><tr><td>BloodAndGore</td><td><div class=\"dni-plaintext\"><pre>True</pre></div></td></tr><tr><td>CartoonViolence</td><td><div class=\"dni-plaintext\"><pre>False</pre></div></td></tr><tr><td>CrudeHumor</td><td><div class=\"dni-plaintext\"><pre>True</pre></div></td></tr><tr><td>DrugReference</td><td><div class=\"dni-plaintext\"><pre>True</pre></div></td></tr><tr><td>FantasyViolence</td><td><div class=\"dni-plaintext\"><pre>False</pre></div></td></tr><tr><td>IntenseViolence</td><td><div class=\"dni-plaintext\"><pre>True</pre></div></td></tr><tr><td>Language</td><td><div class=\"dni-plaintext\"><pre>False</pre></div></td></tr><tr><td>Lyrics</td><td><div class=\"dni-plaintext\"><pre>False</pre></div></td></tr><tr><td>MatureHumor</td><td><div class=\"dni-plaintext\"><pre>True</pre></div></td></tr><tr><td>MildBlood</td><td><div class=\"dni-plaintext\"><pre>False</pre></div></td></tr><tr><td>MildCartoonViolence</td><td><div class=\"dni-plaintext\"><pre>False</pre></div></td></tr><tr><td>MildFantasyViolence</td><td><div class=\"dni-plaintext\"><pre>False</pre></div></td></tr><tr><td>MildLanguage</td><td><div class=\"dni-plaintext\"><pre>False</pre></div></td></tr><tr><td>MildLyrics</td><td><div class=\"dni-plaintext\"><pre>False</pre></div></td></tr><tr><td>MildSuggestiveThemes</td><td><div class=\"dni-plaintext\"><pre>False</pre></div></td></tr><tr><td>MildViolence</td><td><div class=\"dni-plaintext\"><pre>False</pre></div></td></tr><tr><td>NoDescriptors</td><td><div class=\"dni-plaintext\"><pre>False</pre></div></td></tr><tr><td>Nudity</td><td><div class=\"dni-plaintext\"><pre>True</pre></div></td></tr><tr><td>PartialNudity</td><td><div class=\"dni-plaintext\"><pre>False</pre></div></td></tr><tr><td>SexualContent</td><td><div class=\"dni-plaintext\"><pre>True</pre></div></td></tr><tr><td>SexualThemes</td><td><div class=\"dni-plaintext\"><pre>True</pre></div></td></tr><tr><td>SimulatedGambling</td><td><div class=\"dni-plaintext\"><pre>False</pre></div></td></tr><tr><td>StrongLanguage</td><td><div class=\"dni-plaintext\"><pre>True</pre></div></td></tr><tr><td>StrongSexualContent</td><td><div class=\"dni-plaintext\"><pre>False</pre></div></td></tr><tr><td>SuggestiveThemes</td><td><div class=\"dni-plaintext\"><pre>False</pre></div></td></tr><tr><td>UseOfAlcohol</td><td><div class=\"dni-plaintext\"><pre>False</pre></div></td></tr><tr><td>UseOfDrugsAndAlcohol</td><td><div class=\"dni-plaintext\"><pre>False</pre></div></td></tr><tr><td>Violence</td><td><div class=\"dni-plaintext\"><pre>False</pre></div></td></tr><tr><td>ESRBRating</td><td><div class=\"dni-plaintext\"><pre>&lt;null&gt;</pre></div></td></tr></tbody></table></div></details></td></tr></tbody></table><style>\r\n",
       ".dni-code-hint {\r\n",
       "    font-style: italic;\r\n",
       "    overflow: hidden;\r\n",
       "    white-space: nowrap;\r\n",
       "}\r\n",
       ".dni-treeview {\r\n",
       "    white-space: nowrap;\r\n",
       "}\r\n",
       ".dni-treeview td {\r\n",
       "    vertical-align: top;\r\n",
       "    text-align: start;\r\n",
       "}\r\n",
       "details.dni-treeview {\r\n",
       "    padding-left: 1em;\r\n",
       "}\r\n",
       "table td {\r\n",
       "    text-align: start;\r\n",
       "}\r\n",
       "table tr { \r\n",
       "    vertical-align: top; \r\n",
       "    margin: 0em 0px;\r\n",
       "}\r\n",
       "table tr td pre \r\n",
       "{ \r\n",
       "    vertical-align: top !important; \r\n",
       "    margin: 0em 0px !important;\r\n",
       "} \r\n",
       "table th {\r\n",
       "    text-align: start;\r\n",
       "}\r\n",
       "</style>"
      ]
     },
     "metadata": {},
     "output_type": "display_data"
    }
   ],
   "source": [
    "// Create a list of sample games\n",
    "List<GameInfo> games = new() {\n",
    "    new GameInfo()\n",
    "    {\n",
    "        Title = \"Comic Doggo Side Scroller for Teens\",\n",
    "        CartoonViolence = true,\n",
    "        MildLanguage = true,\n",
    "        CrudeHumor = true,\n",
    "        Violence = true,\n",
    "    },\n",
    "    new GameInfo()\n",
    "    {\n",
    "        Title = \"Kinda Sus\",\n",
    "        MildCartoonViolence = true\n",
    "    },\n",
    "    new GameInfo()\n",
    "    {\n",
    "        Title = \"The Earthlings are Coming\",\n",
    "        MildViolence = true,\n",
    "        MildFantasyViolence = true,\n",
    "    },\n",
    "    new GameInfo()\n",
    "    {\n",
    "        Title = \"Shoddy Surgeon Simulator\",\n",
    "        BloodAndGore = true,\n",
    "        DrugReference = true,\n",
    "        PartialNudity = true,\n",
    "    },\n",
    "    new GameInfo()\n",
    "    {\n",
    "        Title = \"Assistant to the Lawn Service Manager 2023\",\n",
    "        MildLanguage = true,\n",
    "        CrudeHumor = true,\n",
    "        AlcoholReference = true,\n",
    "    },\n",
    "    new GameInfo()\n",
    "    {\n",
    "        Title = \"Intense Shoot-o-rama: Why would anyone play this edition\",\n",
    "        BloodAndGore = true,\n",
    "        DrugReference = true,\n",
    "        AlcoholReference = true,\n",
    "        Nudity = true,\n",
    "        StrongLanguage = true,\n",
    "        SexualContent = true,\n",
    "        SexualThemes = true,\n",
    "        MatureHumor = true,\n",
    "        IntenseViolence = true,\n",
    "        CrudeHumor = true,\n",
    "    }\n",
    "};\n",
    "\n",
    "games"
   ]
  },
  {
   "cell_type": "code",
   "execution_count": 16,
   "metadata": {
    "dotnet_interactive": {
     "language": "csharp"
    },
    "polyglot_notebook": {
     "kernelName": "csharp"
    }
   },
   "outputs": [
    {
     "name": "stdout",
     "output_type": "stream",
     "text": [
      "Predicted T for Comic Doggo Side Scroller for Teens\n",
      "   Probabilities (E/ET/M/T): 21.89% 22.93% 21.86% 33.32% \n",
      "\n",
      "Predicted E for Kinda Sus\n",
      "   Probabilities (E/ET/M/T): 30.98% 22.20% 21.16% 25.67% \n",
      "\n",
      "Predicted E for The Earthlings are Coming\n",
      "   Probabilities (E/ET/M/T): 35.05% 22.12% 19.35% 23.48% \n",
      "\n",
      "Predicted M for Shoddy Surgeon Simulator\n",
      "   Probabilities (E/ET/M/T): 20.74% 21.73% 32.39% 25.13% \n",
      "\n",
      "Predicted ET for Assistant to the Lawn Service Manager 2023\n",
      "   Probabilities (E/ET/M/T): 22.48% 27.82% 22.45% 27.24% \n",
      "\n",
      "Predicted M for Intense Shoot-o-rama: Why would anyone play this edition\n",
      "   Probabilities (E/ET/M/T): 18.80% 23.27% 36.35% 21.58% \n",
      "\n"
     ]
    }
   ],
   "source": [
    "foreach (GameInfo game in games) {\n",
    "    ESRBPrediction prediction = predictor.Predict(game);\n",
    "\n",
    "    Console.WriteLine($\"Predicted {prediction.ESRBRating} for {game.Title}\");\n",
    "\n",
    "    Console.Write(\"   Probabilities (E/ET/M/T): \");\n",
    "    foreach (float probability in prediction.Score) {\n",
    "        Console.Write($\"{probability:P} \");\n",
    "    }\n",
    "    Console.WriteLine();\n",
    "    Console.WriteLine();\n",
    "}"
   ]
  },
  {
   "attachments": {},
   "cell_type": "markdown",
   "metadata": {},
   "source": [
    "### Save the Trained Model for Later\n",
    "\n",
    "Because training models takes time, we can save the resulting model to a Zip file. This file can then be deployed elsewhere."
   ]
  },
  {
   "cell_type": "code",
   "execution_count": 17,
   "metadata": {
    "dotnet_interactive": {
     "language": "csharp"
    },
    "polyglot_notebook": {
     "kernelName": "csharp"
    }
   },
   "outputs": [
    {
     "name": "stdout",
     "output_type": "stream",
     "text": [
      "Model saved\r\n"
     ]
    }
   ],
   "source": [
    "Context.Model.Save(model, inputSchema:null, \"Model.zip\");\n",
    "\n",
    "Console.WriteLine(\"Model saved\");"
   ]
  },
  {
   "attachments": {},
   "cell_type": "markdown",
   "metadata": {},
   "source": [
    "### Load the Model\n",
    "\n",
    "Most of the time you just want to use a trained model, not retrain it every time. This is how you'd do that."
   ]
  },
  {
   "cell_type": "code",
   "execution_count": 18,
   "metadata": {
    "dotnet_interactive": {
     "language": "csharp"
    },
    "polyglot_notebook": {
     "kernelName": "csharp"
    }
   },
   "outputs": [
    {
     "data": {
      "text/html": [
       "<table><thead><tr><th><i>index</i></th><th><i>type</i></th><th>value</th></tr></thead><tbody><tr><td>0</td><td><span><a href=\"https://docs.microsoft.com/dotnet/api/microsoft.ml.transforms.typeconvertingtransformer?view=net-7.0\">Microsoft.ML.Transforms.TypeConvertingTransformer</a></span></td><td><details class=\"dni-treeview\"><summary><span class=\"dni-code-hint\"><code>Microsoft.ML.Transforms.TypeConvertingTransformer</code></span></summary><div><table><thead><tr></tr></thead><tbody></tbody></table></div></details></td></tr><tr><td>1</td><td><span><a href=\"https://docs.microsoft.com/dotnet/api/microsoft.ml.transforms.text.textfeaturizingestimator.transformer?view=net-7.0\">Microsoft.ML.Transforms.Text.TextFeaturizingEstimator+Transformer</a></span></td><td><details class=\"dni-treeview\"><summary><span class=\"dni-code-hint\"><code>Microsoft.ML.Transforms.Text.TextFeaturizingEstimator+Transformer</code></span></summary><div><table><thead><tr></tr></thead><tbody></tbody></table></div></details></td></tr><tr><td>2</td><td><span><a href=\"https://docs.microsoft.com/dotnet/api/microsoft.ml.data.columnconcatenatingtransformer?view=net-7.0\">Microsoft.ML.Data.ColumnConcatenatingTransformer</a></span></td><td><details class=\"dni-treeview\"><summary><span class=\"dni-code-hint\"><code>Microsoft.ML.Data.ColumnConcatenatingTransformer</code></span></summary><div><table><thead><tr></tr></thead><tbody></tbody></table></div></details></td></tr><tr><td>3</td><td><span><a href=\"https://docs.microsoft.com/dotnet/api/microsoft.ml.transforms.valuetokeymappingtransformer?view=net-7.0\">Microsoft.ML.Transforms.ValueToKeyMappingTransformer</a></span></td><td><details class=\"dni-treeview\"><summary><span class=\"dni-code-hint\"><code>Microsoft.ML.Transforms.ValueToKeyMappingTransformer</code></span></summary><div><table><thead><tr></tr></thead><tbody></tbody></table></div></details></td></tr><tr><td>4</td><td><span><a href=\"https://docs.microsoft.com/dotnet/api/microsoft.ml.data.multiclasspredictiontransformer-1?view=net-7.0\">Microsoft.ML.Data.MulticlassPredictionTransformer&lt;Microsoft.ML.Trainers.OneVersusAllModelParameters&gt;</a></span></td><td><details class=\"dni-treeview\"><summary><span class=\"dni-code-hint\"><code>Microsoft.ML.Data.MulticlassPredictionTransformer`1[Microsoft.ML.Trainers.OneVersusAllModelParameters]</code></span></summary><div><table><thead><tr></tr></thead><tbody><tr><td>FeatureColumnName</td><td>__Features__</td></tr><tr><td>FeatureColumnType</td><td><details class=\"dni-treeview\"><summary><span class=\"dni-code-hint\"><code>Vector<Single, 11774></code></span></summary><div><table><thead><tr></tr></thead><tbody><tr><td>Dimensions</td><td><div class=\"dni-plaintext\"><pre>[ 11774 ]</pre></div></td></tr><tr><td>IsKnownSize</td><td><div class=\"dni-plaintext\"><pre>True</pre></div></td></tr><tr><td>ItemType</td><td><details class=\"dni-treeview\"><summary><span class=\"dni-code-hint\"><code>Single</code></span></summary><div><table><thead><tr></tr></thead><tbody><tr><td>RawType</td><td><span><a href=\"https://docs.microsoft.com/dotnet/api/system.single?view=net-7.0\">System.Single</a></span></td></tr></tbody></table></div></details></td></tr><tr><td>Size</td><td><div class=\"dni-plaintext\"><pre>11774</pre></div></td></tr><tr><td>RawType</td><td><span><a href=\"https://docs.microsoft.com/dotnet/api/microsoft.ml.data.vbuffer-1?view=net-7.0\">Microsoft.ML.Data.VBuffer&lt;System.Single&gt;</a></span></td></tr></tbody></table></div></details></td></tr><tr><td>Model</td><td><details class=\"dni-treeview\"><summary><span class=\"dni-code-hint\"><code>Microsoft.ML.Trainers.OneVersusAllModelParameters</code></span></summary><div><table><thead><tr></tr></thead><tbody></tbody></table></div></details></td></tr></tbody></table></div></details></td></tr><tr><td>5</td><td><span><a href=\"https://docs.microsoft.com/dotnet/api/microsoft.ml.transforms.keytovaluemappingtransformer?view=net-7.0\">Microsoft.ML.Transforms.KeyToValueMappingTransformer</a></span></td><td><details class=\"dni-treeview\"><summary><span class=\"dni-code-hint\"><code>Microsoft.ML.Transforms.KeyToValueMappingTransformer</code></span></summary><div><table><thead><tr></tr></thead><tbody></tbody></table></div></details></td></tr></tbody></table><style>\r\n",
       ".dni-code-hint {\r\n",
       "    font-style: italic;\r\n",
       "    overflow: hidden;\r\n",
       "    white-space: nowrap;\r\n",
       "}\r\n",
       ".dni-treeview {\r\n",
       "    white-space: nowrap;\r\n",
       "}\r\n",
       ".dni-treeview td {\r\n",
       "    vertical-align: top;\r\n",
       "    text-align: start;\r\n",
       "}\r\n",
       "details.dni-treeview {\r\n",
       "    padding-left: 1em;\r\n",
       "}\r\n",
       "table td {\r\n",
       "    text-align: start;\r\n",
       "}\r\n",
       "table tr { \r\n",
       "    vertical-align: top; \r\n",
       "    margin: 0em 0px;\r\n",
       "}\r\n",
       "table tr td pre \r\n",
       "{ \r\n",
       "    vertical-align: top !important; \r\n",
       "    margin: 0em 0px !important;\r\n",
       "} \r\n",
       "table th {\r\n",
       "    text-align: start;\r\n",
       "}\r\n",
       "</style>"
      ]
     },
     "metadata": {},
     "output_type": "display_data"
    }
   ],
   "source": [
    "ITransformer loadedModel = Context.Model.Load(\"Model.zip\", out _);\n",
    "\n",
    "loadedModel // After this, we'd build a PredictionEngine"
   ]
  },
  {
   "attachments": {},
   "cell_type": "markdown",
   "metadata": {},
   "source": [
    "---\n",
    "\n",
    "**Note:** models can also be saved to / loaded from ONNX format and used in other machine learning platforms and frameworks."
   ]
  }
 ],
 "metadata": {
  "kernelspec": {
   "display_name": ".NET (C#)",
   "language": "C#",
   "name": ".net-csharp"
  },
  "language_info": {
   "name": "polyglot-notebook"
  },
  "polyglot_notebook": {
   "kernelInfo": {
    "defaultKernelName": "csharp",
    "items": [
     {
      "aliases": [],
      "languageName": "csharp",
      "name": "csharp"
     }
    ]
   }
  }
 },
 "nbformat": 4,
 "nbformat_minor": 2
}
