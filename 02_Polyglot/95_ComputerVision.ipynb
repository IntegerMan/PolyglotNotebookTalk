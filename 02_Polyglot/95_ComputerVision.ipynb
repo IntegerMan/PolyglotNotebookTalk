{
 "cells": [
  {
   "attachments": {},
   "cell_type": "markdown",
   "metadata": {},
   "source": [
    "## Computer Vision\n",
    "Notebooks can be used to configure and launch occasional manual tasks instead of building a full application.\n",
    "\n",
    "This notebook analyzes an image on disk using Azure Cognitive Services and displays the results to the user"
   ]
  },
  {
   "cell_type": "code",
   "execution_count": 8,
   "metadata": {
    "dotnet_interactive": {
     "language": "csharp"
    },
    "polyglot_notebook": {
     "kernelName": "csharp"
    }
   },
   "outputs": [],
   "source": [
    "using System.IO;\n",
    "\n",
    "string filePath = Path.Combine(Environment.CurrentDirectory, \"../Images/JesterKeyboard.png\");"
   ]
  },
  {
   "attachments": {},
   "cell_type": "markdown",
   "metadata": {},
   "source": [
    "### Setup"
   ]
  },
  {
   "cell_type": "code",
   "execution_count": 9,
   "metadata": {
    "dotnet_interactive": {
     "language": "csharp"
    },
    "polyglot_notebook": {
     "kernelName": "csharp"
    }
   },
   "outputs": [
    {
     "data": {
      "text/html": [
       "<div><div></div><div></div><div><strong>Installed Packages</strong><ul><li><span>Microsoft.Azure.CognitiveServices.Vision.ComputerVision, 7.0.1</span></li><li><span>Newtonsoft.Json, 13.0.3</span></li></ul></div></div>"
      ]
     },
     "metadata": {},
     "output_type": "display_data"
    }
   ],
   "source": [
    "#r \"nuget:Microsoft.Azure.CognitiveServices.Vision.ComputerVision\"\n",
    "#r \"nuget:Newtonsoft.Json\""
   ]
  },
  {
   "cell_type": "code",
   "execution_count": 10,
   "metadata": {
    "dotnet_interactive": {
     "language": "csharp"
    },
    "polyglot_notebook": {
     "kernelName": "csharp"
    }
   },
   "outputs": [],
   "source": [
    "using Microsoft.Azure.CognitiveServices.Vision.ComputerVision;\n",
    "using Microsoft.Azure.CognitiveServices.Vision.ComputerVision.Models;\n",
    "\n",
    "using System.Collections.Generic;\n",
    "using System.IO;"
   ]
  },
  {
   "cell_type": "code",
   "execution_count": 11,
   "metadata": {
    "dotnet_interactive": {
     "language": "csharp"
    },
    "polyglot_notebook": {
     "kernelName": "csharp"
    }
   },
   "outputs": [],
   "source": [
    "// Determine what features we care about in our image\n",
    "List<VisualFeatureTypes?> features = new() { \n",
    "    VisualFeatureTypes.Categories,\n",
    "    VisualFeatureTypes.Description,\n",
    "    VisualFeatureTypes.ImageType,\n",
    "    VisualFeatureTypes.Tags,\n",
    "    VisualFeatureTypes.Adult,\n",
    "    VisualFeatureTypes.Objects,\n",
    "    VisualFeatureTypes.Color,\n",
    "    VisualFeatureTypes.Faces,\n",
    "    VisualFeatureTypes.Brands,\n",
    "};"
   ]
  },
  {
   "cell_type": "code",
   "execution_count": 12,
   "metadata": {
    "dotnet_interactive": {
     "language": "csharp"
    },
    "polyglot_notebook": {
     "kernelName": "csharp"
    }
   },
   "outputs": [],
   "source": [
    "// This has been retired and won't work for you\n",
    "string endpoint = \"https://eland-cog-services-demo.cognitiveservices.azure.com/\";\n",
    "string apiKey = \"2533c1b2cf3b4b479ba1609e698f96c4\";"
   ]
  },
  {
   "cell_type": "code",
   "execution_count": 13,
   "metadata": {
    "dotnet_interactive": {
     "language": "csharp"
    },
    "polyglot_notebook": {
     "kernelName": "csharp"
    }
   },
   "outputs": [],
   "source": [
    "// The credentials object lets us authenticate against Azure.\n",
    "ApiKeyServiceClientCredentials credentials = new(apiKey);\n",
    "\n",
    "// The Computer Vision Client lets us call out to Cognitive Services\n",
    "ComputerVisionClient client = new(credentials);\n",
    "client.Endpoint = endpoint;"
   ]
  },
  {
   "attachments": {},
   "cell_type": "markdown",
   "metadata": {},
   "source": [
    "Here is the image we'll send to Azure Cognitive Services:\n",
    "\n",
    "![A puppy on a hand on a keyboard](../Images/JesterKeyboard.png)"
   ]
  },
  {
   "cell_type": "code",
   "execution_count": 14,
   "metadata": {
    "dotnet_interactive": {
     "language": "csharp"
    },
    "polyglot_notebook": {
     "kernelName": "csharp"
    }
   },
   "outputs": [],
   "source": [
    "ImageAnalysis analysis;\n",
    "\n",
    "// Load the image's data into memory\n",
    "using (Stream imageStream = File.OpenRead(filePath)) {\n",
    "    \n",
    "    // Send the image data to Azure Cognitive Services\n",
    "    analysis = await client.AnalyzeImageInStreamAsync(imageStream, features);\n",
    "}"
   ]
  },
  {
   "attachments": {},
   "cell_type": "markdown",
   "metadata": {},
   "source": [
    "### Exploring the Analysis Results"
   ]
  },
  {
   "cell_type": "code",
   "execution_count": 15,
   "metadata": {
    "dotnet_interactive": {
     "language": "csharp"
    },
    "polyglot_notebook": {
     "kernelName": "csharp"
    }
   },
   "outputs": [
    {
     "data": {
      "text/html": [
       "<details open=\"open\" class=\"dni-treeview\"><summary><span class=\"dni-code-hint\"><code>Microsoft.Azure.CognitiveServices.Vision.ComputerVision.Models.ImageAnalysis</code></span></summary><div><table><thead><tr></tr></thead><tbody><tr><td>Categories</td><td><table><thead><tr><th><i>index</i></th><th>value</th></tr></thead><tbody><tr><td>0</td><td><details class=\"dni-treeview\"><summary><span class=\"dni-code-hint\"><code>Microsoft.Azure.CognitiveServices.Vision.ComputerVision.Models.Category</code></span></summary><div><table><thead><tr></tr></thead><tbody><tr><td>Name</td><td>others_</td></tr><tr><td>Score</td><td><div class=\"dni-plaintext\"><pre>0.00390625</pre></div></td></tr><tr><td>Detail</td><td><div class=\"dni-plaintext\"><pre>&lt;null&gt;</pre></div></td></tr></tbody></table></div></details></td></tr></tbody></table></td></tr><tr><td>Adult</td><td><details class=\"dni-treeview\"><summary><span class=\"dni-code-hint\"><code>Microsoft.Azure.CognitiveServices.Vision.ComputerVision.Models.AdultInfo</code></span></summary><div><table><thead><tr></tr></thead><tbody><tr><td>IsAdultContent</td><td><div class=\"dni-plaintext\"><pre>False</pre></div></td></tr><tr><td>IsRacyContent</td><td><div class=\"dni-plaintext\"><pre>False</pre></div></td></tr><tr><td>IsGoryContent</td><td><div class=\"dni-plaintext\"><pre>False</pre></div></td></tr><tr><td>AdultScore</td><td><div class=\"dni-plaintext\"><pre>0.002754890825599432</pre></div></td></tr><tr><td>RacyScore</td><td><div class=\"dni-plaintext\"><pre>0.005863004829734564</pre></div></td></tr><tr><td>GoreScore</td><td><div class=\"dni-plaintext\"><pre>0.2202041894197464</pre></div></td></tr></tbody></table></div></details></td></tr><tr><td>Color</td><td><details class=\"dni-treeview\"><summary><span class=\"dni-code-hint\"><code>Microsoft.Azure.CognitiveServices.Vision.ComputerVision.Models.ColorInfo</code></span></summary><div><table><thead><tr></tr></thead><tbody><tr><td>DominantColorForeground</td><td>Brown</td></tr><tr><td>DominantColorBackground</td><td>Brown</td></tr><tr><td>DominantColors</td><td><div class=\"dni-plaintext\"><pre>[ Brown, Black ]</pre></div></td></tr><tr><td>AccentColor</td><td>7D2A05</td></tr><tr><td>IsBWImg</td><td><div class=\"dni-plaintext\"><pre>False</pre></div></td></tr></tbody></table></div></details></td></tr><tr><td>ImageType</td><td><details class=\"dni-treeview\"><summary><span class=\"dni-code-hint\"><code>Microsoft.Azure.CognitiveServices.Vision.ComputerVision.Models.ImageType</code></span></summary><div><table><thead><tr></tr></thead><tbody><tr><td>ClipArtType</td><td><div class=\"dni-plaintext\"><pre>0</pre></div></td></tr><tr><td>LineDrawingType</td><td><div class=\"dni-plaintext\"><pre>0</pre></div></td></tr></tbody></table></div></details></td></tr><tr><td>Tags</td><td><table><thead><tr><th><i>index</i></th><th>value</th></tr></thead><tbody><tr><td>0</td><td><details class=\"dni-treeview\"><summary><span class=\"dni-code-hint\"><code>Microsoft.Azure.CognitiveServices.Vision.ComputerVision.Models.ImageTag</code></span></summary><div><table><thead><tr></tr></thead><tbody><tr><td>Name</td><td>indoor</td></tr><tr><td>Confidence</td><td><div class=\"dni-plaintext\"><pre>0.9848715662956238</pre></div></td></tr><tr><td>Hint</td><td><div class=\"dni-plaintext\"><pre>&lt;null&gt;</pre></div></td></tr></tbody></table></div></details></td></tr><tr><td>1</td><td><details class=\"dni-treeview\"><summary><span class=\"dni-code-hint\"><code>Microsoft.Azure.CognitiveServices.Vision.ComputerVision.Models.ImageTag</code></span></summary><div><table><thead><tr></tr></thead><tbody><tr><td>Name</td><td>computer</td></tr><tr><td>Confidence</td><td><div class=\"dni-plaintext\"><pre>0.9793701171875</pre></div></td></tr><tr><td>Hint</td><td><div class=\"dni-plaintext\"><pre>&lt;null&gt;</pre></div></td></tr></tbody></table></div></details></td></tr><tr><td>2</td><td><details class=\"dni-treeview\"><summary><span class=\"dni-code-hint\"><code>Microsoft.Azure.CognitiveServices.Vision.ComputerVision.Models.ImageTag</code></span></summary><div><table><thead><tr></tr></thead><tbody><tr><td>Name</td><td>animal</td></tr><tr><td>Confidence</td><td><div class=\"dni-plaintext\"><pre>0.9454659819602966</pre></div></td></tr><tr><td>Hint</td><td><div class=\"dni-plaintext\"><pre>&lt;null&gt;</pre></div></td></tr></tbody></table></div></details></td></tr><tr><td>3</td><td><details class=\"dni-treeview\"><summary><span class=\"dni-code-hint\"><code>Microsoft.Azure.CognitiveServices.Vision.ComputerVision.Models.ImageTag</code></span></summary><div><table><thead><tr></tr></thead><tbody><tr><td>Name</td><td>computer keyboard</td></tr><tr><td>Confidence</td><td><div class=\"dni-plaintext\"><pre>0.9284276962280273</pre></div></td></tr><tr><td>Hint</td><td><div class=\"dni-plaintext\"><pre>&lt;null&gt;</pre></div></td></tr></tbody></table></div></details></td></tr><tr><td>4</td><td><details class=\"dni-treeview\"><summary><span class=\"dni-code-hint\"><code>Microsoft.Azure.CognitiveServices.Vision.ComputerVision.Models.ImageTag</code></span></summary><div><table><thead><tr></tr></thead><tbody><tr><td>Name</td><td>personal computer</td></tr><tr><td>Confidence</td><td><div class=\"dni-plaintext\"><pre>0.9160323143005371</pre></div></td></tr><tr><td>Hint</td><td><div class=\"dni-plaintext\"><pre>&lt;null&gt;</pre></div></td></tr></tbody></table></div></details></td></tr><tr><td colspan=\"2\"><i>(15 more)</i></td></tr></tbody></table></td></tr><tr><td>Description</td><td><details class=\"dni-treeview\"><summary><span class=\"dni-code-hint\"><code>Microsoft.Azure.CognitiveServices.Vision.ComputerVision.Models.ImageDescriptionDetails</code></span></summary><div><table><thead><tr></tr></thead><tbody><tr><td>Tags</td><td><div class=\"dni-plaintext\"><pre>[ text, indoor, dog, computer, person ... (1 more) ]</pre></div></td></tr><tr><td>Captions</td><td><table><thead><tr><th><i>index</i></th><th>value</th></tr></thead><tbody><tr><td>0</td><td><details class=\"dni-treeview\"><summary><span class=\"dni-code-hint\"><code>Microsoft.Azure.CognitiveServices.Vision.ComputerVision.Models.ImageCaption</code></span></summary><div><table><thead><tr></tr></thead><tbody><tr><td>Text</td><td>a dog sleeping on a desk</td></tr><tr><td>Confidence</td><td><div class=\"dni-plaintext\"><pre>0.3856593370437622</pre></div></td></tr></tbody></table></div></details></td></tr></tbody></table></td></tr></tbody></table></div></details></td></tr><tr><td>Faces</td><td></td></tr><tr><td>Objects</td><td><table><thead><tr><th><i>index</i></th><th>value</th></tr></thead><tbody><tr><td>0</td><td><details class=\"dni-treeview\"><summary><span class=\"dni-code-hint\"><code>Microsoft.Azure.CognitiveServices.Vision.ComputerVision.Models.DetectedObject</code></span></summary><div><table><thead><tr></tr></thead><tbody><tr><td>Rectangle</td><td><details class=\"dni-treeview\"><summary><span class=\"dni-code-hint\"><code>Microsoft.Azure.CognitiveServices.Vision.ComputerVision.Models.BoundingRect</code></span></summary><div><table><thead><tr></tr></thead><tbody><tr><td>X</td><td><div class=\"dni-plaintext\"><pre>404</pre></div></td></tr><tr><td>Y</td><td><div class=\"dni-plaintext\"><pre>185</pre></div></td></tr><tr><td>W</td><td><div class=\"dni-plaintext\"><pre>193</pre></div></td></tr><tr><td>H</td><td><div class=\"dni-plaintext\"><pre>137</pre></div></td></tr></tbody></table></div></details></td></tr><tr><td>ObjectProperty</td><td>computer keyboard</td></tr><tr><td>Confidence</td><td><div class=\"dni-plaintext\"><pre>0.551</pre></div></td></tr><tr><td>Parent</td><td><div class=\"dni-plaintext\"><pre>&lt;null&gt;</pre></div></td></tr></tbody></table></div></details></td></tr><tr><td>1</td><td><details class=\"dni-treeview\"><summary><span class=\"dni-code-hint\"><code>Microsoft.Azure.CognitiveServices.Vision.ComputerVision.Models.DetectedObject</code></span></summary><div><table><thead><tr></tr></thead><tbody><tr><td>Rectangle</td><td><details class=\"dni-treeview\"><summary><span class=\"dni-code-hint\"><code>Microsoft.Azure.CognitiveServices.Vision.ComputerVision.Models.BoundingRect</code></span></summary><div><table><thead><tr></tr></thead><tbody><tr><td>X</td><td><div class=\"dni-plaintext\"><pre>0</pre></div></td></tr><tr><td>Y</td><td><div class=\"dni-plaintext\"><pre>0</pre></div></td></tr><tr><td>W</td><td><div class=\"dni-plaintext\"><pre>271</pre></div></td></tr><tr><td>H</td><td><div class=\"dni-plaintext\"><pre>281</pre></div></td></tr></tbody></table></div></details></td></tr><tr><td>ObjectProperty</td><td>display</td></tr><tr><td>Confidence</td><td><div class=\"dni-plaintext\"><pre>0.655</pre></div></td></tr><tr><td>Parent</td><td><div class=\"dni-plaintext\"><pre>&lt;null&gt;</pre></div></td></tr></tbody></table></div></details></td></tr><tr><td>2</td><td><details class=\"dni-treeview\"><summary><span class=\"dni-code-hint\"><code>Microsoft.Azure.CognitiveServices.Vision.ComputerVision.Models.DetectedObject</code></span></summary><div><table><thead><tr></tr></thead><tbody><tr><td>Rectangle</td><td><details class=\"dni-treeview\"><summary><span class=\"dni-code-hint\"><code>Microsoft.Azure.CognitiveServices.Vision.ComputerVision.Models.BoundingRect</code></span></summary><div><table><thead><tr></tr></thead><tbody><tr><td>X</td><td><div class=\"dni-plaintext\"><pre>279</pre></div></td></tr><tr><td>Y</td><td><div class=\"dni-plaintext\"><pre>0</pre></div></td></tr><tr><td>W</td><td><div class=\"dni-plaintext\"><pre>321</pre></div></td></tr><tr><td>H</td><td><div class=\"dni-plaintext\"><pre>131</pre></div></td></tr></tbody></table></div></details></td></tr><tr><td>ObjectProperty</td><td>display</td></tr><tr><td>Confidence</td><td><div class=\"dni-plaintext\"><pre>0.773</pre></div></td></tr><tr><td>Parent</td><td><div class=\"dni-plaintext\"><pre>&lt;null&gt;</pre></div></td></tr></tbody></table></div></details></td></tr><tr><td>3</td><td><details class=\"dni-treeview\"><summary><span class=\"dni-code-hint\"><code>Microsoft.Azure.CognitiveServices.Vision.ComputerVision.Models.DetectedObject</code></span></summary><div><table><thead><tr></tr></thead><tbody><tr><td>Rectangle</td><td><details class=\"dni-treeview\"><summary><span class=\"dni-code-hint\"><code>Microsoft.Azure.CognitiveServices.Vision.ComputerVision.Models.BoundingRect</code></span></summary><div><table><thead><tr></tr></thead><tbody><tr><td>X</td><td><div class=\"dni-plaintext\"><pre>62</pre></div></td></tr><tr><td>Y</td><td><div class=\"dni-plaintext\"><pre>131</pre></div></td></tr><tr><td>W</td><td><div class=\"dni-plaintext\"><pre>373</pre></div></td></tr><tr><td>H</td><td><div class=\"dni-plaintext\"><pre>203</pre></div></td></tr></tbody></table></div></details></td></tr><tr><td>ObjectProperty</td><td>dog</td></tr><tr><td>Confidence</td><td><div class=\"dni-plaintext\"><pre>0.507</pre></div></td></tr><tr><td>Parent</td><td><details class=\"dni-treeview\"><summary><span class=\"dni-code-hint\"><code>Microsoft.Azure.CognitiveServices.Vision.ComputerVision.Models.ObjectHierarchy</code></span></summary><div><table><thead><tr></tr></thead><tbody><tr><td>ObjectProperty</td><td>mammal</td></tr><tr><td>Confidence</td><td><div class=\"dni-plaintext\"><pre>0.871</pre></div></td></tr><tr><td>Parent</td><td><details class=\"dni-treeview\"><summary><span class=\"dni-code-hint\"><code>Microsoft.Azure.CognitiveServices.Vision.ComputerVision.Models.ObjectHierarchy</code></span></summary><div><table><thead><tr></tr></thead><tbody><tr><td>ObjectProperty</td><td>animal</td></tr><tr><td>Confidence</td><td><div class=\"dni-plaintext\"><pre>0.871</pre></div></td></tr><tr><td>Parent</td><td><div class=\"dni-plaintext\"><pre>&lt;null&gt;</pre></div></td></tr></tbody></table></div></details></td></tr></tbody></table></div></details></td></tr></tbody></table></div></details></td></tr></tbody></table></td></tr><tr><td>Brands</td><td></td></tr><tr><td>RequestId</td><td>2edb36cc-8b22-4aa3-af08-7cbd40c28879</td></tr><tr><td>Metadata</td><td><details class=\"dni-treeview\"><summary><span class=\"dni-code-hint\"><code>Microsoft.Azure.CognitiveServices.Vision.ComputerVision.Models.ImageMetadata</code></span></summary><div><table><thead><tr></tr></thead><tbody><tr><td>Width</td><td><div class=\"dni-plaintext\"><pre>600</pre></div></td></tr><tr><td>Height</td><td><div class=\"dni-plaintext\"><pre>449</pre></div></td></tr><tr><td>Format</td><td>Png</td></tr></tbody></table></div></details></td></tr><tr><td>ModelVersion</td><td>2021-05-01</td></tr></tbody></table></div></details><style>\r\n",
       ".dni-code-hint {\r\n",
       "    font-style: italic;\r\n",
       "    overflow: hidden;\r\n",
       "    white-space: nowrap;\r\n",
       "}\r\n",
       ".dni-treeview {\r\n",
       "    white-space: nowrap;\r\n",
       "}\r\n",
       ".dni-treeview td {\r\n",
       "    vertical-align: top;\r\n",
       "    text-align: start;\r\n",
       "}\r\n",
       "details.dni-treeview {\r\n",
       "    padding-left: 1em;\r\n",
       "}\r\n",
       "table td {\r\n",
       "    text-align: start;\r\n",
       "}\r\n",
       "table tr { \r\n",
       "    vertical-align: top; \r\n",
       "    margin: 0em 0px;\r\n",
       "}\r\n",
       "table tr td pre \r\n",
       "{ \r\n",
       "    vertical-align: top !important; \r\n",
       "    margin: 0em 0px !important;\r\n",
       "} \r\n",
       "table th {\r\n",
       "    text-align: start;\r\n",
       "}\r\n",
       "</style>"
      ]
     },
     "metadata": {},
     "output_type": "display_data"
    }
   ],
   "source": [
    "using Microsoft.DotNet.Interactive.Formatting;\n",
    "Formatter.ListExpansionLimit = 5;\n",
    "\n",
    "analysis"
   ]
  },
  {
   "cell_type": "code",
   "execution_count": 16,
   "metadata": {
    "dotnet_interactive": {
     "language": "csharp"
    },
    "polyglot_notebook": {
     "kernelName": "csharp"
    }
   },
   "outputs": [
    {
     "data": {
      "text/html": [
       "<details open=\"open\" class=\"dni-treeview\"><summary><span class=\"dni-code-hint\"><code>Microsoft.Azure.CognitiveServices.Vision.ComputerVision.Models.ImageCaption</code></span></summary><div><table><thead><tr></tr></thead><tbody><tr><td>Text</td><td>a dog sleeping on a desk</td></tr><tr><td>Confidence</td><td><div class=\"dni-plaintext\"><pre>0.3856593370437622</pre></div></td></tr></tbody></table></div></details><style>\r\n",
       ".dni-code-hint {\r\n",
       "    font-style: italic;\r\n",
       "    overflow: hidden;\r\n",
       "    white-space: nowrap;\r\n",
       "}\r\n",
       ".dni-treeview {\r\n",
       "    white-space: nowrap;\r\n",
       "}\r\n",
       ".dni-treeview td {\r\n",
       "    vertical-align: top;\r\n",
       "    text-align: start;\r\n",
       "}\r\n",
       "details.dni-treeview {\r\n",
       "    padding-left: 1em;\r\n",
       "}\r\n",
       "table td {\r\n",
       "    text-align: start;\r\n",
       "}\r\n",
       "table tr { \r\n",
       "    vertical-align: top; \r\n",
       "    margin: 0em 0px;\r\n",
       "}\r\n",
       "table tr td pre \r\n",
       "{ \r\n",
       "    vertical-align: top !important; \r\n",
       "    margin: 0em 0px !important;\r\n",
       "} \r\n",
       "table th {\r\n",
       "    text-align: start;\r\n",
       "}\r\n",
       "</style>"
      ]
     },
     "metadata": {},
     "output_type": "display_data"
    }
   ],
   "source": [
    "// Display the primary caption and its confidence\n",
    "analysis.Description.Captions[0]"
   ]
  },
  {
   "cell_type": "code",
   "execution_count": 17,
   "metadata": {
    "dotnet_interactive": {
     "language": "csharp"
    },
    "polyglot_notebook": {
     "kernelName": "csharp"
    }
   },
   "outputs": [
    {
     "name": "stdout",
     "output_type": "stream",
     "text": [
      "indoor (98.49% Confidence)\n",
      "computer (97.94% Confidence)\n",
      "animal (94.55% Confidence)\n",
      "computer keyboard (92.84% Confidence)\n",
      "personal computer (91.60% Confidence)\n",
      "input device (90.87% Confidence)\n",
      "desk (88.89% Confidence)\n",
      "dog (88.82% Confidence)\n",
      "computer hardware (88.35% Confidence)\n",
      "output device (87.93% Confidence)\n",
      "electronic device (87.56% Confidence)\n",
      "peripheral (86.15% Confidence)\n",
      "keyboard (85.36% Confidence)\n",
      "space bar (85.06% Confidence)\n",
      "computer monitor (84.90% Confidence)\n",
      "display device (84.40% Confidence)\n",
      "office equipment (84.20% Confidence)\n",
      "person (84.03% Confidence)\n",
      "floor (72.31% Confidence)\n",
      "lap (53.11% Confidence)\n"
     ]
    }
   ],
   "source": [
    "// Display Tags\n",
    "foreach (ImageTag tag in analysis.Tags) {\n",
    "    Console.WriteLine($\"{tag.Name} ({tag.Confidence:P} Confidence)\");\n",
    "}"
   ]
  },
  {
   "cell_type": "code",
   "execution_count": 18,
   "metadata": {
    "dotnet_interactive": {
     "language": "csharp"
    },
    "polyglot_notebook": {
     "kernelName": "csharp"
    }
   },
   "outputs": [
    {
     "data": {
      "text/html": [
       "<details open=\"open\" class=\"dni-treeview\"><summary><span class=\"dni-code-hint\"><code>Microsoft.Azure.CognitiveServices.Vision.ComputerVision.Models.ColorInfo</code></span></summary><div><table><thead><tr></tr></thead><tbody><tr><td>DominantColorForeground</td><td>Brown</td></tr><tr><td>DominantColorBackground</td><td>Brown</td></tr><tr><td>DominantColors</td><td><div class=\"dni-plaintext\"><pre>[ Brown, Black ]</pre></div></td></tr><tr><td>AccentColor</td><td>7D2A05</td></tr><tr><td>IsBWImg</td><td><div class=\"dni-plaintext\"><pre>False</pre></div></td></tr></tbody></table></div></details><style>\r\n",
       ".dni-code-hint {\r\n",
       "    font-style: italic;\r\n",
       "    overflow: hidden;\r\n",
       "    white-space: nowrap;\r\n",
       "}\r\n",
       ".dni-treeview {\r\n",
       "    white-space: nowrap;\r\n",
       "}\r\n",
       ".dni-treeview td {\r\n",
       "    vertical-align: top;\r\n",
       "    text-align: start;\r\n",
       "}\r\n",
       "details.dni-treeview {\r\n",
       "    padding-left: 1em;\r\n",
       "}\r\n",
       "table td {\r\n",
       "    text-align: start;\r\n",
       "}\r\n",
       "table tr { \r\n",
       "    vertical-align: top; \r\n",
       "    margin: 0em 0px;\r\n",
       "}\r\n",
       "table tr td pre \r\n",
       "{ \r\n",
       "    vertical-align: top !important; \r\n",
       "    margin: 0em 0px !important;\r\n",
       "} \r\n",
       "table th {\r\n",
       "    text-align: start;\r\n",
       "}\r\n",
       "</style>"
      ]
     },
     "metadata": {},
     "output_type": "display_data"
    }
   ],
   "source": [
    "// Display color information\n",
    "analysis.Color"
   ]
  },
  {
   "cell_type": "code",
   "execution_count": 19,
   "metadata": {
    "dotnet_interactive": {
     "language": "csharp"
    },
    "polyglot_notebook": {
     "kernelName": "csharp"
    }
   },
   "outputs": [
    {
     "data": {
      "text/html": [
       "<details open=\"open\" class=\"dni-treeview\"><summary><span class=\"dni-code-hint\"><code>Microsoft.Azure.CognitiveServices.Vision.ComputerVision.Models.AdultInfo</code></span></summary><div><table><thead><tr></tr></thead><tbody><tr><td>IsAdultContent</td><td><div class=\"dni-plaintext\"><pre>False</pre></div></td></tr><tr><td>IsRacyContent</td><td><div class=\"dni-plaintext\"><pre>False</pre></div></td></tr><tr><td>IsGoryContent</td><td><div class=\"dni-plaintext\"><pre>False</pre></div></td></tr><tr><td>AdultScore</td><td><div class=\"dni-plaintext\"><pre>0.002754890825599432</pre></div></td></tr><tr><td>RacyScore</td><td><div class=\"dni-plaintext\"><pre>0.005863004829734564</pre></div></td></tr><tr><td>GoreScore</td><td><div class=\"dni-plaintext\"><pre>0.2202041894197464</pre></div></td></tr></tbody></table></div></details><style>\r\n",
       ".dni-code-hint {\r\n",
       "    font-style: italic;\r\n",
       "    overflow: hidden;\r\n",
       "    white-space: nowrap;\r\n",
       "}\r\n",
       ".dni-treeview {\r\n",
       "    white-space: nowrap;\r\n",
       "}\r\n",
       ".dni-treeview td {\r\n",
       "    vertical-align: top;\r\n",
       "    text-align: start;\r\n",
       "}\r\n",
       "details.dni-treeview {\r\n",
       "    padding-left: 1em;\r\n",
       "}\r\n",
       "table td {\r\n",
       "    text-align: start;\r\n",
       "}\r\n",
       "table tr { \r\n",
       "    vertical-align: top; \r\n",
       "    margin: 0em 0px;\r\n",
       "}\r\n",
       "table tr td pre \r\n",
       "{ \r\n",
       "    vertical-align: top !important; \r\n",
       "    margin: 0em 0px !important;\r\n",
       "} \r\n",
       "table th {\r\n",
       "    text-align: start;\r\n",
       "}\r\n",
       "</style>"
      ]
     },
     "metadata": {},
     "output_type": "display_data"
    }
   ],
   "source": [
    "// Is this adult, racy, or gory?\n",
    "analysis.Adult"
   ]
  },
  {
   "cell_type": "code",
   "execution_count": 20,
   "metadata": {
    "dotnet_interactive": {
     "language": "csharp"
    },
    "polyglot_notebook": {
     "kernelName": "csharp"
    }
   },
   "outputs": [
    {
     "name": "stdout",
     "output_type": "stream",
     "text": [
      "computer keyboard detected at 404, 185 by 193, 137 (55.10% Confidence)\n",
      "display detected at 0, 0 by 271, 281 (65.50% Confidence)\n",
      "display detected at 279, 0 by 321, 131 (77.30% Confidence)\n",
      "dog detected at 62, 131 by 373, 203 (50.70% Confidence)\n"
     ]
    }
   ],
   "source": [
    "foreach (DetectedObject obj in analysis.Objects) {\n",
    "    string bounds = $\"{obj.Rectangle.X}, {obj.Rectangle.Y} by {obj.Rectangle.W}, {obj.Rectangle.H}\";\n",
    "    Console.WriteLine($\"{obj.ObjectProperty} detected at {bounds} ({obj.Confidence:P} Confidence)\");\n",
    "}"
   ]
  }
 ],
 "metadata": {
  "kernelspec": {
   "display_name": ".NET (C#)",
   "language": "C#",
   "name": ".net-csharp"
  },
  "language_info": {
   "name": "polyglot-notebook"
  },
  "polyglot_notebook": {
   "kernelInfo": {
    "defaultKernelName": "csharp",
    "items": [
     {
      "aliases": [],
      "languageName": "csharp",
      "name": "csharp"
     }
    ]
   }
  }
 },
 "nbformat": 4,
 "nbformat_minor": 2
}
