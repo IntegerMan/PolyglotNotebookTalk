{
 "cells": [
  {
   "attachments": {},
   "cell_type": "markdown",
   "metadata": {},
   "source": [
    "## Machine Learning in .NET with ML .NET\n",
    "Because of course you can do machine learning in .NET"
   ]
  },
  {
   "attachments": {},
   "cell_type": "markdown",
   "metadata": {},
   "source": [
    "### Setup\n",
    "\n",
    "This project relies on ML .NET and its Auto ML module. Both will be installed from NuGet Package Manager."
   ]
  },
  {
   "cell_type": "code",
   "execution_count": 1,
   "metadata": {
    "dotnet_interactive": {
     "language": "csharp"
    },
    "polyglot_notebook": {
     "kernelName": "csharp"
    }
   },
   "outputs": [
    {
     "data": {
      "text/html": [
       "<div><div></div><div></div><div><strong>Installed Packages</strong><ul><li><span>Microsoft.ML, 2.0.1</span></li><li><span>Microsoft.ML.AutoML, 0.20.1</span></li></ul></div></div>"
      ]
     },
     "metadata": {},
     "output_type": "display_data"
    },
    {
     "data": {
      "text/plain": [
       "Loading extensions from `C:\\Users\\MattE\\.nuget\\packages\\microsoft.ml.automl\\0.20.1\\interactive-extensions\\dotnet\\Microsoft.ML.AutoML.Interactive.dll`"
      ]
     },
     "metadata": {},
     "output_type": "display_data"
    },
    {
     "data": {
      "text/plain": [
       "Loading extensions from `C:\\Users\\MattE\\.nuget\\packages\\skiasharp\\2.88.3\\interactive-extensions\\dotnet\\SkiaSharp.DotNet.Interactive.dll`"
      ]
     },
     "metadata": {},
     "output_type": "display_data"
    }
   ],
   "source": [
    "#r \"nuget:Microsoft.ML\"\n",
    "#r \"nuget:Microsoft.ML.AutoML\""
   ]
  },
  {
   "cell_type": "code",
   "execution_count": 2,
   "metadata": {
    "dotnet_interactive": {
     "language": "csharp"
    },
    "polyglot_notebook": {
     "kernelName": "csharp"
    }
   },
   "outputs": [],
   "source": [
    "// All the imports we'll need\n",
    "using Microsoft.ML;\n",
    "using Microsoft.ML.AutoML;\n",
    "using Microsoft.ML.Data;\n",
    "\n",
    "using System.Collections.Generic;"
   ]
  },
  {
   "cell_type": "code",
   "execution_count": 3,
   "metadata": {
    "dotnet_interactive": {
     "language": "csharp"
    },
    "polyglot_notebook": {
     "kernelName": "csharp"
    }
   },
   "outputs": [],
   "source": [
    "// Everything in ML .NET revolves around a context object\n",
    "MLContext Context = new();"
   ]
  },
  {
   "attachments": {},
   "cell_type": "markdown",
   "metadata": {},
   "source": [
    "### Load Datasets"
   ]
  },
  {
   "cell_type": "code",
   "execution_count": 4,
   "metadata": {
    "dotnet_interactive": {
     "language": "csharp"
    },
    "polyglot_notebook": {
     "kernelName": "csharp"
    }
   },
   "outputs": [
    {
     "data": {
      "text/html": [
       "<details open=\"open\" class=\"dni-treeview\"><summary><span class=\"dni-code-hint\"><code>{Stir Trek 2023 - the Game}</code></span></summary><div><table><thead><tr></tr></thead><tbody><tr><td>Title</td><td>Stir Trek 2023 - the Game</td></tr><tr><td>Console</td><td><div class=\"dni-plaintext\"><pre>False</pre></div></td></tr><tr><td>AlcoholReference</td><td><div class=\"dni-plaintext\"><pre>True</pre></div></td></tr><tr><td>AnimatedBlood</td><td><div class=\"dni-plaintext\"><pre>False</pre></div></td></tr><tr><td>Blood</td><td><div class=\"dni-plaintext\"><pre>False</pre></div></td></tr><tr><td>BloodAndGore</td><td><div class=\"dni-plaintext\"><pre>False</pre></div></td></tr><tr><td>CartoonViolence</td><td><div class=\"dni-plaintext\"><pre>False</pre></div></td></tr><tr><td>CrudeHumor</td><td><div class=\"dni-plaintext\"><pre>False</pre></div></td></tr><tr><td>DrugReference</td><td><div class=\"dni-plaintext\"><pre>False</pre></div></td></tr><tr><td>FantasyViolence</td><td><div class=\"dni-plaintext\"><pre>False</pre></div></td></tr><tr><td>IntenseViolence</td><td><div class=\"dni-plaintext\"><pre>False</pre></div></td></tr><tr><td>Language</td><td><div class=\"dni-plaintext\"><pre>True</pre></div></td></tr><tr><td>Lyrics</td><td><div class=\"dni-plaintext\"><pre>False</pre></div></td></tr><tr><td>MatureHumor</td><td><div class=\"dni-plaintext\"><pre>False</pre></div></td></tr><tr><td>MildBlood</td><td><div class=\"dni-plaintext\"><pre>False</pre></div></td></tr><tr><td>MildCartoonViolence</td><td><div class=\"dni-plaintext\"><pre>False</pre></div></td></tr><tr><td>MildFantasyViolence</td><td><div class=\"dni-plaintext\"><pre>False</pre></div></td></tr><tr><td>MildLanguage</td><td><div class=\"dni-plaintext\"><pre>False</pre></div></td></tr><tr><td>MildLyrics</td><td><div class=\"dni-plaintext\"><pre>False</pre></div></td></tr><tr><td>MildSuggestiveThemes</td><td><div class=\"dni-plaintext\"><pre>False</pre></div></td></tr><tr><td>MildViolence</td><td><div class=\"dni-plaintext\"><pre>False</pre></div></td></tr><tr><td>NoDescriptors</td><td><div class=\"dni-plaintext\"><pre>False</pre></div></td></tr><tr><td>Nudity</td><td><div class=\"dni-plaintext\"><pre>False</pre></div></td></tr><tr><td>PartialNudity</td><td><div class=\"dni-plaintext\"><pre>False</pre></div></td></tr><tr><td>SexualContent</td><td><div class=\"dni-plaintext\"><pre>False</pre></div></td></tr><tr><td>SexualThemes</td><td><div class=\"dni-plaintext\"><pre>False</pre></div></td></tr><tr><td>SimulatedGambling</td><td><div class=\"dni-plaintext\"><pre>False</pre></div></td></tr><tr><td>StrongLanguage</td><td><div class=\"dni-plaintext\"><pre>False</pre></div></td></tr><tr><td>StrongSexualContent</td><td><div class=\"dni-plaintext\"><pre>False</pre></div></td></tr><tr><td>SuggestiveThemes</td><td><div class=\"dni-plaintext\"><pre>False</pre></div></td></tr><tr><td>UseOfAlcohol</td><td><div class=\"dni-plaintext\"><pre>False</pre></div></td></tr><tr><td>UseOfDrugsAndAlcohol</td><td><div class=\"dni-plaintext\"><pre>False</pre></div></td></tr><tr><td>Violence</td><td><div class=\"dni-plaintext\"><pre>False</pre></div></td></tr><tr><td>ESRBRating</td><td><div class=\"dni-plaintext\"><pre>&lt;null&gt;</pre></div></td></tr></tbody></table></div></details><style>\r\n",
       ".dni-code-hint {\r\n",
       "    font-style: italic;\r\n",
       "    overflow: hidden;\r\n",
       "    white-space: nowrap;\r\n",
       "}\r\n",
       ".dni-treeview {\r\n",
       "    white-space: nowrap;\r\n",
       "}\r\n",
       ".dni-treeview td {\r\n",
       "    vertical-align: top;\r\n",
       "    text-align: start;\r\n",
       "}\r\n",
       "details.dni-treeview {\r\n",
       "    padding-left: 1em;\r\n",
       "}\r\n",
       "table td {\r\n",
       "    text-align: start;\r\n",
       "}\r\n",
       "table tr { \r\n",
       "    vertical-align: top; \r\n",
       "    margin: 0em 0px;\r\n",
       "}\r\n",
       "table tr td pre \r\n",
       "{ \r\n",
       "    vertical-align: top !important; \r\n",
       "    margin: 0em 0px !important;\r\n",
       "} \r\n",
       "table th {\r\n",
       "    text-align: start;\r\n",
       "}\r\n",
       "</style>"
      ]
     },
     "metadata": {},
     "output_type": "display_data"
    }
   ],
   "source": [
    "#!import 04_GameInfo.cs\n",
    "\n",
    "GameInfo sampleGame = new() {\n",
    "    Title = \"Stir Trek 2023 - the Game\",\n",
    "    Language = true, // Python, C#, JS, etc.\n",
    "    AlcoholReference = true, // this is it\n",
    "};\n",
    "sampleGame"
   ]
  },
  {
   "cell_type": "code",
   "execution_count": 5,
   "metadata": {
    "dotnet_interactive": {
     "language": "csharp"
    },
    "polyglot_notebook": {
     "kernelName": "csharp"
    }
   },
   "outputs": [],
   "source": [
    "// Load training data. Taken from Kaggle dataset at https://www.kaggle.com/imohtn/video-games-rating-by-esrb\n",
    "IDataView trainData = Context.Data.LoadFromTextFile<GameInfo>(\n",
    "    path: \"ESRB.csv\",\n",
    "    separatorChar: ',',\n",
    "    hasHeader: true,\n",
    "    allowQuoting: true);"
   ]
  },
  {
   "cell_type": "code",
   "execution_count": 6,
   "metadata": {
    "dotnet_interactive": {
     "language": "csharp"
    },
    "polyglot_notebook": {
     "kernelName": "csharp"
    }
   },
   "outputs": [],
   "source": [
    "// Load test data. Taken from Kaggle dataset at https://www.kaggle.com/imohtn/video-games-rating-by-esrb\n",
    "IDataView validationData = Context.Data.LoadFromTextFile<GameInfo>(\n",
    "    path: \"ESRBTest.csv\", \n",
    "    separatorChar: ',', \n",
    "    hasHeader: true, \n",
    "    allowQuoting: true);"
   ]
  },
  {
   "attachments": {},
   "cell_type": "markdown",
   "metadata": {},
   "source": [
    "### Training\n",
    "This uses automated machine learning to find the best featurization and training settings for the dataset"
   ]
  },
  {
   "cell_type": "code",
   "execution_count": 7,
   "metadata": {
    "dotnet_interactive": {
     "language": "csharp"
    },
    "polyglot_notebook": {
     "kernelName": "csharp"
    }
   },
   "outputs": [],
   "source": [
    "uint secondsToTrain = 10;\n",
    "\n",
    "// Configure the experiment\n",
    "MulticlassClassificationExperiment experiment = \n",
    "    Context.Auto().CreateMulticlassClassificationExperiment(secondsToTrain);"
   ]
  },
  {
   "cell_type": "code",
   "execution_count": 8,
   "metadata": {
    "dotnet_interactive": {
     "language": "csharp"
    },
    "polyglot_notebook": {
     "kernelName": "csharp"
    }
   },
   "outputs": [
    {
     "name": "stdout",
     "output_type": "stream",
     "text": [
      "ConvertType=>FeaturizeText=>Concatenate=>Unknown=>FastTreeOva=>Unknown ran in 1.16 seconds with accuracy of 75.41%\n",
      "ConvertType=>FeaturizeText=>Concatenate=>Unknown=>FastTreeOva=>Unknown ran in 1.09 seconds with accuracy of 74.23%\n",
      "ConvertType=>FeaturizeText=>Concatenate=>Unknown=>FastTreeOva=>Unknown ran in 0.79 seconds with accuracy of 71.23%\n",
      "ConvertType=>FeaturizeText=>Concatenate=>Unknown=>FastTreeOva=>Unknown ran in 1.16 seconds with accuracy of 73.83%\n",
      "ConvertType=>FeaturizeText=>Concatenate=>Unknown=>LbfgsMaximumEntropyMulti=>Unknown ran in 0.50 seconds with accuracy of 76.97%\n",
      "ConvertType=>FeaturizeText=>Concatenate=>Unknown=>LightGbmMulti=>Unknown ran in 0.38 seconds with accuracy of 74.65%\n",
      "ConvertType=>FeaturizeText=>Concatenate=>Unknown=>SdcaMaximumEntropyMulti=>Unknown ran in 0.32 seconds with accuracy of 55.29%\n",
      "ConvertType=>FeaturizeText=>Concatenate=>Unknown=>LbfgsMaximumEntropyMulti=>Unknown ran in 0.34 seconds with accuracy of 78.16%\n",
      "ConvertType=>FeaturizeText=>Concatenate=>Unknown=>LbfgsMaximumEntropyMulti=>Unknown ran in 0.24 seconds with accuracy of 43.29%\n",
      "ConvertType=>FeaturizeText=>Concatenate=>Unknown=>LightGbmMulti=>Unknown ran in 0.67 seconds with accuracy of 74.11%\n",
      "ConvertType=>FeaturizeText=>Concatenate=>Unknown=>SdcaLogisticRegressionOva=>Unknown ran in 1.21 seconds with accuracy of 25.00%\n",
      "ConvertType=>FeaturizeText=>Concatenate=>Unknown=>SdcaMaximumEntropyMulti=>Unknown ran in 0.22 seconds with accuracy of 64.68%\n",
      "ConvertType=>FeaturizeText=>Concatenate=>Unknown=>FastTreeOva=>Unknown ran in 1.04 seconds with accuracy of 75.16%\n",
      "ConvertType=>FeaturizeText=>Concatenate=>Unknown=>LbfgsLogisticRegressionOva=>Unknown ran in 0.57 seconds with accuracy of 77.53%\n"
     ]
    }
   ],
   "source": [
    "// Synchronously Train the model\n",
    "ExperimentResult<MulticlassClassificationMetrics> result = \n",
    "    experiment.Execute(\n",
    "        trainData: trainData, // The data to memorize\n",
    "        validationData: validationData, // How we evaluate our model's performance against new data\n",
    "        labelColumnName: nameof(GameInfo.ESRBRating), // What we're trying to predict\n",
    "        progressHandler: new MulticlassConsoleProgressReporter()); // How to show progress"
   ]
  },
  {
   "cell_type": "code",
   "execution_count": 9,
   "metadata": {
    "dotnet_interactive": {
     "language": "csharp"
    },
    "polyglot_notebook": {
     "kernelName": "csharp"
    }
   },
   "outputs": [
    {
     "data": {
      "text/html": [
       "<details open=\"open\" class=\"dni-treeview\"><summary><span class=\"dni-code-hint\"><code>Microsoft.ML.AutoML.ExperimentResult`1[Microsoft.ML.Data.MulticlassClassificationMetrics]</code></span></summary><div><table><thead><tr></tr></thead><tbody><tr><td>RunDetails</td><td><table><thead><tr><th><i>index</i></th><th>value</th></tr></thead><tbody><tr><td>0</td><td><details class=\"dni-treeview\"><summary><span class=\"dni-code-hint\"><code>Microsoft.ML.AutoML.RunDetail`1[Microsoft.ML.Data.MulticlassClassificationMetrics]</code></span></summary><div><table><thead><tr></tr></thead><tbody><tr><td>ValidationMetrics</td><td><details class=\"dni-treeview\"><summary><span class=\"dni-code-hint\"><code>Microsoft.ML.Data.MulticlassClassificationMetrics</code></span></summary><div><table><thead><tr></tr></thead><tbody><tr><td>LogLoss</td><td><div class=\"dni-plaintext\"><pre>1.1520647996815911</pre></div></td></tr><tr><td>LogLossReduction</td><td><div class=\"dni-plaintext\"><pre>0.14393564785032045</pre></div></td></tr><tr><td>MacroAccuracy</td><td><div class=\"dni-plaintext\"><pre>0.7541235334713596</pre></div></td></tr><tr><td>MicroAccuracy</td><td><div class=\"dni-plaintext\"><pre>0.762</pre></div></td></tr><tr><td>TopKAccuracy</td><td><div class=\"dni-plaintext\"><pre>0</pre></div></td></tr><tr><td>TopKPredictionCount</td><td><div class=\"dni-plaintext\"><pre>0</pre></div></td></tr><tr><td>TopKAccuracyForAllK</td><td><div class=\"dni-plaintext\"><pre>&lt;null&gt;</pre></div></td></tr><tr><td>PerClassLogLoss</td><td><div class=\"dni-plaintext\"><pre>[ 1.1427545367264178, 1.16242499424014, 1.2166878715626754, 1.118421132898133 ]</pre></div></td></tr><tr><td>ConfusionMatrix</td><td><details class=\"dni-treeview\"><summary><span class=\"dni-code-hint\"><code>Microsoft.ML.Data.ConfusionMatrix</code></span></summary><div><table><thead><tr></tr></thead><tbody><tr><td>PerClassPrecision</td><td><div class=\"dni-plaintext\"><pre>[ 0.872093023255814, 0.7933884297520661, 0.8421052631578947, 0.6728110599078341 ]</pre></div></td></tr><tr><td>PerClassRecall</td><td><div class=\"dni-plaintext\"><pre>[ 0.75, 0.7619047619047619, 0.7111111111111111, 0.7934782608695652 ]</pre></div></td></tr><tr><td>Counts</td><td><table><thead><tr><th><i>index</i></th><th>value</th></tr></thead><tbody><tr><td>0</td><td>[ 75, 4, 0, 21 ]</td></tr><tr><td>1</td><td>[ 4, 96, 0, 26 ]</td></tr><tr><td>2</td><td>[ 0, 2, 64, 24 ]</td></tr><tr><td>3</td><td>[ 7, 19, 12, 146 ]</td></tr></tbody></table></td></tr><tr><td>NumberOfClasses</td><td><div class=\"dni-plaintext\"><pre>4</pre></div></td></tr></tbody></table></div></details></td></tr></tbody></table></div></details></td></tr><tr><td>Model</td><td><table><thead><tr><th><i>index</i></th><th><i>type</i></th><th>value</th></tr></thead><tbody><tr><td>0</td><td><span><a href=\"https://docs.microsoft.com/dotnet/api/microsoft.ml.transforms.typeconvertingtransformer?view=net-7.0\">Microsoft.ML.Transforms.TypeConvertingTransformer</a></span></td><td><details class=\"dni-treeview\"><summary><span class=\"dni-code-hint\"><code>Microsoft.ML.Transforms.TypeConvertingTransformer</code></span></summary><div><table><thead><tr></tr></thead><tbody></tbody></table></div></details></td></tr><tr><td>1</td><td><span><a href=\"https://docs.microsoft.com/dotnet/api/microsoft.ml.transforms.text.textfeaturizingestimator.transformer?view=net-7.0\">Microsoft.ML.Transforms.Text.TextFeaturizingEstimator+Transformer</a></span></td><td><details class=\"dni-treeview\"><summary><span class=\"dni-code-hint\"><code>Microsoft.ML.Transforms.Text.TextFeaturizingEstimator+Transformer</code></span></summary><div><table><thead><tr></tr></thead><tbody></tbody></table></div></details></td></tr><tr><td>2</td><td><span><a href=\"https://docs.microsoft.com/dotnet/api/microsoft.ml.data.columnconcatenatingtransformer?view=net-7.0\">Microsoft.ML.Data.ColumnConcatenatingTransformer</a></span></td><td><details class=\"dni-treeview\"><summary><span class=\"dni-code-hint\"><code>Microsoft.ML.Data.ColumnConcatenatingTransformer</code></span></summary><div><table><thead><tr></tr></thead><tbody></tbody></table></div></details></td></tr><tr><td>3</td><td><span><a href=\"https://docs.microsoft.com/dotnet/api/microsoft.ml.transforms.valuetokeymappingtransformer?view=net-7.0\">Microsoft.ML.Transforms.ValueToKeyMappingTransformer</a></span></td><td><details class=\"dni-treeview\"><summary><span class=\"dni-code-hint\"><code>Microsoft.ML.Transforms.ValueToKeyMappingTransformer</code></span></summary><div><table><thead><tr></tr></thead><tbody></tbody></table></div></details></td></tr><tr><td>4</td><td><span><a href=\"https://docs.microsoft.com/dotnet/api/microsoft.ml.data.multiclasspredictiontransformer-1?view=net-7.0\">Microsoft.ML.Data.MulticlassPredictionTransformer&lt;Microsoft.ML.Trainers.OneVersusAllModelParameters&gt;</a></span></td><td><details class=\"dni-treeview\"><summary><span class=\"dni-code-hint\"><code>Microsoft.ML.Data.MulticlassPredictionTransformer`1[Microsoft.ML.Trainers.OneVersusAllModelParameters]</code></span></summary><div><table><thead><tr></tr></thead><tbody><tr><td>FeatureColumnName</td><td>__Features__</td></tr><tr><td>FeatureColumnType</td><td><details class=\"dni-treeview\"><summary><span class=\"dni-code-hint\"><code>Vector<Single, 11774></code></span></summary><div><table><thead><tr></tr></thead><tbody><tr><td>Dimensions</td><td>[ 11774 ]</td></tr><tr><td>IsKnownSize</td><td>True</td></tr><tr><td>ItemType</td><td>Single</td></tr><tr><td>Size</td><td>11774</td></tr><tr><td>RawType</td><td>Microsoft.ML.Data.VBuffer`1[System.Single]</td></tr></tbody></table></div></details></td></tr><tr><td>Model</td><td><details class=\"dni-treeview\"><summary><span class=\"dni-code-hint\"><code>Microsoft.ML.Trainers.OneVersusAllModelParameters</code></span></summary><div><table><thead><tr></tr></thead><tbody></tbody></table></div></details></td></tr></tbody></table></div></details></td></tr><tr><td>5</td><td><span><a href=\"https://docs.microsoft.com/dotnet/api/microsoft.ml.transforms.keytovaluemappingtransformer?view=net-7.0\">Microsoft.ML.Transforms.KeyToValueMappingTransformer</a></span></td><td><details class=\"dni-treeview\"><summary><span class=\"dni-code-hint\"><code>Microsoft.ML.Transforms.KeyToValueMappingTransformer</code></span></summary><div><table><thead><tr></tr></thead><tbody></tbody></table></div></details></td></tr></tbody></table></td></tr><tr><td>Exception</td><td><div class=\"dni-plaintext\"><pre>&lt;null&gt;</pre></div></td></tr><tr><td>TrainerName</td><td>ConvertType=&gt;FeaturizeText=&gt;Concatenate=&gt;Unknown=&gt;LightGbmMulti=&gt;Unknown</td></tr><tr><td>RuntimeInSeconds</td><td><div class=\"dni-plaintext\"><pre>1.164</pre></div></td></tr><tr><td>Estimator</td><td><details class=\"dni-treeview\"><summary><span class=\"dni-code-hint\"><code>Microsoft.ML.Data.EstimatorChain`1[Microsoft.ML.ITransformer]</code></span></summary><div><table><thead><tr></tr></thead><tbody><tr><td>LastEstimator</td><td><details class=\"dni-treeview\"><summary><span class=\"dni-code-hint\"><code>Microsoft.ML.Transforms.KeyToValueMappingEstimator</code></span></summary><div><table><thead><tr></tr></thead><tbody></tbody></table></div></details></td></tr></tbody></table></div></details></td></tr></tbody></table></div></details></td></tr><tr><td>1</td><td><details class=\"dni-treeview\"><summary><span class=\"dni-code-hint\"><code>Microsoft.ML.AutoML.RunDetail`1[Microsoft.ML.Data.MulticlassClassificationMetrics]</code></span></summary><div><table><thead><tr></tr></thead><tbody><tr><td>ValidationMetrics</td><td><details class=\"dni-treeview\"><summary><span class=\"dni-code-hint\"><code>Microsoft.ML.Data.MulticlassClassificationMetrics</code></span></summary><div><table><thead><tr></tr></thead><tbody><tr><td>LogLoss</td><td><div class=\"dni-plaintext\"><pre>0.658376412058391</pre></div></td></tr><tr><td>LogLossReduction</td><td><div class=\"dni-plaintext\"><pre>0.5107804901120416</pre></div></td></tr><tr><td>MacroAccuracy</td><td><div class=\"dni-plaintext\"><pre>0.7423171152518978</pre></div></td></tr><tr><td>MicroAccuracy</td><td><div class=\"dni-plaintext\"><pre>0.76</pre></div></td></tr><tr><td>TopKAccuracy</td><td><div class=\"dni-plaintext\"><pre>0</pre></div></td></tr><tr><td>TopKPredictionCount</td><td><div class=\"dni-plaintext\"><pre>0</pre></div></td></tr><tr><td>TopKAccuracyForAllK</td><td><div class=\"dni-plaintext\"><pre>&lt;null&gt;</pre></div></td></tr><tr><td>PerClassLogLoss</td><td><div class=\"dni-plaintext\"><pre>[ 0.6095828672793098, 0.6719582915735663, 0.9021952290725155, 0.5563348040568951 ]</pre></div></td></tr><tr><td>ConfusionMatrix</td><td><details class=\"dni-treeview\"><summary><span class=\"dni-code-hint\"><code>Microsoft.ML.Data.ConfusionMatrix</code></span></summary><div><table><thead><tr></tr></thead><tbody><tr><td>PerClassPrecision</td><td><div class=\"dni-plaintext\"><pre>[ 0.9120879120879121, 0.7829457364341085, 0.8421052631578947, 0.6636771300448431 ]</pre></div></td></tr><tr><td>PerClassRecall</td><td><div class=\"dni-plaintext\"><pre>[ 0.83, 0.8015873015873016, 0.5333333333333333, 0.8043478260869565 ]</pre></div></td></tr><tr><td>Counts</td><td><table><thead><tr><th><i>index</i></th><th>value</th></tr></thead><tbody><tr><td>0</td><td>[ 83, 4, 0, 13 ]</td></tr><tr><td>1</td><td>[ 5, 101, 0, 20 ]</td></tr><tr><td>2</td><td>[ 0, 0, 48, 42 ]</td></tr><tr><td>3</td><td>[ 3, 24, 9, 148 ]</td></tr></tbody></table></td></tr><tr><td>NumberOfClasses</td><td><div class=\"dni-plaintext\"><pre>4</pre></div></td></tr></tbody></table></div></details></td></tr></tbody></table></div></details></td></tr><tr><td>Model</td><td><table><thead><tr><th><i>index</i></th><th><i>type</i></th><th>value</th></tr></thead><tbody><tr><td>0</td><td><span><a href=\"https://docs.microsoft.com/dotnet/api/microsoft.ml.transforms.typeconvertingtransformer?view=net-7.0\">Microsoft.ML.Transforms.TypeConvertingTransformer</a></span></td><td><details class=\"dni-treeview\"><summary><span class=\"dni-code-hint\"><code>Microsoft.ML.Transforms.TypeConvertingTransformer</code></span></summary><div><table><thead><tr></tr></thead><tbody></tbody></table></div></details></td></tr><tr><td>1</td><td><span><a href=\"https://docs.microsoft.com/dotnet/api/microsoft.ml.transforms.text.textfeaturizingestimator.transformer?view=net-7.0\">Microsoft.ML.Transforms.Text.TextFeaturizingEstimator+Transformer</a></span></td><td><details class=\"dni-treeview\"><summary><span class=\"dni-code-hint\"><code>Microsoft.ML.Transforms.Text.TextFeaturizingEstimator+Transformer</code></span></summary><div><table><thead><tr></tr></thead><tbody></tbody></table></div></details></td></tr><tr><td>2</td><td><span><a href=\"https://docs.microsoft.com/dotnet/api/microsoft.ml.data.columnconcatenatingtransformer?view=net-7.0\">Microsoft.ML.Data.ColumnConcatenatingTransformer</a></span></td><td><details class=\"dni-treeview\"><summary><span class=\"dni-code-hint\"><code>Microsoft.ML.Data.ColumnConcatenatingTransformer</code></span></summary><div><table><thead><tr></tr></thead><tbody></tbody></table></div></details></td></tr><tr><td>3</td><td><span><a href=\"https://docs.microsoft.com/dotnet/api/microsoft.ml.transforms.valuetokeymappingtransformer?view=net-7.0\">Microsoft.ML.Transforms.ValueToKeyMappingTransformer</a></span></td><td><details class=\"dni-treeview\"><summary><span class=\"dni-code-hint\"><code>Microsoft.ML.Transforms.ValueToKeyMappingTransformer</code></span></summary><div><table><thead><tr></tr></thead><tbody></tbody></table></div></details></td></tr><tr><td>4</td><td><span><a href=\"https://docs.microsoft.com/dotnet/api/microsoft.ml.data.multiclasspredictiontransformer-1?view=net-7.0\">Microsoft.ML.Data.MulticlassPredictionTransformer&lt;Microsoft.ML.Trainers.OneVersusAllModelParameters&gt;</a></span></td><td><details class=\"dni-treeview\"><summary><span class=\"dni-code-hint\"><code>Microsoft.ML.Data.MulticlassPredictionTransformer`1[Microsoft.ML.Trainers.OneVersusAllModelParameters]</code></span></summary><div><table><thead><tr></tr></thead><tbody><tr><td>FeatureColumnName</td><td>__Features__</td></tr><tr><td>FeatureColumnType</td><td><details class=\"dni-treeview\"><summary><span class=\"dni-code-hint\"><code>Vector<Single, 11774></code></span></summary><div><table><thead><tr></tr></thead><tbody><tr><td>Dimensions</td><td>[ 11774 ]</td></tr><tr><td>IsKnownSize</td><td>True</td></tr><tr><td>ItemType</td><td>Single</td></tr><tr><td>Size</td><td>11774</td></tr><tr><td>RawType</td><td>Microsoft.ML.Data.VBuffer`1[System.Single]</td></tr></tbody></table></div></details></td></tr><tr><td>Model</td><td><details class=\"dni-treeview\"><summary><span class=\"dni-code-hint\"><code>Microsoft.ML.Trainers.OneVersusAllModelParameters</code></span></summary><div><table><thead><tr></tr></thead><tbody></tbody></table></div></details></td></tr></tbody></table></div></details></td></tr><tr><td>5</td><td><span><a href=\"https://docs.microsoft.com/dotnet/api/microsoft.ml.transforms.keytovaluemappingtransformer?view=net-7.0\">Microsoft.ML.Transforms.KeyToValueMappingTransformer</a></span></td><td><details class=\"dni-treeview\"><summary><span class=\"dni-code-hint\"><code>Microsoft.ML.Transforms.KeyToValueMappingTransformer</code></span></summary><div><table><thead><tr></tr></thead><tbody></tbody></table></div></details></td></tr></tbody></table></td></tr><tr><td>Exception</td><td><div class=\"dni-plaintext\"><pre>&lt;null&gt;</pre></div></td></tr><tr><td>TrainerName</td><td>ConvertType=&gt;FeaturizeText=&gt;Concatenate=&gt;Unknown=&gt;LightGbmMulti=&gt;Unknown</td></tr><tr><td>RuntimeInSeconds</td><td><div class=\"dni-plaintext\"><pre>1.086</pre></div></td></tr><tr><td>Estimator</td><td><details class=\"dni-treeview\"><summary><span class=\"dni-code-hint\"><code>Microsoft.ML.Data.EstimatorChain`1[Microsoft.ML.ITransformer]</code></span></summary><div><table><thead><tr></tr></thead><tbody><tr><td>LastEstimator</td><td><details class=\"dni-treeview\"><summary><span class=\"dni-code-hint\"><code>Microsoft.ML.Transforms.KeyToValueMappingEstimator</code></span></summary><div><table><thead><tr></tr></thead><tbody></tbody></table></div></details></td></tr></tbody></table></div></details></td></tr></tbody></table></div></details></td></tr><tr><td>2</td><td><details class=\"dni-treeview\"><summary><span class=\"dni-code-hint\"><code>Microsoft.ML.AutoML.RunDetail`1[Microsoft.ML.Data.MulticlassClassificationMetrics]</code></span></summary><div><table><thead><tr></tr></thead><tbody><tr><td>ValidationMetrics</td><td><details class=\"dni-treeview\"><summary><span class=\"dni-code-hint\"><code>Microsoft.ML.Data.MulticlassClassificationMetrics</code></span></summary><div><table><thead><tr></tr></thead><tbody><tr><td>LogLoss</td><td><div class=\"dni-plaintext\"><pre>1.3306583333895023</pre></div></td></tr><tr><td>LogLossReduction</td><td><div class=\"dni-plaintext\"><pre>0.011228218742131231</pre></div></td></tr><tr><td>MacroAccuracy</td><td><div class=\"dni-plaintext\"><pre>0.7123248792270531</pre></div></td></tr><tr><td>MicroAccuracy</td><td><div class=\"dni-plaintext\"><pre>0.74</pre></div></td></tr><tr><td>TopKAccuracy</td><td><div class=\"dni-plaintext\"><pre>0</pre></div></td></tr><tr><td>TopKPredictionCount</td><td><div class=\"dni-plaintext\"><pre>0</pre></div></td></tr><tr><td>TopKAccuracyForAllK</td><td><div class=\"dni-plaintext\"><pre>&lt;null&gt;</pre></div></td></tr><tr><td>PerClassLogLoss</td><td><div class=\"dni-plaintext\"><pre>[ 1.3252487687948495, 1.337597867795385, 1.3438715438491697, 1.3223832582968633 ]</pre></div></td></tr><tr><td>ConfusionMatrix</td><td><details class=\"dni-treeview\"><summary><span class=\"dni-code-hint\"><code>Microsoft.ML.Data.ConfusionMatrix</code></span></summary><div><table><thead><tr></tr></thead><tbody><tr><td>PerClassPrecision</td><td><div class=\"dni-plaintext\"><pre>[ 0.891566265060241, 0.784, 0.8653846153846154, 0.6375 ]</pre></div></td></tr><tr><td>PerClassRecall</td><td><div class=\"dni-plaintext\"><pre>[ 0.74, 0.7777777777777778, 0.5, 0.8315217391304348 ]</pre></div></td></tr><tr><td>Counts</td><td><table><thead><tr><th><i>index</i></th><th>value</th></tr></thead><tbody><tr><td>0</td><td>[ 74, 7, 0, 19 ]</td></tr><tr><td>1</td><td>[ 4, 98, 0, 24 ]</td></tr><tr><td>2</td><td>[ 0, 1, 45, 44 ]</td></tr><tr><td>3</td><td>[ 5, 19, 7, 153 ]</td></tr></tbody></table></td></tr><tr><td>NumberOfClasses</td><td><div class=\"dni-plaintext\"><pre>4</pre></div></td></tr></tbody></table></div></details></td></tr></tbody></table></div></details></td></tr><tr><td>Model</td><td><table><thead><tr><th><i>index</i></th><th><i>type</i></th><th>value</th></tr></thead><tbody><tr><td>0</td><td><span><a href=\"https://docs.microsoft.com/dotnet/api/microsoft.ml.transforms.typeconvertingtransformer?view=net-7.0\">Microsoft.ML.Transforms.TypeConvertingTransformer</a></span></td><td><details class=\"dni-treeview\"><summary><span class=\"dni-code-hint\"><code>Microsoft.ML.Transforms.TypeConvertingTransformer</code></span></summary><div><table><thead><tr></tr></thead><tbody></tbody></table></div></details></td></tr><tr><td>1</td><td><span><a href=\"https://docs.microsoft.com/dotnet/api/microsoft.ml.transforms.text.textfeaturizingestimator.transformer?view=net-7.0\">Microsoft.ML.Transforms.Text.TextFeaturizingEstimator+Transformer</a></span></td><td><details class=\"dni-treeview\"><summary><span class=\"dni-code-hint\"><code>Microsoft.ML.Transforms.Text.TextFeaturizingEstimator+Transformer</code></span></summary><div><table><thead><tr></tr></thead><tbody></tbody></table></div></details></td></tr><tr><td>2</td><td><span><a href=\"https://docs.microsoft.com/dotnet/api/microsoft.ml.data.columnconcatenatingtransformer?view=net-7.0\">Microsoft.ML.Data.ColumnConcatenatingTransformer</a></span></td><td><details class=\"dni-treeview\"><summary><span class=\"dni-code-hint\"><code>Microsoft.ML.Data.ColumnConcatenatingTransformer</code></span></summary><div><table><thead><tr></tr></thead><tbody></tbody></table></div></details></td></tr><tr><td>3</td><td><span><a href=\"https://docs.microsoft.com/dotnet/api/microsoft.ml.transforms.valuetokeymappingtransformer?view=net-7.0\">Microsoft.ML.Transforms.ValueToKeyMappingTransformer</a></span></td><td><details class=\"dni-treeview\"><summary><span class=\"dni-code-hint\"><code>Microsoft.ML.Transforms.ValueToKeyMappingTransformer</code></span></summary><div><table><thead><tr></tr></thead><tbody></tbody></table></div></details></td></tr><tr><td>4</td><td><span><a href=\"https://docs.microsoft.com/dotnet/api/microsoft.ml.data.multiclasspredictiontransformer-1?view=net-7.0\">Microsoft.ML.Data.MulticlassPredictionTransformer&lt;Microsoft.ML.Trainers.OneVersusAllModelParameters&gt;</a></span></td><td><details class=\"dni-treeview\"><summary><span class=\"dni-code-hint\"><code>Microsoft.ML.Data.MulticlassPredictionTransformer`1[Microsoft.ML.Trainers.OneVersusAllModelParameters]</code></span></summary><div><table><thead><tr></tr></thead><tbody><tr><td>FeatureColumnName</td><td>__Features__</td></tr><tr><td>FeatureColumnType</td><td><details class=\"dni-treeview\"><summary><span class=\"dni-code-hint\"><code>Vector<Single, 11774></code></span></summary><div><table><thead><tr></tr></thead><tbody><tr><td>Dimensions</td><td>[ 11774 ]</td></tr><tr><td>IsKnownSize</td><td>True</td></tr><tr><td>ItemType</td><td>Single</td></tr><tr><td>Size</td><td>11774</td></tr><tr><td>RawType</td><td>Microsoft.ML.Data.VBuffer`1[System.Single]</td></tr></tbody></table></div></details></td></tr><tr><td>Model</td><td><details class=\"dni-treeview\"><summary><span class=\"dni-code-hint\"><code>Microsoft.ML.Trainers.OneVersusAllModelParameters</code></span></summary><div><table><thead><tr></tr></thead><tbody></tbody></table></div></details></td></tr></tbody></table></div></details></td></tr><tr><td>5</td><td><span><a href=\"https://docs.microsoft.com/dotnet/api/microsoft.ml.transforms.keytovaluemappingtransformer?view=net-7.0\">Microsoft.ML.Transforms.KeyToValueMappingTransformer</a></span></td><td><details class=\"dni-treeview\"><summary><span class=\"dni-code-hint\"><code>Microsoft.ML.Transforms.KeyToValueMappingTransformer</code></span></summary><div><table><thead><tr></tr></thead><tbody></tbody></table></div></details></td></tr></tbody></table></td></tr><tr><td>Exception</td><td><div class=\"dni-plaintext\"><pre>&lt;null&gt;</pre></div></td></tr><tr><td>TrainerName</td><td>ConvertType=&gt;FeaturizeText=&gt;Concatenate=&gt;Unknown=&gt;LightGbmMulti=&gt;Unknown</td></tr><tr><td>RuntimeInSeconds</td><td><div class=\"dni-plaintext\"><pre>0.794</pre></div></td></tr><tr><td>Estimator</td><td><details class=\"dni-treeview\"><summary><span class=\"dni-code-hint\"><code>Microsoft.ML.Data.EstimatorChain`1[Microsoft.ML.ITransformer]</code></span></summary><div><table><thead><tr></tr></thead><tbody><tr><td>LastEstimator</td><td><details class=\"dni-treeview\"><summary><span class=\"dni-code-hint\"><code>Microsoft.ML.Transforms.KeyToValueMappingEstimator</code></span></summary><div><table><thead><tr></tr></thead><tbody></tbody></table></div></details></td></tr></tbody></table></div></details></td></tr></tbody></table></div></details></td></tr><tr><td>3</td><td><details class=\"dni-treeview\"><summary><span class=\"dni-code-hint\"><code>Microsoft.ML.AutoML.RunDetail`1[Microsoft.ML.Data.MulticlassClassificationMetrics]</code></span></summary><div><table><thead><tr></tr></thead><tbody><tr><td>ValidationMetrics</td><td><details class=\"dni-treeview\"><summary><span class=\"dni-code-hint\"><code>Microsoft.ML.Data.MulticlassClassificationMetrics</code></span></summary><div><table><thead><tr></tr></thead><tbody><tr><td>LogLoss</td><td><div class=\"dni-plaintext\"><pre>0.768586862223849</pre></div></td></tr><tr><td>LogLossReduction</td><td><div class=\"dni-plaintext\"><pre>0.42888645286075755</pre></div></td></tr><tr><td>MacroAccuracy</td><td><div class=\"dni-plaintext\"><pre>0.7382505175983436</pre></div></td></tr><tr><td>MicroAccuracy</td><td><div class=\"dni-plaintext\"><pre>0.754</pre></div></td></tr><tr><td>TopKAccuracy</td><td><div class=\"dni-plaintext\"><pre>0</pre></div></td></tr><tr><td>TopKPredictionCount</td><td><div class=\"dni-plaintext\"><pre>0</pre></div></td></tr><tr><td>TopKAccuracyForAllK</td><td><div class=\"dni-plaintext\"><pre>&lt;null&gt;</pre></div></td></tr><tr><td>PerClassLogLoss</td><td><div class=\"dni-plaintext\"><pre>[ 0.765561024539069, 0.7917550877360937, 1.0098895818312694, 0.6363376371655183 ]</pre></div></td></tr><tr><td>ConfusionMatrix</td><td><details class=\"dni-treeview\"><summary><span class=\"dni-code-hint\"><code>Microsoft.ML.Data.ConfusionMatrix</code></span></summary><div><table><thead><tr></tr></thead><tbody><tr><td>PerClassPrecision</td><td><div class=\"dni-plaintext\"><pre>[ 0.8620689655172413, 0.8095238095238095, 0.8852459016393442, 0.6460176991150443 ]</pre></div></td></tr><tr><td>PerClassRecall</td><td><div class=\"dni-plaintext\"><pre>[ 0.75, 0.8095238095238095, 0.6, 0.7934782608695652 ]</pre></div></td></tr><tr><td>Counts</td><td><table><thead><tr><th><i>index</i></th><th>value</th></tr></thead><tbody><tr><td>0</td><td>[ 75, 0, 0, 25 ]</td></tr><tr><td>1</td><td>[ 4, 102, 0, 20 ]</td></tr><tr><td>2</td><td>[ 0, 1, 54, 35 ]</td></tr><tr><td>3</td><td>[ 8, 23, 7, 146 ]</td></tr></tbody></table></td></tr><tr><td>NumberOfClasses</td><td><div class=\"dni-plaintext\"><pre>4</pre></div></td></tr></tbody></table></div></details></td></tr></tbody></table></div></details></td></tr><tr><td>Model</td><td><table><thead><tr><th><i>index</i></th><th><i>type</i></th><th>value</th></tr></thead><tbody><tr><td>0</td><td><span><a href=\"https://docs.microsoft.com/dotnet/api/microsoft.ml.transforms.typeconvertingtransformer?view=net-7.0\">Microsoft.ML.Transforms.TypeConvertingTransformer</a></span></td><td><details class=\"dni-treeview\"><summary><span class=\"dni-code-hint\"><code>Microsoft.ML.Transforms.TypeConvertingTransformer</code></span></summary><div><table><thead><tr></tr></thead><tbody></tbody></table></div></details></td></tr><tr><td>1</td><td><span><a href=\"https://docs.microsoft.com/dotnet/api/microsoft.ml.transforms.text.textfeaturizingestimator.transformer?view=net-7.0\">Microsoft.ML.Transforms.Text.TextFeaturizingEstimator+Transformer</a></span></td><td><details class=\"dni-treeview\"><summary><span class=\"dni-code-hint\"><code>Microsoft.ML.Transforms.Text.TextFeaturizingEstimator+Transformer</code></span></summary><div><table><thead><tr></tr></thead><tbody></tbody></table></div></details></td></tr><tr><td>2</td><td><span><a href=\"https://docs.microsoft.com/dotnet/api/microsoft.ml.data.columnconcatenatingtransformer?view=net-7.0\">Microsoft.ML.Data.ColumnConcatenatingTransformer</a></span></td><td><details class=\"dni-treeview\"><summary><span class=\"dni-code-hint\"><code>Microsoft.ML.Data.ColumnConcatenatingTransformer</code></span></summary><div><table><thead><tr></tr></thead><tbody></tbody></table></div></details></td></tr><tr><td>3</td><td><span><a href=\"https://docs.microsoft.com/dotnet/api/microsoft.ml.transforms.valuetokeymappingtransformer?view=net-7.0\">Microsoft.ML.Transforms.ValueToKeyMappingTransformer</a></span></td><td><details class=\"dni-treeview\"><summary><span class=\"dni-code-hint\"><code>Microsoft.ML.Transforms.ValueToKeyMappingTransformer</code></span></summary><div><table><thead><tr></tr></thead><tbody></tbody></table></div></details></td></tr><tr><td>4</td><td><span><a href=\"https://docs.microsoft.com/dotnet/api/microsoft.ml.data.multiclasspredictiontransformer-1?view=net-7.0\">Microsoft.ML.Data.MulticlassPredictionTransformer&lt;Microsoft.ML.Trainers.OneVersusAllModelParameters&gt;</a></span></td><td><details class=\"dni-treeview\"><summary><span class=\"dni-code-hint\"><code>Microsoft.ML.Data.MulticlassPredictionTransformer`1[Microsoft.ML.Trainers.OneVersusAllModelParameters]</code></span></summary><div><table><thead><tr></tr></thead><tbody><tr><td>FeatureColumnName</td><td>__Features__</td></tr><tr><td>FeatureColumnType</td><td><details class=\"dni-treeview\"><summary><span class=\"dni-code-hint\"><code>Vector<Single, 11774></code></span></summary><div><table><thead><tr></tr></thead><tbody><tr><td>Dimensions</td><td>[ 11774 ]</td></tr><tr><td>IsKnownSize</td><td>True</td></tr><tr><td>ItemType</td><td>Single</td></tr><tr><td>Size</td><td>11774</td></tr><tr><td>RawType</td><td>Microsoft.ML.Data.VBuffer`1[System.Single]</td></tr></tbody></table></div></details></td></tr><tr><td>Model</td><td><details class=\"dni-treeview\"><summary><span class=\"dni-code-hint\"><code>Microsoft.ML.Trainers.OneVersusAllModelParameters</code></span></summary><div><table><thead><tr></tr></thead><tbody></tbody></table></div></details></td></tr></tbody></table></div></details></td></tr><tr><td>5</td><td><span><a href=\"https://docs.microsoft.com/dotnet/api/microsoft.ml.transforms.keytovaluemappingtransformer?view=net-7.0\">Microsoft.ML.Transforms.KeyToValueMappingTransformer</a></span></td><td><details class=\"dni-treeview\"><summary><span class=\"dni-code-hint\"><code>Microsoft.ML.Transforms.KeyToValueMappingTransformer</code></span></summary><div><table><thead><tr></tr></thead><tbody></tbody></table></div></details></td></tr></tbody></table></td></tr><tr><td>Exception</td><td><div class=\"dni-plaintext\"><pre>&lt;null&gt;</pre></div></td></tr><tr><td>TrainerName</td><td>ConvertType=&gt;FeaturizeText=&gt;Concatenate=&gt;Unknown=&gt;LightGbmMulti=&gt;Unknown</td></tr><tr><td>RuntimeInSeconds</td><td><div class=\"dni-plaintext\"><pre>1.164</pre></div></td></tr><tr><td>Estimator</td><td><details class=\"dni-treeview\"><summary><span class=\"dni-code-hint\"><code>Microsoft.ML.Data.EstimatorChain`1[Microsoft.ML.ITransformer]</code></span></summary><div><table><thead><tr></tr></thead><tbody><tr><td>LastEstimator</td><td><details class=\"dni-treeview\"><summary><span class=\"dni-code-hint\"><code>Microsoft.ML.Transforms.KeyToValueMappingEstimator</code></span></summary><div><table><thead><tr></tr></thead><tbody></tbody></table></div></details></td></tr></tbody></table></div></details></td></tr></tbody></table></div></details></td></tr><tr><td>4</td><td><details class=\"dni-treeview\"><summary><span class=\"dni-code-hint\"><code>Microsoft.ML.AutoML.RunDetail`1[Microsoft.ML.Data.MulticlassClassificationMetrics]</code></span></summary><div><table><thead><tr></tr></thead><tbody><tr><td>ValidationMetrics</td><td><details class=\"dni-treeview\"><summary><span class=\"dni-code-hint\"><code>Microsoft.ML.Data.MulticlassClassificationMetrics</code></span></summary><div><table><thead><tr></tr></thead><tbody><tr><td>LogLoss</td><td><div class=\"dni-plaintext\"><pre>0.5020166749294702</pre></div></td></tr><tr><td>LogLossReduction</td><td><div class=\"dni-plaintext\"><pre>0.6269666604598888</pre></div></td></tr><tr><td>MacroAccuracy</td><td><div class=\"dni-plaintext\"><pre>0.7697360248447205</pre></div></td></tr><tr><td>MicroAccuracy</td><td><div class=\"dni-plaintext\"><pre>0.786</pre></div></td></tr><tr><td>TopKAccuracy</td><td><div class=\"dni-plaintext\"><pre>0</pre></div></td></tr><tr><td>TopKPredictionCount</td><td><div class=\"dni-plaintext\"><pre>0</pre></div></td></tr><tr><td>TopKAccuracyForAllK</td><td><div class=\"dni-plaintext\"><pre>&lt;null&gt;</pre></div></td></tr><tr><td>PerClassLogLoss</td><td><div class=\"dni-plaintext\"><pre>[ 0.3005348142931877, 0.4835379248950113, 1.0451197748478078, 0.35852335740403435 ]</pre></div></td></tr><tr><td>ConfusionMatrix</td><td><details class=\"dni-treeview\"><summary><span class=\"dni-code-hint\"><code>Microsoft.ML.Data.ConfusionMatrix</code></span></summary><div><table><thead><tr></tr></thead><tbody><tr><td>PerClassPrecision</td><td><div class=\"dni-plaintext\"><pre>[ 0.9381443298969072, 0.7786259541984732, 0.8727272727272727, 0.7004608294930875 ]</pre></div></td></tr><tr><td>PerClassRecall</td><td><div class=\"dni-plaintext\"><pre>[ 0.91, 0.8095238095238095, 0.5333333333333333, 0.8260869565217391 ]</pre></div></td></tr><tr><td>Counts</td><td><table><thead><tr><th><i>index</i></th><th>value</th></tr></thead><tbody><tr><td>0</td><td>[ 91, 6, 0, 3 ]</td></tr><tr><td>1</td><td>[ 4, 102, 0, 20 ]</td></tr><tr><td>2</td><td>[ 0, 0, 48, 42 ]</td></tr><tr><td>3</td><td>[ 2, 23, 7, 152 ]</td></tr></tbody></table></td></tr><tr><td>NumberOfClasses</td><td><div class=\"dni-plaintext\"><pre>4</pre></div></td></tr></tbody></table></div></details></td></tr></tbody></table></div></details></td></tr><tr><td>Model</td><td><table><thead><tr><th><i>index</i></th><th><i>type</i></th><th>value</th></tr></thead><tbody><tr><td>0</td><td><span><a href=\"https://docs.microsoft.com/dotnet/api/microsoft.ml.transforms.typeconvertingtransformer?view=net-7.0\">Microsoft.ML.Transforms.TypeConvertingTransformer</a></span></td><td><details class=\"dni-treeview\"><summary><span class=\"dni-code-hint\"><code>Microsoft.ML.Transforms.TypeConvertingTransformer</code></span></summary><div><table><thead><tr></tr></thead><tbody></tbody></table></div></details></td></tr><tr><td>1</td><td><span><a href=\"https://docs.microsoft.com/dotnet/api/microsoft.ml.transforms.text.textfeaturizingestimator.transformer?view=net-7.0\">Microsoft.ML.Transforms.Text.TextFeaturizingEstimator+Transformer</a></span></td><td><details class=\"dni-treeview\"><summary><span class=\"dni-code-hint\"><code>Microsoft.ML.Transforms.Text.TextFeaturizingEstimator+Transformer</code></span></summary><div><table><thead><tr></tr></thead><tbody></tbody></table></div></details></td></tr><tr><td>2</td><td><span><a href=\"https://docs.microsoft.com/dotnet/api/microsoft.ml.data.columnconcatenatingtransformer?view=net-7.0\">Microsoft.ML.Data.ColumnConcatenatingTransformer</a></span></td><td><details class=\"dni-treeview\"><summary><span class=\"dni-code-hint\"><code>Microsoft.ML.Data.ColumnConcatenatingTransformer</code></span></summary><div><table><thead><tr></tr></thead><tbody></tbody></table></div></details></td></tr><tr><td>3</td><td><span><a href=\"https://docs.microsoft.com/dotnet/api/microsoft.ml.transforms.valuetokeymappingtransformer?view=net-7.0\">Microsoft.ML.Transforms.ValueToKeyMappingTransformer</a></span></td><td><details class=\"dni-treeview\"><summary><span class=\"dni-code-hint\"><code>Microsoft.ML.Transforms.ValueToKeyMappingTransformer</code></span></summary><div><table><thead><tr></tr></thead><tbody></tbody></table></div></details></td></tr><tr><td>4</td><td><span><a href=\"https://docs.microsoft.com/dotnet/api/microsoft.ml.data.multiclasspredictiontransformer-1?view=net-7.0\">Microsoft.ML.Data.MulticlassPredictionTransformer&lt;Microsoft.ML.Trainers.MaximumEntropyModelParameters&gt;</a></span></td><td><details class=\"dni-treeview\"><summary><span class=\"dni-code-hint\"><code>Microsoft.ML.Data.MulticlassPredictionTransformer`1[Microsoft.ML.Trainers.MaximumEntropyModelParameters]</code></span></summary><div><table><thead><tr></tr></thead><tbody><tr><td>FeatureColumnName</td><td>__Features__</td></tr><tr><td>FeatureColumnType</td><td><details class=\"dni-treeview\"><summary><span class=\"dni-code-hint\"><code>Vector<Single, 11774></code></span></summary><div><table><thead><tr></tr></thead><tbody><tr><td>Dimensions</td><td>[ 11774 ]</td></tr><tr><td>IsKnownSize</td><td>True</td></tr><tr><td>ItemType</td><td>Single</td></tr><tr><td>Size</td><td>11774</td></tr><tr><td>RawType</td><td>Microsoft.ML.Data.VBuffer`1[System.Single]</td></tr></tbody></table></div></details></td></tr><tr><td>Model</td><td><details class=\"dni-treeview\"><summary><span class=\"dni-code-hint\"><code>Microsoft.ML.Trainers.MaximumEntropyModelParameters</code></span></summary><div><table><thead><tr></tr></thead><tbody><tr><td>Statistics</td><td><div class=\"dni-plaintext\"><pre>&lt;null&gt;</pre></div></td></tr></tbody></table></div></details></td></tr></tbody></table></div></details></td></tr><tr><td>5</td><td><span><a href=\"https://docs.microsoft.com/dotnet/api/microsoft.ml.transforms.keytovaluemappingtransformer?view=net-7.0\">Microsoft.ML.Transforms.KeyToValueMappingTransformer</a></span></td><td><details class=\"dni-treeview\"><summary><span class=\"dni-code-hint\"><code>Microsoft.ML.Transforms.KeyToValueMappingTransformer</code></span></summary><div><table><thead><tr></tr></thead><tbody></tbody></table></div></details></td></tr></tbody></table></td></tr><tr><td>Exception</td><td><div class=\"dni-plaintext\"><pre>&lt;null&gt;</pre></div></td></tr><tr><td>TrainerName</td><td>ConvertType=&gt;FeaturizeText=&gt;Concatenate=&gt;Unknown=&gt;LightGbmMulti=&gt;Unknown</td></tr><tr><td>RuntimeInSeconds</td><td><div class=\"dni-plaintext\"><pre>0.504</pre></div></td></tr><tr><td>Estimator</td><td><details class=\"dni-treeview\"><summary><span class=\"dni-code-hint\"><code>Microsoft.ML.Data.EstimatorChain`1[Microsoft.ML.ITransformer]</code></span></summary><div><table><thead><tr></tr></thead><tbody><tr><td>LastEstimator</td><td><details class=\"dni-treeview\"><summary><span class=\"dni-code-hint\"><code>Microsoft.ML.Transforms.KeyToValueMappingEstimator</code></span></summary><div><table><thead><tr></tr></thead><tbody></tbody></table></div></details></td></tr></tbody></table></div></details></td></tr></tbody></table></div></details></td></tr><tr><td>5</td><td><details class=\"dni-treeview\"><summary><span class=\"dni-code-hint\"><code>Microsoft.ML.AutoML.RunDetail`1[Microsoft.ML.Data.MulticlassClassificationMetrics]</code></span></summary><div><table><thead><tr></tr></thead><tbody><tr><td>ValidationMetrics</td><td><details class=\"dni-treeview\"><summary><span class=\"dni-code-hint\"><code>Microsoft.ML.Data.MulticlassClassificationMetrics</code></span></summary><div><table><thead><tr></tr></thead><tbody><tr><td>LogLoss</td><td><div class=\"dni-plaintext\"><pre>0.6072776384041222</pre></div></td></tr><tr><td>LogLossReduction</td><td><div class=\"dni-plaintext\"><pre>0.54875043639985</pre></div></td></tr><tr><td>MacroAccuracy</td><td><div class=\"dni-plaintext\"><pre>0.7465251897860593</pre></div></td></tr><tr><td>MicroAccuracy</td><td><div class=\"dni-plaintext\"><pre>0.762</pre></div></td></tr><tr><td>TopKAccuracy</td><td><div class=\"dni-plaintext\"><pre>0</pre></div></td></tr><tr><td>TopKPredictionCount</td><td><div class=\"dni-plaintext\"><pre>0</pre></div></td></tr><tr><td>TopKAccuracyForAllK</td><td><div class=\"dni-plaintext\"><pre>&lt;null&gt;</pre></div></td></tr><tr><td>PerClassLogLoss</td><td><div class=\"dni-plaintext\"><pre>[ 0.48614306382869615, 0.5964249813043809, 1.012016658375083, 0.48257318435370405 ]</pre></div></td></tr><tr><td>ConfusionMatrix</td><td><details class=\"dni-treeview\"><summary><span class=\"dni-code-hint\"><code>Microsoft.ML.Data.ConfusionMatrix</code></span></summary><div><table><thead><tr></tr></thead><tbody><tr><td>PerClassPrecision</td><td><div class=\"dni-plaintext\"><pre>[ 0.8571428571428571, 0.7794117647058824, 0.8545454545454545, 0.6824644549763034 ]</pre></div></td></tr><tr><td>PerClassRecall</td><td><div class=\"dni-plaintext\"><pre>[ 0.84, 0.8412698412698413, 0.5222222222222223, 0.782608695652174 ]</pre></div></td></tr><tr><td>Counts</td><td><table><thead><tr><th><i>index</i></th><th>value</th></tr></thead><tbody><tr><td>0</td><td>[ 84, 4, 0, 12 ]</td></tr><tr><td>1</td><td>[ 8, 106, 0, 12 ]</td></tr><tr><td>2</td><td>[ 0, 0, 47, 43 ]</td></tr><tr><td>3</td><td>[ 6, 26, 8, 144 ]</td></tr></tbody></table></td></tr><tr><td>NumberOfClasses</td><td><div class=\"dni-plaintext\"><pre>4</pre></div></td></tr></tbody></table></div></details></td></tr></tbody></table></div></details></td></tr><tr><td>Model</td><td><table><thead><tr><th><i>index</i></th><th><i>type</i></th><th>value</th></tr></thead><tbody><tr><td>0</td><td><span><a href=\"https://docs.microsoft.com/dotnet/api/microsoft.ml.transforms.typeconvertingtransformer?view=net-7.0\">Microsoft.ML.Transforms.TypeConvertingTransformer</a></span></td><td><details class=\"dni-treeview\"><summary><span class=\"dni-code-hint\"><code>Microsoft.ML.Transforms.TypeConvertingTransformer</code></span></summary><div><table><thead><tr></tr></thead><tbody></tbody></table></div></details></td></tr><tr><td>1</td><td><span><a href=\"https://docs.microsoft.com/dotnet/api/microsoft.ml.transforms.text.textfeaturizingestimator.transformer?view=net-7.0\">Microsoft.ML.Transforms.Text.TextFeaturizingEstimator+Transformer</a></span></td><td><details class=\"dni-treeview\"><summary><span class=\"dni-code-hint\"><code>Microsoft.ML.Transforms.Text.TextFeaturizingEstimator+Transformer</code></span></summary><div><table><thead><tr></tr></thead><tbody></tbody></table></div></details></td></tr><tr><td>2</td><td><span><a href=\"https://docs.microsoft.com/dotnet/api/microsoft.ml.data.columnconcatenatingtransformer?view=net-7.0\">Microsoft.ML.Data.ColumnConcatenatingTransformer</a></span></td><td><details class=\"dni-treeview\"><summary><span class=\"dni-code-hint\"><code>Microsoft.ML.Data.ColumnConcatenatingTransformer</code></span></summary><div><table><thead><tr></tr></thead><tbody></tbody></table></div></details></td></tr><tr><td>3</td><td><span><a href=\"https://docs.microsoft.com/dotnet/api/microsoft.ml.transforms.valuetokeymappingtransformer?view=net-7.0\">Microsoft.ML.Transforms.ValueToKeyMappingTransformer</a></span></td><td><details class=\"dni-treeview\"><summary><span class=\"dni-code-hint\"><code>Microsoft.ML.Transforms.ValueToKeyMappingTransformer</code></span></summary><div><table><thead><tr></tr></thead><tbody></tbody></table></div></details></td></tr><tr><td>4</td><td><span><a href=\"https://docs.microsoft.com/dotnet/api/microsoft.ml.data.multiclasspredictiontransformer-1?view=net-7.0\">Microsoft.ML.Data.MulticlassPredictionTransformer&lt;Microsoft.ML.Trainers.OneVersusAllModelParameters&gt;</a></span></td><td><details class=\"dni-treeview\"><summary><span class=\"dni-code-hint\"><code>Microsoft.ML.Data.MulticlassPredictionTransformer`1[Microsoft.ML.Trainers.OneVersusAllModelParameters]</code></span></summary><div><table><thead><tr></tr></thead><tbody><tr><td>FeatureColumnName</td><td>__Features__</td></tr><tr><td>FeatureColumnType</td><td><details class=\"dni-treeview\"><summary><span class=\"dni-code-hint\"><code>Vector<Single, 11774></code></span></summary><div><table><thead><tr></tr></thead><tbody><tr><td>Dimensions</td><td>[ 11774 ]</td></tr><tr><td>IsKnownSize</td><td>True</td></tr><tr><td>ItemType</td><td>Single</td></tr><tr><td>Size</td><td>11774</td></tr><tr><td>RawType</td><td>Microsoft.ML.Data.VBuffer`1[System.Single]</td></tr></tbody></table></div></details></td></tr><tr><td>Model</td><td><details class=\"dni-treeview\"><summary><span class=\"dni-code-hint\"><code>Microsoft.ML.Trainers.OneVersusAllModelParameters</code></span></summary><div><table><thead><tr></tr></thead><tbody></tbody></table></div></details></td></tr></tbody></table></div></details></td></tr><tr><td>5</td><td><span><a href=\"https://docs.microsoft.com/dotnet/api/microsoft.ml.transforms.keytovaluemappingtransformer?view=net-7.0\">Microsoft.ML.Transforms.KeyToValueMappingTransformer</a></span></td><td><details class=\"dni-treeview\"><summary><span class=\"dni-code-hint\"><code>Microsoft.ML.Transforms.KeyToValueMappingTransformer</code></span></summary><div><table><thead><tr></tr></thead><tbody></tbody></table></div></details></td></tr></tbody></table></td></tr><tr><td>Exception</td><td><div class=\"dni-plaintext\"><pre>&lt;null&gt;</pre></div></td></tr><tr><td>TrainerName</td><td>ConvertType=&gt;FeaturizeText=&gt;Concatenate=&gt;Unknown=&gt;LightGbmMulti=&gt;Unknown</td></tr><tr><td>RuntimeInSeconds</td><td><div class=\"dni-plaintext\"><pre>0.383</pre></div></td></tr><tr><td>Estimator</td><td><details class=\"dni-treeview\"><summary><span class=\"dni-code-hint\"><code>Microsoft.ML.Data.EstimatorChain`1[Microsoft.ML.ITransformer]</code></span></summary><div><table><thead><tr></tr></thead><tbody><tr><td>LastEstimator</td><td><details class=\"dni-treeview\"><summary><span class=\"dni-code-hint\"><code>Microsoft.ML.Transforms.KeyToValueMappingEstimator</code></span></summary><div><table><thead><tr></tr></thead><tbody></tbody></table></div></details></td></tr></tbody></table></div></details></td></tr></tbody></table></div></details></td></tr><tr><td>6</td><td><details class=\"dni-treeview\"><summary><span class=\"dni-code-hint\"><code>Microsoft.ML.AutoML.RunDetail`1[Microsoft.ML.Data.MulticlassClassificationMetrics]</code></span></summary><div><table><thead><tr></tr></thead><tbody><tr><td>ValidationMetrics</td><td><details class=\"dni-treeview\"><summary><span class=\"dni-code-hint\"><code>Microsoft.ML.Data.MulticlassClassificationMetrics</code></span></summary><div><table><thead><tr></tr></thead><tbody><tr><td>LogLoss</td><td><div class=\"dni-plaintext\"><pre>1.2389531928872972</pre></div></td></tr><tr><td>LogLossReduction</td><td><div class=\"dni-plaintext\"><pre>0.0793715225862492</pre></div></td></tr><tr><td>MacroAccuracy</td><td><div class=\"dni-plaintext\"><pre>0.5529390959282263</pre></div></td></tr><tr><td>MicroAccuracy</td><td><div class=\"dni-plaintext\"><pre>0.62</pre></div></td></tr><tr><td>TopKAccuracy</td><td><div class=\"dni-plaintext\"><pre>0</pre></div></td></tr><tr><td>TopKPredictionCount</td><td><div class=\"dni-plaintext\"><pre>0</pre></div></td></tr><tr><td>TopKAccuracyForAllK</td><td><div class=\"dni-plaintext\"><pre>&lt;null&gt;</pre></div></td></tr><tr><td>PerClassLogLoss</td><td><div class=\"dni-plaintext\"><pre>[ 1.2917743605497216, 1.2857561100739678, 1.3439958916331352, 1.1268166319150825 ]</pre></div></td></tr><tr><td>ConfusionMatrix</td><td><details class=\"dni-treeview\"><summary><span class=\"dni-code-hint\"><code>Microsoft.ML.Data.ConfusionMatrix</code></span></summary><div><table><thead><tr></tr></thead><tbody><tr><td>PerClassPrecision</td><td><div class=\"dni-plaintext\"><pre>[ 0.8596491228070176, 0.8034188034188035, 0.8571428571428571, 0.4967948717948718 ]</pre></div></td></tr><tr><td>PerClassRecall</td><td><div class=\"dni-plaintext\"><pre>[ 0.49, 0.746031746031746, 0.13333333333333333, 0.842391304347826 ]</pre></div></td></tr><tr><td>Counts</td><td><table><thead><tr><th><i>index</i></th><th>value</th></tr></thead><tbody><tr><td>0</td><td>[ 49, 0, 0, 51 ]</td></tr><tr><td>1</td><td>[ 2, 94, 0, 30 ]</td></tr><tr><td>2</td><td>[ 0, 2, 12, 76 ]</td></tr><tr><td>3</td><td>[ 6, 21, 2, 155 ]</td></tr></tbody></table></td></tr><tr><td>NumberOfClasses</td><td><div class=\"dni-plaintext\"><pre>4</pre></div></td></tr></tbody></table></div></details></td></tr></tbody></table></div></details></td></tr><tr><td>Model</td><td><table><thead><tr><th><i>index</i></th><th><i>type</i></th><th>value</th></tr></thead><tbody><tr><td>0</td><td><span><a href=\"https://docs.microsoft.com/dotnet/api/microsoft.ml.transforms.typeconvertingtransformer?view=net-7.0\">Microsoft.ML.Transforms.TypeConvertingTransformer</a></span></td><td><details class=\"dni-treeview\"><summary><span class=\"dni-code-hint\"><code>Microsoft.ML.Transforms.TypeConvertingTransformer</code></span></summary><div><table><thead><tr></tr></thead><tbody></tbody></table></div></details></td></tr><tr><td>1</td><td><span><a href=\"https://docs.microsoft.com/dotnet/api/microsoft.ml.transforms.text.textfeaturizingestimator.transformer?view=net-7.0\">Microsoft.ML.Transforms.Text.TextFeaturizingEstimator+Transformer</a></span></td><td><details class=\"dni-treeview\"><summary><span class=\"dni-code-hint\"><code>Microsoft.ML.Transforms.Text.TextFeaturizingEstimator+Transformer</code></span></summary><div><table><thead><tr></tr></thead><tbody></tbody></table></div></details></td></tr><tr><td>2</td><td><span><a href=\"https://docs.microsoft.com/dotnet/api/microsoft.ml.data.columnconcatenatingtransformer?view=net-7.0\">Microsoft.ML.Data.ColumnConcatenatingTransformer</a></span></td><td><details class=\"dni-treeview\"><summary><span class=\"dni-code-hint\"><code>Microsoft.ML.Data.ColumnConcatenatingTransformer</code></span></summary><div><table><thead><tr></tr></thead><tbody></tbody></table></div></details></td></tr><tr><td>3</td><td><span><a href=\"https://docs.microsoft.com/dotnet/api/microsoft.ml.transforms.valuetokeymappingtransformer?view=net-7.0\">Microsoft.ML.Transforms.ValueToKeyMappingTransformer</a></span></td><td><details class=\"dni-treeview\"><summary><span class=\"dni-code-hint\"><code>Microsoft.ML.Transforms.ValueToKeyMappingTransformer</code></span></summary><div><table><thead><tr></tr></thead><tbody></tbody></table></div></details></td></tr><tr><td>4</td><td><span><a href=\"https://docs.microsoft.com/dotnet/api/microsoft.ml.data.multiclasspredictiontransformer-1?view=net-7.0\">Microsoft.ML.Data.MulticlassPredictionTransformer&lt;Microsoft.ML.Trainers.MaximumEntropyModelParameters&gt;</a></span></td><td><details class=\"dni-treeview\"><summary><span class=\"dni-code-hint\"><code>Microsoft.ML.Data.MulticlassPredictionTransformer`1[Microsoft.ML.Trainers.MaximumEntropyModelParameters]</code></span></summary><div><table><thead><tr></tr></thead><tbody><tr><td>FeatureColumnName</td><td>__Features__</td></tr><tr><td>FeatureColumnType</td><td><details class=\"dni-treeview\"><summary><span class=\"dni-code-hint\"><code>Vector<Single, 11774></code></span></summary><div><table><thead><tr></tr></thead><tbody><tr><td>Dimensions</td><td>[ 11774 ]</td></tr><tr><td>IsKnownSize</td><td>True</td></tr><tr><td>ItemType</td><td>Single</td></tr><tr><td>Size</td><td>11774</td></tr><tr><td>RawType</td><td>Microsoft.ML.Data.VBuffer`1[System.Single]</td></tr></tbody></table></div></details></td></tr><tr><td>Model</td><td><details class=\"dni-treeview\"><summary><span class=\"dni-code-hint\"><code>Microsoft.ML.Trainers.MaximumEntropyModelParameters</code></span></summary><div><table><thead><tr></tr></thead><tbody><tr><td>Statistics</td><td><div class=\"dni-plaintext\"><pre>&lt;null&gt;</pre></div></td></tr></tbody></table></div></details></td></tr></tbody></table></div></details></td></tr><tr><td>5</td><td><span><a href=\"https://docs.microsoft.com/dotnet/api/microsoft.ml.transforms.keytovaluemappingtransformer?view=net-7.0\">Microsoft.ML.Transforms.KeyToValueMappingTransformer</a></span></td><td><details class=\"dni-treeview\"><summary><span class=\"dni-code-hint\"><code>Microsoft.ML.Transforms.KeyToValueMappingTransformer</code></span></summary><div><table><thead><tr></tr></thead><tbody></tbody></table></div></details></td></tr></tbody></table></td></tr><tr><td>Exception</td><td><div class=\"dni-plaintext\"><pre>&lt;null&gt;</pre></div></td></tr><tr><td>TrainerName</td><td>ConvertType=&gt;FeaturizeText=&gt;Concatenate=&gt;Unknown=&gt;LightGbmMulti=&gt;Unknown</td></tr><tr><td>RuntimeInSeconds</td><td><div class=\"dni-plaintext\"><pre>0.317</pre></div></td></tr><tr><td>Estimator</td><td><details class=\"dni-treeview\"><summary><span class=\"dni-code-hint\"><code>Microsoft.ML.Data.EstimatorChain`1[Microsoft.ML.ITransformer]</code></span></summary><div><table><thead><tr></tr></thead><tbody><tr><td>LastEstimator</td><td><details class=\"dni-treeview\"><summary><span class=\"dni-code-hint\"><code>Microsoft.ML.Transforms.KeyToValueMappingEstimator</code></span></summary><div><table><thead><tr></tr></thead><tbody></tbody></table></div></details></td></tr></tbody></table></div></details></td></tr></tbody></table></div></details></td></tr><tr><td>7</td><td><details class=\"dni-treeview\"><summary><span class=\"dni-code-hint\"><code>Microsoft.ML.AutoML.RunDetail`1[Microsoft.ML.Data.MulticlassClassificationMetrics]</code></span></summary><div><table><thead><tr></tr></thead><tbody><tr><td>ValidationMetrics</td><td><details class=\"dni-treeview\"><summary><span class=\"dni-code-hint\"><code>Microsoft.ML.Data.MulticlassClassificationMetrics</code></span></summary><div><table><thead><tr></tr></thead><tbody><tr><td>LogLoss</td><td><div class=\"dni-plaintext\"><pre>0.5119809709411925</pre></div></td></tr><tr><td>LogLossReduction</td><td><div class=\"dni-plaintext\"><pre>0.6195624948155082</pre></div></td></tr><tr><td>MacroAccuracy</td><td><div class=\"dni-plaintext\"><pre>0.7816295721187025</pre></div></td></tr><tr><td>MicroAccuracy</td><td><div class=\"dni-plaintext\"><pre>0.798</pre></div></td></tr><tr><td>TopKAccuracy</td><td><div class=\"dni-plaintext\"><pre>0</pre></div></td></tr><tr><td>TopKPredictionCount</td><td><div class=\"dni-plaintext\"><pre>0</pre></div></td></tr><tr><td>TopKAccuracyForAllK</td><td><div class=\"dni-plaintext\"><pre>&lt;null&gt;</pre></div></td></tr><tr><td>PerClassLogLoss</td><td><div class=\"dni-plaintext\"><pre>[ 0.37216390349222467, 0.5097796982759034, 0.9725721810641614, 0.3641867219719299 ]</pre></div></td></tr><tr><td>ConfusionMatrix</td><td><details class=\"dni-treeview\"><summary><span class=\"dni-code-hint\"><code>Microsoft.ML.Data.ConfusionMatrix</code></span></summary><div><table><thead><tr></tr></thead><tbody><tr><td>PerClassPrecision</td><td><div class=\"dni-plaintext\"><pre>[ 0.9375, 0.7984496124031008, 0.8947368421052632, 0.7110091743119266 ]</pre></div></td></tr><tr><td>PerClassRecall</td><td><div class=\"dni-plaintext\"><pre>[ 0.9, 0.8174603174603174, 0.5666666666666667, 0.842391304347826 ]</pre></div></td></tr><tr><td>Counts</td><td><table><thead><tr><th><i>index</i></th><th>value</th></tr></thead><tbody><tr><td>0</td><td>[ 90, 5, 0, 5 ]</td></tr><tr><td>1</td><td>[ 4, 103, 0, 19 ]</td></tr><tr><td>2</td><td>[ 0, 0, 51, 39 ]</td></tr><tr><td>3</td><td>[ 2, 21, 6, 155 ]</td></tr></tbody></table></td></tr><tr><td>NumberOfClasses</td><td><div class=\"dni-plaintext\"><pre>4</pre></div></td></tr></tbody></table></div></details></td></tr></tbody></table></div></details></td></tr><tr><td>Model</td><td><table><thead><tr><th><i>index</i></th><th><i>type</i></th><th>value</th></tr></thead><tbody><tr><td>0</td><td><span><a href=\"https://docs.microsoft.com/dotnet/api/microsoft.ml.transforms.typeconvertingtransformer?view=net-7.0\">Microsoft.ML.Transforms.TypeConvertingTransformer</a></span></td><td><details class=\"dni-treeview\"><summary><span class=\"dni-code-hint\"><code>Microsoft.ML.Transforms.TypeConvertingTransformer</code></span></summary><div><table><thead><tr></tr></thead><tbody></tbody></table></div></details></td></tr><tr><td>1</td><td><span><a href=\"https://docs.microsoft.com/dotnet/api/microsoft.ml.transforms.text.textfeaturizingestimator.transformer?view=net-7.0\">Microsoft.ML.Transforms.Text.TextFeaturizingEstimator+Transformer</a></span></td><td><details class=\"dni-treeview\"><summary><span class=\"dni-code-hint\"><code>Microsoft.ML.Transforms.Text.TextFeaturizingEstimator+Transformer</code></span></summary><div><table><thead><tr></tr></thead><tbody></tbody></table></div></details></td></tr><tr><td>2</td><td><span><a href=\"https://docs.microsoft.com/dotnet/api/microsoft.ml.data.columnconcatenatingtransformer?view=net-7.0\">Microsoft.ML.Data.ColumnConcatenatingTransformer</a></span></td><td><details class=\"dni-treeview\"><summary><span class=\"dni-code-hint\"><code>Microsoft.ML.Data.ColumnConcatenatingTransformer</code></span></summary><div><table><thead><tr></tr></thead><tbody></tbody></table></div></details></td></tr><tr><td>3</td><td><span><a href=\"https://docs.microsoft.com/dotnet/api/microsoft.ml.transforms.valuetokeymappingtransformer?view=net-7.0\">Microsoft.ML.Transforms.ValueToKeyMappingTransformer</a></span></td><td><details class=\"dni-treeview\"><summary><span class=\"dni-code-hint\"><code>Microsoft.ML.Transforms.ValueToKeyMappingTransformer</code></span></summary><div><table><thead><tr></tr></thead><tbody></tbody></table></div></details></td></tr><tr><td>4</td><td><span><a href=\"https://docs.microsoft.com/dotnet/api/microsoft.ml.data.multiclasspredictiontransformer-1?view=net-7.0\">Microsoft.ML.Data.MulticlassPredictionTransformer&lt;Microsoft.ML.Trainers.MaximumEntropyModelParameters&gt;</a></span></td><td><details class=\"dni-treeview\"><summary><span class=\"dni-code-hint\"><code>Microsoft.ML.Data.MulticlassPredictionTransformer`1[Microsoft.ML.Trainers.MaximumEntropyModelParameters]</code></span></summary><div><table><thead><tr></tr></thead><tbody><tr><td>FeatureColumnName</td><td>__Features__</td></tr><tr><td>FeatureColumnType</td><td><details class=\"dni-treeview\"><summary><span class=\"dni-code-hint\"><code>Vector<Single, 11774></code></span></summary><div><table><thead><tr></tr></thead><tbody><tr><td>Dimensions</td><td>[ 11774 ]</td></tr><tr><td>IsKnownSize</td><td>True</td></tr><tr><td>ItemType</td><td>Single</td></tr><tr><td>Size</td><td>11774</td></tr><tr><td>RawType</td><td>Microsoft.ML.Data.VBuffer`1[System.Single]</td></tr></tbody></table></div></details></td></tr><tr><td>Model</td><td><details class=\"dni-treeview\"><summary><span class=\"dni-code-hint\"><code>Microsoft.ML.Trainers.MaximumEntropyModelParameters</code></span></summary><div><table><thead><tr></tr></thead><tbody><tr><td>Statistics</td><td><div class=\"dni-plaintext\"><pre>&lt;null&gt;</pre></div></td></tr></tbody></table></div></details></td></tr></tbody></table></div></details></td></tr><tr><td>5</td><td><span><a href=\"https://docs.microsoft.com/dotnet/api/microsoft.ml.transforms.keytovaluemappingtransformer?view=net-7.0\">Microsoft.ML.Transforms.KeyToValueMappingTransformer</a></span></td><td><details class=\"dni-treeview\"><summary><span class=\"dni-code-hint\"><code>Microsoft.ML.Transforms.KeyToValueMappingTransformer</code></span></summary><div><table><thead><tr></tr></thead><tbody></tbody></table></div></details></td></tr></tbody></table></td></tr><tr><td>Exception</td><td><div class=\"dni-plaintext\"><pre>&lt;null&gt;</pre></div></td></tr><tr><td>TrainerName</td><td>ConvertType=&gt;FeaturizeText=&gt;Concatenate=&gt;Unknown=&gt;LightGbmMulti=&gt;Unknown</td></tr><tr><td>RuntimeInSeconds</td><td><div class=\"dni-plaintext\"><pre>0.342</pre></div></td></tr><tr><td>Estimator</td><td><details class=\"dni-treeview\"><summary><span class=\"dni-code-hint\"><code>Microsoft.ML.Data.EstimatorChain`1[Microsoft.ML.ITransformer]</code></span></summary><div><table><thead><tr></tr></thead><tbody><tr><td>LastEstimator</td><td><details class=\"dni-treeview\"><summary><span class=\"dni-code-hint\"><code>Microsoft.ML.Transforms.KeyToValueMappingEstimator</code></span></summary><div><table><thead><tr></tr></thead><tbody></tbody></table></div></details></td></tr></tbody></table></div></details></td></tr></tbody></table></div></details></td></tr><tr><td>8</td><td><details class=\"dni-treeview\"><summary><span class=\"dni-code-hint\"><code>Microsoft.ML.AutoML.RunDetail`1[Microsoft.ML.Data.MulticlassClassificationMetrics]</code></span></summary><div><table><thead><tr></tr></thead><tbody><tr><td>ValidationMetrics</td><td><details class=\"dni-treeview\"><summary><span class=\"dni-code-hint\"><code>Microsoft.ML.Data.MulticlassClassificationMetrics</code></span></summary><div><table><thead><tr></tr></thead><tbody><tr><td>LogLoss</td><td><div class=\"dni-plaintext\"><pre>1.0877650146976199</pre></div></td></tr><tr><td>LogLossReduction</td><td><div class=\"dni-plaintext\"><pre>0.19171486460173962</pre></div></td></tr><tr><td>MacroAccuracy</td><td><div class=\"dni-plaintext\"><pre>0.43287784679089025</pre></div></td></tr><tr><td>MicroAccuracy</td><td><div class=\"dni-plaintext\"><pre>0.512</pre></div></td></tr><tr><td>TopKAccuracy</td><td><div class=\"dni-plaintext\"><pre>0</pre></div></td></tr><tr><td>TopKPredictionCount</td><td><div class=\"dni-plaintext\"><pre>0</pre></div></td></tr><tr><td>TopKAccuracyForAllK</td><td><div class=\"dni-plaintext\"><pre>&lt;null&gt;</pre></div></td></tr><tr><td>PerClassLogLoss</td><td><div class=\"dni-plaintext\"><pre>[ 1.1697879731047716, 1.2315916626990402, 1.2963418789478756, 0.8426760403964396 ]</pre></div></td></tr><tr><td>ConfusionMatrix</td><td><details class=\"dni-treeview\"><summary><span class=\"dni-code-hint\"><code>Microsoft.ML.Data.ConfusionMatrix</code></span></summary><div><table><thead><tr></tr></thead><tbody><tr><td>PerClassPrecision</td><td><div class=\"dni-plaintext\"><pre>[ 0.9607843137254902, 1, 0.9444444444444444, 0.4302600472813239 ]</pre></div></td></tr><tr><td>PerClassRecall</td><td><div class=\"dni-plaintext\"><pre>[ 0.49, 0.06349206349206349, 0.18888888888888888, 0.9891304347826086 ]</pre></div></td></tr><tr><td>Counts</td><td><table><thead><tr><th><i>index</i></th><th>value</th></tr></thead><tbody><tr><td>0</td><td>[ 49, 0, 0, 51 ]</td></tr><tr><td>1</td><td>[ 1, 8, 0, 117 ]</td></tr><tr><td>2</td><td>[ 0, 0, 17, 73 ]</td></tr><tr><td>3</td><td>[ 1, 0, 1, 182 ]</td></tr></tbody></table></td></tr><tr><td>NumberOfClasses</td><td><div class=\"dni-plaintext\"><pre>4</pre></div></td></tr></tbody></table></div></details></td></tr></tbody></table></div></details></td></tr><tr><td>Model</td><td><table><thead><tr><th><i>index</i></th><th><i>type</i></th><th>value</th></tr></thead><tbody><tr><td>0</td><td><span><a href=\"https://docs.microsoft.com/dotnet/api/microsoft.ml.transforms.typeconvertingtransformer?view=net-7.0\">Microsoft.ML.Transforms.TypeConvertingTransformer</a></span></td><td><details class=\"dni-treeview\"><summary><span class=\"dni-code-hint\"><code>Microsoft.ML.Transforms.TypeConvertingTransformer</code></span></summary><div><table><thead><tr></tr></thead><tbody></tbody></table></div></details></td></tr><tr><td>1</td><td><span><a href=\"https://docs.microsoft.com/dotnet/api/microsoft.ml.transforms.text.textfeaturizingestimator.transformer?view=net-7.0\">Microsoft.ML.Transforms.Text.TextFeaturizingEstimator+Transformer</a></span></td><td><details class=\"dni-treeview\"><summary><span class=\"dni-code-hint\"><code>Microsoft.ML.Transforms.Text.TextFeaturizingEstimator+Transformer</code></span></summary><div><table><thead><tr></tr></thead><tbody></tbody></table></div></details></td></tr><tr><td>2</td><td><span><a href=\"https://docs.microsoft.com/dotnet/api/microsoft.ml.data.columnconcatenatingtransformer?view=net-7.0\">Microsoft.ML.Data.ColumnConcatenatingTransformer</a></span></td><td><details class=\"dni-treeview\"><summary><span class=\"dni-code-hint\"><code>Microsoft.ML.Data.ColumnConcatenatingTransformer</code></span></summary><div><table><thead><tr></tr></thead><tbody></tbody></table></div></details></td></tr><tr><td>3</td><td><span><a href=\"https://docs.microsoft.com/dotnet/api/microsoft.ml.transforms.valuetokeymappingtransformer?view=net-7.0\">Microsoft.ML.Transforms.ValueToKeyMappingTransformer</a></span></td><td><details class=\"dni-treeview\"><summary><span class=\"dni-code-hint\"><code>Microsoft.ML.Transforms.ValueToKeyMappingTransformer</code></span></summary><div><table><thead><tr></tr></thead><tbody></tbody></table></div></details></td></tr><tr><td>4</td><td><span><a href=\"https://docs.microsoft.com/dotnet/api/microsoft.ml.data.multiclasspredictiontransformer-1?view=net-7.0\">Microsoft.ML.Data.MulticlassPredictionTransformer&lt;Microsoft.ML.Trainers.MaximumEntropyModelParameters&gt;</a></span></td><td><details class=\"dni-treeview\"><summary><span class=\"dni-code-hint\"><code>Microsoft.ML.Data.MulticlassPredictionTransformer`1[Microsoft.ML.Trainers.MaximumEntropyModelParameters]</code></span></summary><div><table><thead><tr></tr></thead><tbody><tr><td>FeatureColumnName</td><td>__Features__</td></tr><tr><td>FeatureColumnType</td><td><details class=\"dni-treeview\"><summary><span class=\"dni-code-hint\"><code>Vector<Single, 11774></code></span></summary><div><table><thead><tr></tr></thead><tbody><tr><td>Dimensions</td><td>[ 11774 ]</td></tr><tr><td>IsKnownSize</td><td>True</td></tr><tr><td>ItemType</td><td>Single</td></tr><tr><td>Size</td><td>11774</td></tr><tr><td>RawType</td><td>Microsoft.ML.Data.VBuffer`1[System.Single]</td></tr></tbody></table></div></details></td></tr><tr><td>Model</td><td><details class=\"dni-treeview\"><summary><span class=\"dni-code-hint\"><code>Microsoft.ML.Trainers.MaximumEntropyModelParameters</code></span></summary><div><table><thead><tr></tr></thead><tbody><tr><td>Statistics</td><td><div class=\"dni-plaintext\"><pre>&lt;null&gt;</pre></div></td></tr></tbody></table></div></details></td></tr></tbody></table></div></details></td></tr><tr><td>5</td><td><span><a href=\"https://docs.microsoft.com/dotnet/api/microsoft.ml.transforms.keytovaluemappingtransformer?view=net-7.0\">Microsoft.ML.Transforms.KeyToValueMappingTransformer</a></span></td><td><details class=\"dni-treeview\"><summary><span class=\"dni-code-hint\"><code>Microsoft.ML.Transforms.KeyToValueMappingTransformer</code></span></summary><div><table><thead><tr></tr></thead><tbody></tbody></table></div></details></td></tr></tbody></table></td></tr><tr><td>Exception</td><td><div class=\"dni-plaintext\"><pre>&lt;null&gt;</pre></div></td></tr><tr><td>TrainerName</td><td>ConvertType=&gt;FeaturizeText=&gt;Concatenate=&gt;Unknown=&gt;LightGbmMulti=&gt;Unknown</td></tr><tr><td>RuntimeInSeconds</td><td><div class=\"dni-plaintext\"><pre>0.24</pre></div></td></tr><tr><td>Estimator</td><td><details class=\"dni-treeview\"><summary><span class=\"dni-code-hint\"><code>Microsoft.ML.Data.EstimatorChain`1[Microsoft.ML.ITransformer]</code></span></summary><div><table><thead><tr></tr></thead><tbody><tr><td>LastEstimator</td><td><details class=\"dni-treeview\"><summary><span class=\"dni-code-hint\"><code>Microsoft.ML.Transforms.KeyToValueMappingEstimator</code></span></summary><div><table><thead><tr></tr></thead><tbody></tbody></table></div></details></td></tr></tbody></table></div></details></td></tr></tbody></table></div></details></td></tr><tr><td>9</td><td><details class=\"dni-treeview\"><summary><span class=\"dni-code-hint\"><code>Microsoft.ML.AutoML.RunDetail`1[Microsoft.ML.Data.MulticlassClassificationMetrics]</code></span></summary><div><table><thead><tr></tr></thead><tbody><tr><td>ValidationMetrics</td><td><details class=\"dni-treeview\"><summary><span class=\"dni-code-hint\"><code>Microsoft.ML.Data.MulticlassClassificationMetrics</code></span></summary><div><table><thead><tr></tr></thead><tbody><tr><td>LogLoss</td><td><div class=\"dni-plaintext\"><pre>0.6111380238037035</pre></div></td></tr><tr><td>LogLossReduction</td><td><div class=\"dni-plaintext\"><pre>0.5458819012904933</pre></div></td></tr><tr><td>MacroAccuracy</td><td><div class=\"dni-plaintext\"><pre>0.7411378536922015</pre></div></td></tr><tr><td>MicroAccuracy</td><td><div class=\"dni-plaintext\"><pre>0.758</pre></div></td></tr><tr><td>TopKAccuracy</td><td><div class=\"dni-plaintext\"><pre>0</pre></div></td></tr><tr><td>TopKPredictionCount</td><td><div class=\"dni-plaintext\"><pre>0</pre></div></td></tr><tr><td>TopKAccuracyForAllK</td><td><div class=\"dni-plaintext\"><pre>&lt;null&gt;</pre></div></td></tr><tr><td>PerClassLogLoss</td><td><div class=\"dni-plaintext\"><pre>[ 0.46586870138976527, 0.6228535974573112, 1.0729080596652967, 0.45620034300748497 ]</pre></div></td></tr><tr><td>ConfusionMatrix</td><td><details class=\"dni-treeview\"><summary><span class=\"dni-code-hint\"><code>Microsoft.ML.Data.ConfusionMatrix</code></span></summary><div><table><thead><tr></tr></thead><tbody><tr><td>PerClassPrecision</td><td><div class=\"dni-plaintext\"><pre>[ 0.865979381443299, 0.7761194029850746, 0.8679245283018868, 0.6712962962962963 ]</pre></div></td></tr><tr><td>PerClassRecall</td><td><div class=\"dni-plaintext\"><pre>[ 0.84, 0.8253968253968254, 0.5111111111111111, 0.7880434782608695 ]</pre></div></td></tr><tr><td>Counts</td><td><table><thead><tr><th><i>index</i></th><th>value</th></tr></thead><tbody><tr><td>0</td><td>[ 84, 4, 0, 12 ]</td></tr><tr><td>1</td><td>[ 7, 104, 0, 15 ]</td></tr><tr><td>2</td><td>[ 0, 0, 46, 44 ]</td></tr><tr><td>3</td><td>[ 6, 26, 7, 145 ]</td></tr></tbody></table></td></tr><tr><td>NumberOfClasses</td><td><div class=\"dni-plaintext\"><pre>4</pre></div></td></tr></tbody></table></div></details></td></tr></tbody></table></div></details></td></tr><tr><td>Model</td><td><table><thead><tr><th><i>index</i></th><th><i>type</i></th><th>value</th></tr></thead><tbody><tr><td>0</td><td><span><a href=\"https://docs.microsoft.com/dotnet/api/microsoft.ml.transforms.typeconvertingtransformer?view=net-7.0\">Microsoft.ML.Transforms.TypeConvertingTransformer</a></span></td><td><details class=\"dni-treeview\"><summary><span class=\"dni-code-hint\"><code>Microsoft.ML.Transforms.TypeConvertingTransformer</code></span></summary><div><table><thead><tr></tr></thead><tbody></tbody></table></div></details></td></tr><tr><td>1</td><td><span><a href=\"https://docs.microsoft.com/dotnet/api/microsoft.ml.transforms.text.textfeaturizingestimator.transformer?view=net-7.0\">Microsoft.ML.Transforms.Text.TextFeaturizingEstimator+Transformer</a></span></td><td><details class=\"dni-treeview\"><summary><span class=\"dni-code-hint\"><code>Microsoft.ML.Transforms.Text.TextFeaturizingEstimator+Transformer</code></span></summary><div><table><thead><tr></tr></thead><tbody></tbody></table></div></details></td></tr><tr><td>2</td><td><span><a href=\"https://docs.microsoft.com/dotnet/api/microsoft.ml.data.columnconcatenatingtransformer?view=net-7.0\">Microsoft.ML.Data.ColumnConcatenatingTransformer</a></span></td><td><details class=\"dni-treeview\"><summary><span class=\"dni-code-hint\"><code>Microsoft.ML.Data.ColumnConcatenatingTransformer</code></span></summary><div><table><thead><tr></tr></thead><tbody></tbody></table></div></details></td></tr><tr><td>3</td><td><span><a href=\"https://docs.microsoft.com/dotnet/api/microsoft.ml.transforms.valuetokeymappingtransformer?view=net-7.0\">Microsoft.ML.Transforms.ValueToKeyMappingTransformer</a></span></td><td><details class=\"dni-treeview\"><summary><span class=\"dni-code-hint\"><code>Microsoft.ML.Transforms.ValueToKeyMappingTransformer</code></span></summary><div><table><thead><tr></tr></thead><tbody></tbody></table></div></details></td></tr><tr><td>4</td><td><span><a href=\"https://docs.microsoft.com/dotnet/api/microsoft.ml.data.multiclasspredictiontransformer-1?view=net-7.0\">Microsoft.ML.Data.MulticlassPredictionTransformer&lt;Microsoft.ML.Trainers.OneVersusAllModelParameters&gt;</a></span></td><td><details class=\"dni-treeview\"><summary><span class=\"dni-code-hint\"><code>Microsoft.ML.Data.MulticlassPredictionTransformer`1[Microsoft.ML.Trainers.OneVersusAllModelParameters]</code></span></summary><div><table><thead><tr></tr></thead><tbody><tr><td>FeatureColumnName</td><td>__Features__</td></tr><tr><td>FeatureColumnType</td><td><details class=\"dni-treeview\"><summary><span class=\"dni-code-hint\"><code>Vector<Single, 11774></code></span></summary><div><table><thead><tr></tr></thead><tbody><tr><td>Dimensions</td><td>[ 11774 ]</td></tr><tr><td>IsKnownSize</td><td>True</td></tr><tr><td>ItemType</td><td>Single</td></tr><tr><td>Size</td><td>11774</td></tr><tr><td>RawType</td><td>Microsoft.ML.Data.VBuffer`1[System.Single]</td></tr></tbody></table></div></details></td></tr><tr><td>Model</td><td><details class=\"dni-treeview\"><summary><span class=\"dni-code-hint\"><code>Microsoft.ML.Trainers.OneVersusAllModelParameters</code></span></summary><div><table><thead><tr></tr></thead><tbody></tbody></table></div></details></td></tr></tbody></table></div></details></td></tr><tr><td>5</td><td><span><a href=\"https://docs.microsoft.com/dotnet/api/microsoft.ml.transforms.keytovaluemappingtransformer?view=net-7.0\">Microsoft.ML.Transforms.KeyToValueMappingTransformer</a></span></td><td><details class=\"dni-treeview\"><summary><span class=\"dni-code-hint\"><code>Microsoft.ML.Transforms.KeyToValueMappingTransformer</code></span></summary><div><table><thead><tr></tr></thead><tbody></tbody></table></div></details></td></tr></tbody></table></td></tr><tr><td>Exception</td><td><div class=\"dni-plaintext\"><pre>&lt;null&gt;</pre></div></td></tr><tr><td>TrainerName</td><td>ConvertType=&gt;FeaturizeText=&gt;Concatenate=&gt;Unknown=&gt;LightGbmMulti=&gt;Unknown</td></tr><tr><td>RuntimeInSeconds</td><td><div class=\"dni-plaintext\"><pre>0.665</pre></div></td></tr><tr><td>Estimator</td><td><details class=\"dni-treeview\"><summary><span class=\"dni-code-hint\"><code>Microsoft.ML.Data.EstimatorChain`1[Microsoft.ML.ITransformer]</code></span></summary><div><table><thead><tr></tr></thead><tbody><tr><td>LastEstimator</td><td><details class=\"dni-treeview\"><summary><span class=\"dni-code-hint\"><code>Microsoft.ML.Transforms.KeyToValueMappingEstimator</code></span></summary><div><table><thead><tr></tr></thead><tbody></tbody></table></div></details></td></tr></tbody></table></div></details></td></tr></tbody></table></div></details></td></tr><tr><td>10</td><td><details class=\"dni-treeview\"><summary><span class=\"dni-code-hint\"><code>Microsoft.ML.AutoML.RunDetail`1[Microsoft.ML.Data.MulticlassClassificationMetrics]</code></span></summary><div><table><thead><tr></tr></thead><tbody><tr><td>ValidationMetrics</td><td><details class=\"dni-treeview\"><summary><span class=\"dni-code-hint\"><code>Microsoft.ML.Data.MulticlassClassificationMetrics</code></span></summary><div><table><thead><tr></tr></thead><tbody><tr><td>LogLoss</td><td><div class=\"dni-plaintext\"><pre>1.3621250222309274</pre></div></td></tr><tr><td>LogLossReduction</td><td><div class=\"dni-plaintext\"><pre>-0.012153721757027381</pre></div></td></tr><tr><td>MacroAccuracy</td><td><div class=\"dni-plaintext\"><pre>0.25</pre></div></td></tr><tr><td>MicroAccuracy</td><td><div class=\"dni-plaintext\"><pre>0.368</pre></div></td></tr><tr><td>TopKAccuracy</td><td><div class=\"dni-plaintext\"><pre>0</pre></div></td></tr><tr><td>TopKPredictionCount</td><td><div class=\"dni-plaintext\"><pre>0</pre></div></td></tr><tr><td>TopKAccuracyForAllK</td><td><div class=\"dni-plaintext\"><pre>&lt;null&gt;</pre></div></td></tr><tr><td>PerClassLogLoss</td><td><div class=\"dni-plaintext\"><pre>[ 1.438880167012172, 1.454652895565279, 1.4761576675756205, 1.2012719537566168 ]</pre></div></td></tr><tr><td>ConfusionMatrix</td><td><details class=\"dni-treeview\"><summary><span class=\"dni-code-hint\"><code>Microsoft.ML.Data.ConfusionMatrix</code></span></summary><div><table><thead><tr></tr></thead><tbody><tr><td>PerClassPrecision</td><td><div class=\"dni-plaintext\"><pre>[ 0, 0, 0, 0.368 ]</pre></div></td></tr><tr><td>PerClassRecall</td><td><div class=\"dni-plaintext\"><pre>[ 0, 0, 0, 1 ]</pre></div></td></tr><tr><td>Counts</td><td><table><thead><tr><th><i>index</i></th><th>value</th></tr></thead><tbody><tr><td>0</td><td>[ 0, 0, 0, 100 ]</td></tr><tr><td>1</td><td>[ 0, 0, 0, 126 ]</td></tr><tr><td>2</td><td>[ 0, 0, 0, 90 ]</td></tr><tr><td>3</td><td>[ 0, 0, 0, 184 ]</td></tr></tbody></table></td></tr><tr><td>NumberOfClasses</td><td><div class=\"dni-plaintext\"><pre>4</pre></div></td></tr></tbody></table></div></details></td></tr></tbody></table></div></details></td></tr><tr><td>Model</td><td><table><thead><tr><th><i>index</i></th><th><i>type</i></th><th>value</th></tr></thead><tbody><tr><td>0</td><td><span><a href=\"https://docs.microsoft.com/dotnet/api/microsoft.ml.transforms.typeconvertingtransformer?view=net-7.0\">Microsoft.ML.Transforms.TypeConvertingTransformer</a></span></td><td><details class=\"dni-treeview\"><summary><span class=\"dni-code-hint\"><code>Microsoft.ML.Transforms.TypeConvertingTransformer</code></span></summary><div><table><thead><tr></tr></thead><tbody></tbody></table></div></details></td></tr><tr><td>1</td><td><span><a href=\"https://docs.microsoft.com/dotnet/api/microsoft.ml.transforms.text.textfeaturizingestimator.transformer?view=net-7.0\">Microsoft.ML.Transforms.Text.TextFeaturizingEstimator+Transformer</a></span></td><td><details class=\"dni-treeview\"><summary><span class=\"dni-code-hint\"><code>Microsoft.ML.Transforms.Text.TextFeaturizingEstimator+Transformer</code></span></summary><div><table><thead><tr></tr></thead><tbody></tbody></table></div></details></td></tr><tr><td>2</td><td><span><a href=\"https://docs.microsoft.com/dotnet/api/microsoft.ml.data.columnconcatenatingtransformer?view=net-7.0\">Microsoft.ML.Data.ColumnConcatenatingTransformer</a></span></td><td><details class=\"dni-treeview\"><summary><span class=\"dni-code-hint\"><code>Microsoft.ML.Data.ColumnConcatenatingTransformer</code></span></summary><div><table><thead><tr></tr></thead><tbody></tbody></table></div></details></td></tr><tr><td>3</td><td><span><a href=\"https://docs.microsoft.com/dotnet/api/microsoft.ml.transforms.valuetokeymappingtransformer?view=net-7.0\">Microsoft.ML.Transforms.ValueToKeyMappingTransformer</a></span></td><td><details class=\"dni-treeview\"><summary><span class=\"dni-code-hint\"><code>Microsoft.ML.Transforms.ValueToKeyMappingTransformer</code></span></summary><div><table><thead><tr></tr></thead><tbody></tbody></table></div></details></td></tr><tr><td>4</td><td><span><a href=\"https://docs.microsoft.com/dotnet/api/microsoft.ml.data.multiclasspredictiontransformer-1?view=net-7.0\">Microsoft.ML.Data.MulticlassPredictionTransformer&lt;Microsoft.ML.Trainers.OneVersusAllModelParameters&gt;</a></span></td><td><details class=\"dni-treeview\"><summary><span class=\"dni-code-hint\"><code>Microsoft.ML.Data.MulticlassPredictionTransformer`1[Microsoft.ML.Trainers.OneVersusAllModelParameters]</code></span></summary><div><table><thead><tr></tr></thead><tbody><tr><td>FeatureColumnName</td><td>__Features__</td></tr><tr><td>FeatureColumnType</td><td><details class=\"dni-treeview\"><summary><span class=\"dni-code-hint\"><code>Vector<Single, 11774></code></span></summary><div><table><thead><tr></tr></thead><tbody><tr><td>Dimensions</td><td>[ 11774 ]</td></tr><tr><td>IsKnownSize</td><td>True</td></tr><tr><td>ItemType</td><td>Single</td></tr><tr><td>Size</td><td>11774</td></tr><tr><td>RawType</td><td>Microsoft.ML.Data.VBuffer`1[System.Single]</td></tr></tbody></table></div></details></td></tr><tr><td>Model</td><td><details class=\"dni-treeview\"><summary><span class=\"dni-code-hint\"><code>Microsoft.ML.Trainers.OneVersusAllModelParameters</code></span></summary><div><table><thead><tr></tr></thead><tbody></tbody></table></div></details></td></tr></tbody></table></div></details></td></tr><tr><td>5</td><td><span><a href=\"https://docs.microsoft.com/dotnet/api/microsoft.ml.transforms.keytovaluemappingtransformer?view=net-7.0\">Microsoft.ML.Transforms.KeyToValueMappingTransformer</a></span></td><td><details class=\"dni-treeview\"><summary><span class=\"dni-code-hint\"><code>Microsoft.ML.Transforms.KeyToValueMappingTransformer</code></span></summary><div><table><thead><tr></tr></thead><tbody></tbody></table></div></details></td></tr></tbody></table></td></tr><tr><td>Exception</td><td><div class=\"dni-plaintext\"><pre>&lt;null&gt;</pre></div></td></tr><tr><td>TrainerName</td><td>ConvertType=&gt;FeaturizeText=&gt;Concatenate=&gt;Unknown=&gt;LightGbmMulti=&gt;Unknown</td></tr><tr><td>RuntimeInSeconds</td><td><div class=\"dni-plaintext\"><pre>1.21</pre></div></td></tr><tr><td>Estimator</td><td><details class=\"dni-treeview\"><summary><span class=\"dni-code-hint\"><code>Microsoft.ML.Data.EstimatorChain`1[Microsoft.ML.ITransformer]</code></span></summary><div><table><thead><tr></tr></thead><tbody><tr><td>LastEstimator</td><td><details class=\"dni-treeview\"><summary><span class=\"dni-code-hint\"><code>Microsoft.ML.Transforms.KeyToValueMappingEstimator</code></span></summary><div><table><thead><tr></tr></thead><tbody></tbody></table></div></details></td></tr></tbody></table></div></details></td></tr></tbody></table></div></details></td></tr><tr><td>11</td><td><details class=\"dni-treeview\"><summary><span class=\"dni-code-hint\"><code>Microsoft.ML.AutoML.RunDetail`1[Microsoft.ML.Data.MulticlassClassificationMetrics]</code></span></summary><div><table><thead><tr></tr></thead><tbody><tr><td>ValidationMetrics</td><td><details class=\"dni-treeview\"><summary><span class=\"dni-code-hint\"><code>Microsoft.ML.Data.MulticlassClassificationMetrics</code></span></summary><div><table><thead><tr></tr></thead><tbody><tr><td>LogLoss</td><td><div class=\"dni-plaintext\"><pre>0.9174291275502273</pre></div></td></tr><tr><td>LogLossReduction</td><td><div class=\"dni-plaintext\"><pre>0.3182862874235939</pre></div></td></tr><tr><td>MacroAccuracy</td><td><div class=\"dni-plaintext\"><pre>0.6467710489993099</pre></div></td></tr><tr><td>MicroAccuracy</td><td><div class=\"dni-plaintext\"><pre>0.682</pre></div></td></tr><tr><td>TopKAccuracy</td><td><div class=\"dni-plaintext\"><pre>0</pre></div></td></tr><tr><td>TopKPredictionCount</td><td><div class=\"dni-plaintext\"><pre>0</pre></div></td></tr><tr><td>TopKAccuracyForAllK</td><td><div class=\"dni-plaintext\"><pre>&lt;null&gt;</pre></div></td></tr><tr><td>PerClassLogLoss</td><td><div class=\"dni-plaintext\"><pre>[ 0.9715442372351812, 0.9373760778338944, 1.123965012950473, 0.7733364297770767 ]</pre></div></td></tr><tr><td>ConfusionMatrix</td><td><details class=\"dni-treeview\"><summary><span class=\"dni-code-hint\"><code>Microsoft.ML.Data.ConfusionMatrix</code></span></summary><div><table><thead><tr></tr></thead><tbody><tr><td>PerClassPrecision</td><td><div class=\"dni-plaintext\"><pre>[ 0.9423076923076923, 0.7983193277310925, 0.8135593220338984, 0.5518518518518518 ]</pre></div></td></tr><tr><td>PerClassRecall</td><td><div class=\"dni-plaintext\"><pre>[ 0.49, 0.753968253968254, 0.5333333333333333, 0.8097826086956522 ]</pre></div></td></tr><tr><td>Counts</td><td><table><thead><tr><th><i>index</i></th><th>value</th></tr></thead><tbody><tr><td>0</td><td>[ 49, 0, 0, 51 ]</td></tr><tr><td>1</td><td>[ 1, 95, 0, 30 ]</td></tr><tr><td>2</td><td>[ 0, 2, 48, 40 ]</td></tr><tr><td>3</td><td>[ 2, 22, 11, 149 ]</td></tr></tbody></table></td></tr><tr><td>NumberOfClasses</td><td><div class=\"dni-plaintext\"><pre>4</pre></div></td></tr></tbody></table></div></details></td></tr></tbody></table></div></details></td></tr><tr><td>Model</td><td><table><thead><tr><th><i>index</i></th><th><i>type</i></th><th>value</th></tr></thead><tbody><tr><td>0</td><td><span><a href=\"https://docs.microsoft.com/dotnet/api/microsoft.ml.transforms.typeconvertingtransformer?view=net-7.0\">Microsoft.ML.Transforms.TypeConvertingTransformer</a></span></td><td><details class=\"dni-treeview\"><summary><span class=\"dni-code-hint\"><code>Microsoft.ML.Transforms.TypeConvertingTransformer</code></span></summary><div><table><thead><tr></tr></thead><tbody></tbody></table></div></details></td></tr><tr><td>1</td><td><span><a href=\"https://docs.microsoft.com/dotnet/api/microsoft.ml.transforms.text.textfeaturizingestimator.transformer?view=net-7.0\">Microsoft.ML.Transforms.Text.TextFeaturizingEstimator+Transformer</a></span></td><td><details class=\"dni-treeview\"><summary><span class=\"dni-code-hint\"><code>Microsoft.ML.Transforms.Text.TextFeaturizingEstimator+Transformer</code></span></summary><div><table><thead><tr></tr></thead><tbody></tbody></table></div></details></td></tr><tr><td>2</td><td><span><a href=\"https://docs.microsoft.com/dotnet/api/microsoft.ml.data.columnconcatenatingtransformer?view=net-7.0\">Microsoft.ML.Data.ColumnConcatenatingTransformer</a></span></td><td><details class=\"dni-treeview\"><summary><span class=\"dni-code-hint\"><code>Microsoft.ML.Data.ColumnConcatenatingTransformer</code></span></summary><div><table><thead><tr></tr></thead><tbody></tbody></table></div></details></td></tr><tr><td>3</td><td><span><a href=\"https://docs.microsoft.com/dotnet/api/microsoft.ml.transforms.valuetokeymappingtransformer?view=net-7.0\">Microsoft.ML.Transforms.ValueToKeyMappingTransformer</a></span></td><td><details class=\"dni-treeview\"><summary><span class=\"dni-code-hint\"><code>Microsoft.ML.Transforms.ValueToKeyMappingTransformer</code></span></summary><div><table><thead><tr></tr></thead><tbody></tbody></table></div></details></td></tr><tr><td>4</td><td><span><a href=\"https://docs.microsoft.com/dotnet/api/microsoft.ml.data.multiclasspredictiontransformer-1?view=net-7.0\">Microsoft.ML.Data.MulticlassPredictionTransformer&lt;Microsoft.ML.Trainers.MaximumEntropyModelParameters&gt;</a></span></td><td><details class=\"dni-treeview\"><summary><span class=\"dni-code-hint\"><code>Microsoft.ML.Data.MulticlassPredictionTransformer`1[Microsoft.ML.Trainers.MaximumEntropyModelParameters]</code></span></summary><div><table><thead><tr></tr></thead><tbody><tr><td>FeatureColumnName</td><td>__Features__</td></tr><tr><td>FeatureColumnType</td><td><details class=\"dni-treeview\"><summary><span class=\"dni-code-hint\"><code>Vector<Single, 11774></code></span></summary><div><table><thead><tr></tr></thead><tbody><tr><td>Dimensions</td><td>[ 11774 ]</td></tr><tr><td>IsKnownSize</td><td>True</td></tr><tr><td>ItemType</td><td>Single</td></tr><tr><td>Size</td><td>11774</td></tr><tr><td>RawType</td><td>Microsoft.ML.Data.VBuffer`1[System.Single]</td></tr></tbody></table></div></details></td></tr><tr><td>Model</td><td><details class=\"dni-treeview\"><summary><span class=\"dni-code-hint\"><code>Microsoft.ML.Trainers.MaximumEntropyModelParameters</code></span></summary><div><table><thead><tr></tr></thead><tbody><tr><td>Statistics</td><td><div class=\"dni-plaintext\"><pre>&lt;null&gt;</pre></div></td></tr></tbody></table></div></details></td></tr></tbody></table></div></details></td></tr><tr><td>5</td><td><span><a href=\"https://docs.microsoft.com/dotnet/api/microsoft.ml.transforms.keytovaluemappingtransformer?view=net-7.0\">Microsoft.ML.Transforms.KeyToValueMappingTransformer</a></span></td><td><details class=\"dni-treeview\"><summary><span class=\"dni-code-hint\"><code>Microsoft.ML.Transforms.KeyToValueMappingTransformer</code></span></summary><div><table><thead><tr></tr></thead><tbody></tbody></table></div></details></td></tr></tbody></table></td></tr><tr><td>Exception</td><td><div class=\"dni-plaintext\"><pre>&lt;null&gt;</pre></div></td></tr><tr><td>TrainerName</td><td>ConvertType=&gt;FeaturizeText=&gt;Concatenate=&gt;Unknown=&gt;LightGbmMulti=&gt;Unknown</td></tr><tr><td>RuntimeInSeconds</td><td><div class=\"dni-plaintext\"><pre>0.22</pre></div></td></tr><tr><td>Estimator</td><td><details class=\"dni-treeview\"><summary><span class=\"dni-code-hint\"><code>Microsoft.ML.Data.EstimatorChain`1[Microsoft.ML.ITransformer]</code></span></summary><div><table><thead><tr></tr></thead><tbody><tr><td>LastEstimator</td><td><details class=\"dni-treeview\"><summary><span class=\"dni-code-hint\"><code>Microsoft.ML.Transforms.KeyToValueMappingEstimator</code></span></summary><div><table><thead><tr></tr></thead><tbody></tbody></table></div></details></td></tr></tbody></table></div></details></td></tr></tbody></table></div></details></td></tr><tr><td>12</td><td><details class=\"dni-treeview\"><summary><span class=\"dni-code-hint\"><code>Microsoft.ML.AutoML.RunDetail`1[Microsoft.ML.Data.MulticlassClassificationMetrics]</code></span></summary><div><table><thead><tr></tr></thead><tbody><tr><td>ValidationMetrics</td><td><details class=\"dni-treeview\"><summary><span class=\"dni-code-hint\"><code>Microsoft.ML.Data.MulticlassClassificationMetrics</code></span></summary><div><table><thead><tr></tr></thead><tbody><tr><td>LogLoss</td><td><div class=\"dni-plaintext\"><pre>1.3146480884950222</pre></div></td></tr><tr><td>LogLossReduction</td><td><div class=\"dni-plaintext\"><pre>0.023124945321346957</pre></div></td></tr><tr><td>MacroAccuracy</td><td><div class=\"dni-plaintext\"><pre>0.7516235334713595</pre></div></td></tr><tr><td>MicroAccuracy</td><td><div class=\"dni-plaintext\"><pre>0.76</pre></div></td></tr><tr><td>TopKAccuracy</td><td><div class=\"dni-plaintext\"><pre>0</pre></div></td></tr><tr><td>TopKPredictionCount</td><td><div class=\"dni-plaintext\"><pre>0</pre></div></td></tr><tr><td>TopKAccuracyForAllK</td><td><div class=\"dni-plaintext\"><pre>&lt;null&gt;</pre></div></td></tr><tr><td>PerClassLogLoss</td><td><div class=\"dni-plaintext\"><pre>[ 1.308113449234347, 1.320680256605766, 1.3268658565830942, 1.3080927168438574 ]</pre></div></td></tr><tr><td>ConfusionMatrix</td><td><details class=\"dni-treeview\"><summary><span class=\"dni-code-hint\"><code>Microsoft.ML.Data.ConfusionMatrix</code></span></summary><div><table><thead><tr></tr></thead><tbody><tr><td>PerClassPrecision</td><td><div class=\"dni-plaintext\"><pre>[ 0.9135802469135802, 0.768, 0.8421052631578947, 0.6697247706422018 ]</pre></div></td></tr><tr><td>PerClassRecall</td><td><div class=\"dni-plaintext\"><pre>[ 0.74, 0.7619047619047619, 0.7111111111111111, 0.7934782608695652 ]</pre></div></td></tr><tr><td>Counts</td><td><table><thead><tr><th><i>index</i></th><th>value</th></tr></thead><tbody><tr><td>0</td><td>[ 74, 4, 0, 22 ]</td></tr><tr><td>1</td><td>[ 4, 96, 0, 26 ]</td></tr><tr><td>2</td><td>[ 0, 2, 64, 24 ]</td></tr><tr><td>3</td><td>[ 3, 23, 12, 146 ]</td></tr></tbody></table></td></tr><tr><td>NumberOfClasses</td><td><div class=\"dni-plaintext\"><pre>4</pre></div></td></tr></tbody></table></div></details></td></tr></tbody></table></div></details></td></tr><tr><td>Model</td><td><table><thead><tr><th><i>index</i></th><th><i>type</i></th><th>value</th></tr></thead><tbody><tr><td>0</td><td><span><a href=\"https://docs.microsoft.com/dotnet/api/microsoft.ml.transforms.typeconvertingtransformer?view=net-7.0\">Microsoft.ML.Transforms.TypeConvertingTransformer</a></span></td><td><details class=\"dni-treeview\"><summary><span class=\"dni-code-hint\"><code>Microsoft.ML.Transforms.TypeConvertingTransformer</code></span></summary><div><table><thead><tr></tr></thead><tbody></tbody></table></div></details></td></tr><tr><td>1</td><td><span><a href=\"https://docs.microsoft.com/dotnet/api/microsoft.ml.transforms.text.textfeaturizingestimator.transformer?view=net-7.0\">Microsoft.ML.Transforms.Text.TextFeaturizingEstimator+Transformer</a></span></td><td><details class=\"dni-treeview\"><summary><span class=\"dni-code-hint\"><code>Microsoft.ML.Transforms.Text.TextFeaturizingEstimator+Transformer</code></span></summary><div><table><thead><tr></tr></thead><tbody></tbody></table></div></details></td></tr><tr><td>2</td><td><span><a href=\"https://docs.microsoft.com/dotnet/api/microsoft.ml.data.columnconcatenatingtransformer?view=net-7.0\">Microsoft.ML.Data.ColumnConcatenatingTransformer</a></span></td><td><details class=\"dni-treeview\"><summary><span class=\"dni-code-hint\"><code>Microsoft.ML.Data.ColumnConcatenatingTransformer</code></span></summary><div><table><thead><tr></tr></thead><tbody></tbody></table></div></details></td></tr><tr><td>3</td><td><span><a href=\"https://docs.microsoft.com/dotnet/api/microsoft.ml.transforms.valuetokeymappingtransformer?view=net-7.0\">Microsoft.ML.Transforms.ValueToKeyMappingTransformer</a></span></td><td><details class=\"dni-treeview\"><summary><span class=\"dni-code-hint\"><code>Microsoft.ML.Transforms.ValueToKeyMappingTransformer</code></span></summary><div><table><thead><tr></tr></thead><tbody></tbody></table></div></details></td></tr><tr><td>4</td><td><span><a href=\"https://docs.microsoft.com/dotnet/api/microsoft.ml.data.multiclasspredictiontransformer-1?view=net-7.0\">Microsoft.ML.Data.MulticlassPredictionTransformer&lt;Microsoft.ML.Trainers.OneVersusAllModelParameters&gt;</a></span></td><td><details class=\"dni-treeview\"><summary><span class=\"dni-code-hint\"><code>Microsoft.ML.Data.MulticlassPredictionTransformer`1[Microsoft.ML.Trainers.OneVersusAllModelParameters]</code></span></summary><div><table><thead><tr></tr></thead><tbody><tr><td>FeatureColumnName</td><td>__Features__</td></tr><tr><td>FeatureColumnType</td><td><details class=\"dni-treeview\"><summary><span class=\"dni-code-hint\"><code>Vector<Single, 11774></code></span></summary><div><table><thead><tr></tr></thead><tbody><tr><td>Dimensions</td><td>[ 11774 ]</td></tr><tr><td>IsKnownSize</td><td>True</td></tr><tr><td>ItemType</td><td>Single</td></tr><tr><td>Size</td><td>11774</td></tr><tr><td>RawType</td><td>Microsoft.ML.Data.VBuffer`1[System.Single]</td></tr></tbody></table></div></details></td></tr><tr><td>Model</td><td><details class=\"dni-treeview\"><summary><span class=\"dni-code-hint\"><code>Microsoft.ML.Trainers.OneVersusAllModelParameters</code></span></summary><div><table><thead><tr></tr></thead><tbody></tbody></table></div></details></td></tr></tbody></table></div></details></td></tr><tr><td>5</td><td><span><a href=\"https://docs.microsoft.com/dotnet/api/microsoft.ml.transforms.keytovaluemappingtransformer?view=net-7.0\">Microsoft.ML.Transforms.KeyToValueMappingTransformer</a></span></td><td><details class=\"dni-treeview\"><summary><span class=\"dni-code-hint\"><code>Microsoft.ML.Transforms.KeyToValueMappingTransformer</code></span></summary><div><table><thead><tr></tr></thead><tbody></tbody></table></div></details></td></tr></tbody></table></td></tr><tr><td>Exception</td><td><div class=\"dni-plaintext\"><pre>&lt;null&gt;</pre></div></td></tr><tr><td>TrainerName</td><td>ConvertType=&gt;FeaturizeText=&gt;Concatenate=&gt;Unknown=&gt;LightGbmMulti=&gt;Unknown</td></tr><tr><td>RuntimeInSeconds</td><td><div class=\"dni-plaintext\"><pre>1.044</pre></div></td></tr><tr><td>Estimator</td><td><details class=\"dni-treeview\"><summary><span class=\"dni-code-hint\"><code>Microsoft.ML.Data.EstimatorChain`1[Microsoft.ML.ITransformer]</code></span></summary><div><table><thead><tr></tr></thead><tbody><tr><td>LastEstimator</td><td><details class=\"dni-treeview\"><summary><span class=\"dni-code-hint\"><code>Microsoft.ML.Transforms.KeyToValueMappingEstimator</code></span></summary><div><table><thead><tr></tr></thead><tbody></tbody></table></div></details></td></tr></tbody></table></div></details></td></tr></tbody></table></div></details></td></tr><tr><td>13</td><td><details class=\"dni-treeview\"><summary><span class=\"dni-code-hint\"><code>Microsoft.ML.AutoML.RunDetail`1[Microsoft.ML.Data.MulticlassClassificationMetrics]</code></span></summary><div><table><thead><tr></tr></thead><tbody><tr><td>ValidationMetrics</td><td><details class=\"dni-treeview\"><summary><span class=\"dni-code-hint\"><code>Microsoft.ML.Data.MulticlassClassificationMetrics</code></span></summary><div><table><thead><tr></tr></thead><tbody><tr><td>LogLoss</td><td><div class=\"dni-plaintext\"><pre>0.5070793827982463</pre></div></td></tr><tr><td>LogLossReduction</td><td><div class=\"dni-plaintext\"><pre>0.6232047160510286</pre></div></td></tr><tr><td>MacroAccuracy</td><td><div class=\"dni-plaintext\"><pre>0.775291580400276</pre></div></td></tr><tr><td>MicroAccuracy</td><td><div class=\"dni-plaintext\"><pre>0.79</pre></div></td></tr><tr><td>TopKAccuracy</td><td><div class=\"dni-plaintext\"><pre>0</pre></div></td></tr><tr><td>TopKPredictionCount</td><td><div class=\"dni-plaintext\"><pre>0</pre></div></td></tr><tr><td>TopKAccuracyForAllK</td><td><div class=\"dni-plaintext\"><pre>&lt;null&gt;</pre></div></td></tr><tr><td>PerClassLogLoss</td><td><div class=\"dni-plaintext\"><pre>[ 0.37613484010119436, 0.5445622740790644, 0.8751721431392002, 0.3725318911549645 ]</pre></div></td></tr><tr><td>ConfusionMatrix</td><td><details class=\"dni-treeview\"><summary><span class=\"dni-code-hint\"><code>Microsoft.ML.Data.ConfusionMatrix</code></span></summary><div><table><thead><tr></tr></thead><tbody><tr><td>PerClassPrecision</td><td><div class=\"dni-plaintext\"><pre>[ 0.9381443298969072, 0.7906976744186046, 0.8771929824561403, 0.7004608294930875 ]</pre></div></td></tr><tr><td>PerClassRecall</td><td><div class=\"dni-plaintext\"><pre>[ 0.91, 0.8095238095238095, 0.5555555555555556, 0.8260869565217391 ]</pre></div></td></tr><tr><td>Counts</td><td><table><thead><tr><th><i>index</i></th><th>value</th></tr></thead><tbody><tr><td>0</td><td>[ 91, 4, 0, 5 ]</td></tr><tr><td>1</td><td>[ 4, 102, 0, 20 ]</td></tr><tr><td>2</td><td>[ 0, 0, 50, 40 ]</td></tr><tr><td>3</td><td>[ 2, 23, 7, 152 ]</td></tr></tbody></table></td></tr><tr><td>NumberOfClasses</td><td><div class=\"dni-plaintext\"><pre>4</pre></div></td></tr></tbody></table></div></details></td></tr></tbody></table></div></details></td></tr><tr><td>Model</td><td><table><thead><tr><th><i>index</i></th><th><i>type</i></th><th>value</th></tr></thead><tbody><tr><td>0</td><td><span><a href=\"https://docs.microsoft.com/dotnet/api/microsoft.ml.transforms.typeconvertingtransformer?view=net-7.0\">Microsoft.ML.Transforms.TypeConvertingTransformer</a></span></td><td><details class=\"dni-treeview\"><summary><span class=\"dni-code-hint\"><code>Microsoft.ML.Transforms.TypeConvertingTransformer</code></span></summary><div><table><thead><tr></tr></thead><tbody></tbody></table></div></details></td></tr><tr><td>1</td><td><span><a href=\"https://docs.microsoft.com/dotnet/api/microsoft.ml.transforms.text.textfeaturizingestimator.transformer?view=net-7.0\">Microsoft.ML.Transforms.Text.TextFeaturizingEstimator+Transformer</a></span></td><td><details class=\"dni-treeview\"><summary><span class=\"dni-code-hint\"><code>Microsoft.ML.Transforms.Text.TextFeaturizingEstimator+Transformer</code></span></summary><div><table><thead><tr></tr></thead><tbody></tbody></table></div></details></td></tr><tr><td>2</td><td><span><a href=\"https://docs.microsoft.com/dotnet/api/microsoft.ml.data.columnconcatenatingtransformer?view=net-7.0\">Microsoft.ML.Data.ColumnConcatenatingTransformer</a></span></td><td><details class=\"dni-treeview\"><summary><span class=\"dni-code-hint\"><code>Microsoft.ML.Data.ColumnConcatenatingTransformer</code></span></summary><div><table><thead><tr></tr></thead><tbody></tbody></table></div></details></td></tr><tr><td>3</td><td><span><a href=\"https://docs.microsoft.com/dotnet/api/microsoft.ml.transforms.valuetokeymappingtransformer?view=net-7.0\">Microsoft.ML.Transforms.ValueToKeyMappingTransformer</a></span></td><td><details class=\"dni-treeview\"><summary><span class=\"dni-code-hint\"><code>Microsoft.ML.Transforms.ValueToKeyMappingTransformer</code></span></summary><div><table><thead><tr></tr></thead><tbody></tbody></table></div></details></td></tr><tr><td>4</td><td><span><a href=\"https://docs.microsoft.com/dotnet/api/microsoft.ml.data.multiclasspredictiontransformer-1?view=net-7.0\">Microsoft.ML.Data.MulticlassPredictionTransformer&lt;Microsoft.ML.Trainers.OneVersusAllModelParameters&gt;</a></span></td><td><details class=\"dni-treeview\"><summary><span class=\"dni-code-hint\"><code>Microsoft.ML.Data.MulticlassPredictionTransformer`1[Microsoft.ML.Trainers.OneVersusAllModelParameters]</code></span></summary><div><table><thead><tr></tr></thead><tbody><tr><td>FeatureColumnName</td><td>__Features__</td></tr><tr><td>FeatureColumnType</td><td><details class=\"dni-treeview\"><summary><span class=\"dni-code-hint\"><code>Vector<Single, 11774></code></span></summary><div><table><thead><tr></tr></thead><tbody><tr><td>Dimensions</td><td>[ 11774 ]</td></tr><tr><td>IsKnownSize</td><td>True</td></tr><tr><td>ItemType</td><td>Single</td></tr><tr><td>Size</td><td>11774</td></tr><tr><td>RawType</td><td>Microsoft.ML.Data.VBuffer`1[System.Single]</td></tr></tbody></table></div></details></td></tr><tr><td>Model</td><td><details class=\"dni-treeview\"><summary><span class=\"dni-code-hint\"><code>Microsoft.ML.Trainers.OneVersusAllModelParameters</code></span></summary><div><table><thead><tr></tr></thead><tbody></tbody></table></div></details></td></tr></tbody></table></div></details></td></tr><tr><td>5</td><td><span><a href=\"https://docs.microsoft.com/dotnet/api/microsoft.ml.transforms.keytovaluemappingtransformer?view=net-7.0\">Microsoft.ML.Transforms.KeyToValueMappingTransformer</a></span></td><td><details class=\"dni-treeview\"><summary><span class=\"dni-code-hint\"><code>Microsoft.ML.Transforms.KeyToValueMappingTransformer</code></span></summary><div><table><thead><tr></tr></thead><tbody></tbody></table></div></details></td></tr></tbody></table></td></tr><tr><td>Exception</td><td><div class=\"dni-plaintext\"><pre>&lt;null&gt;</pre></div></td></tr><tr><td>TrainerName</td><td>ConvertType=&gt;FeaturizeText=&gt;Concatenate=&gt;Unknown=&gt;LightGbmMulti=&gt;Unknown</td></tr><tr><td>RuntimeInSeconds</td><td><div class=\"dni-plaintext\"><pre>0.572</pre></div></td></tr><tr><td>Estimator</td><td><details class=\"dni-treeview\"><summary><span class=\"dni-code-hint\"><code>Microsoft.ML.Data.EstimatorChain`1[Microsoft.ML.ITransformer]</code></span></summary><div><table><thead><tr></tr></thead><tbody><tr><td>LastEstimator</td><td><details class=\"dni-treeview\"><summary><span class=\"dni-code-hint\"><code>Microsoft.ML.Transforms.KeyToValueMappingEstimator</code></span></summary><div><table><thead><tr></tr></thead><tbody></tbody></table></div></details></td></tr></tbody></table></div></details></td></tr></tbody></table></div></details></td></tr></tbody></table></td></tr><tr><td>BestRun</td><td><details class=\"dni-treeview\"><summary><span class=\"dni-code-hint\"><code>Microsoft.ML.AutoML.RunDetail`1[Microsoft.ML.Data.MulticlassClassificationMetrics]</code></span></summary><div><table><thead><tr></tr></thead><tbody><tr><td>ValidationMetrics</td><td><details class=\"dni-treeview\"><summary><span class=\"dni-code-hint\"><code>Microsoft.ML.Data.MulticlassClassificationMetrics</code></span></summary><div><table><thead><tr></tr></thead><tbody><tr><td>LogLoss</td><td><div class=\"dni-plaintext\"><pre>0.5119809709411925</pre></div></td></tr><tr><td>LogLossReduction</td><td><div class=\"dni-plaintext\"><pre>0.6195624948155082</pre></div></td></tr><tr><td>MacroAccuracy</td><td><div class=\"dni-plaintext\"><pre>0.7816295721187025</pre></div></td></tr><tr><td>MicroAccuracy</td><td><div class=\"dni-plaintext\"><pre>0.798</pre></div></td></tr><tr><td>TopKAccuracy</td><td><div class=\"dni-plaintext\"><pre>0</pre></div></td></tr><tr><td>TopKPredictionCount</td><td><div class=\"dni-plaintext\"><pre>0</pre></div></td></tr><tr><td>TopKAccuracyForAllK</td><td><div class=\"dni-plaintext\"><pre>&lt;null&gt;</pre></div></td></tr><tr><td>PerClassLogLoss</td><td><div class=\"dni-plaintext\"><pre>[ 0.37216390349222467, 0.5097796982759034, 0.9725721810641614, 0.3641867219719299 ]</pre></div></td></tr><tr><td>ConfusionMatrix</td><td><details class=\"dni-treeview\"><summary><span class=\"dni-code-hint\"><code>Microsoft.ML.Data.ConfusionMatrix</code></span></summary><div><table><thead><tr></tr></thead><tbody><tr><td>PerClassPrecision</td><td><div class=\"dni-plaintext\"><pre>[ 0.9375, 0.7984496124031008, 0.8947368421052632, 0.7110091743119266 ]</pre></div></td></tr><tr><td>PerClassRecall</td><td><div class=\"dni-plaintext\"><pre>[ 0.9, 0.8174603174603174, 0.5666666666666667, 0.842391304347826 ]</pre></div></td></tr><tr><td>Counts</td><td><table><thead><tr><th><i>index</i></th><th>value</th></tr></thead><tbody><tr><td>0</td><td><div class=\"dni-plaintext\"><pre>[ 90, 5, 0, 5 ]</pre></div></td></tr><tr><td>1</td><td><div class=\"dni-plaintext\"><pre>[ 4, 103, 0, 19 ]</pre></div></td></tr><tr><td>2</td><td><div class=\"dni-plaintext\"><pre>[ 0, 0, 51, 39 ]</pre></div></td></tr><tr><td>3</td><td><div class=\"dni-plaintext\"><pre>[ 2, 21, 6, 155 ]</pre></div></td></tr></tbody></table></td></tr><tr><td>NumberOfClasses</td><td><div class=\"dni-plaintext\"><pre>4</pre></div></td></tr></tbody></table></div></details></td></tr></tbody></table></div></details></td></tr><tr><td>Model</td><td><table><thead><tr><th><i>index</i></th><th><i>type</i></th><th>value</th></tr></thead><tbody><tr><td>0</td><td><span><a href=\"https://docs.microsoft.com/dotnet/api/microsoft.ml.transforms.typeconvertingtransformer?view=net-7.0\">Microsoft.ML.Transforms.TypeConvertingTransformer</a></span></td><td><details class=\"dni-treeview\"><summary><span class=\"dni-code-hint\"><code>Microsoft.ML.Transforms.TypeConvertingTransformer</code></span></summary><div><table><thead><tr></tr></thead><tbody></tbody></table></div></details></td></tr><tr><td>1</td><td><span><a href=\"https://docs.microsoft.com/dotnet/api/microsoft.ml.transforms.text.textfeaturizingestimator.transformer?view=net-7.0\">Microsoft.ML.Transforms.Text.TextFeaturizingEstimator+Transformer</a></span></td><td><details class=\"dni-treeview\"><summary><span class=\"dni-code-hint\"><code>Microsoft.ML.Transforms.Text.TextFeaturizingEstimator+Transformer</code></span></summary><div><table><thead><tr></tr></thead><tbody></tbody></table></div></details></td></tr><tr><td>2</td><td><span><a href=\"https://docs.microsoft.com/dotnet/api/microsoft.ml.data.columnconcatenatingtransformer?view=net-7.0\">Microsoft.ML.Data.ColumnConcatenatingTransformer</a></span></td><td><details class=\"dni-treeview\"><summary><span class=\"dni-code-hint\"><code>Microsoft.ML.Data.ColumnConcatenatingTransformer</code></span></summary><div><table><thead><tr></tr></thead><tbody></tbody></table></div></details></td></tr><tr><td>3</td><td><span><a href=\"https://docs.microsoft.com/dotnet/api/microsoft.ml.transforms.valuetokeymappingtransformer?view=net-7.0\">Microsoft.ML.Transforms.ValueToKeyMappingTransformer</a></span></td><td><details class=\"dni-treeview\"><summary><span class=\"dni-code-hint\"><code>Microsoft.ML.Transforms.ValueToKeyMappingTransformer</code></span></summary><div><table><thead><tr></tr></thead><tbody></tbody></table></div></details></td></tr><tr><td>4</td><td><span><a href=\"https://docs.microsoft.com/dotnet/api/microsoft.ml.data.multiclasspredictiontransformer-1?view=net-7.0\">Microsoft.ML.Data.MulticlassPredictionTransformer&lt;Microsoft.ML.Trainers.MaximumEntropyModelParameters&gt;</a></span></td><td><details class=\"dni-treeview\"><summary><span class=\"dni-code-hint\"><code>Microsoft.ML.Data.MulticlassPredictionTransformer`1[Microsoft.ML.Trainers.MaximumEntropyModelParameters]</code></span></summary><div><table><thead><tr></tr></thead><tbody><tr><td>FeatureColumnName</td><td>__Features__</td></tr><tr><td>FeatureColumnType</td><td><details class=\"dni-treeview\"><summary><span class=\"dni-code-hint\"><code>Vector<Single, 11774></code></span></summary><div><table><thead><tr></tr></thead><tbody><tr><td>Dimensions</td><td><div class=\"dni-plaintext\"><pre>[ 11774 ]</pre></div></td></tr><tr><td>IsKnownSize</td><td><div class=\"dni-plaintext\"><pre>True</pre></div></td></tr><tr><td>ItemType</td><td><details class=\"dni-treeview\"><summary><span class=\"dni-code-hint\"><code>Single</code></span></summary><div><table><thead><tr></tr></thead><tbody><tr><td>RawType</td><td>System.Single</td></tr></tbody></table></div></details></td></tr><tr><td>Size</td><td><div class=\"dni-plaintext\"><pre>11774</pre></div></td></tr><tr><td>RawType</td><td><span><a href=\"https://docs.microsoft.com/dotnet/api/microsoft.ml.data.vbuffer-1?view=net-7.0\">Microsoft.ML.Data.VBuffer&lt;System.Single&gt;</a></span></td></tr></tbody></table></div></details></td></tr><tr><td>Model</td><td><details class=\"dni-treeview\"><summary><span class=\"dni-code-hint\"><code>Microsoft.ML.Trainers.MaximumEntropyModelParameters</code></span></summary><div><table><thead><tr></tr></thead><tbody><tr><td>Statistics</td><td><div class=\"dni-plaintext\"><pre>&lt;null&gt;</pre></div></td></tr></tbody></table></div></details></td></tr></tbody></table></div></details></td></tr><tr><td>5</td><td><span><a href=\"https://docs.microsoft.com/dotnet/api/microsoft.ml.transforms.keytovaluemappingtransformer?view=net-7.0\">Microsoft.ML.Transforms.KeyToValueMappingTransformer</a></span></td><td><details class=\"dni-treeview\"><summary><span class=\"dni-code-hint\"><code>Microsoft.ML.Transforms.KeyToValueMappingTransformer</code></span></summary><div><table><thead><tr></tr></thead><tbody></tbody></table></div></details></td></tr></tbody></table></td></tr><tr><td>Exception</td><td><div class=\"dni-plaintext\"><pre>&lt;null&gt;</pre></div></td></tr><tr><td>TrainerName</td><td>ConvertType=&gt;FeaturizeText=&gt;Concatenate=&gt;Unknown=&gt;LightGbmMulti=&gt;Unknown</td></tr><tr><td>RuntimeInSeconds</td><td><div class=\"dni-plaintext\"><pre>0.342</pre></div></td></tr><tr><td>Estimator</td><td><details class=\"dni-treeview\"><summary><span class=\"dni-code-hint\"><code>Microsoft.ML.Data.EstimatorChain`1[Microsoft.ML.ITransformer]</code></span></summary><div><table><thead><tr></tr></thead><tbody><tr><td>LastEstimator</td><td><details class=\"dni-treeview\"><summary><span class=\"dni-code-hint\"><code>Microsoft.ML.Transforms.KeyToValueMappingEstimator</code></span></summary><div><table><thead><tr></tr></thead><tbody></tbody></table></div></details></td></tr></tbody></table></div></details></td></tr></tbody></table></div></details></td></tr></tbody></table></div></details><style>\r\n",
       ".dni-code-hint {\r\n",
       "    font-style: italic;\r\n",
       "    overflow: hidden;\r\n",
       "    white-space: nowrap;\r\n",
       "}\r\n",
       ".dni-treeview {\r\n",
       "    white-space: nowrap;\r\n",
       "}\r\n",
       ".dni-treeview td {\r\n",
       "    vertical-align: top;\r\n",
       "    text-align: start;\r\n",
       "}\r\n",
       "details.dni-treeview {\r\n",
       "    padding-left: 1em;\r\n",
       "}\r\n",
       "table td {\r\n",
       "    text-align: start;\r\n",
       "}\r\n",
       "table tr { \r\n",
       "    vertical-align: top; \r\n",
       "    margin: 0em 0px;\r\n",
       "}\r\n",
       "table tr td pre \r\n",
       "{ \r\n",
       "    vertical-align: top !important; \r\n",
       "    margin: 0em 0px !important;\r\n",
       "} \r\n",
       "table th {\r\n",
       "    text-align: start;\r\n",
       "}\r\n",
       "</style>"
      ]
     },
     "metadata": {},
     "output_type": "display_data"
    }
   ],
   "source": [
    "// Display details about the result\n",
    "result"
   ]
  },
  {
   "cell_type": "code",
   "execution_count": 10,
   "metadata": {
    "dotnet_interactive": {
     "language": "csharp"
    },
    "polyglot_notebook": {
     "kernelName": "csharp"
    }
   },
   "outputs": [
    {
     "data": {
      "text/html": [
       "<table><thead><tr><th><i>index</i></th><th><i>type</i></th><th>value</th></tr></thead><tbody><tr><td>0</td><td><span><a href=\"https://docs.microsoft.com/dotnet/api/microsoft.ml.transforms.typeconvertingtransformer?view=net-7.0\">Microsoft.ML.Transforms.TypeConvertingTransformer</a></span></td><td><details class=\"dni-treeview\"><summary><span class=\"dni-code-hint\"><code>Microsoft.ML.Transforms.TypeConvertingTransformer</code></span></summary><div><table><thead><tr></tr></thead><tbody></tbody></table></div></details></td></tr><tr><td>1</td><td><span><a href=\"https://docs.microsoft.com/dotnet/api/microsoft.ml.transforms.text.textfeaturizingestimator.transformer?view=net-7.0\">Microsoft.ML.Transforms.Text.TextFeaturizingEstimator+Transformer</a></span></td><td><details class=\"dni-treeview\"><summary><span class=\"dni-code-hint\"><code>Microsoft.ML.Transforms.Text.TextFeaturizingEstimator+Transformer</code></span></summary><div><table><thead><tr></tr></thead><tbody></tbody></table></div></details></td></tr><tr><td>2</td><td><span><a href=\"https://docs.microsoft.com/dotnet/api/microsoft.ml.data.columnconcatenatingtransformer?view=net-7.0\">Microsoft.ML.Data.ColumnConcatenatingTransformer</a></span></td><td><details class=\"dni-treeview\"><summary><span class=\"dni-code-hint\"><code>Microsoft.ML.Data.ColumnConcatenatingTransformer</code></span></summary><div><table><thead><tr></tr></thead><tbody></tbody></table></div></details></td></tr><tr><td>3</td><td><span><a href=\"https://docs.microsoft.com/dotnet/api/microsoft.ml.transforms.valuetokeymappingtransformer?view=net-7.0\">Microsoft.ML.Transforms.ValueToKeyMappingTransformer</a></span></td><td><details class=\"dni-treeview\"><summary><span class=\"dni-code-hint\"><code>Microsoft.ML.Transforms.ValueToKeyMappingTransformer</code></span></summary><div><table><thead><tr></tr></thead><tbody></tbody></table></div></details></td></tr><tr><td>4</td><td><span><a href=\"https://docs.microsoft.com/dotnet/api/microsoft.ml.data.multiclasspredictiontransformer-1?view=net-7.0\">Microsoft.ML.Data.MulticlassPredictionTransformer&lt;Microsoft.ML.Trainers.MaximumEntropyModelParameters&gt;</a></span></td><td><details class=\"dni-treeview\"><summary><span class=\"dni-code-hint\"><code>Microsoft.ML.Data.MulticlassPredictionTransformer`1[Microsoft.ML.Trainers.MaximumEntropyModelParameters]</code></span></summary><div><table><thead><tr></tr></thead><tbody><tr><td>FeatureColumnName</td><td>__Features__</td></tr><tr><td>FeatureColumnType</td><td><details class=\"dni-treeview\"><summary><span class=\"dni-code-hint\"><code>Vector<Single, 11774></code></span></summary><div><table><thead><tr></tr></thead><tbody><tr><td>Dimensions</td><td><div class=\"dni-plaintext\"><pre>[ 11774 ]</pre></div></td></tr><tr><td>IsKnownSize</td><td><div class=\"dni-plaintext\"><pre>True</pre></div></td></tr><tr><td>ItemType</td><td><details class=\"dni-treeview\"><summary><span class=\"dni-code-hint\"><code>Single</code></span></summary><div><table><thead><tr></tr></thead><tbody><tr><td>RawType</td><td><span><a href=\"https://docs.microsoft.com/dotnet/api/system.single?view=net-7.0\">System.Single</a></span></td></tr></tbody></table></div></details></td></tr><tr><td>Size</td><td><div class=\"dni-plaintext\"><pre>11774</pre></div></td></tr><tr><td>RawType</td><td><span><a href=\"https://docs.microsoft.com/dotnet/api/microsoft.ml.data.vbuffer-1?view=net-7.0\">Microsoft.ML.Data.VBuffer&lt;System.Single&gt;</a></span></td></tr></tbody></table></div></details></td></tr><tr><td>Model</td><td><details class=\"dni-treeview\"><summary><span class=\"dni-code-hint\"><code>Microsoft.ML.Trainers.MaximumEntropyModelParameters</code></span></summary><div><table><thead><tr></tr></thead><tbody><tr><td>Statistics</td><td><div class=\"dni-plaintext\"><pre>&lt;null&gt;</pre></div></td></tr></tbody></table></div></details></td></tr></tbody></table></div></details></td></tr><tr><td>5</td><td><span><a href=\"https://docs.microsoft.com/dotnet/api/microsoft.ml.transforms.keytovaluemappingtransformer?view=net-7.0\">Microsoft.ML.Transforms.KeyToValueMappingTransformer</a></span></td><td><details class=\"dni-treeview\"><summary><span class=\"dni-code-hint\"><code>Microsoft.ML.Transforms.KeyToValueMappingTransformer</code></span></summary><div><table><thead><tr></tr></thead><tbody></tbody></table></div></details></td></tr></tbody></table><style>\r\n",
       ".dni-code-hint {\r\n",
       "    font-style: italic;\r\n",
       "    overflow: hidden;\r\n",
       "    white-space: nowrap;\r\n",
       "}\r\n",
       ".dni-treeview {\r\n",
       "    white-space: nowrap;\r\n",
       "}\r\n",
       ".dni-treeview td {\r\n",
       "    vertical-align: top;\r\n",
       "    text-align: start;\r\n",
       "}\r\n",
       "details.dni-treeview {\r\n",
       "    padding-left: 1em;\r\n",
       "}\r\n",
       "table td {\r\n",
       "    text-align: start;\r\n",
       "}\r\n",
       "table tr { \r\n",
       "    vertical-align: top; \r\n",
       "    margin: 0em 0px;\r\n",
       "}\r\n",
       "table tr td pre \r\n",
       "{ \r\n",
       "    vertical-align: top !important; \r\n",
       "    margin: 0em 0px !important;\r\n",
       "} \r\n",
       "table th {\r\n",
       "    text-align: start;\r\n",
       "}\r\n",
       "</style>"
      ]
     },
     "metadata": {},
     "output_type": "display_data"
    }
   ],
   "source": [
    "// Grab the trained model for later\n",
    "ITransformer model = result.BestRun.Model;\n",
    "\n",
    "model"
   ]
  },
  {
   "attachments": {},
   "cell_type": "markdown",
   "metadata": {},
   "source": [
    "### Model Evaluation"
   ]
  },
  {
   "cell_type": "code",
   "execution_count": 11,
   "metadata": {
    "dotnet_interactive": {
     "language": "csharp"
    },
    "polyglot_notebook": {
     "kernelName": "csharp"
    }
   },
   "outputs": [
    {
     "data": {
      "text/plain": [
       "ConvertType=>FeaturizeText=>Concatenate=>Unknown=>LightGbmMulti=>Unknown"
      ]
     },
     "metadata": {},
     "output_type": "display_data"
    }
   ],
   "source": [
    "// Identify the best run's algorithm\n",
    "result.BestRun.TrainerName"
   ]
  },
  {
   "cell_type": "code",
   "execution_count": 12,
   "metadata": {
    "dotnet_interactive": {
     "language": "csharp"
    },
    "polyglot_notebook": {
     "kernelName": "csharp"
    }
   },
   "outputs": [
    {
     "data": {
      "text/html": [
       "<details open=\"open\" class=\"dni-treeview\"><summary><span class=\"dni-code-hint\"><code>Microsoft.ML.Data.MulticlassClassificationMetrics</code></span></summary><div><table><thead><tr></tr></thead><tbody><tr><td>LogLoss</td><td><div class=\"dni-plaintext\"><pre>0.5119809709411925</pre></div></td></tr><tr><td>LogLossReduction</td><td><div class=\"dni-plaintext\"><pre>0.6195624948155082</pre></div></td></tr><tr><td>MacroAccuracy</td><td><div class=\"dni-plaintext\"><pre>0.7816295721187025</pre></div></td></tr><tr><td>MicroAccuracy</td><td><div class=\"dni-plaintext\"><pre>0.798</pre></div></td></tr><tr><td>TopKAccuracy</td><td><div class=\"dni-plaintext\"><pre>0</pre></div></td></tr><tr><td>TopKPredictionCount</td><td><div class=\"dni-plaintext\"><pre>0</pre></div></td></tr><tr><td>TopKAccuracyForAllK</td><td><div class=\"dni-plaintext\"><pre>&lt;null&gt;</pre></div></td></tr><tr><td>PerClassLogLoss</td><td><div class=\"dni-plaintext\"><pre>[ 0.37216390349222467, 0.5097796982759034, 0.9725721810641614, 0.3641867219719299 ]</pre></div></td></tr><tr><td>ConfusionMatrix</td><td><details class=\"dni-treeview\"><summary><span class=\"dni-code-hint\"><code>Microsoft.ML.Data.ConfusionMatrix</code></span></summary><div><table><thead><tr></tr></thead><tbody><tr><td>PerClassPrecision</td><td><div class=\"dni-plaintext\"><pre>[ 0.9375, 0.7984496124031008, 0.8947368421052632, 0.7110091743119266 ]</pre></div></td></tr><tr><td>PerClassRecall</td><td><div class=\"dni-plaintext\"><pre>[ 0.9, 0.8174603174603174, 0.5666666666666667, 0.842391304347826 ]</pre></div></td></tr><tr><td>Counts</td><td><table><thead><tr><th><i>index</i></th><th>value</th></tr></thead><tbody><tr><td>0</td><td><div class=\"dni-plaintext\"><pre>[ 90, 5, 0, 5 ]</pre></div></td></tr><tr><td>1</td><td><div class=\"dni-plaintext\"><pre>[ 4, 103, 0, 19 ]</pre></div></td></tr><tr><td>2</td><td><div class=\"dni-plaintext\"><pre>[ 0, 0, 51, 39 ]</pre></div></td></tr><tr><td>3</td><td><div class=\"dni-plaintext\"><pre>[ 2, 21, 6, 155 ]</pre></div></td></tr></tbody></table></td></tr><tr><td>NumberOfClasses</td><td><div class=\"dni-plaintext\"><pre>4</pre></div></td></tr></tbody></table></div></details></td></tr></tbody></table></div></details><style>\r\n",
       ".dni-code-hint {\r\n",
       "    font-style: italic;\r\n",
       "    overflow: hidden;\r\n",
       "    white-space: nowrap;\r\n",
       "}\r\n",
       ".dni-treeview {\r\n",
       "    white-space: nowrap;\r\n",
       "}\r\n",
       ".dni-treeview td {\r\n",
       "    vertical-align: top;\r\n",
       "    text-align: start;\r\n",
       "}\r\n",
       "details.dni-treeview {\r\n",
       "    padding-left: 1em;\r\n",
       "}\r\n",
       "table td {\r\n",
       "    text-align: start;\r\n",
       "}\r\n",
       "table tr { \r\n",
       "    vertical-align: top; \r\n",
       "    margin: 0em 0px;\r\n",
       "}\r\n",
       "table tr td pre \r\n",
       "{ \r\n",
       "    vertical-align: top !important; \r\n",
       "    margin: 0em 0px !important;\r\n",
       "} \r\n",
       "table th {\r\n",
       "    text-align: start;\r\n",
       "}\r\n",
       "</style>"
      ]
     },
     "metadata": {},
     "output_type": "display_data"
    }
   ],
   "source": [
    "// Take a look a the best run's metrics\n",
    "result.BestRun.ValidationMetrics"
   ]
  },
  {
   "cell_type": "code",
   "execution_count": 13,
   "metadata": {
    "dotnet_interactive": {
     "language": "csharp"
    },
    "polyglot_notebook": {
     "kernelName": "csharp"
    }
   },
   "outputs": [
    {
     "data": {
      "text/plain": [
       "\r\n",
       "Confusion table\r\n",
       "          ||================================\r\n",
       "PREDICTED ||     E |    ET |     M |     T | Recall\r\n",
       "TRUTH     ||================================\r\n",
       "        E ||    90 |     5 |     0 |     5 | 0.9000\r\n",
       "       ET ||     4 |   103 |     0 |    19 | 0.8175\r\n",
       "        M ||     0 |     0 |    51 |    39 | 0.5667\r\n",
       "        T ||     2 |    21 |     6 |   155 | 0.8424\r\n",
       "          ||================================\r\n",
       "Precision ||0.9375 |0.7984 |0.8947 |0.7110 |\r\n"
      ]
     },
     "metadata": {},
     "output_type": "display_data"
    }
   ],
   "source": [
    "result.BestRun.ValidationMetrics.ConfusionMatrix.GetFormattedConfusionTable()"
   ]
  },
  {
   "attachments": {},
   "cell_type": "markdown",
   "metadata": {},
   "source": [
    "### Generating Predictions"
   ]
  },
  {
   "cell_type": "code",
   "execution_count": 14,
   "metadata": {
    "dotnet_interactive": {
     "language": "csharp"
    },
    "polyglot_notebook": {
     "kernelName": "csharp"
    }
   },
   "outputs": [],
   "source": [
    "    /// <summary>\n",
    "    /// This class represents a set of confidences in the various ESRB ratings for a single video game\n",
    "    /// </summary>\n",
    "    public class ESRBPrediction\n",
    "    {\n",
    "        [ColumnName(\"PredictedLabel\")]\n",
    "        public string ESRBRating { get; set; }\n",
    "\n",
    "        [ColumnName(\"Score\")]\n",
    "        public float[] Score { get; set; }\n",
    "    }"
   ]
  },
  {
   "cell_type": "code",
   "execution_count": 15,
   "metadata": {
    "dotnet_interactive": {
     "language": "csharp"
    },
    "polyglot_notebook": {
     "kernelName": "csharp"
    }
   },
   "outputs": [],
   "source": [
    "// Create a PredictionEngine that can generate predictions for games we've not seen before\n",
    "PredictionEngine<GameInfo, ESRBPrediction> predictor =\n",
    "    Context.Model.CreatePredictionEngine<GameInfo, ESRBPrediction>(\n",
    "            transformer: model);"
   ]
  },
  {
   "cell_type": "code",
   "execution_count": 16,
   "metadata": {
    "dotnet_interactive": {
     "language": "csharp"
    },
    "polyglot_notebook": {
     "kernelName": "csharp"
    }
   },
   "outputs": [
    {
     "data": {
      "text/html": [
       "<table><thead><tr><th><i>index</i></th><th>value</th></tr></thead><tbody><tr><td>0</td><td><details class=\"dni-treeview\"><summary><span class=\"dni-code-hint\"><code>{Comic Doggo Side Scroller for Teens}</code></span></summary><div><table><thead><tr></tr></thead><tbody><tr><td>Title</td><td>Comic Doggo Side Scroller for Teens</td></tr><tr><td>Console</td><td><div class=\"dni-plaintext\"><pre>False</pre></div></td></tr><tr><td>AlcoholReference</td><td><div class=\"dni-plaintext\"><pre>False</pre></div></td></tr><tr><td>AnimatedBlood</td><td><div class=\"dni-plaintext\"><pre>False</pre></div></td></tr><tr><td>Blood</td><td><div class=\"dni-plaintext\"><pre>False</pre></div></td></tr><tr><td>BloodAndGore</td><td><div class=\"dni-plaintext\"><pre>False</pre></div></td></tr><tr><td>CartoonViolence</td><td><div class=\"dni-plaintext\"><pre>True</pre></div></td></tr><tr><td>CrudeHumor</td><td><div class=\"dni-plaintext\"><pre>True</pre></div></td></tr><tr><td>DrugReference</td><td><div class=\"dni-plaintext\"><pre>False</pre></div></td></tr><tr><td>FantasyViolence</td><td><div class=\"dni-plaintext\"><pre>False</pre></div></td></tr><tr><td>IntenseViolence</td><td><div class=\"dni-plaintext\"><pre>False</pre></div></td></tr><tr><td>Language</td><td><div class=\"dni-plaintext\"><pre>False</pre></div></td></tr><tr><td>Lyrics</td><td><div class=\"dni-plaintext\"><pre>False</pre></div></td></tr><tr><td>MatureHumor</td><td><div class=\"dni-plaintext\"><pre>False</pre></div></td></tr><tr><td>MildBlood</td><td><div class=\"dni-plaintext\"><pre>False</pre></div></td></tr><tr><td>MildCartoonViolence</td><td><div class=\"dni-plaintext\"><pre>False</pre></div></td></tr><tr><td>MildFantasyViolence</td><td><div class=\"dni-plaintext\"><pre>False</pre></div></td></tr><tr><td>MildLanguage</td><td><div class=\"dni-plaintext\"><pre>True</pre></div></td></tr><tr><td>MildLyrics</td><td><div class=\"dni-plaintext\"><pre>False</pre></div></td></tr><tr><td>MildSuggestiveThemes</td><td><div class=\"dni-plaintext\"><pre>False</pre></div></td></tr><tr><td>MildViolence</td><td><div class=\"dni-plaintext\"><pre>False</pre></div></td></tr><tr><td>NoDescriptors</td><td><div class=\"dni-plaintext\"><pre>False</pre></div></td></tr><tr><td>Nudity</td><td><div class=\"dni-plaintext\"><pre>False</pre></div></td></tr><tr><td>PartialNudity</td><td><div class=\"dni-plaintext\"><pre>False</pre></div></td></tr><tr><td>SexualContent</td><td><div class=\"dni-plaintext\"><pre>False</pre></div></td></tr><tr><td>SexualThemes</td><td><div class=\"dni-plaintext\"><pre>False</pre></div></td></tr><tr><td>SimulatedGambling</td><td><div class=\"dni-plaintext\"><pre>False</pre></div></td></tr><tr><td>StrongLanguage</td><td><div class=\"dni-plaintext\"><pre>False</pre></div></td></tr><tr><td>StrongSexualContent</td><td><div class=\"dni-plaintext\"><pre>False</pre></div></td></tr><tr><td>SuggestiveThemes</td><td><div class=\"dni-plaintext\"><pre>False</pre></div></td></tr><tr><td>UseOfAlcohol</td><td><div class=\"dni-plaintext\"><pre>False</pre></div></td></tr><tr><td>UseOfDrugsAndAlcohol</td><td><div class=\"dni-plaintext\"><pre>False</pre></div></td></tr><tr><td>Violence</td><td><div class=\"dni-plaintext\"><pre>True</pre></div></td></tr><tr><td>ESRBRating</td><td><div class=\"dni-plaintext\"><pre>&lt;null&gt;</pre></div></td></tr></tbody></table></div></details></td></tr><tr><td>1</td><td><details class=\"dni-treeview\"><summary><span class=\"dni-code-hint\"><code>{Kinda Sus}</code></span></summary><div><table><thead><tr></tr></thead><tbody><tr><td>Title</td><td>Kinda Sus</td></tr><tr><td>Console</td><td><div class=\"dni-plaintext\"><pre>False</pre></div></td></tr><tr><td>AlcoholReference</td><td><div class=\"dni-plaintext\"><pre>False</pre></div></td></tr><tr><td>AnimatedBlood</td><td><div class=\"dni-plaintext\"><pre>False</pre></div></td></tr><tr><td>Blood</td><td><div class=\"dni-plaintext\"><pre>False</pre></div></td></tr><tr><td>BloodAndGore</td><td><div class=\"dni-plaintext\"><pre>False</pre></div></td></tr><tr><td>CartoonViolence</td><td><div class=\"dni-plaintext\"><pre>False</pre></div></td></tr><tr><td>CrudeHumor</td><td><div class=\"dni-plaintext\"><pre>False</pre></div></td></tr><tr><td>DrugReference</td><td><div class=\"dni-plaintext\"><pre>False</pre></div></td></tr><tr><td>FantasyViolence</td><td><div class=\"dni-plaintext\"><pre>False</pre></div></td></tr><tr><td>IntenseViolence</td><td><div class=\"dni-plaintext\"><pre>False</pre></div></td></tr><tr><td>Language</td><td><div class=\"dni-plaintext\"><pre>False</pre></div></td></tr><tr><td>Lyrics</td><td><div class=\"dni-plaintext\"><pre>False</pre></div></td></tr><tr><td>MatureHumor</td><td><div class=\"dni-plaintext\"><pre>False</pre></div></td></tr><tr><td>MildBlood</td><td><div class=\"dni-plaintext\"><pre>False</pre></div></td></tr><tr><td>MildCartoonViolence</td><td><div class=\"dni-plaintext\"><pre>True</pre></div></td></tr><tr><td>MildFantasyViolence</td><td><div class=\"dni-plaintext\"><pre>False</pre></div></td></tr><tr><td>MildLanguage</td><td><div class=\"dni-plaintext\"><pre>False</pre></div></td></tr><tr><td>MildLyrics</td><td><div class=\"dni-plaintext\"><pre>False</pre></div></td></tr><tr><td>MildSuggestiveThemes</td><td><div class=\"dni-plaintext\"><pre>False</pre></div></td></tr><tr><td>MildViolence</td><td><div class=\"dni-plaintext\"><pre>False</pre></div></td></tr><tr><td>NoDescriptors</td><td><div class=\"dni-plaintext\"><pre>False</pre></div></td></tr><tr><td>Nudity</td><td><div class=\"dni-plaintext\"><pre>False</pre></div></td></tr><tr><td>PartialNudity</td><td><div class=\"dni-plaintext\"><pre>False</pre></div></td></tr><tr><td>SexualContent</td><td><div class=\"dni-plaintext\"><pre>False</pre></div></td></tr><tr><td>SexualThemes</td><td><div class=\"dni-plaintext\"><pre>False</pre></div></td></tr><tr><td>SimulatedGambling</td><td><div class=\"dni-plaintext\"><pre>False</pre></div></td></tr><tr><td>StrongLanguage</td><td><div class=\"dni-plaintext\"><pre>False</pre></div></td></tr><tr><td>StrongSexualContent</td><td><div class=\"dni-plaintext\"><pre>False</pre></div></td></tr><tr><td>SuggestiveThemes</td><td><div class=\"dni-plaintext\"><pre>False</pre></div></td></tr><tr><td>UseOfAlcohol</td><td><div class=\"dni-plaintext\"><pre>False</pre></div></td></tr><tr><td>UseOfDrugsAndAlcohol</td><td><div class=\"dni-plaintext\"><pre>False</pre></div></td></tr><tr><td>Violence</td><td><div class=\"dni-plaintext\"><pre>False</pre></div></td></tr><tr><td>ESRBRating</td><td><div class=\"dni-plaintext\"><pre>&lt;null&gt;</pre></div></td></tr></tbody></table></div></details></td></tr><tr><td>2</td><td><details class=\"dni-treeview\"><summary><span class=\"dni-code-hint\"><code>{The Earthlings are Coming}</code></span></summary><div><table><thead><tr></tr></thead><tbody><tr><td>Title</td><td>The Earthlings are Coming</td></tr><tr><td>Console</td><td><div class=\"dni-plaintext\"><pre>False</pre></div></td></tr><tr><td>AlcoholReference</td><td><div class=\"dni-plaintext\"><pre>False</pre></div></td></tr><tr><td>AnimatedBlood</td><td><div class=\"dni-plaintext\"><pre>False</pre></div></td></tr><tr><td>Blood</td><td><div class=\"dni-plaintext\"><pre>False</pre></div></td></tr><tr><td>BloodAndGore</td><td><div class=\"dni-plaintext\"><pre>False</pre></div></td></tr><tr><td>CartoonViolence</td><td><div class=\"dni-plaintext\"><pre>False</pre></div></td></tr><tr><td>CrudeHumor</td><td><div class=\"dni-plaintext\"><pre>False</pre></div></td></tr><tr><td>DrugReference</td><td><div class=\"dni-plaintext\"><pre>False</pre></div></td></tr><tr><td>FantasyViolence</td><td><div class=\"dni-plaintext\"><pre>False</pre></div></td></tr><tr><td>IntenseViolence</td><td><div class=\"dni-plaintext\"><pre>False</pre></div></td></tr><tr><td>Language</td><td><div class=\"dni-plaintext\"><pre>False</pre></div></td></tr><tr><td>Lyrics</td><td><div class=\"dni-plaintext\"><pre>False</pre></div></td></tr><tr><td>MatureHumor</td><td><div class=\"dni-plaintext\"><pre>False</pre></div></td></tr><tr><td>MildBlood</td><td><div class=\"dni-plaintext\"><pre>False</pre></div></td></tr><tr><td>MildCartoonViolence</td><td><div class=\"dni-plaintext\"><pre>False</pre></div></td></tr><tr><td>MildFantasyViolence</td><td><div class=\"dni-plaintext\"><pre>True</pre></div></td></tr><tr><td>MildLanguage</td><td><div class=\"dni-plaintext\"><pre>False</pre></div></td></tr><tr><td>MildLyrics</td><td><div class=\"dni-plaintext\"><pre>False</pre></div></td></tr><tr><td>MildSuggestiveThemes</td><td><div class=\"dni-plaintext\"><pre>False</pre></div></td></tr><tr><td>MildViolence</td><td><div class=\"dni-plaintext\"><pre>True</pre></div></td></tr><tr><td>NoDescriptors</td><td><div class=\"dni-plaintext\"><pre>False</pre></div></td></tr><tr><td>Nudity</td><td><div class=\"dni-plaintext\"><pre>False</pre></div></td></tr><tr><td>PartialNudity</td><td><div class=\"dni-plaintext\"><pre>False</pre></div></td></tr><tr><td>SexualContent</td><td><div class=\"dni-plaintext\"><pre>False</pre></div></td></tr><tr><td>SexualThemes</td><td><div class=\"dni-plaintext\"><pre>False</pre></div></td></tr><tr><td>SimulatedGambling</td><td><div class=\"dni-plaintext\"><pre>False</pre></div></td></tr><tr><td>StrongLanguage</td><td><div class=\"dni-plaintext\"><pre>False</pre></div></td></tr><tr><td>StrongSexualContent</td><td><div class=\"dni-plaintext\"><pre>False</pre></div></td></tr><tr><td>SuggestiveThemes</td><td><div class=\"dni-plaintext\"><pre>False</pre></div></td></tr><tr><td>UseOfAlcohol</td><td><div class=\"dni-plaintext\"><pre>False</pre></div></td></tr><tr><td>UseOfDrugsAndAlcohol</td><td><div class=\"dni-plaintext\"><pre>False</pre></div></td></tr><tr><td>Violence</td><td><div class=\"dni-plaintext\"><pre>False</pre></div></td></tr><tr><td>ESRBRating</td><td><div class=\"dni-plaintext\"><pre>&lt;null&gt;</pre></div></td></tr></tbody></table></div></details></td></tr><tr><td>3</td><td><details class=\"dni-treeview\"><summary><span class=\"dni-code-hint\"><code>{Shoddy Surgeon Simulator}</code></span></summary><div><table><thead><tr></tr></thead><tbody><tr><td>Title</td><td>Shoddy Surgeon Simulator</td></tr><tr><td>Console</td><td><div class=\"dni-plaintext\"><pre>False</pre></div></td></tr><tr><td>AlcoholReference</td><td><div class=\"dni-plaintext\"><pre>False</pre></div></td></tr><tr><td>AnimatedBlood</td><td><div class=\"dni-plaintext\"><pre>False</pre></div></td></tr><tr><td>Blood</td><td><div class=\"dni-plaintext\"><pre>False</pre></div></td></tr><tr><td>BloodAndGore</td><td><div class=\"dni-plaintext\"><pre>True</pre></div></td></tr><tr><td>CartoonViolence</td><td><div class=\"dni-plaintext\"><pre>False</pre></div></td></tr><tr><td>CrudeHumor</td><td><div class=\"dni-plaintext\"><pre>False</pre></div></td></tr><tr><td>DrugReference</td><td><div class=\"dni-plaintext\"><pre>True</pre></div></td></tr><tr><td>FantasyViolence</td><td><div class=\"dni-plaintext\"><pre>False</pre></div></td></tr><tr><td>IntenseViolence</td><td><div class=\"dni-plaintext\"><pre>False</pre></div></td></tr><tr><td>Language</td><td><div class=\"dni-plaintext\"><pre>False</pre></div></td></tr><tr><td>Lyrics</td><td><div class=\"dni-plaintext\"><pre>False</pre></div></td></tr><tr><td>MatureHumor</td><td><div class=\"dni-plaintext\"><pre>False</pre></div></td></tr><tr><td>MildBlood</td><td><div class=\"dni-plaintext\"><pre>False</pre></div></td></tr><tr><td>MildCartoonViolence</td><td><div class=\"dni-plaintext\"><pre>False</pre></div></td></tr><tr><td>MildFantasyViolence</td><td><div class=\"dni-plaintext\"><pre>False</pre></div></td></tr><tr><td>MildLanguage</td><td><div class=\"dni-plaintext\"><pre>False</pre></div></td></tr><tr><td>MildLyrics</td><td><div class=\"dni-plaintext\"><pre>False</pre></div></td></tr><tr><td>MildSuggestiveThemes</td><td><div class=\"dni-plaintext\"><pre>False</pre></div></td></tr><tr><td>MildViolence</td><td><div class=\"dni-plaintext\"><pre>False</pre></div></td></tr><tr><td>NoDescriptors</td><td><div class=\"dni-plaintext\"><pre>False</pre></div></td></tr><tr><td>Nudity</td><td><div class=\"dni-plaintext\"><pre>False</pre></div></td></tr><tr><td>PartialNudity</td><td><div class=\"dni-plaintext\"><pre>True</pre></div></td></tr><tr><td>SexualContent</td><td><div class=\"dni-plaintext\"><pre>False</pre></div></td></tr><tr><td>SexualThemes</td><td><div class=\"dni-plaintext\"><pre>False</pre></div></td></tr><tr><td>SimulatedGambling</td><td><div class=\"dni-plaintext\"><pre>False</pre></div></td></tr><tr><td>StrongLanguage</td><td><div class=\"dni-plaintext\"><pre>False</pre></div></td></tr><tr><td>StrongSexualContent</td><td><div class=\"dni-plaintext\"><pre>False</pre></div></td></tr><tr><td>SuggestiveThemes</td><td><div class=\"dni-plaintext\"><pre>False</pre></div></td></tr><tr><td>UseOfAlcohol</td><td><div class=\"dni-plaintext\"><pre>False</pre></div></td></tr><tr><td>UseOfDrugsAndAlcohol</td><td><div class=\"dni-plaintext\"><pre>False</pre></div></td></tr><tr><td>Violence</td><td><div class=\"dni-plaintext\"><pre>False</pre></div></td></tr><tr><td>ESRBRating</td><td><div class=\"dni-plaintext\"><pre>&lt;null&gt;</pre></div></td></tr></tbody></table></div></details></td></tr><tr><td>4</td><td><details class=\"dni-treeview\"><summary><span class=\"dni-code-hint\"><code>{Assistant to the Lawn Service Manager 2023}</code></span></summary><div><table><thead><tr></tr></thead><tbody><tr><td>Title</td><td>Assistant to the Lawn Service Manager 2023</td></tr><tr><td>Console</td><td><div class=\"dni-plaintext\"><pre>False</pre></div></td></tr><tr><td>AlcoholReference</td><td><div class=\"dni-plaintext\"><pre>True</pre></div></td></tr><tr><td>AnimatedBlood</td><td><div class=\"dni-plaintext\"><pre>False</pre></div></td></tr><tr><td>Blood</td><td><div class=\"dni-plaintext\"><pre>False</pre></div></td></tr><tr><td>BloodAndGore</td><td><div class=\"dni-plaintext\"><pre>False</pre></div></td></tr><tr><td>CartoonViolence</td><td><div class=\"dni-plaintext\"><pre>False</pre></div></td></tr><tr><td>CrudeHumor</td><td><div class=\"dni-plaintext\"><pre>True</pre></div></td></tr><tr><td>DrugReference</td><td><div class=\"dni-plaintext\"><pre>False</pre></div></td></tr><tr><td>FantasyViolence</td><td><div class=\"dni-plaintext\"><pre>False</pre></div></td></tr><tr><td>IntenseViolence</td><td><div class=\"dni-plaintext\"><pre>False</pre></div></td></tr><tr><td>Language</td><td><div class=\"dni-plaintext\"><pre>False</pre></div></td></tr><tr><td>Lyrics</td><td><div class=\"dni-plaintext\"><pre>False</pre></div></td></tr><tr><td>MatureHumor</td><td><div class=\"dni-plaintext\"><pre>False</pre></div></td></tr><tr><td>MildBlood</td><td><div class=\"dni-plaintext\"><pre>False</pre></div></td></tr><tr><td>MildCartoonViolence</td><td><div class=\"dni-plaintext\"><pre>False</pre></div></td></tr><tr><td>MildFantasyViolence</td><td><div class=\"dni-plaintext\"><pre>False</pre></div></td></tr><tr><td>MildLanguage</td><td><div class=\"dni-plaintext\"><pre>True</pre></div></td></tr><tr><td>MildLyrics</td><td><div class=\"dni-plaintext\"><pre>False</pre></div></td></tr><tr><td>MildSuggestiveThemes</td><td><div class=\"dni-plaintext\"><pre>False</pre></div></td></tr><tr><td>MildViolence</td><td><div class=\"dni-plaintext\"><pre>False</pre></div></td></tr><tr><td>NoDescriptors</td><td><div class=\"dni-plaintext\"><pre>False</pre></div></td></tr><tr><td>Nudity</td><td><div class=\"dni-plaintext\"><pre>False</pre></div></td></tr><tr><td>PartialNudity</td><td><div class=\"dni-plaintext\"><pre>False</pre></div></td></tr><tr><td>SexualContent</td><td><div class=\"dni-plaintext\"><pre>False</pre></div></td></tr><tr><td>SexualThemes</td><td><div class=\"dni-plaintext\"><pre>False</pre></div></td></tr><tr><td>SimulatedGambling</td><td><div class=\"dni-plaintext\"><pre>False</pre></div></td></tr><tr><td>StrongLanguage</td><td><div class=\"dni-plaintext\"><pre>False</pre></div></td></tr><tr><td>StrongSexualContent</td><td><div class=\"dni-plaintext\"><pre>False</pre></div></td></tr><tr><td>SuggestiveThemes</td><td><div class=\"dni-plaintext\"><pre>False</pre></div></td></tr><tr><td>UseOfAlcohol</td><td><div class=\"dni-plaintext\"><pre>False</pre></div></td></tr><tr><td>UseOfDrugsAndAlcohol</td><td><div class=\"dni-plaintext\"><pre>False</pre></div></td></tr><tr><td>Violence</td><td><div class=\"dni-plaintext\"><pre>False</pre></div></td></tr><tr><td>ESRBRating</td><td><div class=\"dni-plaintext\"><pre>&lt;null&gt;</pre></div></td></tr></tbody></table></div></details></td></tr><tr><td>5</td><td><details class=\"dni-treeview\"><summary><span class=\"dni-code-hint\"><code>{Intense Shoot-o-rama: Why would anyone play this edition}</code></span></summary><div><table><thead><tr></tr></thead><tbody><tr><td>Title</td><td>Intense Shoot-o-rama: Why would anyone play this edition</td></tr><tr><td>Console</td><td><div class=\"dni-plaintext\"><pre>False</pre></div></td></tr><tr><td>AlcoholReference</td><td><div class=\"dni-plaintext\"><pre>True</pre></div></td></tr><tr><td>AnimatedBlood</td><td><div class=\"dni-plaintext\"><pre>False</pre></div></td></tr><tr><td>Blood</td><td><div class=\"dni-plaintext\"><pre>False</pre></div></td></tr><tr><td>BloodAndGore</td><td><div class=\"dni-plaintext\"><pre>True</pre></div></td></tr><tr><td>CartoonViolence</td><td><div class=\"dni-plaintext\"><pre>False</pre></div></td></tr><tr><td>CrudeHumor</td><td><div class=\"dni-plaintext\"><pre>True</pre></div></td></tr><tr><td>DrugReference</td><td><div class=\"dni-plaintext\"><pre>True</pre></div></td></tr><tr><td>FantasyViolence</td><td><div class=\"dni-plaintext\"><pre>False</pre></div></td></tr><tr><td>IntenseViolence</td><td><div class=\"dni-plaintext\"><pre>True</pre></div></td></tr><tr><td>Language</td><td><div class=\"dni-plaintext\"><pre>False</pre></div></td></tr><tr><td>Lyrics</td><td><div class=\"dni-plaintext\"><pre>False</pre></div></td></tr><tr><td>MatureHumor</td><td><div class=\"dni-plaintext\"><pre>True</pre></div></td></tr><tr><td>MildBlood</td><td><div class=\"dni-plaintext\"><pre>False</pre></div></td></tr><tr><td>MildCartoonViolence</td><td><div class=\"dni-plaintext\"><pre>False</pre></div></td></tr><tr><td>MildFantasyViolence</td><td><div class=\"dni-plaintext\"><pre>False</pre></div></td></tr><tr><td>MildLanguage</td><td><div class=\"dni-plaintext\"><pre>False</pre></div></td></tr><tr><td>MildLyrics</td><td><div class=\"dni-plaintext\"><pre>False</pre></div></td></tr><tr><td>MildSuggestiveThemes</td><td><div class=\"dni-plaintext\"><pre>False</pre></div></td></tr><tr><td>MildViolence</td><td><div class=\"dni-plaintext\"><pre>False</pre></div></td></tr><tr><td>NoDescriptors</td><td><div class=\"dni-plaintext\"><pre>False</pre></div></td></tr><tr><td>Nudity</td><td><div class=\"dni-plaintext\"><pre>True</pre></div></td></tr><tr><td>PartialNudity</td><td><div class=\"dni-plaintext\"><pre>False</pre></div></td></tr><tr><td>SexualContent</td><td><div class=\"dni-plaintext\"><pre>True</pre></div></td></tr><tr><td>SexualThemes</td><td><div class=\"dni-plaintext\"><pre>True</pre></div></td></tr><tr><td>SimulatedGambling</td><td><div class=\"dni-plaintext\"><pre>False</pre></div></td></tr><tr><td>StrongLanguage</td><td><div class=\"dni-plaintext\"><pre>True</pre></div></td></tr><tr><td>StrongSexualContent</td><td><div class=\"dni-plaintext\"><pre>False</pre></div></td></tr><tr><td>SuggestiveThemes</td><td><div class=\"dni-plaintext\"><pre>False</pre></div></td></tr><tr><td>UseOfAlcohol</td><td><div class=\"dni-plaintext\"><pre>False</pre></div></td></tr><tr><td>UseOfDrugsAndAlcohol</td><td><div class=\"dni-plaintext\"><pre>False</pre></div></td></tr><tr><td>Violence</td><td><div class=\"dni-plaintext\"><pre>False</pre></div></td></tr><tr><td>ESRBRating</td><td><div class=\"dni-plaintext\"><pre>&lt;null&gt;</pre></div></td></tr></tbody></table></div></details></td></tr></tbody></table><style>\r\n",
       ".dni-code-hint {\r\n",
       "    font-style: italic;\r\n",
       "    overflow: hidden;\r\n",
       "    white-space: nowrap;\r\n",
       "}\r\n",
       ".dni-treeview {\r\n",
       "    white-space: nowrap;\r\n",
       "}\r\n",
       ".dni-treeview td {\r\n",
       "    vertical-align: top;\r\n",
       "    text-align: start;\r\n",
       "}\r\n",
       "details.dni-treeview {\r\n",
       "    padding-left: 1em;\r\n",
       "}\r\n",
       "table td {\r\n",
       "    text-align: start;\r\n",
       "}\r\n",
       "table tr { \r\n",
       "    vertical-align: top; \r\n",
       "    margin: 0em 0px;\r\n",
       "}\r\n",
       "table tr td pre \r\n",
       "{ \r\n",
       "    vertical-align: top !important; \r\n",
       "    margin: 0em 0px !important;\r\n",
       "} \r\n",
       "table th {\r\n",
       "    text-align: start;\r\n",
       "}\r\n",
       "</style>"
      ]
     },
     "metadata": {},
     "output_type": "display_data"
    }
   ],
   "source": [
    "// Create a list of sample games\n",
    "List<GameInfo> games = new() {\n",
    "    new GameInfo()\n",
    "    {\n",
    "        Title = \"Comic Doggo Side Scroller for Teens\",\n",
    "        CartoonViolence = true,\n",
    "        MildLanguage = true,\n",
    "        CrudeHumor = true,\n",
    "        Violence = true,\n",
    "    },\n",
    "    new GameInfo()\n",
    "    {\n",
    "        Title = \"Kinda Sus\",\n",
    "        MildCartoonViolence = true\n",
    "    },\n",
    "    new GameInfo()\n",
    "    {\n",
    "        Title = \"The Earthlings are Coming\",\n",
    "        MildViolence = true,\n",
    "        MildFantasyViolence = true,\n",
    "    },\n",
    "    new GameInfo()\n",
    "    {\n",
    "        Title = \"Shoddy Surgeon Simulator\",\n",
    "        BloodAndGore = true,\n",
    "        DrugReference = true,\n",
    "        PartialNudity = true,\n",
    "    },\n",
    "    new GameInfo()\n",
    "    {\n",
    "        Title = \"Assistant to the Lawn Service Manager 2023\",\n",
    "        MildLanguage = true,\n",
    "        CrudeHumor = true,\n",
    "        AlcoholReference = true,\n",
    "    },\n",
    "    new GameInfo()\n",
    "    {\n",
    "        Title = \"Intense Shoot-o-rama: Why would anyone play this edition\",\n",
    "        BloodAndGore = true,\n",
    "        DrugReference = true,\n",
    "        AlcoholReference = true,\n",
    "        Nudity = true,\n",
    "        StrongLanguage = true,\n",
    "        SexualContent = true,\n",
    "        SexualThemes = true,\n",
    "        MatureHumor = true,\n",
    "        IntenseViolence = true,\n",
    "        CrudeHumor = true,\n",
    "    }\n",
    "};\n",
    "\n",
    "games"
   ]
  },
  {
   "cell_type": "code",
   "execution_count": 17,
   "metadata": {
    "dotnet_interactive": {
     "language": "csharp"
    },
    "polyglot_notebook": {
     "kernelName": "csharp"
    }
   },
   "outputs": [
    {
     "name": "stdout",
     "output_type": "stream",
     "text": [
      "Predicted T for Comic Doggo Side Scroller for Teens\n",
      "   Probabilities (E/ET/M/T): 0.74% 17.54% 0.45% 81.27% \n",
      "\n",
      "Predicted E for Kinda Sus\n",
      "   Probabilities (E/ET/M/T): 61.41% 21.90% 3.46% 13.24% \n",
      "\n",
      "Predicted E for The Earthlings are Coming\n",
      "   Probabilities (E/ET/M/T): 61.40% 20.12% 2.04% 16.44% \n",
      "\n",
      "Predicted M for Shoddy Surgeon Simulator\n",
      "   Probabilities (E/ET/M/T): 3.46% 4.13% 58.03% 34.38% \n",
      "\n",
      "Predicted ET for Assistant to the Lawn Service Manager 2023\n",
      "   Probabilities (E/ET/M/T): 11.74% 54.60% 0.97% 32.69% \n",
      "\n",
      "Predicted M for Intense Shoot-o-rama: Why would anyone play this edition\n",
      "   Probabilities (E/ET/M/T): 0.01% 0.67% 95.39% 3.92% \n",
      "\n"
     ]
    }
   ],
   "source": [
    "foreach (GameInfo game in games) {\n",
    "    ESRBPrediction prediction = predictor.Predict(game);\n",
    "\n",
    "    Console.WriteLine($\"Predicted {prediction.ESRBRating} for {game.Title}\");\n",
    "\n",
    "    Console.Write(\"   Probabilities (E/ET/M/T): \");\n",
    "    foreach (float probability in prediction.Score) {\n",
    "        Console.Write($\"{probability:P} \");\n",
    "    }\n",
    "    Console.WriteLine();\n",
    "    Console.WriteLine();\n",
    "}"
   ]
  },
  {
   "attachments": {},
   "cell_type": "markdown",
   "metadata": {},
   "source": [
    "### Save the Trained Model for Later\n",
    "\n",
    "Because training models takes time, we can save the resulting model to a Zip file. This file can then be deployed elsewhere."
   ]
  },
  {
   "cell_type": "code",
   "execution_count": 18,
   "metadata": {
    "dotnet_interactive": {
     "language": "csharp"
    },
    "polyglot_notebook": {
     "kernelName": "csharp"
    }
   },
   "outputs": [
    {
     "name": "stdout",
     "output_type": "stream",
     "text": [
      "Model saved\r\n"
     ]
    }
   ],
   "source": [
    "Context.Model.Save(model, inputSchema:null, \"Model.zip\");\n",
    "\n",
    "Console.WriteLine(\"Model saved\");"
   ]
  },
  {
   "attachments": {},
   "cell_type": "markdown",
   "metadata": {},
   "source": [
    "### Load the Model\n",
    "\n",
    "Most of the time you just want to use a trained model, not retrain it every time. This is how you'd do that."
   ]
  },
  {
   "cell_type": "code",
   "execution_count": 19,
   "metadata": {
    "dotnet_interactive": {
     "language": "csharp"
    },
    "polyglot_notebook": {
     "kernelName": "csharp"
    }
   },
   "outputs": [
    {
     "data": {
      "text/html": [
       "<table><thead><tr><th><i>index</i></th><th><i>type</i></th><th>value</th></tr></thead><tbody><tr><td>0</td><td><span><a href=\"https://docs.microsoft.com/dotnet/api/microsoft.ml.transforms.typeconvertingtransformer?view=net-7.0\">Microsoft.ML.Transforms.TypeConvertingTransformer</a></span></td><td><details class=\"dni-treeview\"><summary><span class=\"dni-code-hint\"><code>Microsoft.ML.Transforms.TypeConvertingTransformer</code></span></summary><div><table><thead><tr></tr></thead><tbody></tbody></table></div></details></td></tr><tr><td>1</td><td><span><a href=\"https://docs.microsoft.com/dotnet/api/microsoft.ml.transforms.text.textfeaturizingestimator.transformer?view=net-7.0\">Microsoft.ML.Transforms.Text.TextFeaturizingEstimator+Transformer</a></span></td><td><details class=\"dni-treeview\"><summary><span class=\"dni-code-hint\"><code>Microsoft.ML.Transforms.Text.TextFeaturizingEstimator+Transformer</code></span></summary><div><table><thead><tr></tr></thead><tbody></tbody></table></div></details></td></tr><tr><td>2</td><td><span><a href=\"https://docs.microsoft.com/dotnet/api/microsoft.ml.data.columnconcatenatingtransformer?view=net-7.0\">Microsoft.ML.Data.ColumnConcatenatingTransformer</a></span></td><td><details class=\"dni-treeview\"><summary><span class=\"dni-code-hint\"><code>Microsoft.ML.Data.ColumnConcatenatingTransformer</code></span></summary><div><table><thead><tr></tr></thead><tbody></tbody></table></div></details></td></tr><tr><td>3</td><td><span><a href=\"https://docs.microsoft.com/dotnet/api/microsoft.ml.transforms.valuetokeymappingtransformer?view=net-7.0\">Microsoft.ML.Transforms.ValueToKeyMappingTransformer</a></span></td><td><details class=\"dni-treeview\"><summary><span class=\"dni-code-hint\"><code>Microsoft.ML.Transforms.ValueToKeyMappingTransformer</code></span></summary><div><table><thead><tr></tr></thead><tbody></tbody></table></div></details></td></tr><tr><td>4</td><td><span><a href=\"https://docs.microsoft.com/dotnet/api/microsoft.ml.data.multiclasspredictiontransformer-1?view=net-7.0\">Microsoft.ML.Data.MulticlassPredictionTransformer&lt;Microsoft.ML.Trainers.MaximumEntropyModelParameters&gt;</a></span></td><td><details class=\"dni-treeview\"><summary><span class=\"dni-code-hint\"><code>Microsoft.ML.Data.MulticlassPredictionTransformer`1[Microsoft.ML.Trainers.MaximumEntropyModelParameters]</code></span></summary><div><table><thead><tr></tr></thead><tbody><tr><td>FeatureColumnName</td><td>__Features__</td></tr><tr><td>FeatureColumnType</td><td><details class=\"dni-treeview\"><summary><span class=\"dni-code-hint\"><code>Vector<Single, 11774></code></span></summary><div><table><thead><tr></tr></thead><tbody><tr><td>Dimensions</td><td><div class=\"dni-plaintext\"><pre>[ 11774 ]</pre></div></td></tr><tr><td>IsKnownSize</td><td><div class=\"dni-plaintext\"><pre>True</pre></div></td></tr><tr><td>ItemType</td><td><details class=\"dni-treeview\"><summary><span class=\"dni-code-hint\"><code>Single</code></span></summary><div><table><thead><tr></tr></thead><tbody><tr><td>RawType</td><td><span><a href=\"https://docs.microsoft.com/dotnet/api/system.single?view=net-7.0\">System.Single</a></span></td></tr></tbody></table></div></details></td></tr><tr><td>Size</td><td><div class=\"dni-plaintext\"><pre>11774</pre></div></td></tr><tr><td>RawType</td><td><span><a href=\"https://docs.microsoft.com/dotnet/api/microsoft.ml.data.vbuffer-1?view=net-7.0\">Microsoft.ML.Data.VBuffer&lt;System.Single&gt;</a></span></td></tr></tbody></table></div></details></td></tr><tr><td>Model</td><td><details class=\"dni-treeview\"><summary><span class=\"dni-code-hint\"><code>Microsoft.ML.Trainers.MaximumEntropyModelParameters</code></span></summary><div><table><thead><tr></tr></thead><tbody><tr><td>Statistics</td><td><div class=\"dni-plaintext\"><pre>&lt;null&gt;</pre></div></td></tr></tbody></table></div></details></td></tr></tbody></table></div></details></td></tr><tr><td>5</td><td><span><a href=\"https://docs.microsoft.com/dotnet/api/microsoft.ml.transforms.keytovaluemappingtransformer?view=net-7.0\">Microsoft.ML.Transforms.KeyToValueMappingTransformer</a></span></td><td><details class=\"dni-treeview\"><summary><span class=\"dni-code-hint\"><code>Microsoft.ML.Transforms.KeyToValueMappingTransformer</code></span></summary><div><table><thead><tr></tr></thead><tbody></tbody></table></div></details></td></tr></tbody></table><style>\r\n",
       ".dni-code-hint {\r\n",
       "    font-style: italic;\r\n",
       "    overflow: hidden;\r\n",
       "    white-space: nowrap;\r\n",
       "}\r\n",
       ".dni-treeview {\r\n",
       "    white-space: nowrap;\r\n",
       "}\r\n",
       ".dni-treeview td {\r\n",
       "    vertical-align: top;\r\n",
       "    text-align: start;\r\n",
       "}\r\n",
       "details.dni-treeview {\r\n",
       "    padding-left: 1em;\r\n",
       "}\r\n",
       "table td {\r\n",
       "    text-align: start;\r\n",
       "}\r\n",
       "table tr { \r\n",
       "    vertical-align: top; \r\n",
       "    margin: 0em 0px;\r\n",
       "}\r\n",
       "table tr td pre \r\n",
       "{ \r\n",
       "    vertical-align: top !important; \r\n",
       "    margin: 0em 0px !important;\r\n",
       "} \r\n",
       "table th {\r\n",
       "    text-align: start;\r\n",
       "}\r\n",
       "</style>"
      ]
     },
     "metadata": {},
     "output_type": "display_data"
    }
   ],
   "source": [
    "ITransformer loadedModel = Context.Model.Load(\"Model.zip\", out _);\n",
    "\n",
    "loadedModel // After this, we'd build a PredictionEngine"
   ]
  },
  {
   "attachments": {},
   "cell_type": "markdown",
   "metadata": {},
   "source": [
    "---\n",
    "\n",
    "**Note:** models can also be saved to / loaded from ONNX format and used in other machine learning platforms and frameworks."
   ]
  }
 ],
 "metadata": {
  "kernelspec": {
   "display_name": ".NET (C#)",
   "language": "C#",
   "name": ".net-csharp"
  },
  "language_info": {
   "name": "polyglot-notebook"
  },
  "polyglot_notebook": {
   "kernelInfo": {
    "defaultKernelName": "csharp",
    "items": [
     {
      "aliases": [],
      "languageName": "csharp",
      "name": "csharp"
     }
    ]
   }
  }
 },
 "nbformat": 4,
 "nbformat_minor": 2
}
