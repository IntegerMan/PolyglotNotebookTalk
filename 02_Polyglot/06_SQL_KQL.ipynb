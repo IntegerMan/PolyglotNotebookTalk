{
 "cells": [
  {
   "cell_type": "markdown",
   "metadata": {},
   "source": [
    "## SQL and KQL\n",
    "\n",
    "Allowing you to use live data in a Polyglot Notebook"
   ]
  },
  {
   "attachments": {},
   "cell_type": "markdown",
   "metadata": {},
   "source": [
    "### Connecting to a Database\n",
    "\n",
    "First we need to import database libraries into Polyglot Notebooks\n",
    "\n",
    "**Warning:** this part does require an internet connection in order to install the required extensions into Polyglot automatically.\n",
    "\n",
    "May conference WiFi and tethering have mercy on our souls."
   ]
  },
  {
   "cell_type": "code",
   "execution_count": 3,
   "metadata": {
    "dotnet_interactive": {
     "language": "csharp"
    },
    "polyglot_notebook": {
     "kernelName": "csharp"
    }
   },
   "outputs": [
    {
     "data": {
      "text/html": [
       "<div><div></div><div></div><div><strong>Installed Packages</strong><ul><li><span>Microsoft.DotNet.Interactive.SqlServer, 1.0.0-beta.23205.1</span></li></ul></div></div>"
      ]
     },
     "metadata": {},
     "output_type": "display_data"
    },
    {
     "data": {
      "text/plain": [
       "Loading extensions from `C:\\Users\\Admin\\.nuget\\packages\\microsoft.dotnet.interactive.sqlserver\\1.0.0-beta.23205.1\\interactive-extensions\\dotnet\\Microsoft.DotNet.Interactive.SqlServer.dll`"
      ]
     },
     "metadata": {},
     "output_type": "display_data"
    },
    {
     "data": {
      "text/html": [
       "<details><summary>Query Microsoft SQL Server databases.</summary>\r\n",
       "<p>This extension adds support for connecting to Microsoft SQL Server databases using the <code>#!connect mssql</code> magic command. For more information, run a cell using the <code>#!sql</code> magic command.</p>\r\n",
       "</details>"
      ]
     },
     "metadata": {},
     "output_type": "display_data"
    }
   ],
   "source": [
    "#r \"nuget: Microsoft.DotNet.Interactive.SqlServer, *-*\""
   ]
  },
  {
   "cell_type": "markdown",
   "metadata": {},
   "source": [
    "Next we connect to the database via a connection string.\n",
    "\n",
    "This assumes the database was already created on a local SQLExpress instance by following the `dbSetup.sql` file."
   ]
  },
  {
   "cell_type": "code",
   "execution_count": 4,
   "metadata": {
    "dotnet_interactive": {
     "language": "sql"
    },
    "polyglot_notebook": {
     "kernelName": "sql"
    }
   },
   "outputs": [
    {
     "data": {
      "text/plain": [
       "Kernel added: #!sql-polyglot_examples"
      ]
     },
     "metadata": {},
     "output_type": "display_data"
    }
   ],
   "source": [
    "#!connect mssql --kernel-name polyglot_examples \"Persist Security Info=False; Integrated Security=true; Encrypt=False; Initial Catalog=PolyglotNotebookExamples; Server=localhost\\SQLEXPRESS\""
   ]
  },
  {
   "attachments": {},
   "cell_type": "markdown",
   "metadata": {},
   "source": [
    "Note: if you re-run the above cell you get an ugly error since the SQL kernel already exists"
   ]
  },
  {
   "cell_type": "code",
   "execution_count": 5,
   "metadata": {
    "dotnet_interactive": {
     "language": "sql"
    },
    "polyglot_notebook": {
     "kernelName": "sql"
    }
   },
   "outputs": [
    {
     "data": {
      "text/plain": [
       "(5 rows affected)"
      ]
     },
     "metadata": {},
     "output_type": "display_data"
    },
    {
     "data": {
      "text/csv": [
       "joke,punchline\r\n",
       "\"Why did the developer go broke?\",\"Because he used up all his cache.\"\r\n",
       "\"Why did the developer go broke?\",\"Because they used up all their cache.\"\r\n",
       "\"Why did the programmer get stuck in the shower?\",\"Because the instructions on the shampoo bottle said: Lather, Rinse, Repeat.\"\r\n",
       "\"Why did the programmer get stuck in the shower?\",\"Because the instructions on the shampoo bottle said: Lather, Rinse, Repeat.\"\r\n",
       "\"Why did the programmer quit his job?\",\"Because he didn't get arrays.\"\r\n"
      ],
      "text/html": [
       "<table><thead><tr><td><span>joke</span></td><td><span>punchline</span></td></tr></thead><tbody><tr><td>Why did the developer go broke?</td><td>Because he used up all his cache.</td></tr><tr><td>Why did the developer go broke?</td><td>Because they used up all their cache.</td></tr><tr><td>Why did the programmer get stuck in the shower?</td><td>Because the instructions on the shampoo bottle said: Lather, Rinse, Repeat.</td></tr><tr><td>Why did the programmer get stuck in the shower?</td><td>Because the instructions on the shampoo bottle said: Lather, Rinse, Repeat.</td></tr><tr><td>Why did the programmer quit his job?</td><td>Because he didn&#39;t get arrays.</td></tr></tbody></table><style>\r\n",
       ".dni-code-hint {\r\n",
       "    font-style: italic;\r\n",
       "    overflow: hidden;\r\n",
       "    white-space: nowrap;\r\n",
       "}\r\n",
       ".dni-treeview {\r\n",
       "    white-space: nowrap;\r\n",
       "}\r\n",
       ".dni-treeview td {\r\n",
       "    vertical-align: top;\r\n",
       "    text-align: start;\r\n",
       "}\r\n",
       "details.dni-treeview {\r\n",
       "    padding-left: 1em;\r\n",
       "}\r\n",
       "table td {\r\n",
       "    text-align: start;\r\n",
       "}\r\n",
       "table tr { \r\n",
       "    vertical-align: top; \r\n",
       "    margin: 0em 0px;\r\n",
       "}\r\n",
       "table tr td pre \r\n",
       "{ \r\n",
       "    vertical-align: top !important; \r\n",
       "    margin: 0em 0px !important;\r\n",
       "} \r\n",
       "table th {\r\n",
       "    text-align: start;\r\n",
       "}\r\n",
       "</style>"
      ]
     },
     "metadata": {},
     "output_type": "display_data"
    }
   ],
   "source": [
    "#!sql-polyglot_examples --name sqlJokes\n",
    "SELECT TOP 5\n",
    "    j.joke, \n",
    "    j.punchline \n",
    "FROM \n",
    "    dad_jokes j\n",
    "ORDER BY \n",
    "    j.joke,\n",
    "    j.punchline"
   ]
  },
  {
   "attachments": {},
   "cell_type": "markdown",
   "metadata": {},
   "source": [
    "### Sharing Query Data between Languages\n",
    "Because Polyglot is all about sharing, you can share query results from SQL to C# and other languages"
   ]
  },
  {
   "cell_type": "code",
   "execution_count": 11,
   "metadata": {
    "dotnet_interactive": {
     "language": "csharp"
    },
    "polyglot_notebook": {
     "kernelName": "csharp"
    }
   },
   "outputs": [
    {
     "name": "stdout",
     "output_type": "stream",
     "text": [
      "Why did the developer go broke?\n",
      "... Because he used up all his cache.\n",
      "\n",
      "Why did the developer go broke?\n",
      "... Because they used up all their cache.\n",
      "\n",
      "Why did the programmer get stuck in the shower?\n",
      "... Because the instructions on the shampoo bottle said: Lather, Rinse, Repeat.\n",
      "\n",
      "Why did the programmer get stuck in the shower?\n",
      "... Because the instructions on the shampoo bottle said: Lather, Rinse, Repeat.\n",
      "\n",
      "Why did the programmer quit his job?\n",
      "... Because he didn't get arrays.\n",
      "\n"
     ]
    }
   ],
   "source": [
    "#!share --from sql-polyglot_examples sqlJokes\n",
    "\n",
    "using System.Collections.Generic;\n",
    "using Microsoft.DotNet.Interactive.Formatting.TabularData;\n",
    "\n",
    "TabularDataResource table = sqlJokes.First();\n",
    "\n",
    "// You can get at the indivual rows by looping over the data and then finding the key value pairs by key name.\n",
    "// There's probably a way to get this into a more natural dictionary, but I've not found it yet\n",
    "foreach (List<KeyValuePair<string, object>> row in table.Data) {\n",
    "    string joke = row.Find(r => r.Key == \"joke\").Value.ToString();\n",
    "    string punchline = row.Find(r => r.Key == \"punchline\").Value.ToString();\n",
    "\n",
    "    Console.WriteLine(joke);\n",
    "    Console.WriteLine(\"... \" + punchline);\n",
    "    Console.WriteLine();\n",
    "}"
   ]
  },
  {
   "attachments": {},
   "cell_type": "markdown",
   "metadata": {},
   "source": [
    "### A note on KQL\n",
    "\n",
    "Polyglot Notebooks supports Kusto Query Language (KQL), however your presenter's current knowledge does not.\n",
    "\n",
    "A sample KQL statement would look like this:\n",
    "\n",
    "``` kql\n",
    "#!kql-polyglot_examples --name kqlErrors\n",
    "\n",
    "logs\n",
    "| where severity == \"error\"\n",
    "| project timestamp, message\n",
    "```"
   ]
  },
  {
   "attachments": {},
   "cell_type": "markdown",
   "metadata": {},
   "source": [
    "This would run a Kusto Query Language statement against an established connection named `polyglot-examples` and display the results in a similar manner to a SQL statement.\n",
    "\n",
    "You can read more about KQL support in the [official documentation](https://github.com/dotnet/interactive/blob/main/docs/working-with-data.md)."
   ]
  }
 ],
 "metadata": {
  "kernelspec": {
   "display_name": ".NET (C#)",
   "language": "C#",
   "name": ".net-csharp"
  },
  "language_info": {
   "name": "polyglot-notebook"
  },
  "polyglot_notebook": {
   "kernelInfo": {
    "defaultKernelName": "sql",
    "items": [
     {
      "aliases": [],
      "languageName": "sql",
      "name": "sql"
     },
     {
      "aliases": [],
      "languageName": "T-SQL",
      "name": "sql-polyglot_examples"
     }
    ]
   }
  }
 },
 "nbformat": 4,
 "nbformat_minor": 2
}
